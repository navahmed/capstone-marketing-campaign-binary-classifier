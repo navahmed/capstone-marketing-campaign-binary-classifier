{
 "cells": [
  {
   "cell_type": "code",
   "execution_count": 2,
   "metadata": {},
   "outputs": [
    {
     "name": "stdout",
     "output_type": "stream",
     "text": [
      "Requirement already satisfied: xgboost in /anaconda3/lib/python3.7/site-packages (1.1.0)\n",
      "Requirement already satisfied: scipy in /anaconda3/lib/python3.7/site-packages (from xgboost) (1.3.0)\n",
      "Requirement already satisfied: numpy in /anaconda3/lib/python3.7/site-packages (from xgboost) (1.16.4)\n",
      "Note: you may need to restart the kernel to use updated packages.\n"
     ]
    }
   ],
   "source": [
    "pip install xgboost"
   ]
  },
  {
   "cell_type": "markdown",
   "metadata": {},
   "source": [
    "# Statistical Modelling"
   ]
  },
  {
   "cell_type": "markdown",
   "metadata": {},
   "source": [
    "This section of the project will look to set up the statistical models in order to make our predictions for the effectiveness of the bank's marketing campaign based on the dataframe that we have created.\n"
   ]
  },
  {
   "cell_type": "markdown",
   "metadata": {},
   "source": [
    "We will begin by creating a Train, Validation and Test split of our data."
   ]
  },
  {
   "cell_type": "markdown",
   "metadata": {},
   "source": [
    "We will then look to implement a RFE to see if we should look to drop any of the features we have in our dataset."
   ]
  },
  {
   "cell_type": "markdown",
   "metadata": {},
   "source": [
    "Once this is complete, we will set up a baseline model using the Logistic Regression Learner."
   ]
  },
  {
   "cell_type": "markdown",
   "metadata": {},
   "source": [
    "We will then look to set up a Decision Tree, Guassian Naive Bayes, Random Forest and Bagged Tree models."
   ]
  },
  {
   "cell_type": "markdown",
   "metadata": {},
   "source": [
    "We will also look to hypertune each of the selected models in order to increase the performance of each."
   ]
  },
  {
   "cell_type": "markdown",
   "metadata": {},
   "source": [
    "Once all of this is completed, we will select our final model based on the best ROC-AUC score and move onto the threshold selection and model evaluation"
   ]
  },
  {
   "cell_type": "code",
   "execution_count": 29,
   "metadata": {},
   "outputs": [],
   "source": [
    "import pandas as pd\n",
    "import numpy as np\n",
    "from sklearn.preprocessing import OneHotEncoder\n",
    "from sklearn.model_selection import train_test_split\n",
    "from sklearn.linear_model import LogisticRegression\n",
    "from sklearn.metrics import precision_score, recall_score, accuracy_score, f1_score\n",
    "from sklearn.metrics import confusion_matrix\n",
    "from sklearn.metrics import accuracy_score, roc_auc_score\n",
    "from sklearn.metrics import roc_curve, auc\n",
    "from sklearn.model_selection import GridSearchCV, StratifiedKFold\n",
    "from sklearn.tree import DecisionTreeClassifier \n",
    "from sklearn.ensemble import BaggingClassifier, RandomForestClassifier\n",
    "from sklearn.naive_bayes import GaussianNB\n",
    "# import xgboost as xgb\n",
    "from sklearn import metrics\n",
    "import itertools\n",
    "from sklearn.feature_selection import RFE\n",
    "from sklearn.feature_selection import RFECV\n",
    "from warnings import filterwarnings\n",
    "filterwarnings('ignore')"
   ]
  },
  {
   "cell_type": "markdown",
   "metadata": {},
   "source": [
    "## Reading in the data "
   ]
  },
  {
   "cell_type": "code",
   "execution_count": 32,
   "metadata": {},
   "outputs": [],
   "source": [
    "#Reading in the data saved under data_feat and saving it under a variable called data.\n",
    "data = pd.read_csv('/Users/naweedahmed/Desktop/Flatiron_Feb/capstone_project/dsc-capstone-submission-checklist/CSV Files/data_feat.csv')"
   ]
  },
  {
   "cell_type": "code",
   "execution_count": 33,
   "metadata": {},
   "outputs": [
    {
     "data": {
      "text/html": [
       "<div>\n",
       "<style scoped>\n",
       "    .dataframe tbody tr th:only-of-type {\n",
       "        vertical-align: middle;\n",
       "    }\n",
       "\n",
       "    .dataframe tbody tr th {\n",
       "        vertical-align: top;\n",
       "    }\n",
       "\n",
       "    .dataframe thead th {\n",
       "        text-align: right;\n",
       "    }\n",
       "</style>\n",
       "<table border=\"1\" class=\"dataframe\">\n",
       "  <thead>\n",
       "    <tr style=\"text-align: right;\">\n",
       "      <th></th>\n",
       "      <th>Unnamed: 0</th>\n",
       "      <th>contact</th>\n",
       "      <th>month</th>\n",
       "      <th>day_of_week</th>\n",
       "      <th>duration</th>\n",
       "      <th>campaign</th>\n",
       "      <th>pdays</th>\n",
       "      <th>previous</th>\n",
       "      <th>cons_price_idx</th>\n",
       "      <th>cons_conf_idx</th>\n",
       "      <th>...</th>\n",
       "      <th>job_unemployed</th>\n",
       "      <th>age_group_16-24</th>\n",
       "      <th>age_group_25-34</th>\n",
       "      <th>age_group_35-44</th>\n",
       "      <th>age_group_45-54</th>\n",
       "      <th>age_group_55-64</th>\n",
       "      <th>age_group_65-74</th>\n",
       "      <th>age_group_75-79</th>\n",
       "      <th>Combined_Tax</th>\n",
       "      <th>Feature_2</th>\n",
       "    </tr>\n",
       "  </thead>\n",
       "  <tbody>\n",
       "    <tr>\n",
       "      <th>0</th>\n",
       "      <td>0</td>\n",
       "      <td>1</td>\n",
       "      <td>5</td>\n",
       "      <td>1</td>\n",
       "      <td>261</td>\n",
       "      <td>1</td>\n",
       "      <td>999</td>\n",
       "      <td>0</td>\n",
       "      <td>93.994</td>\n",
       "      <td>-36.4</td>\n",
       "      <td>...</td>\n",
       "      <td>0</td>\n",
       "      <td>0</td>\n",
       "      <td>0</td>\n",
       "      <td>0</td>\n",
       "      <td>0</td>\n",
       "      <td>1</td>\n",
       "      <td>0</td>\n",
       "      <td>0</td>\n",
       "      <td>62.0</td>\n",
       "      <td>50914.6344</td>\n",
       "    </tr>\n",
       "    <tr>\n",
       "      <th>1</th>\n",
       "      <td>1</td>\n",
       "      <td>1</td>\n",
       "      <td>5</td>\n",
       "      <td>1</td>\n",
       "      <td>149</td>\n",
       "      <td>1</td>\n",
       "      <td>999</td>\n",
       "      <td>0</td>\n",
       "      <td>93.994</td>\n",
       "      <td>-36.4</td>\n",
       "      <td>...</td>\n",
       "      <td>0</td>\n",
       "      <td>0</td>\n",
       "      <td>0</td>\n",
       "      <td>0</td>\n",
       "      <td>0</td>\n",
       "      <td>1</td>\n",
       "      <td>0</td>\n",
       "      <td>0</td>\n",
       "      <td>62.0</td>\n",
       "      <td>50914.6344</td>\n",
       "    </tr>\n",
       "    <tr>\n",
       "      <th>2</th>\n",
       "      <td>2</td>\n",
       "      <td>1</td>\n",
       "      <td>5</td>\n",
       "      <td>1</td>\n",
       "      <td>226</td>\n",
       "      <td>1</td>\n",
       "      <td>999</td>\n",
       "      <td>0</td>\n",
       "      <td>93.994</td>\n",
       "      <td>-36.4</td>\n",
       "      <td>...</td>\n",
       "      <td>0</td>\n",
       "      <td>0</td>\n",
       "      <td>0</td>\n",
       "      <td>1</td>\n",
       "      <td>0</td>\n",
       "      <td>0</td>\n",
       "      <td>0</td>\n",
       "      <td>0</td>\n",
       "      <td>62.0</td>\n",
       "      <td>50914.6344</td>\n",
       "    </tr>\n",
       "    <tr>\n",
       "      <th>3</th>\n",
       "      <td>3</td>\n",
       "      <td>1</td>\n",
       "      <td>5</td>\n",
       "      <td>1</td>\n",
       "      <td>151</td>\n",
       "      <td>1</td>\n",
       "      <td>999</td>\n",
       "      <td>0</td>\n",
       "      <td>93.994</td>\n",
       "      <td>-36.4</td>\n",
       "      <td>...</td>\n",
       "      <td>0</td>\n",
       "      <td>0</td>\n",
       "      <td>0</td>\n",
       "      <td>1</td>\n",
       "      <td>0</td>\n",
       "      <td>0</td>\n",
       "      <td>0</td>\n",
       "      <td>0</td>\n",
       "      <td>62.0</td>\n",
       "      <td>50914.6344</td>\n",
       "    </tr>\n",
       "    <tr>\n",
       "      <th>4</th>\n",
       "      <td>4</td>\n",
       "      <td>1</td>\n",
       "      <td>5</td>\n",
       "      <td>1</td>\n",
       "      <td>307</td>\n",
       "      <td>1</td>\n",
       "      <td>999</td>\n",
       "      <td>0</td>\n",
       "      <td>93.994</td>\n",
       "      <td>-36.4</td>\n",
       "      <td>...</td>\n",
       "      <td>0</td>\n",
       "      <td>0</td>\n",
       "      <td>0</td>\n",
       "      <td>0</td>\n",
       "      <td>0</td>\n",
       "      <td>1</td>\n",
       "      <td>0</td>\n",
       "      <td>0</td>\n",
       "      <td>62.0</td>\n",
       "      <td>50914.6344</td>\n",
       "    </tr>\n",
       "  </tbody>\n",
       "</table>\n",
       "<p>5 rows × 54 columns</p>\n",
       "</div>"
      ],
      "text/plain": [
       "   Unnamed: 0  contact  month  day_of_week  duration  campaign  pdays  \\\n",
       "0           0        1      5            1       261         1    999   \n",
       "1           1        1      5            1       149         1    999   \n",
       "2           2        1      5            1       226         1    999   \n",
       "3           3        1      5            1       151         1    999   \n",
       "4           4        1      5            1       307         1    999   \n",
       "\n",
       "   previous  cons_price_idx  cons_conf_idx  ...  job_unemployed  \\\n",
       "0         0          93.994          -36.4  ...               0   \n",
       "1         0          93.994          -36.4  ...               0   \n",
       "2         0          93.994          -36.4  ...               0   \n",
       "3         0          93.994          -36.4  ...               0   \n",
       "4         0          93.994          -36.4  ...               0   \n",
       "\n",
       "   age_group_16-24  age_group_25-34  age_group_35-44  age_group_45-54  \\\n",
       "0                0                0                0                0   \n",
       "1                0                0                0                0   \n",
       "2                0                0                1                0   \n",
       "3                0                0                1                0   \n",
       "4                0                0                0                0   \n",
       "\n",
       "   age_group_55-64  age_group_65-74  age_group_75-79  Combined_Tax   Feature_2  \n",
       "0                1                0                0          62.0  50914.6344  \n",
       "1                1                0                0          62.0  50914.6344  \n",
       "2                0                0                0          62.0  50914.6344  \n",
       "3                0                0                0          62.0  50914.6344  \n",
       "4                1                0                0          62.0  50914.6344  \n",
       "\n",
       "[5 rows x 54 columns]"
      ]
     },
     "execution_count": 33,
     "metadata": {},
     "output_type": "execute_result"
    }
   ],
   "source": [
    "#Checking the data.\n",
    "data.head()"
   ]
  },
  {
   "cell_type": "code",
   "execution_count": 34,
   "metadata": {},
   "outputs": [],
   "source": [
    "#Dropping unwanted columns.\n",
    "data.drop(columns='Unnamed: 0', inplace=True)"
   ]
  },
  {
   "cell_type": "code",
   "execution_count": 35,
   "metadata": {},
   "outputs": [
    {
     "data": {
      "text/html": [
       "<div>\n",
       "<style scoped>\n",
       "    .dataframe tbody tr th:only-of-type {\n",
       "        vertical-align: middle;\n",
       "    }\n",
       "\n",
       "    .dataframe tbody tr th {\n",
       "        vertical-align: top;\n",
       "    }\n",
       "\n",
       "    .dataframe thead th {\n",
       "        text-align: right;\n",
       "    }\n",
       "</style>\n",
       "<table border=\"1\" class=\"dataframe\">\n",
       "  <thead>\n",
       "    <tr style=\"text-align: right;\">\n",
       "      <th></th>\n",
       "      <th>contact</th>\n",
       "      <th>month</th>\n",
       "      <th>day_of_week</th>\n",
       "      <th>duration</th>\n",
       "      <th>campaign</th>\n",
       "      <th>pdays</th>\n",
       "      <th>previous</th>\n",
       "      <th>cons_price_idx</th>\n",
       "      <th>cons_conf_idx</th>\n",
       "      <th>euribor3m</th>\n",
       "      <th>...</th>\n",
       "      <th>job_unemployed</th>\n",
       "      <th>age_group_16-24</th>\n",
       "      <th>age_group_25-34</th>\n",
       "      <th>age_group_35-44</th>\n",
       "      <th>age_group_45-54</th>\n",
       "      <th>age_group_55-64</th>\n",
       "      <th>age_group_65-74</th>\n",
       "      <th>age_group_75-79</th>\n",
       "      <th>Combined_Tax</th>\n",
       "      <th>Feature_2</th>\n",
       "    </tr>\n",
       "  </thead>\n",
       "  <tbody>\n",
       "    <tr>\n",
       "      <th>0</th>\n",
       "      <td>1</td>\n",
       "      <td>5</td>\n",
       "      <td>1</td>\n",
       "      <td>261</td>\n",
       "      <td>1</td>\n",
       "      <td>999</td>\n",
       "      <td>0</td>\n",
       "      <td>93.994</td>\n",
       "      <td>-36.4</td>\n",
       "      <td>4.857</td>\n",
       "      <td>...</td>\n",
       "      <td>0</td>\n",
       "      <td>0</td>\n",
       "      <td>0</td>\n",
       "      <td>0</td>\n",
       "      <td>0</td>\n",
       "      <td>1</td>\n",
       "      <td>0</td>\n",
       "      <td>0</td>\n",
       "      <td>62.0</td>\n",
       "      <td>50914.6344</td>\n",
       "    </tr>\n",
       "    <tr>\n",
       "      <th>1</th>\n",
       "      <td>1</td>\n",
       "      <td>5</td>\n",
       "      <td>1</td>\n",
       "      <td>149</td>\n",
       "      <td>1</td>\n",
       "      <td>999</td>\n",
       "      <td>0</td>\n",
       "      <td>93.994</td>\n",
       "      <td>-36.4</td>\n",
       "      <td>4.857</td>\n",
       "      <td>...</td>\n",
       "      <td>0</td>\n",
       "      <td>0</td>\n",
       "      <td>0</td>\n",
       "      <td>0</td>\n",
       "      <td>0</td>\n",
       "      <td>1</td>\n",
       "      <td>0</td>\n",
       "      <td>0</td>\n",
       "      <td>62.0</td>\n",
       "      <td>50914.6344</td>\n",
       "    </tr>\n",
       "    <tr>\n",
       "      <th>2</th>\n",
       "      <td>1</td>\n",
       "      <td>5</td>\n",
       "      <td>1</td>\n",
       "      <td>226</td>\n",
       "      <td>1</td>\n",
       "      <td>999</td>\n",
       "      <td>0</td>\n",
       "      <td>93.994</td>\n",
       "      <td>-36.4</td>\n",
       "      <td>4.857</td>\n",
       "      <td>...</td>\n",
       "      <td>0</td>\n",
       "      <td>0</td>\n",
       "      <td>0</td>\n",
       "      <td>1</td>\n",
       "      <td>0</td>\n",
       "      <td>0</td>\n",
       "      <td>0</td>\n",
       "      <td>0</td>\n",
       "      <td>62.0</td>\n",
       "      <td>50914.6344</td>\n",
       "    </tr>\n",
       "    <tr>\n",
       "      <th>3</th>\n",
       "      <td>1</td>\n",
       "      <td>5</td>\n",
       "      <td>1</td>\n",
       "      <td>151</td>\n",
       "      <td>1</td>\n",
       "      <td>999</td>\n",
       "      <td>0</td>\n",
       "      <td>93.994</td>\n",
       "      <td>-36.4</td>\n",
       "      <td>4.857</td>\n",
       "      <td>...</td>\n",
       "      <td>0</td>\n",
       "      <td>0</td>\n",
       "      <td>0</td>\n",
       "      <td>1</td>\n",
       "      <td>0</td>\n",
       "      <td>0</td>\n",
       "      <td>0</td>\n",
       "      <td>0</td>\n",
       "      <td>62.0</td>\n",
       "      <td>50914.6344</td>\n",
       "    </tr>\n",
       "    <tr>\n",
       "      <th>4</th>\n",
       "      <td>1</td>\n",
       "      <td>5</td>\n",
       "      <td>1</td>\n",
       "      <td>307</td>\n",
       "      <td>1</td>\n",
       "      <td>999</td>\n",
       "      <td>0</td>\n",
       "      <td>93.994</td>\n",
       "      <td>-36.4</td>\n",
       "      <td>4.857</td>\n",
       "      <td>...</td>\n",
       "      <td>0</td>\n",
       "      <td>0</td>\n",
       "      <td>0</td>\n",
       "      <td>0</td>\n",
       "      <td>0</td>\n",
       "      <td>1</td>\n",
       "      <td>0</td>\n",
       "      <td>0</td>\n",
       "      <td>62.0</td>\n",
       "      <td>50914.6344</td>\n",
       "    </tr>\n",
       "  </tbody>\n",
       "</table>\n",
       "<p>5 rows × 53 columns</p>\n",
       "</div>"
      ],
      "text/plain": [
       "   contact  month  day_of_week  duration  campaign  pdays  previous  \\\n",
       "0        1      5            1       261         1    999         0   \n",
       "1        1      5            1       149         1    999         0   \n",
       "2        1      5            1       226         1    999         0   \n",
       "3        1      5            1       151         1    999         0   \n",
       "4        1      5            1       307         1    999         0   \n",
       "\n",
       "   cons_price_idx  cons_conf_idx  euribor3m  ...  job_unemployed  \\\n",
       "0          93.994          -36.4      4.857  ...               0   \n",
       "1          93.994          -36.4      4.857  ...               0   \n",
       "2          93.994          -36.4      4.857  ...               0   \n",
       "3          93.994          -36.4      4.857  ...               0   \n",
       "4          93.994          -36.4      4.857  ...               0   \n",
       "\n",
       "   age_group_16-24  age_group_25-34  age_group_35-44  age_group_45-54  \\\n",
       "0                0                0                0                0   \n",
       "1                0                0                0                0   \n",
       "2                0                0                1                0   \n",
       "3                0                0                1                0   \n",
       "4                0                0                0                0   \n",
       "\n",
       "   age_group_55-64  age_group_65-74  age_group_75-79  Combined_Tax   Feature_2  \n",
       "0                1                0                0          62.0  50914.6344  \n",
       "1                1                0                0          62.0  50914.6344  \n",
       "2                0                0                0          62.0  50914.6344  \n",
       "3                0                0                0          62.0  50914.6344  \n",
       "4                1                0                0          62.0  50914.6344  \n",
       "\n",
       "[5 rows x 53 columns]"
      ]
     },
     "execution_count": 35,
     "metadata": {},
     "output_type": "execute_result"
    }
   ],
   "source": [
    "#Checking the data.\n",
    "data.head()"
   ]
  },
  {
   "cell_type": "code",
   "execution_count": 36,
   "metadata": {},
   "outputs": [
    {
     "name": "stdout",
     "output_type": "stream",
     "text": [
      "<class 'pandas.core.frame.DataFrame'>\n",
      "RangeIndex: 41188 entries, 0 to 41187\n",
      "Data columns (total 53 columns):\n",
      "contact                     41188 non-null int64\n",
      "month                       41188 non-null int64\n",
      "day_of_week                 41188 non-null int64\n",
      "duration                    41188 non-null int64\n",
      "campaign                    41188 non-null int64\n",
      "pdays                       41188 non-null int64\n",
      "previous                    41188 non-null int64\n",
      "cons_price_idx              41188 non-null float64\n",
      "cons_conf_idx               41188 non-null float64\n",
      "euribor3m                   41188 non-null float64\n",
      "y                           41188 non-null int64\n",
      "MOM_Inflation               41188 non-null float64\n",
      "Wage_Growth                 41188 non-null float64\n",
      "EURUSD                      41188 non-null float64\n",
      "euro_zoneGDP_Growth_Rate    41188 non-null float64\n",
      "loan_no                     41188 non-null int64\n",
      "loan_yes                    41188 non-null int64\n",
      "housing_no                  41188 non-null int64\n",
      "housing_yes                 41188 non-null int64\n",
      "marital_divorced            41188 non-null int64\n",
      "marital_married             41188 non-null int64\n",
      "marital_single              41188 non-null int64\n",
      "poutcome_nonexistent        41188 non-null int64\n",
      "poutcome_success            41188 non-null int64\n",
      "default_no                  41188 non-null int64\n",
      "default_yes                 41188 non-null int64\n",
      "edu_basic.4y                41188 non-null int64\n",
      "edu_basic.6y                41188 non-null int64\n",
      "edu_basic.9y                41188 non-null int64\n",
      "edu_high.school             41188 non-null int64\n",
      "edu_illiterate              41188 non-null int64\n",
      "edu_professional.course     41188 non-null int64\n",
      "edu_university.degree       41188 non-null int64\n",
      "job_admin.                  41188 non-null int64\n",
      "job_blue-collar             41188 non-null int64\n",
      "job_entrepreneur            41188 non-null int64\n",
      "job_housemaid               41188 non-null int64\n",
      "job_management              41188 non-null int64\n",
      "job_retired                 41188 non-null int64\n",
      "job_self-employed           41188 non-null int64\n",
      "job_services                41188 non-null int64\n",
      "job_student                 41188 non-null int64\n",
      "job_technician              41188 non-null int64\n",
      "job_unemployed              41188 non-null int64\n",
      "age_group_16-24             41188 non-null int64\n",
      "age_group_25-34             41188 non-null int64\n",
      "age_group_35-44             41188 non-null int64\n",
      "age_group_45-54             41188 non-null int64\n",
      "age_group_55-64             41188 non-null int64\n",
      "age_group_65-74             41188 non-null int64\n",
      "age_group_75-79             41188 non-null int64\n",
      "Combined_Tax                41188 non-null float64\n",
      "Feature_2                   41188 non-null float64\n",
      "dtypes: float64(9), int64(44)\n",
      "memory usage: 16.7 MB\n"
     ]
    }
   ],
   "source": [
    "#Checking the data.\n",
    "data.info()"
   ]
  },
  {
   "cell_type": "code",
   "execution_count": 37,
   "metadata": {},
   "outputs": [
    {
     "data": {
      "text/plain": [
       "Index(['contact', 'month', 'day_of_week', 'duration', 'campaign', 'pdays',\n",
       "       'previous', 'cons_price_idx', 'cons_conf_idx', 'euribor3m', 'y',\n",
       "       'MOM_Inflation', 'Wage_Growth', 'EURUSD', 'euro_zoneGDP_Growth_Rate',\n",
       "       'loan_no', 'loan_yes', 'housing_no', 'housing_yes', 'marital_divorced',\n",
       "       'marital_married', 'marital_single', 'poutcome_nonexistent',\n",
       "       'poutcome_success', 'default_no', 'default_yes', 'edu_basic.4y',\n",
       "       'edu_basic.6y', 'edu_basic.9y', 'edu_high.school', 'edu_illiterate',\n",
       "       'edu_professional.course', 'edu_university.degree', 'job_admin.',\n",
       "       'job_blue-collar', 'job_entrepreneur', 'job_housemaid',\n",
       "       'job_management', 'job_retired', 'job_self-employed', 'job_services',\n",
       "       'job_student', 'job_technician', 'job_unemployed', 'age_group_16-24',\n",
       "       'age_group_25-34', 'age_group_35-44', 'age_group_45-54',\n",
       "       'age_group_55-64', 'age_group_65-74', 'age_group_75-79', 'Combined_Tax',\n",
       "       'Feature_2'],\n",
       "      dtype='object')"
      ]
     },
     "execution_count": 37,
     "metadata": {},
     "output_type": "execute_result"
    }
   ],
   "source": [
    "#Checking the data.\n",
    "data.columns"
   ]
  },
  {
   "cell_type": "markdown",
   "metadata": {},
   "source": [
    "### Checking the value counts for our target variable 'y'."
   ]
  },
  {
   "cell_type": "code",
   "execution_count": 38,
   "metadata": {},
   "outputs": [
    {
     "data": {
      "text/plain": [
       "0    36548\n",
       "1     4640\n",
       "Name: y, dtype: int64"
      ]
     },
     "execution_count": 38,
     "metadata": {},
     "output_type": "execute_result"
    }
   ],
   "source": [
    "#Checking value counts for y.\n",
    "data['y'].value_counts()"
   ]
  },
  {
   "cell_type": "markdown",
   "metadata": {},
   "source": [
    "We may have a class imbalance problem. We will look to address this by using class_weight in the hyperparameter section, and also look to use the SMOTE technique to address this."
   ]
  },
  {
   "cell_type": "markdown",
   "metadata": {},
   "source": [
    "### Assigning the X and y variables for our model."
   ]
  },
  {
   "cell_type": "code",
   "execution_count": 39,
   "metadata": {},
   "outputs": [],
   "source": [
    "X = data.drop(columns=['y'], axis=1)\n",
    "y = data['y']"
   ]
  },
  {
   "cell_type": "markdown",
   "metadata": {},
   "source": [
    "### Setting up the Train,Test and Validation splits."
   ]
  },
  {
   "cell_type": "code",
   "execution_count": 40,
   "metadata": {},
   "outputs": [],
   "source": [
    "#Train Test Split\n",
    "X_train, X_test, y_train, y_test = train_test_split(X,y, test_size=0.20, random_state = 42)"
   ]
  },
  {
   "cell_type": "code",
   "execution_count": 41,
   "metadata": {},
   "outputs": [],
   "source": [
    "#Train Validation Split.\n",
    "X_train, X_val, y_train, y_val = train_test_split(X_train,y_train, test_size=0.20, random_state = 42)"
   ]
  },
  {
   "cell_type": "code",
   "execution_count": 42,
   "metadata": {},
   "outputs": [
    {
     "name": "stdout",
     "output_type": "stream",
     "text": [
      "Shapes of Each Set\n",
      "-------------------\n",
      "X_train: (26360, 52)\n",
      "y_train: (26360,)\n",
      "X_val: (6590, 52)\n",
      "y_val: (6590,)\n",
      "X_test: (8238, 52)\n",
      "y_test: (8238,)\n"
     ]
    }
   ],
   "source": [
    "#Checking to see the size of each set.\n",
    "print('Shapes of Each Set')\n",
    "print('-------------------')\n",
    "print(f'X_train: {X_train.shape}')\n",
    "print(f'y_train: {y_train.shape}')\n",
    "print(f'X_val: {X_val.shape}')\n",
    "print(f'y_val: {y_val.shape}')\n",
    "print(f'X_test: {X_test.shape}')\n",
    "print(f'y_test: {y_test.shape}')"
   ]
  },
  {
   "cell_type": "markdown",
   "metadata": {},
   "source": [
    "## Baseline Model"
   ]
  },
  {
   "cell_type": "markdown",
   "metadata": {},
   "source": [
    "### Logistic Regression"
   ]
  },
  {
   "cell_type": "code",
   "execution_count": 43,
   "metadata": {},
   "outputs": [
    {
     "data": {
      "text/plain": [
       "LogisticRegression(C=1.0, class_weight=None, dual=False, fit_intercept=True,\n",
       "                   intercept_scaling=1, l1_ratio=None, max_iter=100,\n",
       "                   multi_class='auto', n_jobs=None, penalty='none',\n",
       "                   random_state=None, solver='lbfgs', tol=0.0001, verbose=0,\n",
       "                   warm_start=False)"
      ]
     },
     "execution_count": 43,
     "metadata": {},
     "output_type": "execute_result"
    }
   ],
   "source": [
    "logreg = LogisticRegression(penalty='none', solver='lbfgs')\n",
    "log_reg = logreg.fit(X_train, y_train)\n",
    "log_reg"
   ]
  },
  {
   "cell_type": "code",
   "execution_count": 44,
   "metadata": {},
   "outputs": [
    {
     "name": "stdout",
     "output_type": "stream",
     "text": [
      "ROC_AUC of Baseline model (val) = 0.9057938116009897\n"
     ]
    }
   ],
   "source": [
    "log_reg_yval_predproba = log_reg.predict_proba(X_val)\n",
    "print(\"ROC_AUC of Baseline model (val) =\", roc_auc_score(y_val, log_reg_yval_predproba[:,1]))"
   ]
  },
  {
   "cell_type": "code",
   "execution_count": 45,
   "metadata": {},
   "outputs": [
    {
     "name": "stdout",
     "output_type": "stream",
     "text": [
      "ROC_AUC of Baseline model (val) = 0.9073029329792693\n"
     ]
    }
   ],
   "source": [
    "log_reg_ytrain_predproba = log_reg.predict_proba(X_train)\n",
    "print(\"ROC_AUC of Baseline model (val) =\", roc_auc_score(y_train, log_reg_ytrain_predproba[:,1]))"
   ]
  },
  {
   "cell_type": "code",
   "execution_count": null,
   "metadata": {},
   "outputs": [],
   "source": []
  },
  {
   "cell_type": "code",
   "execution_count": null,
   "metadata": {},
   "outputs": [],
   "source": []
  },
  {
   "cell_type": "markdown",
   "metadata": {},
   "source": [
    "## RFE"
   ]
  },
  {
   "cell_type": "code",
   "execution_count": 46,
   "metadata": {},
   "outputs": [],
   "source": [
    "rfe = RFE(estimator=log_reg, step=1)\n",
    "rfe = rfe.fit(X_train, y_train)"
   ]
  },
  {
   "cell_type": "code",
   "execution_count": 47,
   "metadata": {},
   "outputs": [
    {
     "data": {
      "text/html": [
       "<div>\n",
       "<style scoped>\n",
       "    .dataframe tbody tr th:only-of-type {\n",
       "        vertical-align: middle;\n",
       "    }\n",
       "\n",
       "    .dataframe tbody tr th {\n",
       "        vertical-align: top;\n",
       "    }\n",
       "\n",
       "    .dataframe thead th {\n",
       "        text-align: right;\n",
       "    }\n",
       "</style>\n",
       "<table border=\"1\" class=\"dataframe\">\n",
       "  <thead>\n",
       "    <tr style=\"text-align: right;\">\n",
       "      <th></th>\n",
       "      <th>Feature</th>\n",
       "      <th>Ranking</th>\n",
       "    </tr>\n",
       "  </thead>\n",
       "  <tbody>\n",
       "    <tr>\n",
       "      <th>0</th>\n",
       "      <td>contact</td>\n",
       "      <td>1</td>\n",
       "    </tr>\n",
       "    <tr>\n",
       "      <th>50</th>\n",
       "      <td>Combined_Tax</td>\n",
       "      <td>1</td>\n",
       "    </tr>\n",
       "    <tr>\n",
       "      <th>28</th>\n",
       "      <td>edu_high.school</td>\n",
       "      <td>1</td>\n",
       "    </tr>\n",
       "    <tr>\n",
       "      <th>23</th>\n",
       "      <td>default_no</td>\n",
       "      <td>1</td>\n",
       "    </tr>\n",
       "    <tr>\n",
       "      <th>22</th>\n",
       "      <td>poutcome_success</td>\n",
       "      <td>1</td>\n",
       "    </tr>\n",
       "    <tr>\n",
       "      <th>21</th>\n",
       "      <td>poutcome_nonexistent</td>\n",
       "      <td>1</td>\n",
       "    </tr>\n",
       "    <tr>\n",
       "      <th>31</th>\n",
       "      <td>edu_university.degree</td>\n",
       "      <td>1</td>\n",
       "    </tr>\n",
       "    <tr>\n",
       "      <th>33</th>\n",
       "      <td>job_blue-collar</td>\n",
       "      <td>1</td>\n",
       "    </tr>\n",
       "    <tr>\n",
       "      <th>37</th>\n",
       "      <td>job_retired</td>\n",
       "      <td>1</td>\n",
       "    </tr>\n",
       "    <tr>\n",
       "      <th>16</th>\n",
       "      <td>housing_no</td>\n",
       "      <td>1</td>\n",
       "    </tr>\n",
       "    <tr>\n",
       "      <th>15</th>\n",
       "      <td>loan_yes</td>\n",
       "      <td>1</td>\n",
       "    </tr>\n",
       "    <tr>\n",
       "      <th>39</th>\n",
       "      <td>job_services</td>\n",
       "      <td>1</td>\n",
       "    </tr>\n",
       "    <tr>\n",
       "      <th>26</th>\n",
       "      <td>edu_basic.6y</td>\n",
       "      <td>1</td>\n",
       "    </tr>\n",
       "    <tr>\n",
       "      <th>13</th>\n",
       "      <td>euro_zoneGDP_Growth_Rate</td>\n",
       "      <td>1</td>\n",
       "    </tr>\n",
       "    <tr>\n",
       "      <th>10</th>\n",
       "      <td>MOM_Inflation</td>\n",
       "      <td>1</td>\n",
       "    </tr>\n",
       "    <tr>\n",
       "      <th>9</th>\n",
       "      <td>euribor3m</td>\n",
       "      <td>1</td>\n",
       "    </tr>\n",
       "    <tr>\n",
       "      <th>8</th>\n",
       "      <td>cons_conf_idx</td>\n",
       "      <td>1</td>\n",
       "    </tr>\n",
       "    <tr>\n",
       "      <th>7</th>\n",
       "      <td>cons_price_idx</td>\n",
       "      <td>1</td>\n",
       "    </tr>\n",
       "    <tr>\n",
       "      <th>6</th>\n",
       "      <td>previous</td>\n",
       "      <td>1</td>\n",
       "    </tr>\n",
       "    <tr>\n",
       "      <th>45</th>\n",
       "      <td>age_group_35-44</td>\n",
       "      <td>1</td>\n",
       "    </tr>\n",
       "    <tr>\n",
       "      <th>4</th>\n",
       "      <td>campaign</td>\n",
       "      <td>1</td>\n",
       "    </tr>\n",
       "    <tr>\n",
       "      <th>46</th>\n",
       "      <td>age_group_45-54</td>\n",
       "      <td>1</td>\n",
       "    </tr>\n",
       "    <tr>\n",
       "      <th>48</th>\n",
       "      <td>age_group_65-74</td>\n",
       "      <td>1</td>\n",
       "    </tr>\n",
       "    <tr>\n",
       "      <th>1</th>\n",
       "      <td>month</td>\n",
       "      <td>1</td>\n",
       "    </tr>\n",
       "    <tr>\n",
       "      <th>12</th>\n",
       "      <td>EURUSD</td>\n",
       "      <td>1</td>\n",
       "    </tr>\n",
       "    <tr>\n",
       "      <th>27</th>\n",
       "      <td>edu_basic.9y</td>\n",
       "      <td>1</td>\n",
       "    </tr>\n",
       "    <tr>\n",
       "      <th>11</th>\n",
       "      <td>Wage_Growth</td>\n",
       "      <td>2</td>\n",
       "    </tr>\n",
       "    <tr>\n",
       "      <th>19</th>\n",
       "      <td>marital_married</td>\n",
       "      <td>3</td>\n",
       "    </tr>\n",
       "    <tr>\n",
       "      <th>25</th>\n",
       "      <td>edu_basic.4y</td>\n",
       "      <td>4</td>\n",
       "    </tr>\n",
       "    <tr>\n",
       "      <th>3</th>\n",
       "      <td>duration</td>\n",
       "      <td>5</td>\n",
       "    </tr>\n",
       "    <tr>\n",
       "      <th>2</th>\n",
       "      <td>day_of_week</td>\n",
       "      <td>6</td>\n",
       "    </tr>\n",
       "    <tr>\n",
       "      <th>14</th>\n",
       "      <td>loan_no</td>\n",
       "      <td>7</td>\n",
       "    </tr>\n",
       "    <tr>\n",
       "      <th>17</th>\n",
       "      <td>housing_yes</td>\n",
       "      <td>8</td>\n",
       "    </tr>\n",
       "    <tr>\n",
       "      <th>5</th>\n",
       "      <td>pdays</td>\n",
       "      <td>9</td>\n",
       "    </tr>\n",
       "    <tr>\n",
       "      <th>51</th>\n",
       "      <td>Feature_2</td>\n",
       "      <td>10</td>\n",
       "    </tr>\n",
       "    <tr>\n",
       "      <th>18</th>\n",
       "      <td>marital_divorced</td>\n",
       "      <td>11</td>\n",
       "    </tr>\n",
       "    <tr>\n",
       "      <th>43</th>\n",
       "      <td>age_group_16-24</td>\n",
       "      <td>12</td>\n",
       "    </tr>\n",
       "    <tr>\n",
       "      <th>30</th>\n",
       "      <td>edu_professional.course</td>\n",
       "      <td>13</td>\n",
       "    </tr>\n",
       "    <tr>\n",
       "      <th>34</th>\n",
       "      <td>job_entrepreneur</td>\n",
       "      <td>14</td>\n",
       "    </tr>\n",
       "    <tr>\n",
       "      <th>40</th>\n",
       "      <td>job_student</td>\n",
       "      <td>15</td>\n",
       "    </tr>\n",
       "    <tr>\n",
       "      <th>38</th>\n",
       "      <td>job_self-employed</td>\n",
       "      <td>16</td>\n",
       "    </tr>\n",
       "    <tr>\n",
       "      <th>49</th>\n",
       "      <td>age_group_75-79</td>\n",
       "      <td>17</td>\n",
       "    </tr>\n",
       "    <tr>\n",
       "      <th>44</th>\n",
       "      <td>age_group_25-34</td>\n",
       "      <td>18</td>\n",
       "    </tr>\n",
       "    <tr>\n",
       "      <th>35</th>\n",
       "      <td>job_housemaid</td>\n",
       "      <td>19</td>\n",
       "    </tr>\n",
       "    <tr>\n",
       "      <th>36</th>\n",
       "      <td>job_management</td>\n",
       "      <td>20</td>\n",
       "    </tr>\n",
       "    <tr>\n",
       "      <th>41</th>\n",
       "      <td>job_technician</td>\n",
       "      <td>21</td>\n",
       "    </tr>\n",
       "    <tr>\n",
       "      <th>47</th>\n",
       "      <td>age_group_55-64</td>\n",
       "      <td>22</td>\n",
       "    </tr>\n",
       "    <tr>\n",
       "      <th>20</th>\n",
       "      <td>marital_single</td>\n",
       "      <td>23</td>\n",
       "    </tr>\n",
       "    <tr>\n",
       "      <th>42</th>\n",
       "      <td>job_unemployed</td>\n",
       "      <td>24</td>\n",
       "    </tr>\n",
       "    <tr>\n",
       "      <th>32</th>\n",
       "      <td>job_admin.</td>\n",
       "      <td>25</td>\n",
       "    </tr>\n",
       "    <tr>\n",
       "      <th>29</th>\n",
       "      <td>edu_illiterate</td>\n",
       "      <td>26</td>\n",
       "    </tr>\n",
       "    <tr>\n",
       "      <th>24</th>\n",
       "      <td>default_yes</td>\n",
       "      <td>27</td>\n",
       "    </tr>\n",
       "  </tbody>\n",
       "</table>\n",
       "</div>"
      ],
      "text/plain": [
       "                     Feature  Ranking\n",
       "0                    contact        1\n",
       "50              Combined_Tax        1\n",
       "28           edu_high.school        1\n",
       "23                default_no        1\n",
       "22          poutcome_success        1\n",
       "21      poutcome_nonexistent        1\n",
       "31     edu_university.degree        1\n",
       "33           job_blue-collar        1\n",
       "37               job_retired        1\n",
       "16                housing_no        1\n",
       "15                  loan_yes        1\n",
       "39              job_services        1\n",
       "26              edu_basic.6y        1\n",
       "13  euro_zoneGDP_Growth_Rate        1\n",
       "10             MOM_Inflation        1\n",
       "9                  euribor3m        1\n",
       "8              cons_conf_idx        1\n",
       "7             cons_price_idx        1\n",
       "6                   previous        1\n",
       "45           age_group_35-44        1\n",
       "4                   campaign        1\n",
       "46           age_group_45-54        1\n",
       "48           age_group_65-74        1\n",
       "1                      month        1\n",
       "12                    EURUSD        1\n",
       "27              edu_basic.9y        1\n",
       "11               Wage_Growth        2\n",
       "19           marital_married        3\n",
       "25              edu_basic.4y        4\n",
       "3                   duration        5\n",
       "2                day_of_week        6\n",
       "14                   loan_no        7\n",
       "17               housing_yes        8\n",
       "5                      pdays        9\n",
       "51                 Feature_2       10\n",
       "18          marital_divorced       11\n",
       "43           age_group_16-24       12\n",
       "30   edu_professional.course       13\n",
       "34          job_entrepreneur       14\n",
       "40               job_student       15\n",
       "38         job_self-employed       16\n",
       "49           age_group_75-79       17\n",
       "44           age_group_25-34       18\n",
       "35             job_housemaid       19\n",
       "36            job_management       20\n",
       "41            job_technician       21\n",
       "47           age_group_55-64       22\n",
       "20            marital_single       23\n",
       "42            job_unemployed       24\n",
       "32                job_admin.       25\n",
       "29            edu_illiterate       26\n",
       "24               default_yes       27"
      ]
     },
     "execution_count": 47,
     "metadata": {},
     "output_type": "execute_result"
    }
   ],
   "source": [
    "\n",
    "selected_rfe_features = pd.DataFrame({'Feature':list(X_train.columns),\n",
    "                                      'Ranking':rfe.ranking_})\n",
    "selected_rfe_features.sort_values(by='Ranking')"
   ]
  },
  {
   "cell_type": "code",
   "execution_count": 48,
   "metadata": {},
   "outputs": [
    {
     "data": {
      "text/plain": [
       "Index(['contact', 'month', 'day_of_week', 'duration', 'campaign', 'pdays',\n",
       "       'previous', 'cons_price_idx', 'cons_conf_idx', 'euribor3m',\n",
       "       'MOM_Inflation', 'Wage_Growth', 'EURUSD', 'euro_zoneGDP_Growth_Rate',\n",
       "       'loan_no', 'loan_yes', 'housing_no', 'housing_yes', 'marital_divorced',\n",
       "       'marital_married', 'marital_single', 'poutcome_nonexistent',\n",
       "       'poutcome_success', 'default_no', 'default_yes', 'edu_basic.4y',\n",
       "       'edu_basic.6y', 'edu_basic.9y', 'edu_high.school', 'edu_illiterate',\n",
       "       'edu_professional.course', 'edu_university.degree', 'job_admin.',\n",
       "       'job_blue-collar', 'job_entrepreneur', 'job_housemaid',\n",
       "       'job_management', 'job_retired', 'job_self-employed', 'job_services',\n",
       "       'job_student', 'job_technician', 'job_unemployed', 'age_group_16-24',\n",
       "       'age_group_25-34', 'age_group_35-44', 'age_group_45-54',\n",
       "       'age_group_55-64', 'age_group_65-74', 'age_group_75-79', 'Combined_Tax',\n",
       "       'Feature_2'],\n",
       "      dtype='object')"
      ]
     },
     "execution_count": 48,
     "metadata": {},
     "output_type": "execute_result"
    }
   ],
   "source": [
    "X_train.columns"
   ]
  },
  {
   "cell_type": "code",
   "execution_count": 49,
   "metadata": {},
   "outputs": [],
   "source": [
    "X_train_rfe = rfe.transform(X_train)\n",
    "X_val_rfe = rfe.transform(X_val)"
   ]
  },
  {
   "cell_type": "code",
   "execution_count": 50,
   "metadata": {},
   "outputs": [],
   "source": [
    "log_reg_rfe_model = log_reg.fit(X_train_rfe, y_train)"
   ]
  },
  {
   "cell_type": "code",
   "execution_count": 51,
   "metadata": {},
   "outputs": [
    {
     "name": "stdout",
     "output_type": "stream",
     "text": [
      "Optimal number of features : 52\n",
      "Best features : Index(['contact', 'month', 'day_of_week', 'duration', 'campaign', 'pdays',\n",
      "       'previous', 'cons_price_idx', 'cons_conf_idx', 'euribor3m',\n",
      "       'MOM_Inflation', 'Wage_Growth', 'EURUSD', 'euro_zoneGDP_Growth_Rate',\n",
      "       'loan_no', 'loan_yes', 'housing_no', 'housing_yes', 'marital_divorced',\n",
      "       'marital_married', 'marital_single', 'poutcome_nonexistent',\n",
      "       'poutcome_success', 'default_no', 'default_yes', 'edu_basic.4y',\n",
      "       'edu_basic.6y', 'edu_basic.9y', 'edu_high.school', 'edu_illiterate',\n",
      "       'edu_professional.course', 'edu_university.degree', 'job_admin.',\n",
      "       'job_blue-collar', 'job_entrepreneur', 'job_housemaid',\n",
      "       'job_management', 'job_retired', 'job_self-employed', 'job_services',\n",
      "       'job_student', 'job_technician', 'job_unemployed', 'age_group_16-24',\n",
      "       'age_group_25-34', 'age_group_35-44', 'age_group_45-54',\n",
      "       'age_group_55-64', 'age_group_65-74', 'age_group_75-79', 'Combined_Tax',\n",
      "       'Feature_2'],\n",
      "      dtype='object')\n"
     ]
    }
   ],
   "source": [
    "rfecv = RFECV(estimator=log_reg, step=1, cv=5, scoring='accuracy')\n",
    "rfecv = rfecv.fit(X_train, y_train)\n",
    "print('Optimal number of features :', rfecv.n_features_)\n",
    "print('Best features :', X_train.columns[rfecv.support_])"
   ]
  },
  {
   "cell_type": "code",
   "execution_count": 52,
   "metadata": {},
   "outputs": [
    {
     "data": {
      "text/plain": [
       "array([0.88918816, 0.8952959 , 0.89525797, 0.89567527, 0.89559939,\n",
       "       0.8965478 , 0.89643399, 0.89635812, 0.89662367, 0.89688923,\n",
       "       0.89707891, 0.89647193, 0.89647193, 0.89662367, 0.89635812,\n",
       "       0.89628225, 0.89609256, 0.89586495, 0.89590288, 0.89582701,\n",
       "       0.89609256, 0.89594082, 0.89616844, 0.89594082, 0.89590288,\n",
       "       0.89616844, 0.89559939, 0.89563733, 0.89601669, 0.89962064,\n",
       "       0.89943096, 0.89905159, 0.90094841, 0.90045524, 0.90030349,\n",
       "       0.90037936, 0.90045524, 0.90053111, 0.89981032, 0.89981032,\n",
       "       0.90254173, 0.90208649, 0.90155539, 0.90314871, 0.9026176 ,\n",
       "       0.90572838, 0.90618361, 0.9064871 , 0.90667678, 0.90660091,\n",
       "       0.90679059, 0.9069044 ])"
      ]
     },
     "execution_count": 52,
     "metadata": {},
     "output_type": "execute_result"
    }
   ],
   "source": [
    "rfecv.grid_scores_"
   ]
  },
  {
   "cell_type": "markdown",
   "metadata": {},
   "source": [
    "### Hyperparameter Tuning"
   ]
  },
  {
   "cell_type": "markdown",
   "metadata": {},
   "source": [
    "#### Iteration 1:"
   ]
  },
  {
   "cell_type": "code",
   "execution_count": 53,
   "metadata": {},
   "outputs": [],
   "source": [
    "param_grid01 = {'C': [0.01,0.1,1,10,100],\n",
    "             'penalty': ['l1','l2'],\n",
    "             'solver': ['liblinear','saga']}"
   ]
  },
  {
   "cell_type": "code",
   "execution_count": 54,
   "metadata": {},
   "outputs": [
    {
     "data": {
      "text/plain": [
       "GridSearchCV(cv=5, error_score=nan,\n",
       "             estimator=LogisticRegression(C=1.0, class_weight=None, dual=False,\n",
       "                                          fit_intercept=True,\n",
       "                                          intercept_scaling=1, l1_ratio=None,\n",
       "                                          max_iter=100, multi_class='auto',\n",
       "                                          n_jobs=None, penalty='none',\n",
       "                                          random_state=None, solver='lbfgs',\n",
       "                                          tol=0.0001, verbose=0,\n",
       "                                          warm_start=False),\n",
       "             iid='deprecated', n_jobs=None,\n",
       "             param_grid={'C': [0.01, 0.1, 1, 10, 100], 'penalty': ['l1', 'l2'],\n",
       "                         'solver': ['liblinear', 'saga']},\n",
       "             pre_dispatch='2*n_jobs', refit=True, return_train_score=True,\n",
       "             scoring='roc_auc', verbose=0)"
      ]
     },
     "execution_count": 54,
     "metadata": {},
     "output_type": "execute_result"
    }
   ],
   "source": [
    "log_reg_gs01 = GridSearchCV(log_reg,\n",
    "                         param_grid01,\n",
    "                         cv=5,\n",
    "                         scoring='roc_auc',\n",
    "                         return_train_score=True)\n",
    "\n",
    "log_reg_gs01.fit(X_train,y_train)"
   ]
  },
  {
   "cell_type": "code",
   "execution_count": 55,
   "metadata": {},
   "outputs": [
    {
     "data": {
      "text/plain": [
       "LogisticRegression(C=1, class_weight=None, dual=False, fit_intercept=True,\n",
       "                   intercept_scaling=1, l1_ratio=None, max_iter=100,\n",
       "                   multi_class='auto', n_jobs=None, penalty='l1',\n",
       "                   random_state=None, solver='liblinear', tol=0.0001, verbose=0,\n",
       "                   warm_start=False)"
      ]
     },
     "execution_count": 55,
     "metadata": {},
     "output_type": "execute_result"
    }
   ],
   "source": [
    "log_reg_gs01_model = log_reg_gs01.best_estimator_\n",
    "log_reg_gs01_model"
   ]
  },
  {
   "cell_type": "code",
   "execution_count": 56,
   "metadata": {},
   "outputs": [
    {
     "name": "stdout",
     "output_type": "stream",
     "text": [
      "best model:{'C': 1, 'penalty': 'l1', 'solver': 'liblinear'}\n",
      "best score: 0.9253789653683622\n"
     ]
    }
   ],
   "source": [
    "#Checking to see the parameters and R-Squared\n",
    "print(f'best model:{log_reg_gs01.best_params_}')\n",
    "print(f'best score: {log_reg_gs01.best_score_}')"
   ]
  },
  {
   "cell_type": "code",
   "execution_count": 57,
   "metadata": {},
   "outputs": [
    {
     "name": "stdout",
     "output_type": "stream",
     "text": [
      "ROC_AUC of model (val) = 0.9257008639348675\n"
     ]
    }
   ],
   "source": [
    "log_reg_gs01_yval_predprob = log_reg_gs01_model.predict_proba(X_val)\n",
    "print(\"ROC_AUC of model (val) =\", roc_auc_score(y_val, log_reg_gs01_yval_predprob[:,1]))"
   ]
  },
  {
   "cell_type": "markdown",
   "metadata": {},
   "source": [
    "#### Iteration 2:"
   ]
  },
  {
   "cell_type": "code",
   "execution_count": 58,
   "metadata": {},
   "outputs": [],
   "source": [
    "param_grid02 = {'C': [0.5,1,5,10],\n",
    "             'penalty': ['l1','l2'],\n",
    "             'solver': ['liblinear','saga']}"
   ]
  },
  {
   "cell_type": "code",
   "execution_count": 59,
   "metadata": {},
   "outputs": [
    {
     "data": {
      "text/plain": [
       "GridSearchCV(cv=5, error_score=nan,\n",
       "             estimator=LogisticRegression(C=1.0, class_weight=None, dual=False,\n",
       "                                          fit_intercept=True,\n",
       "                                          intercept_scaling=1, l1_ratio=None,\n",
       "                                          max_iter=100, multi_class='auto',\n",
       "                                          n_jobs=None, penalty='none',\n",
       "                                          random_state=None, solver='lbfgs',\n",
       "                                          tol=0.0001, verbose=0,\n",
       "                                          warm_start=False),\n",
       "             iid='deprecated', n_jobs=None,\n",
       "             param_grid={'C': [0.5, 1, 5, 10], 'penalty': ['l1', 'l2'],\n",
       "                         'solver': ['liblinear', 'saga']},\n",
       "             pre_dispatch='2*n_jobs', refit=True, return_train_score=True,\n",
       "             scoring='roc_auc', verbose=0)"
      ]
     },
     "execution_count": 59,
     "metadata": {},
     "output_type": "execute_result"
    }
   ],
   "source": [
    "log_reg_gs02 = GridSearchCV(log_reg,\n",
    "                         param_grid02,\n",
    "                         cv=5,\n",
    "                         scoring='roc_auc',\n",
    "                         return_train_score=True)\n",
    "\n",
    "log_reg_gs02.fit(X_train,y_train)"
   ]
  },
  {
   "cell_type": "code",
   "execution_count": 60,
   "metadata": {},
   "outputs": [
    {
     "data": {
      "text/plain": [
       "LogisticRegression(C=1, class_weight=None, dual=False, fit_intercept=True,\n",
       "                   intercept_scaling=1, l1_ratio=None, max_iter=100,\n",
       "                   multi_class='auto', n_jobs=None, penalty='l1',\n",
       "                   random_state=None, solver='liblinear', tol=0.0001, verbose=0,\n",
       "                   warm_start=False)"
      ]
     },
     "execution_count": 60,
     "metadata": {},
     "output_type": "execute_result"
    }
   ],
   "source": [
    "log_reg_gs02_model = log_reg_gs02.best_estimator_\n",
    "log_reg_gs02_model"
   ]
  },
  {
   "cell_type": "code",
   "execution_count": 61,
   "metadata": {},
   "outputs": [
    {
     "name": "stdout",
     "output_type": "stream",
     "text": [
      "ROC_AUC of model (val) = 0.9254761689669285\n"
     ]
    }
   ],
   "source": [
    "log_reg_gs02_yval_predprob = log_reg_gs02_model.predict_proba(X_val)\n",
    "print(\"ROC_AUC of model (val) =\", roc_auc_score(y_val, log_reg_gs02_yval_predprob[:,1]))"
   ]
  },
  {
   "cell_type": "markdown",
   "metadata": {},
   "source": [
    "#### Iteration 3:"
   ]
  },
  {
   "cell_type": "code",
   "execution_count": 67,
   "metadata": {},
   "outputs": [],
   "source": [
    "param_grid03 = {'C': [0.5,1,5],\n",
    "             'penalty': ['l1','l2'],\n",
    "             'solver': ['liblinear','saga'],\n",
    "            'class_weight': [None,'balanced'],\n",
    "            \n",
    "             }"
   ]
  },
  {
   "cell_type": "code",
   "execution_count": 68,
   "metadata": {},
   "outputs": [
    {
     "data": {
      "text/plain": [
       "GridSearchCV(cv=5, error_score=nan,\n",
       "             estimator=LogisticRegression(C=1.0, class_weight=None, dual=False,\n",
       "                                          fit_intercept=True,\n",
       "                                          intercept_scaling=1, l1_ratio=None,\n",
       "                                          max_iter=100, multi_class='auto',\n",
       "                                          n_jobs=None, penalty='none',\n",
       "                                          random_state=None, solver='lbfgs',\n",
       "                                          tol=0.0001, verbose=0,\n",
       "                                          warm_start=False),\n",
       "             iid='deprecated', n_jobs=None,\n",
       "             param_grid={'C': [0.5, 1, 5], 'class_weight': [None, 'balanced'],\n",
       "                         'penalty': ['l1', 'l2'],\n",
       "                         'solver': ['liblinear', 'saga']},\n",
       "             pre_dispatch='2*n_jobs', refit=True, return_train_score=True,\n",
       "             scoring='roc_auc', verbose=0)"
      ]
     },
     "execution_count": 68,
     "metadata": {},
     "output_type": "execute_result"
    }
   ],
   "source": [
    "log_reg_gs03 = GridSearchCV(log_reg,\n",
    "                         param_grid03,\n",
    "                         cv=5,\n",
    "                         scoring='roc_auc',\n",
    "                         return_train_score=True)\n",
    "\n",
    "log_reg_gs03.fit(X_train,y_train)"
   ]
  },
  {
   "cell_type": "code",
   "execution_count": 71,
   "metadata": {},
   "outputs": [
    {
     "data": {
      "text/plain": [
       "LogisticRegression(C=0.5, class_weight='balanced', dual=False,\n",
       "                   fit_intercept=True, intercept_scaling=1, l1_ratio=None,\n",
       "                   max_iter=100, multi_class='auto', n_jobs=None, penalty='l1',\n",
       "                   random_state=None, solver='liblinear', tol=0.0001, verbose=0,\n",
       "                   warm_start=False)"
      ]
     },
     "execution_count": 71,
     "metadata": {},
     "output_type": "execute_result"
    }
   ],
   "source": [
    "log_reg_gs03_model = log_reg_gs03.best_estimator_\n",
    "log_reg_gs03_model"
   ]
  },
  {
   "cell_type": "code",
   "execution_count": 72,
   "metadata": {},
   "outputs": [
    {
     "name": "stdout",
     "output_type": "stream",
     "text": [
      "ROC_AUC of model (val) = 0.9287769956600456\n"
     ]
    }
   ],
   "source": [
    "log_reg_gs03_yval_predprob = log_reg_gs03_model.predict_proba(X_val)\n",
    "print(\"ROC_AUC of model (val) =\", roc_auc_score(y_val, log_reg_gs03_yval_predprob[:,1]))"
   ]
  },
  {
   "cell_type": "code",
   "execution_count": null,
   "metadata": {},
   "outputs": [],
   "source": []
  },
  {
   "cell_type": "markdown",
   "metadata": {},
   "source": [
    "### Decision Tree"
   ]
  },
  {
   "cell_type": "code",
   "execution_count": 73,
   "metadata": {},
   "outputs": [
    {
     "data": {
      "text/plain": [
       "DecisionTreeClassifier(ccp_alpha=0.0, class_weight=None, criterion='entropy',\n",
       "                       max_depth=None, max_features=None, max_leaf_nodes=None,\n",
       "                       min_impurity_decrease=0.0, min_impurity_split=None,\n",
       "                       min_samples_leaf=1, min_samples_split=2,\n",
       "                       min_weight_fraction_leaf=0.0, presort='deprecated',\n",
       "                       random_state=None, splitter='best')"
      ]
     },
     "execution_count": 73,
     "metadata": {},
     "output_type": "execute_result"
    }
   ],
   "source": [
    "dec_tree = DecisionTreeClassifier(criterion='entropy')\n",
    "\n",
    "dec_tree.fit(X_train, y_train)"
   ]
  },
  {
   "cell_type": "code",
   "execution_count": 74,
   "metadata": {},
   "outputs": [
    {
     "name": "stdout",
     "output_type": "stream",
     "text": [
      "Accuracy:  0.8872534142640364\n"
     ]
    }
   ],
   "source": [
    "dec_tree_yval_pred = dec_tree.predict(X_val)\n",
    "\n",
    "print('Accuracy: ', accuracy_score(y_val, dec_tree_yval_pred))"
   ]
  },
  {
   "cell_type": "code",
   "execution_count": 75,
   "metadata": {},
   "outputs": [
    {
     "name": "stdout",
     "output_type": "stream",
     "text": [
      "ROC_AUC of Baseline model (val) = 0.7229010954974354\n"
     ]
    }
   ],
   "source": [
    "dec_tree_yval_predproba = dec_tree.predict_proba(X_val)\n",
    "print(\"ROC_AUC of Baseline model (val) =\", roc_auc_score(y_val, dec_tree_yval_predproba[:,1]))"
   ]
  },
  {
   "cell_type": "code",
   "execution_count": null,
   "metadata": {},
   "outputs": [],
   "source": []
  },
  {
   "cell_type": "markdown",
   "metadata": {},
   "source": [
    "### Bagged Tree"
   ]
  },
  {
   "cell_type": "code",
   "execution_count": 76,
   "metadata": {},
   "outputs": [],
   "source": [
    "bag_tree =  BaggingClassifier(DecisionTreeClassifier(criterion='gini', max_depth=5), \n",
    "                                 n_estimators=20)"
   ]
  },
  {
   "cell_type": "code",
   "execution_count": 77,
   "metadata": {},
   "outputs": [
    {
     "data": {
      "text/plain": [
       "BaggingClassifier(base_estimator=DecisionTreeClassifier(ccp_alpha=0.0,\n",
       "                                                        class_weight=None,\n",
       "                                                        criterion='gini',\n",
       "                                                        max_depth=5,\n",
       "                                                        max_features=None,\n",
       "                                                        max_leaf_nodes=None,\n",
       "                                                        min_impurity_decrease=0.0,\n",
       "                                                        min_impurity_split=None,\n",
       "                                                        min_samples_leaf=1,\n",
       "                                                        min_samples_split=2,\n",
       "                                                        min_weight_fraction_leaf=0.0,\n",
       "                                                        presort='deprecated',\n",
       "                                                        random_state=None,\n",
       "                                                        splitter='best'),\n",
       "                  bootstrap=True, bootstrap_features=False, max_features=1.0,\n",
       "                  max_samples=1.0, n_estimators=20, n_jobs=None,\n",
       "                  oob_score=False, random_state=None, verbose=0,\n",
       "                  warm_start=False)"
      ]
     },
     "execution_count": 77,
     "metadata": {},
     "output_type": "execute_result"
    }
   ],
   "source": [
    "bag_tree.fit(X_train, y_train)"
   ]
  },
  {
   "cell_type": "code",
   "execution_count": 78,
   "metadata": {},
   "outputs": [
    {
     "data": {
      "text/plain": [
       "0.9200303490136571"
      ]
     },
     "execution_count": 78,
     "metadata": {},
     "output_type": "execute_result"
    }
   ],
   "source": [
    "bag_tree.score(X_train, y_train)"
   ]
  },
  {
   "cell_type": "code",
   "execution_count": 79,
   "metadata": {},
   "outputs": [
    {
     "data": {
      "text/plain": [
       "0.9132018209408195"
      ]
     },
     "execution_count": 79,
     "metadata": {},
     "output_type": "execute_result"
    }
   ],
   "source": [
    "bag_tree.score(X_val, y_val)"
   ]
  },
  {
   "cell_type": "markdown",
   "metadata": {},
   "source": [
    "### Random Forest"
   ]
  },
  {
   "cell_type": "code",
   "execution_count": 80,
   "metadata": {},
   "outputs": [
    {
     "data": {
      "text/plain": [
       "RandomForestClassifier(bootstrap=True, ccp_alpha=0.0, class_weight=None,\n",
       "                       criterion='gini', max_depth=5, max_features='auto',\n",
       "                       max_leaf_nodes=None, max_samples=None,\n",
       "                       min_impurity_decrease=0.0, min_impurity_split=None,\n",
       "                       min_samples_leaf=1, min_samples_split=2,\n",
       "                       min_weight_fraction_leaf=0.0, n_estimators=100,\n",
       "                       n_jobs=None, oob_score=False, random_state=None,\n",
       "                       verbose=0, warm_start=False)"
      ]
     },
     "execution_count": 80,
     "metadata": {},
     "output_type": "execute_result"
    }
   ],
   "source": [
    "ran_for = RandomForestClassifier(n_estimators=100, max_depth= 5)\n",
    "ran_for.fit(X_train, y_train)"
   ]
  },
  {
   "cell_type": "code",
   "execution_count": 81,
   "metadata": {},
   "outputs": [
    {
     "data": {
      "text/plain": [
       "0.9044385432473444"
      ]
     },
     "execution_count": 81,
     "metadata": {},
     "output_type": "execute_result"
    }
   ],
   "source": [
    "ran_for.score(X_train, y_train)"
   ]
  },
  {
   "cell_type": "code",
   "execution_count": 82,
   "metadata": {},
   "outputs": [
    {
     "data": {
      "text/plain": [
       "0.900825443068706"
      ]
     },
     "execution_count": 82,
     "metadata": {},
     "output_type": "execute_result"
    }
   ],
   "source": [
    "ran_for.score(X_test, y_test)"
   ]
  },
  {
   "cell_type": "code",
   "execution_count": null,
   "metadata": {},
   "outputs": [],
   "source": []
  },
  {
   "cell_type": "code",
   "execution_count": null,
   "metadata": {},
   "outputs": [],
   "source": []
  },
  {
   "cell_type": "code",
   "execution_count": 83,
   "metadata": {},
   "outputs": [
    {
     "ename": "NameError",
     "evalue": "name 'xgb' is not defined",
     "output_type": "error",
     "traceback": [
      "\u001b[0;31m---------------------------------------------------------------------------\u001b[0m",
      "\u001b[0;31mNameError\u001b[0m                                 Traceback (most recent call last)",
      "\u001b[0;32m<ipython-input-83-ce3214034e8e>\u001b[0m in \u001b[0;36m<module>\u001b[0;34m\u001b[0m\n\u001b[0;32m----> 1\u001b[0;31m \u001b[0mclf\u001b[0m \u001b[0;34m=\u001b[0m \u001b[0mxgb\u001b[0m\u001b[0;34m.\u001b[0m\u001b[0mXGBClassifier\u001b[0m\u001b[0;34m(\u001b[0m\u001b[0;34m)\u001b[0m\u001b[0;34m\u001b[0m\u001b[0;34m\u001b[0m\u001b[0m\n\u001b[0m\u001b[1;32m      2\u001b[0m \u001b[0mclf\u001b[0m\u001b[0;34m.\u001b[0m\u001b[0mfit\u001b[0m\u001b[0;34m(\u001b[0m\u001b[0mX_train\u001b[0m\u001b[0;34m,\u001b[0m \u001b[0my_train\u001b[0m\u001b[0;34m)\u001b[0m\u001b[0;34m\u001b[0m\u001b[0;34m\u001b[0m\u001b[0m\n\u001b[1;32m      3\u001b[0m \u001b[0mtraining_preds\u001b[0m \u001b[0;34m=\u001b[0m \u001b[0mclf\u001b[0m\u001b[0;34m.\u001b[0m\u001b[0mpredict\u001b[0m\u001b[0;34m(\u001b[0m\u001b[0mX_train\u001b[0m\u001b[0;34m)\u001b[0m\u001b[0;34m\u001b[0m\u001b[0;34m\u001b[0m\u001b[0m\n\u001b[1;32m      4\u001b[0m \u001b[0mval_preds\u001b[0m \u001b[0;34m=\u001b[0m \u001b[0mclf\u001b[0m\u001b[0;34m.\u001b[0m\u001b[0mpredict\u001b[0m\u001b[0;34m(\u001b[0m\u001b[0mX_val\u001b[0m\u001b[0;34m)\u001b[0m\u001b[0;34m\u001b[0m\u001b[0;34m\u001b[0m\u001b[0m\n\u001b[1;32m      5\u001b[0m \u001b[0mtraining_accuracy\u001b[0m \u001b[0;34m=\u001b[0m \u001b[0maccuracy_score\u001b[0m\u001b[0;34m(\u001b[0m\u001b[0my_train\u001b[0m\u001b[0;34m,\u001b[0m \u001b[0mtraining_preds\u001b[0m\u001b[0;34m)\u001b[0m\u001b[0;34m\u001b[0m\u001b[0;34m\u001b[0m\u001b[0m\n",
      "\u001b[0;31mNameError\u001b[0m: name 'xgb' is not defined"
     ]
    }
   ],
   "source": [
    "clf = xgb.XGBClassifier()\n",
    "clf.fit(X_train, y_train)\n",
    "training_preds = clf.predict(X_train)\n",
    "val_preds = clf.predict(X_val)\n",
    "training_accuracy = accuracy_score(y_train, training_preds)\n",
    "val_accuracy = accuracy_score(y_val, val_preds)\n",
    "\n",
    "print(\"Training Accuracy: {:.4}%\".format(training_accuracy * 100))\n",
    "print(\"Validation accuracy: {:.4}%\".format(val_accuracy * 100))"
   ]
  },
  {
   "cell_type": "code",
   "execution_count": 118,
   "metadata": {},
   "outputs": [
    {
     "name": "stdout",
     "output_type": "stream",
     "text": [
      "Test accuracy: 91.72%\n"
     ]
    }
   ],
   "source": [
    "test_preds = clf.predict(X_test)\n",
    "test_accuracy = accuracy_score(y_test, test_preds)\n",
    "print(\"Test accuracy: {:.4}%\".format(test_accuracy * 100))"
   ]
  },
  {
   "cell_type": "code",
   "execution_count": 113,
   "metadata": {},
   "outputs": [
    {
     "data": {
      "text/plain": [
       "GaussianNB(priors=None, var_smoothing=1e-09)"
      ]
     },
     "execution_count": 113,
     "metadata": {},
     "output_type": "execute_result"
    }
   ],
   "source": [
    "gnb = GaussianNB()\n",
    "gnb.fit(X_train, y_train)\n"
   ]
  },
  {
   "cell_type": "code",
   "execution_count": 114,
   "metadata": {},
   "outputs": [],
   "source": [
    "y_pred = gnb.predict(X_val)"
   ]
  },
  {
   "cell_type": "code",
   "execution_count": 115,
   "metadata": {},
   "outputs": [
    {
     "name": "stdout",
     "output_type": "stream",
     "text": [
      "Accuracy: 0.8629742033383915\n"
     ]
    }
   ],
   "source": [
    "print(\"Accuracy:\",metrics.accuracy_score(y_val, y_pred))"
   ]
  },
  {
   "cell_type": "code",
   "execution_count": null,
   "metadata": {},
   "outputs": [],
   "source": []
  },
  {
   "cell_type": "markdown",
   "metadata": {},
   "source": [
    "So far our best model appears to Iteration 3 of the hyperparameter tuned Logistic Regression model. Going forward, we will look to run hyperparameter tuing for all the other models we have selected and then move onto the final model selection. Once we have our final model, we will look to threshold selection and also interpretation of the model."
   ]
  },
  {
   "cell_type": "code",
   "execution_count": null,
   "metadata": {},
   "outputs": [],
   "source": []
  }
 ],
 "metadata": {
  "kernelspec": {
   "display_name": "Python 3",
   "language": "python",
   "name": "python3"
  },
  "language_info": {
   "codemirror_mode": {
    "name": "ipython",
    "version": 3
   },
   "file_extension": ".py",
   "mimetype": "text/x-python",
   "name": "python",
   "nbconvert_exporter": "python",
   "pygments_lexer": "ipython3",
   "version": "3.7.3"
  }
 },
 "nbformat": 4,
 "nbformat_minor": 4
}
