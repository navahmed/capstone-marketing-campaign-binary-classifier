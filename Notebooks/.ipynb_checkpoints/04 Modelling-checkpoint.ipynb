{
 "cells": [
  {
   "cell_type": "code",
   "execution_count": 150,
   "metadata": {},
   "outputs": [
    {
     "name": "stdout",
     "output_type": "stream",
     "text": [
      "Requirement already satisfied: xgboost in /anaconda3/lib/python3.7/site-packages (1.1.0)\n",
      "Requirement already satisfied: numpy in /anaconda3/lib/python3.7/site-packages (from xgboost) (1.16.4)\n",
      "Requirement already satisfied: scipy in /anaconda3/lib/python3.7/site-packages (from xgboost) (1.3.0)\n",
      "Note: you may need to restart the kernel to use updated packages.\n"
     ]
    }
   ],
   "source": [
    "pip install xgboost"
   ]
  },
  {
   "cell_type": "markdown",
   "metadata": {},
   "source": [
    "# Statistical Modelling"
   ]
  },
  {
   "cell_type": "markdown",
   "metadata": {},
   "source": [
    "This section of the project will look to set up the statistical models in order to make our predictions for the effectiveness of the bank's marketing campaign based on the dataframe that we have created.\n"
   ]
  },
  {
   "cell_type": "markdown",
   "metadata": {},
   "source": [
    "We will begin by creating a Train, Validation and Test split of our data."
   ]
  },
  {
   "cell_type": "markdown",
   "metadata": {},
   "source": [
    "We will then look to implement a RFE to see if we should look to drop any of the features we have in our dataset."
   ]
  },
  {
   "cell_type": "markdown",
   "metadata": {},
   "source": [
    "Once this is complete, we will set up a baseline model using the Logistic Regression Learner."
   ]
  },
  {
   "cell_type": "markdown",
   "metadata": {},
   "source": [
    "We will then look to set up a Decision Tree, Guassian Naive Bayes, Random Forest and Bagged Tree models."
   ]
  },
  {
   "cell_type": "markdown",
   "metadata": {},
   "source": [
    "We will also look to hypertune each of the selected models in order to increase the performance of each."
   ]
  },
  {
   "cell_type": "markdown",
   "metadata": {},
   "source": [
    "Once all of this is completed, we will select our final model based on the best ROC-AUC score and move onto the threshold selection and model evaluation"
   ]
  },
  {
   "cell_type": "code",
   "execution_count": 425,
   "metadata": {},
   "outputs": [],
   "source": [
    "import pandas as pd\n",
    "import numpy as np\n",
    "from sklearn.preprocessing import OneHotEncoder\n",
    "from sklearn.model_selection import train_test_split\n",
    "from sklearn.linear_model import LogisticRegression\n",
    "from sklearn.metrics import precision_score, recall_score, accuracy_score, f1_score\n",
    "from sklearn.metrics import confusion_matrix\n",
    "from sklearn.metrics import accuracy_score, roc_auc_score\n",
    "from sklearn.metrics import roc_curve, auc\n",
    "from sklearn.model_selection import GridSearchCV, StratifiedKFold\n",
    "from sklearn.tree import DecisionTreeClassifier \n",
    "from sklearn.ensemble import BaggingClassifier, RandomForestClassifier\n",
    "from sklearn.naive_bayes import GaussianNB\n",
    "import xgboost as xgb\n",
    "from sklearn import metrics\n",
    "import seaborn as sns\n",
    "import itertools\n",
    "from sklearn.feature_selection import RFE\n",
    "from sklearn.feature_selection import RFECV\n",
    "from warnings import filterwarnings\n",
    "filterwarnings('ignore')\n",
    "from sklearn.ensemble import VotingClassifier, BaggingClassifier, AdaBoostClassifier, RandomForestClassifier"
   ]
  },
  {
   "cell_type": "code",
   "execution_count": 357,
   "metadata": {},
   "outputs": [],
   "source": [
    "def table(string, model_est, X_train, X_val):\n",
    "    table = pd.DataFrame()\n",
    "    \n",
    "    train_accuracy = accuracy_score(y_train, model_est.predict(X_train))\n",
    "    train_auc = roc_auc_score(y_train, model_est.predict_proba(X_train)[:,1])\n",
    "    val_accuracy = accuracy_score(y_val, model_est.predict(X_val))\n",
    "    val_auc = roc_auc_score(y_val, model_est.predict_proba(X_val)[:,1])\n",
    "    table['Model'] = [string]\n",
    "    table['Train Accuracy'] = train_accuracy\n",
    "    table['Train AUC'] = train_auc\n",
    "    table['Valudation Accuracy'] = val_accuracy\n",
    "    table['Validation AUC'] = val_auc\n",
    "    return table"
   ]
  },
  {
   "cell_type": "code",
   "execution_count": 377,
   "metadata": {},
   "outputs": [],
   "source": [
    "def results_table (model_name, model_est, X_train, X_val):\n",
    "    name_of_model = []\n",
    "    train_acc = []\n",
    "    val_acc = []\n",
    "    train_auc = []\n",
    "    val_auc =[]\n",
    "\n",
    "    name_of_model.append(model_name)\n",
    "    train_acc.append(accuracy_score(y_train, model_est.predict(X_train)))\n",
    "    train_auc.append(roc_auc_score(y_train, model_est.predict_proba(X_train)[:,1]))\n",
    "    val_acc.append(accuracy_score(y_val, model_est.predict(X_val)))\n",
    "    val_auc.append(roc_auc_score(y_val, model_est.predict_proba(X_val)[:,1]))\n",
    "        \n",
    "    data = {\"Model Name\": model_name, \"Train Accuracy\" : train_acc, \"Validation Accuracy\" : val_acc, \"Train ROC-AUC\": train_auc, \"Validation ROC-AUC\": val_auc }\n",
    "    table2 = pd.DataFrame(data)\n",
    "    return table2"
   ]
  },
  {
   "cell_type": "markdown",
   "metadata": {},
   "source": [
    "## Reading in the data "
   ]
  },
  {
   "cell_type": "code",
   "execution_count": 252,
   "metadata": {},
   "outputs": [],
   "source": [
    "#Reading in the data saved under data_feat and saving it under a variable called data.\n",
    "data = pd.read_csv('/Users/naweedahmed/Desktop/Flatiron_Feb/capstone_project/dsc-capstone-submission-checklist/Data/data_feat.csv')"
   ]
  },
  {
   "cell_type": "code",
   "execution_count": 253,
   "metadata": {},
   "outputs": [
    {
     "data": {
      "text/html": [
       "<div>\n",
       "<style scoped>\n",
       "    .dataframe tbody tr th:only-of-type {\n",
       "        vertical-align: middle;\n",
       "    }\n",
       "\n",
       "    .dataframe tbody tr th {\n",
       "        vertical-align: top;\n",
       "    }\n",
       "\n",
       "    .dataframe thead th {\n",
       "        text-align: right;\n",
       "    }\n",
       "</style>\n",
       "<table border=\"1\" class=\"dataframe\">\n",
       "  <thead>\n",
       "    <tr style=\"text-align: right;\">\n",
       "      <th></th>\n",
       "      <th>Unnamed: 0</th>\n",
       "      <th>contact</th>\n",
       "      <th>month</th>\n",
       "      <th>day_of_week</th>\n",
       "      <th>duration</th>\n",
       "      <th>campaign</th>\n",
       "      <th>pdays</th>\n",
       "      <th>previous</th>\n",
       "      <th>cons_price_idx</th>\n",
       "      <th>cons_conf_idx</th>\n",
       "      <th>...</th>\n",
       "      <th>job_unemployed</th>\n",
       "      <th>age_group_16-24</th>\n",
       "      <th>age_group_25-34</th>\n",
       "      <th>age_group_35-44</th>\n",
       "      <th>age_group_45-54</th>\n",
       "      <th>age_group_55-64</th>\n",
       "      <th>age_group_65-74</th>\n",
       "      <th>age_group_75-79</th>\n",
       "      <th>Combined_Tax</th>\n",
       "      <th>Feature_2</th>\n",
       "    </tr>\n",
       "  </thead>\n",
       "  <tbody>\n",
       "    <tr>\n",
       "      <th>0</th>\n",
       "      <td>0</td>\n",
       "      <td>1</td>\n",
       "      <td>5</td>\n",
       "      <td>1</td>\n",
       "      <td>261</td>\n",
       "      <td>1</td>\n",
       "      <td>999</td>\n",
       "      <td>0</td>\n",
       "      <td>93.994</td>\n",
       "      <td>-36.4</td>\n",
       "      <td>...</td>\n",
       "      <td>0</td>\n",
       "      <td>0</td>\n",
       "      <td>0</td>\n",
       "      <td>0</td>\n",
       "      <td>0</td>\n",
       "      <td>1</td>\n",
       "      <td>0</td>\n",
       "      <td>0</td>\n",
       "      <td>62.0</td>\n",
       "      <td>50914.6344</td>\n",
       "    </tr>\n",
       "    <tr>\n",
       "      <th>1</th>\n",
       "      <td>1</td>\n",
       "      <td>1</td>\n",
       "      <td>5</td>\n",
       "      <td>1</td>\n",
       "      <td>149</td>\n",
       "      <td>1</td>\n",
       "      <td>999</td>\n",
       "      <td>0</td>\n",
       "      <td>93.994</td>\n",
       "      <td>-36.4</td>\n",
       "      <td>...</td>\n",
       "      <td>0</td>\n",
       "      <td>0</td>\n",
       "      <td>0</td>\n",
       "      <td>0</td>\n",
       "      <td>0</td>\n",
       "      <td>1</td>\n",
       "      <td>0</td>\n",
       "      <td>0</td>\n",
       "      <td>62.0</td>\n",
       "      <td>50914.6344</td>\n",
       "    </tr>\n",
       "    <tr>\n",
       "      <th>2</th>\n",
       "      <td>2</td>\n",
       "      <td>1</td>\n",
       "      <td>5</td>\n",
       "      <td>1</td>\n",
       "      <td>226</td>\n",
       "      <td>1</td>\n",
       "      <td>999</td>\n",
       "      <td>0</td>\n",
       "      <td>93.994</td>\n",
       "      <td>-36.4</td>\n",
       "      <td>...</td>\n",
       "      <td>0</td>\n",
       "      <td>0</td>\n",
       "      <td>0</td>\n",
       "      <td>1</td>\n",
       "      <td>0</td>\n",
       "      <td>0</td>\n",
       "      <td>0</td>\n",
       "      <td>0</td>\n",
       "      <td>62.0</td>\n",
       "      <td>50914.6344</td>\n",
       "    </tr>\n",
       "    <tr>\n",
       "      <th>3</th>\n",
       "      <td>3</td>\n",
       "      <td>1</td>\n",
       "      <td>5</td>\n",
       "      <td>1</td>\n",
       "      <td>151</td>\n",
       "      <td>1</td>\n",
       "      <td>999</td>\n",
       "      <td>0</td>\n",
       "      <td>93.994</td>\n",
       "      <td>-36.4</td>\n",
       "      <td>...</td>\n",
       "      <td>0</td>\n",
       "      <td>0</td>\n",
       "      <td>0</td>\n",
       "      <td>1</td>\n",
       "      <td>0</td>\n",
       "      <td>0</td>\n",
       "      <td>0</td>\n",
       "      <td>0</td>\n",
       "      <td>62.0</td>\n",
       "      <td>50914.6344</td>\n",
       "    </tr>\n",
       "    <tr>\n",
       "      <th>4</th>\n",
       "      <td>4</td>\n",
       "      <td>1</td>\n",
       "      <td>5</td>\n",
       "      <td>1</td>\n",
       "      <td>307</td>\n",
       "      <td>1</td>\n",
       "      <td>999</td>\n",
       "      <td>0</td>\n",
       "      <td>93.994</td>\n",
       "      <td>-36.4</td>\n",
       "      <td>...</td>\n",
       "      <td>0</td>\n",
       "      <td>0</td>\n",
       "      <td>0</td>\n",
       "      <td>0</td>\n",
       "      <td>0</td>\n",
       "      <td>1</td>\n",
       "      <td>0</td>\n",
       "      <td>0</td>\n",
       "      <td>62.0</td>\n",
       "      <td>50914.6344</td>\n",
       "    </tr>\n",
       "  </tbody>\n",
       "</table>\n",
       "<p>5 rows × 54 columns</p>\n",
       "</div>"
      ],
      "text/plain": [
       "   Unnamed: 0  contact  month  day_of_week  duration  campaign  pdays  \\\n",
       "0           0        1      5            1       261         1    999   \n",
       "1           1        1      5            1       149         1    999   \n",
       "2           2        1      5            1       226         1    999   \n",
       "3           3        1      5            1       151         1    999   \n",
       "4           4        1      5            1       307         1    999   \n",
       "\n",
       "   previous  cons_price_idx  cons_conf_idx  ...  job_unemployed  \\\n",
       "0         0          93.994          -36.4  ...               0   \n",
       "1         0          93.994          -36.4  ...               0   \n",
       "2         0          93.994          -36.4  ...               0   \n",
       "3         0          93.994          -36.4  ...               0   \n",
       "4         0          93.994          -36.4  ...               0   \n",
       "\n",
       "   age_group_16-24  age_group_25-34  age_group_35-44  age_group_45-54  \\\n",
       "0                0                0                0                0   \n",
       "1                0                0                0                0   \n",
       "2                0                0                1                0   \n",
       "3                0                0                1                0   \n",
       "4                0                0                0                0   \n",
       "\n",
       "   age_group_55-64  age_group_65-74  age_group_75-79  Combined_Tax   Feature_2  \n",
       "0                1                0                0          62.0  50914.6344  \n",
       "1                1                0                0          62.0  50914.6344  \n",
       "2                0                0                0          62.0  50914.6344  \n",
       "3                0                0                0          62.0  50914.6344  \n",
       "4                1                0                0          62.0  50914.6344  \n",
       "\n",
       "[5 rows x 54 columns]"
      ]
     },
     "execution_count": 253,
     "metadata": {},
     "output_type": "execute_result"
    }
   ],
   "source": [
    "#Checking the data.\n",
    "data.head()"
   ]
  },
  {
   "cell_type": "code",
   "execution_count": 254,
   "metadata": {},
   "outputs": [],
   "source": [
    "#Dropping unwanted columns.\n",
    "data.drop(columns='Unnamed: 0', inplace=True)"
   ]
  },
  {
   "cell_type": "code",
   "execution_count": 255,
   "metadata": {},
   "outputs": [
    {
     "data": {
      "text/html": [
       "<div>\n",
       "<style scoped>\n",
       "    .dataframe tbody tr th:only-of-type {\n",
       "        vertical-align: middle;\n",
       "    }\n",
       "\n",
       "    .dataframe tbody tr th {\n",
       "        vertical-align: top;\n",
       "    }\n",
       "\n",
       "    .dataframe thead th {\n",
       "        text-align: right;\n",
       "    }\n",
       "</style>\n",
       "<table border=\"1\" class=\"dataframe\">\n",
       "  <thead>\n",
       "    <tr style=\"text-align: right;\">\n",
       "      <th></th>\n",
       "      <th>contact</th>\n",
       "      <th>month</th>\n",
       "      <th>day_of_week</th>\n",
       "      <th>duration</th>\n",
       "      <th>campaign</th>\n",
       "      <th>pdays</th>\n",
       "      <th>previous</th>\n",
       "      <th>cons_price_idx</th>\n",
       "      <th>cons_conf_idx</th>\n",
       "      <th>euribor3m</th>\n",
       "      <th>...</th>\n",
       "      <th>job_unemployed</th>\n",
       "      <th>age_group_16-24</th>\n",
       "      <th>age_group_25-34</th>\n",
       "      <th>age_group_35-44</th>\n",
       "      <th>age_group_45-54</th>\n",
       "      <th>age_group_55-64</th>\n",
       "      <th>age_group_65-74</th>\n",
       "      <th>age_group_75-79</th>\n",
       "      <th>Combined_Tax</th>\n",
       "      <th>Feature_2</th>\n",
       "    </tr>\n",
       "  </thead>\n",
       "  <tbody>\n",
       "    <tr>\n",
       "      <th>0</th>\n",
       "      <td>1</td>\n",
       "      <td>5</td>\n",
       "      <td>1</td>\n",
       "      <td>261</td>\n",
       "      <td>1</td>\n",
       "      <td>999</td>\n",
       "      <td>0</td>\n",
       "      <td>93.994</td>\n",
       "      <td>-36.4</td>\n",
       "      <td>4.857</td>\n",
       "      <td>...</td>\n",
       "      <td>0</td>\n",
       "      <td>0</td>\n",
       "      <td>0</td>\n",
       "      <td>0</td>\n",
       "      <td>0</td>\n",
       "      <td>1</td>\n",
       "      <td>0</td>\n",
       "      <td>0</td>\n",
       "      <td>62.0</td>\n",
       "      <td>50914.6344</td>\n",
       "    </tr>\n",
       "    <tr>\n",
       "      <th>1</th>\n",
       "      <td>1</td>\n",
       "      <td>5</td>\n",
       "      <td>1</td>\n",
       "      <td>149</td>\n",
       "      <td>1</td>\n",
       "      <td>999</td>\n",
       "      <td>0</td>\n",
       "      <td>93.994</td>\n",
       "      <td>-36.4</td>\n",
       "      <td>4.857</td>\n",
       "      <td>...</td>\n",
       "      <td>0</td>\n",
       "      <td>0</td>\n",
       "      <td>0</td>\n",
       "      <td>0</td>\n",
       "      <td>0</td>\n",
       "      <td>1</td>\n",
       "      <td>0</td>\n",
       "      <td>0</td>\n",
       "      <td>62.0</td>\n",
       "      <td>50914.6344</td>\n",
       "    </tr>\n",
       "    <tr>\n",
       "      <th>2</th>\n",
       "      <td>1</td>\n",
       "      <td>5</td>\n",
       "      <td>1</td>\n",
       "      <td>226</td>\n",
       "      <td>1</td>\n",
       "      <td>999</td>\n",
       "      <td>0</td>\n",
       "      <td>93.994</td>\n",
       "      <td>-36.4</td>\n",
       "      <td>4.857</td>\n",
       "      <td>...</td>\n",
       "      <td>0</td>\n",
       "      <td>0</td>\n",
       "      <td>0</td>\n",
       "      <td>1</td>\n",
       "      <td>0</td>\n",
       "      <td>0</td>\n",
       "      <td>0</td>\n",
       "      <td>0</td>\n",
       "      <td>62.0</td>\n",
       "      <td>50914.6344</td>\n",
       "    </tr>\n",
       "    <tr>\n",
       "      <th>3</th>\n",
       "      <td>1</td>\n",
       "      <td>5</td>\n",
       "      <td>1</td>\n",
       "      <td>151</td>\n",
       "      <td>1</td>\n",
       "      <td>999</td>\n",
       "      <td>0</td>\n",
       "      <td>93.994</td>\n",
       "      <td>-36.4</td>\n",
       "      <td>4.857</td>\n",
       "      <td>...</td>\n",
       "      <td>0</td>\n",
       "      <td>0</td>\n",
       "      <td>0</td>\n",
       "      <td>1</td>\n",
       "      <td>0</td>\n",
       "      <td>0</td>\n",
       "      <td>0</td>\n",
       "      <td>0</td>\n",
       "      <td>62.0</td>\n",
       "      <td>50914.6344</td>\n",
       "    </tr>\n",
       "    <tr>\n",
       "      <th>4</th>\n",
       "      <td>1</td>\n",
       "      <td>5</td>\n",
       "      <td>1</td>\n",
       "      <td>307</td>\n",
       "      <td>1</td>\n",
       "      <td>999</td>\n",
       "      <td>0</td>\n",
       "      <td>93.994</td>\n",
       "      <td>-36.4</td>\n",
       "      <td>4.857</td>\n",
       "      <td>...</td>\n",
       "      <td>0</td>\n",
       "      <td>0</td>\n",
       "      <td>0</td>\n",
       "      <td>0</td>\n",
       "      <td>0</td>\n",
       "      <td>1</td>\n",
       "      <td>0</td>\n",
       "      <td>0</td>\n",
       "      <td>62.0</td>\n",
       "      <td>50914.6344</td>\n",
       "    </tr>\n",
       "  </tbody>\n",
       "</table>\n",
       "<p>5 rows × 53 columns</p>\n",
       "</div>"
      ],
      "text/plain": [
       "   contact  month  day_of_week  duration  campaign  pdays  previous  \\\n",
       "0        1      5            1       261         1    999         0   \n",
       "1        1      5            1       149         1    999         0   \n",
       "2        1      5            1       226         1    999         0   \n",
       "3        1      5            1       151         1    999         0   \n",
       "4        1      5            1       307         1    999         0   \n",
       "\n",
       "   cons_price_idx  cons_conf_idx  euribor3m  ...  job_unemployed  \\\n",
       "0          93.994          -36.4      4.857  ...               0   \n",
       "1          93.994          -36.4      4.857  ...               0   \n",
       "2          93.994          -36.4      4.857  ...               0   \n",
       "3          93.994          -36.4      4.857  ...               0   \n",
       "4          93.994          -36.4      4.857  ...               0   \n",
       "\n",
       "   age_group_16-24  age_group_25-34  age_group_35-44  age_group_45-54  \\\n",
       "0                0                0                0                0   \n",
       "1                0                0                0                0   \n",
       "2                0                0                1                0   \n",
       "3                0                0                1                0   \n",
       "4                0                0                0                0   \n",
       "\n",
       "   age_group_55-64  age_group_65-74  age_group_75-79  Combined_Tax   Feature_2  \n",
       "0                1                0                0          62.0  50914.6344  \n",
       "1                1                0                0          62.0  50914.6344  \n",
       "2                0                0                0          62.0  50914.6344  \n",
       "3                0                0                0          62.0  50914.6344  \n",
       "4                1                0                0          62.0  50914.6344  \n",
       "\n",
       "[5 rows x 53 columns]"
      ]
     },
     "execution_count": 255,
     "metadata": {},
     "output_type": "execute_result"
    }
   ],
   "source": [
    "#Checking the data.\n",
    "data.head()"
   ]
  },
  {
   "cell_type": "code",
   "execution_count": 256,
   "metadata": {},
   "outputs": [
    {
     "name": "stdout",
     "output_type": "stream",
     "text": [
      "<class 'pandas.core.frame.DataFrame'>\n",
      "RangeIndex: 41188 entries, 0 to 41187\n",
      "Data columns (total 53 columns):\n",
      "contact                     41188 non-null int64\n",
      "month                       41188 non-null int64\n",
      "day_of_week                 41188 non-null int64\n",
      "duration                    41188 non-null int64\n",
      "campaign                    41188 non-null int64\n",
      "pdays                       41188 non-null int64\n",
      "previous                    41188 non-null int64\n",
      "cons_price_idx              41188 non-null float64\n",
      "cons_conf_idx               41188 non-null float64\n",
      "euribor3m                   41188 non-null float64\n",
      "y                           41188 non-null int64\n",
      "MOM_Inflation               41188 non-null float64\n",
      "Wage_Growth                 41188 non-null float64\n",
      "EURUSD                      41188 non-null float64\n",
      "euro_zoneGDP_Growth_Rate    41188 non-null float64\n",
      "loan_no                     41188 non-null int64\n",
      "loan_yes                    41188 non-null int64\n",
      "housing_no                  41188 non-null int64\n",
      "housing_yes                 41188 non-null int64\n",
      "marital_divorced            41188 non-null int64\n",
      "marital_married             41188 non-null int64\n",
      "marital_single              41188 non-null int64\n",
      "poutcome_nonexistent        41188 non-null int64\n",
      "poutcome_success            41188 non-null int64\n",
      "default_no                  41188 non-null int64\n",
      "default_yes                 41188 non-null int64\n",
      "edu_basic.4y                41188 non-null int64\n",
      "edu_basic.6y                41188 non-null int64\n",
      "edu_basic.9y                41188 non-null int64\n",
      "edu_high.school             41188 non-null int64\n",
      "edu_illiterate              41188 non-null int64\n",
      "edu_professional.course     41188 non-null int64\n",
      "edu_university.degree       41188 non-null int64\n",
      "job_admin.                  41188 non-null int64\n",
      "job_blue-collar             41188 non-null int64\n",
      "job_entrepreneur            41188 non-null int64\n",
      "job_housemaid               41188 non-null int64\n",
      "job_management              41188 non-null int64\n",
      "job_retired                 41188 non-null int64\n",
      "job_self-employed           41188 non-null int64\n",
      "job_services                41188 non-null int64\n",
      "job_student                 41188 non-null int64\n",
      "job_technician              41188 non-null int64\n",
      "job_unemployed              41188 non-null int64\n",
      "age_group_16-24             41188 non-null int64\n",
      "age_group_25-34             41188 non-null int64\n",
      "age_group_35-44             41188 non-null int64\n",
      "age_group_45-54             41188 non-null int64\n",
      "age_group_55-64             41188 non-null int64\n",
      "age_group_65-74             41188 non-null int64\n",
      "age_group_75-79             41188 non-null int64\n",
      "Combined_Tax                41188 non-null float64\n",
      "Feature_2                   41188 non-null float64\n",
      "dtypes: float64(9), int64(44)\n",
      "memory usage: 16.7 MB\n"
     ]
    }
   ],
   "source": [
    "#Checking the data.\n",
    "data.info()"
   ]
  },
  {
   "cell_type": "code",
   "execution_count": 257,
   "metadata": {},
   "outputs": [
    {
     "data": {
      "text/plain": [
       "Index(['contact', 'month', 'day_of_week', 'duration', 'campaign', 'pdays',\n",
       "       'previous', 'cons_price_idx', 'cons_conf_idx', 'euribor3m', 'y',\n",
       "       'MOM_Inflation', 'Wage_Growth', 'EURUSD', 'euro_zoneGDP_Growth_Rate',\n",
       "       'loan_no', 'loan_yes', 'housing_no', 'housing_yes', 'marital_divorced',\n",
       "       'marital_married', 'marital_single', 'poutcome_nonexistent',\n",
       "       'poutcome_success', 'default_no', 'default_yes', 'edu_basic.4y',\n",
       "       'edu_basic.6y', 'edu_basic.9y', 'edu_high.school', 'edu_illiterate',\n",
       "       'edu_professional.course', 'edu_university.degree', 'job_admin.',\n",
       "       'job_blue-collar', 'job_entrepreneur', 'job_housemaid',\n",
       "       'job_management', 'job_retired', 'job_self-employed', 'job_services',\n",
       "       'job_student', 'job_technician', 'job_unemployed', 'age_group_16-24',\n",
       "       'age_group_25-34', 'age_group_35-44', 'age_group_45-54',\n",
       "       'age_group_55-64', 'age_group_65-74', 'age_group_75-79', 'Combined_Tax',\n",
       "       'Feature_2'],\n",
       "      dtype='object')"
      ]
     },
     "execution_count": 257,
     "metadata": {},
     "output_type": "execute_result"
    }
   ],
   "source": [
    "#Checking the data.\n",
    "data.columns"
   ]
  },
  {
   "cell_type": "markdown",
   "metadata": {},
   "source": [
    "### Checking the value counts for our target variable 'y'."
   ]
  },
  {
   "cell_type": "code",
   "execution_count": 258,
   "metadata": {},
   "outputs": [
    {
     "data": {
      "text/plain": [
       "0    36548\n",
       "1     4640\n",
       "Name: y, dtype: int64"
      ]
     },
     "execution_count": 258,
     "metadata": {},
     "output_type": "execute_result"
    }
   ],
   "source": [
    "#Checking value counts for y.\n",
    "data['y'].value_counts()"
   ]
  },
  {
   "cell_type": "markdown",
   "metadata": {},
   "source": [
    "We may have a class imbalance problem. We will look to address this by using class_weight in the hyperparameter section, and also look to use the SMOTE technique to address this."
   ]
  },
  {
   "cell_type": "markdown",
   "metadata": {},
   "source": [
    "## Assigning the X and y variables for our model."
   ]
  },
  {
   "cell_type": "code",
   "execution_count": 360,
   "metadata": {},
   "outputs": [],
   "source": [
    "X = data.drop(columns=['y'], axis=1)\n",
    "y = data['y']"
   ]
  },
  {
   "cell_type": "markdown",
   "metadata": {},
   "source": [
    "## Setting up the Train,Test and Validation splits."
   ]
  },
  {
   "cell_type": "code",
   "execution_count": 362,
   "metadata": {},
   "outputs": [],
   "source": [
    "#Train Test Split\n",
    "X_train, X_test, y_train, y_test = train_test_split(X,y, test_size=0.20, random_state = 42)"
   ]
  },
  {
   "cell_type": "code",
   "execution_count": 363,
   "metadata": {},
   "outputs": [],
   "source": [
    "#Train Validation Split.\n",
    "X_train, X_val, y_train, y_val = train_test_split(X_train,y_train, test_size=0.20, random_state = 42)"
   ]
  },
  {
   "cell_type": "code",
   "execution_count": 364,
   "metadata": {},
   "outputs": [
    {
     "name": "stdout",
     "output_type": "stream",
     "text": [
      "Shapes of Each Set\n",
      "-------------------\n",
      "X_train: (26360, 52)\n",
      "y_train: (26360,)\n",
      "X_val: (6590, 52)\n",
      "y_val: (6590,)\n",
      "X_test: (8238, 52)\n",
      "y_test: (8238,)\n"
     ]
    }
   ],
   "source": [
    "#Checking to see the size of each set.\n",
    "print('Shapes of Each Set')\n",
    "print('-------------------')\n",
    "print(f'X_train: {X_train.shape}')\n",
    "print(f'y_train: {y_train.shape}')\n",
    "print(f'X_val: {X_val.shape}')\n",
    "print(f'y_val: {y_val.shape}')\n",
    "print(f'X_test: {X_test.shape}')\n",
    "print(f'y_test: {y_test.shape}')"
   ]
  },
  {
   "cell_type": "markdown",
   "metadata": {},
   "source": [
    "## Baseline Model"
   ]
  },
  {
   "cell_type": "markdown",
   "metadata": {},
   "source": [
    "### Logistic Regression"
   ]
  },
  {
   "cell_type": "code",
   "execution_count": 366,
   "metadata": {},
   "outputs": [
    {
     "data": {
      "text/plain": [
       "LogisticRegression(C=1.0, class_weight=None, dual=False, fit_intercept=True,\n",
       "                   intercept_scaling=1, l1_ratio=None, max_iter=100,\n",
       "                   multi_class='auto', n_jobs=None, penalty='none',\n",
       "                   random_state=None, solver='lbfgs', tol=0.0001, verbose=0,\n",
       "                   warm_start=False)"
      ]
     },
     "execution_count": 366,
     "metadata": {},
     "output_type": "execute_result"
    }
   ],
   "source": [
    "logreg = LogisticRegression(penalty='none', solver='lbfgs')\n",
    "log_reg = logreg.fit(X_train, y_train)\n",
    "log_reg"
   ]
  },
  {
   "cell_type": "code",
   "execution_count": null,
   "metadata": {},
   "outputs": [],
   "source": []
  },
  {
   "cell_type": "code",
   "execution_count": 367,
   "metadata": {},
   "outputs": [
    {
     "name": "stdout",
     "output_type": "stream",
     "text": [
      "Accuracy:  0.9106221547799697\n",
      "ROC_AUC of Baseline model (val) = 0.9057938116009897\n"
     ]
    }
   ],
   "source": [
    "log_reg_yval_pred = log_reg.predict(X_val)\n",
    "log_reg_yval_predproba = log_reg.predict_proba(X_val)\n",
    "print(\"Accuracy: \", accuracy_score(y_val, log_reg_yval_pred))\n",
    "print(\"ROC_AUC of Baseline model (val) =\", roc_auc_score(y_val, log_reg_yval_predproba[:,1]))"
   ]
  },
  {
   "cell_type": "code",
   "execution_count": 388,
   "metadata": {},
   "outputs": [
    {
     "data": {
      "text/html": [
       "<div>\n",
       "<style scoped>\n",
       "    .dataframe tbody tr th:only-of-type {\n",
       "        vertical-align: middle;\n",
       "    }\n",
       "\n",
       "    .dataframe tbody tr th {\n",
       "        vertical-align: top;\n",
       "    }\n",
       "\n",
       "    .dataframe thead th {\n",
       "        text-align: right;\n",
       "    }\n",
       "</style>\n",
       "<table border=\"1\" class=\"dataframe\">\n",
       "  <thead>\n",
       "    <tr style=\"text-align: right;\">\n",
       "      <th></th>\n",
       "      <th>Model</th>\n",
       "      <th>Train Accuracy</th>\n",
       "      <th>Train AUC</th>\n",
       "      <th>Valudation Accuracy</th>\n",
       "      <th>Validation AUC</th>\n",
       "    </tr>\n",
       "  </thead>\n",
       "  <tbody>\n",
       "    <tr>\n",
       "      <th>0</th>\n",
       "      <td>Logistic Regression</td>\n",
       "      <td>0.906335</td>\n",
       "      <td>0.907303</td>\n",
       "      <td>0.910622</td>\n",
       "      <td>0.905794</td>\n",
       "    </tr>\n",
       "  </tbody>\n",
       "</table>\n",
       "</div>"
      ],
      "text/plain": [
       "                 Model  Train Accuracy  Train AUC  Valudation Accuracy  \\\n",
       "0  Logistic Regression        0.906335   0.907303             0.910622   \n",
       "\n",
       "   Validation AUC  \n",
       "0        0.905794  "
      ]
     },
     "execution_count": 388,
     "metadata": {},
     "output_type": "execute_result"
    }
   ],
   "source": [
    "results01 = table(\"Logistic Regression\", log_reg, X_train, X_val)\n",
    "results01"
   ]
  },
  {
   "cell_type": "markdown",
   "metadata": {},
   "source": [
    "## Improving the Baseline Model"
   ]
  },
  {
   "cell_type": "markdown",
   "metadata": {},
   "source": [
    "### RFE"
   ]
  },
  {
   "cell_type": "code",
   "execution_count": 266,
   "metadata": {},
   "outputs": [],
   "source": [
    "rfe = RFE(estimator=log_reg, step=1)\n",
    "rfe = rfe.fit(X_train, y_train)"
   ]
  },
  {
   "cell_type": "code",
   "execution_count": 267,
   "metadata": {},
   "outputs": [
    {
     "data": {
      "text/html": [
       "<div>\n",
       "<style scoped>\n",
       "    .dataframe tbody tr th:only-of-type {\n",
       "        vertical-align: middle;\n",
       "    }\n",
       "\n",
       "    .dataframe tbody tr th {\n",
       "        vertical-align: top;\n",
       "    }\n",
       "\n",
       "    .dataframe thead th {\n",
       "        text-align: right;\n",
       "    }\n",
       "</style>\n",
       "<table border=\"1\" class=\"dataframe\">\n",
       "  <thead>\n",
       "    <tr style=\"text-align: right;\">\n",
       "      <th></th>\n",
       "      <th>Feature</th>\n",
       "      <th>Ranking</th>\n",
       "    </tr>\n",
       "  </thead>\n",
       "  <tbody>\n",
       "    <tr>\n",
       "      <th>0</th>\n",
       "      <td>contact</td>\n",
       "      <td>1</td>\n",
       "    </tr>\n",
       "    <tr>\n",
       "      <th>50</th>\n",
       "      <td>Combined_Tax</td>\n",
       "      <td>1</td>\n",
       "    </tr>\n",
       "    <tr>\n",
       "      <th>28</th>\n",
       "      <td>edu_high.school</td>\n",
       "      <td>1</td>\n",
       "    </tr>\n",
       "    <tr>\n",
       "      <th>23</th>\n",
       "      <td>default_no</td>\n",
       "      <td>1</td>\n",
       "    </tr>\n",
       "    <tr>\n",
       "      <th>22</th>\n",
       "      <td>poutcome_success</td>\n",
       "      <td>1</td>\n",
       "    </tr>\n",
       "    <tr>\n",
       "      <th>21</th>\n",
       "      <td>poutcome_nonexistent</td>\n",
       "      <td>1</td>\n",
       "    </tr>\n",
       "    <tr>\n",
       "      <th>31</th>\n",
       "      <td>edu_university.degree</td>\n",
       "      <td>1</td>\n",
       "    </tr>\n",
       "    <tr>\n",
       "      <th>33</th>\n",
       "      <td>job_blue-collar</td>\n",
       "      <td>1</td>\n",
       "    </tr>\n",
       "    <tr>\n",
       "      <th>37</th>\n",
       "      <td>job_retired</td>\n",
       "      <td>1</td>\n",
       "    </tr>\n",
       "    <tr>\n",
       "      <th>16</th>\n",
       "      <td>housing_no</td>\n",
       "      <td>1</td>\n",
       "    </tr>\n",
       "    <tr>\n",
       "      <th>15</th>\n",
       "      <td>loan_yes</td>\n",
       "      <td>1</td>\n",
       "    </tr>\n",
       "    <tr>\n",
       "      <th>39</th>\n",
       "      <td>job_services</td>\n",
       "      <td>1</td>\n",
       "    </tr>\n",
       "    <tr>\n",
       "      <th>26</th>\n",
       "      <td>edu_basic.6y</td>\n",
       "      <td>1</td>\n",
       "    </tr>\n",
       "    <tr>\n",
       "      <th>13</th>\n",
       "      <td>euro_zoneGDP_Growth_Rate</td>\n",
       "      <td>1</td>\n",
       "    </tr>\n",
       "    <tr>\n",
       "      <th>10</th>\n",
       "      <td>MOM_Inflation</td>\n",
       "      <td>1</td>\n",
       "    </tr>\n",
       "    <tr>\n",
       "      <th>9</th>\n",
       "      <td>euribor3m</td>\n",
       "      <td>1</td>\n",
       "    </tr>\n",
       "    <tr>\n",
       "      <th>8</th>\n",
       "      <td>cons_conf_idx</td>\n",
       "      <td>1</td>\n",
       "    </tr>\n",
       "    <tr>\n",
       "      <th>7</th>\n",
       "      <td>cons_price_idx</td>\n",
       "      <td>1</td>\n",
       "    </tr>\n",
       "    <tr>\n",
       "      <th>6</th>\n",
       "      <td>previous</td>\n",
       "      <td>1</td>\n",
       "    </tr>\n",
       "    <tr>\n",
       "      <th>45</th>\n",
       "      <td>age_group_35-44</td>\n",
       "      <td>1</td>\n",
       "    </tr>\n",
       "    <tr>\n",
       "      <th>4</th>\n",
       "      <td>campaign</td>\n",
       "      <td>1</td>\n",
       "    </tr>\n",
       "    <tr>\n",
       "      <th>46</th>\n",
       "      <td>age_group_45-54</td>\n",
       "      <td>1</td>\n",
       "    </tr>\n",
       "    <tr>\n",
       "      <th>48</th>\n",
       "      <td>age_group_65-74</td>\n",
       "      <td>1</td>\n",
       "    </tr>\n",
       "    <tr>\n",
       "      <th>1</th>\n",
       "      <td>month</td>\n",
       "      <td>1</td>\n",
       "    </tr>\n",
       "    <tr>\n",
       "      <th>12</th>\n",
       "      <td>EURUSD</td>\n",
       "      <td>1</td>\n",
       "    </tr>\n",
       "    <tr>\n",
       "      <th>27</th>\n",
       "      <td>edu_basic.9y</td>\n",
       "      <td>1</td>\n",
       "    </tr>\n",
       "    <tr>\n",
       "      <th>11</th>\n",
       "      <td>Wage_Growth</td>\n",
       "      <td>2</td>\n",
       "    </tr>\n",
       "    <tr>\n",
       "      <th>19</th>\n",
       "      <td>marital_married</td>\n",
       "      <td>3</td>\n",
       "    </tr>\n",
       "    <tr>\n",
       "      <th>25</th>\n",
       "      <td>edu_basic.4y</td>\n",
       "      <td>4</td>\n",
       "    </tr>\n",
       "    <tr>\n",
       "      <th>3</th>\n",
       "      <td>duration</td>\n",
       "      <td>5</td>\n",
       "    </tr>\n",
       "    <tr>\n",
       "      <th>2</th>\n",
       "      <td>day_of_week</td>\n",
       "      <td>6</td>\n",
       "    </tr>\n",
       "    <tr>\n",
       "      <th>14</th>\n",
       "      <td>loan_no</td>\n",
       "      <td>7</td>\n",
       "    </tr>\n",
       "    <tr>\n",
       "      <th>17</th>\n",
       "      <td>housing_yes</td>\n",
       "      <td>8</td>\n",
       "    </tr>\n",
       "    <tr>\n",
       "      <th>5</th>\n",
       "      <td>pdays</td>\n",
       "      <td>9</td>\n",
       "    </tr>\n",
       "    <tr>\n",
       "      <th>51</th>\n",
       "      <td>Feature_2</td>\n",
       "      <td>10</td>\n",
       "    </tr>\n",
       "    <tr>\n",
       "      <th>18</th>\n",
       "      <td>marital_divorced</td>\n",
       "      <td>11</td>\n",
       "    </tr>\n",
       "    <tr>\n",
       "      <th>43</th>\n",
       "      <td>age_group_16-24</td>\n",
       "      <td>12</td>\n",
       "    </tr>\n",
       "    <tr>\n",
       "      <th>30</th>\n",
       "      <td>edu_professional.course</td>\n",
       "      <td>13</td>\n",
       "    </tr>\n",
       "    <tr>\n",
       "      <th>34</th>\n",
       "      <td>job_entrepreneur</td>\n",
       "      <td>14</td>\n",
       "    </tr>\n",
       "    <tr>\n",
       "      <th>40</th>\n",
       "      <td>job_student</td>\n",
       "      <td>15</td>\n",
       "    </tr>\n",
       "    <tr>\n",
       "      <th>38</th>\n",
       "      <td>job_self-employed</td>\n",
       "      <td>16</td>\n",
       "    </tr>\n",
       "    <tr>\n",
       "      <th>49</th>\n",
       "      <td>age_group_75-79</td>\n",
       "      <td>17</td>\n",
       "    </tr>\n",
       "    <tr>\n",
       "      <th>44</th>\n",
       "      <td>age_group_25-34</td>\n",
       "      <td>18</td>\n",
       "    </tr>\n",
       "    <tr>\n",
       "      <th>35</th>\n",
       "      <td>job_housemaid</td>\n",
       "      <td>19</td>\n",
       "    </tr>\n",
       "    <tr>\n",
       "      <th>36</th>\n",
       "      <td>job_management</td>\n",
       "      <td>20</td>\n",
       "    </tr>\n",
       "    <tr>\n",
       "      <th>41</th>\n",
       "      <td>job_technician</td>\n",
       "      <td>21</td>\n",
       "    </tr>\n",
       "    <tr>\n",
       "      <th>47</th>\n",
       "      <td>age_group_55-64</td>\n",
       "      <td>22</td>\n",
       "    </tr>\n",
       "    <tr>\n",
       "      <th>20</th>\n",
       "      <td>marital_single</td>\n",
       "      <td>23</td>\n",
       "    </tr>\n",
       "    <tr>\n",
       "      <th>42</th>\n",
       "      <td>job_unemployed</td>\n",
       "      <td>24</td>\n",
       "    </tr>\n",
       "    <tr>\n",
       "      <th>32</th>\n",
       "      <td>job_admin.</td>\n",
       "      <td>25</td>\n",
       "    </tr>\n",
       "    <tr>\n",
       "      <th>29</th>\n",
       "      <td>edu_illiterate</td>\n",
       "      <td>26</td>\n",
       "    </tr>\n",
       "    <tr>\n",
       "      <th>24</th>\n",
       "      <td>default_yes</td>\n",
       "      <td>27</td>\n",
       "    </tr>\n",
       "  </tbody>\n",
       "</table>\n",
       "</div>"
      ],
      "text/plain": [
       "                     Feature  Ranking\n",
       "0                    contact        1\n",
       "50              Combined_Tax        1\n",
       "28           edu_high.school        1\n",
       "23                default_no        1\n",
       "22          poutcome_success        1\n",
       "21      poutcome_nonexistent        1\n",
       "31     edu_university.degree        1\n",
       "33           job_blue-collar        1\n",
       "37               job_retired        1\n",
       "16                housing_no        1\n",
       "15                  loan_yes        1\n",
       "39              job_services        1\n",
       "26              edu_basic.6y        1\n",
       "13  euro_zoneGDP_Growth_Rate        1\n",
       "10             MOM_Inflation        1\n",
       "9                  euribor3m        1\n",
       "8              cons_conf_idx        1\n",
       "7             cons_price_idx        1\n",
       "6                   previous        1\n",
       "45           age_group_35-44        1\n",
       "4                   campaign        1\n",
       "46           age_group_45-54        1\n",
       "48           age_group_65-74        1\n",
       "1                      month        1\n",
       "12                    EURUSD        1\n",
       "27              edu_basic.9y        1\n",
       "11               Wage_Growth        2\n",
       "19           marital_married        3\n",
       "25              edu_basic.4y        4\n",
       "3                   duration        5\n",
       "2                day_of_week        6\n",
       "14                   loan_no        7\n",
       "17               housing_yes        8\n",
       "5                      pdays        9\n",
       "51                 Feature_2       10\n",
       "18          marital_divorced       11\n",
       "43           age_group_16-24       12\n",
       "30   edu_professional.course       13\n",
       "34          job_entrepreneur       14\n",
       "40               job_student       15\n",
       "38         job_self-employed       16\n",
       "49           age_group_75-79       17\n",
       "44           age_group_25-34       18\n",
       "35             job_housemaid       19\n",
       "36            job_management       20\n",
       "41            job_technician       21\n",
       "47           age_group_55-64       22\n",
       "20            marital_single       23\n",
       "42            job_unemployed       24\n",
       "32                job_admin.       25\n",
       "29            edu_illiterate       26\n",
       "24               default_yes       27"
      ]
     },
     "execution_count": 267,
     "metadata": {},
     "output_type": "execute_result"
    }
   ],
   "source": [
    "\n",
    "selected_rfe_features = pd.DataFrame({'Feature':list(X_train.columns),\n",
    "                                      'Ranking':rfe.ranking_})\n",
    "selected_rfe_features.sort_values(by='Ranking')"
   ]
  },
  {
   "cell_type": "code",
   "execution_count": 268,
   "metadata": {},
   "outputs": [
    {
     "data": {
      "text/plain": [
       "Index(['contact', 'month', 'day_of_week', 'duration', 'campaign', 'pdays',\n",
       "       'previous', 'cons_price_idx', 'cons_conf_idx', 'euribor3m',\n",
       "       'MOM_Inflation', 'Wage_Growth', 'EURUSD', 'euro_zoneGDP_Growth_Rate',\n",
       "       'loan_no', 'loan_yes', 'housing_no', 'housing_yes', 'marital_divorced',\n",
       "       'marital_married', 'marital_single', 'poutcome_nonexistent',\n",
       "       'poutcome_success', 'default_no', 'default_yes', 'edu_basic.4y',\n",
       "       'edu_basic.6y', 'edu_basic.9y', 'edu_high.school', 'edu_illiterate',\n",
       "       'edu_professional.course', 'edu_university.degree', 'job_admin.',\n",
       "       'job_blue-collar', 'job_entrepreneur', 'job_housemaid',\n",
       "       'job_management', 'job_retired', 'job_self-employed', 'job_services',\n",
       "       'job_student', 'job_technician', 'job_unemployed', 'age_group_16-24',\n",
       "       'age_group_25-34', 'age_group_35-44', 'age_group_45-54',\n",
       "       'age_group_55-64', 'age_group_65-74', 'age_group_75-79', 'Combined_Tax',\n",
       "       'Feature_2'],\n",
       "      dtype='object')"
      ]
     },
     "execution_count": 268,
     "metadata": {},
     "output_type": "execute_result"
    }
   ],
   "source": [
    "X_train.columns"
   ]
  },
  {
   "cell_type": "code",
   "execution_count": 269,
   "metadata": {},
   "outputs": [],
   "source": [
    "X_train_rfe = rfe.transform(X_train)\n",
    "X_val_rfe = rfe.transform(X_val)"
   ]
  },
  {
   "cell_type": "code",
   "execution_count": 270,
   "metadata": {},
   "outputs": [],
   "source": [
    "log_reg_rfe_model = log_reg.fit(X_train_rfe, y_train)"
   ]
  },
  {
   "cell_type": "code",
   "execution_count": 271,
   "metadata": {},
   "outputs": [
    {
     "name": "stdout",
     "output_type": "stream",
     "text": [
      "Optimal number of features : 52\n",
      "Best features : Index(['contact', 'month', 'day_of_week', 'duration', 'campaign', 'pdays',\n",
      "       'previous', 'cons_price_idx', 'cons_conf_idx', 'euribor3m',\n",
      "       'MOM_Inflation', 'Wage_Growth', 'EURUSD', 'euro_zoneGDP_Growth_Rate',\n",
      "       'loan_no', 'loan_yes', 'housing_no', 'housing_yes', 'marital_divorced',\n",
      "       'marital_married', 'marital_single', 'poutcome_nonexistent',\n",
      "       'poutcome_success', 'default_no', 'default_yes', 'edu_basic.4y',\n",
      "       'edu_basic.6y', 'edu_basic.9y', 'edu_high.school', 'edu_illiterate',\n",
      "       'edu_professional.course', 'edu_university.degree', 'job_admin.',\n",
      "       'job_blue-collar', 'job_entrepreneur', 'job_housemaid',\n",
      "       'job_management', 'job_retired', 'job_self-employed', 'job_services',\n",
      "       'job_student', 'job_technician', 'job_unemployed', 'age_group_16-24',\n",
      "       'age_group_25-34', 'age_group_35-44', 'age_group_45-54',\n",
      "       'age_group_55-64', 'age_group_65-74', 'age_group_75-79', 'Combined_Tax',\n",
      "       'Feature_2'],\n",
      "      dtype='object')\n"
     ]
    }
   ],
   "source": [
    "rfecv = RFECV(estimator=log_reg, step=1, cv=5, scoring='accuracy')\n",
    "rfecv = rfecv.fit(X_train, y_train)\n",
    "print('Optimal number of features :', rfecv.n_features_)\n",
    "print('Best features :', X_train.columns[rfecv.support_])"
   ]
  },
  {
   "cell_type": "code",
   "execution_count": 272,
   "metadata": {},
   "outputs": [
    {
     "data": {
      "text/plain": [
       "array([0.88918816, 0.8952959 , 0.89525797, 0.89567527, 0.89559939,\n",
       "       0.8965478 , 0.89643399, 0.89635812, 0.89662367, 0.89688923,\n",
       "       0.89707891, 0.89647193, 0.89647193, 0.89662367, 0.89635812,\n",
       "       0.89628225, 0.89609256, 0.89586495, 0.89590288, 0.89582701,\n",
       "       0.89609256, 0.89594082, 0.89616844, 0.89594082, 0.89590288,\n",
       "       0.89616844, 0.89559939, 0.89563733, 0.89601669, 0.89962064,\n",
       "       0.89943096, 0.89905159, 0.90094841, 0.90045524, 0.90030349,\n",
       "       0.90037936, 0.90045524, 0.90053111, 0.89981032, 0.89981032,\n",
       "       0.90254173, 0.90208649, 0.90155539, 0.90314871, 0.9026176 ,\n",
       "       0.90572838, 0.90618361, 0.9064871 , 0.90667678, 0.90660091,\n",
       "       0.90679059, 0.9069044 ])"
      ]
     },
     "execution_count": 272,
     "metadata": {},
     "output_type": "execute_result"
    }
   ],
   "source": [
    "rfecv.grid_scores_"
   ]
  },
  {
   "cell_type": "markdown",
   "metadata": {},
   "source": [
    "The RFE model suggests that we keep all 52 features in our model. We will proceed on this basis."
   ]
  },
  {
   "cell_type": "markdown",
   "metadata": {},
   "source": [
    "### Logistic Regression Hyperparameter Tuning"
   ]
  },
  {
   "cell_type": "markdown",
   "metadata": {},
   "source": [
    "#### Iteration 1:"
   ]
  },
  {
   "cell_type": "code",
   "execution_count": 273,
   "metadata": {},
   "outputs": [],
   "source": [
    "param_grid01 = {'C': [0.01,0.1,1,10,100],\n",
    "             'penalty': ['l1','l2'],\n",
    "             'solver': ['liblinear','saga']}"
   ]
  },
  {
   "cell_type": "code",
   "execution_count": 274,
   "metadata": {},
   "outputs": [
    {
     "data": {
      "text/plain": [
       "GridSearchCV(cv=5, error_score=nan,\n",
       "             estimator=LogisticRegression(C=1.0, class_weight=None, dual=False,\n",
       "                                          fit_intercept=True,\n",
       "                                          intercept_scaling=1, l1_ratio=None,\n",
       "                                          max_iter=100, multi_class='auto',\n",
       "                                          n_jobs=None, penalty='none',\n",
       "                                          random_state=None, solver='lbfgs',\n",
       "                                          tol=0.0001, verbose=0,\n",
       "                                          warm_start=False),\n",
       "             iid='deprecated', n_jobs=None,\n",
       "             param_grid={'C': [0.01, 0.1, 1, 10, 100], 'penalty': ['l1', 'l2'],\n",
       "                         'solver': ['liblinear', 'saga']},\n",
       "             pre_dispatch='2*n_jobs', refit=True, return_train_score=True,\n",
       "             scoring='roc_auc', verbose=0)"
      ]
     },
     "execution_count": 274,
     "metadata": {},
     "output_type": "execute_result"
    }
   ],
   "source": [
    "log_reg_gs01 = GridSearchCV(log_reg,\n",
    "                         param_grid01,\n",
    "                         cv=5,\n",
    "                         scoring='roc_auc',\n",
    "                         return_train_score=True,\n",
    "                         )\n",
    "\n",
    "log_reg_gs01.fit(X_train,y_train)"
   ]
  },
  {
   "cell_type": "code",
   "execution_count": 275,
   "metadata": {},
   "outputs": [
    {
     "data": {
      "text/plain": [
       "LogisticRegression(C=1, class_weight=None, dual=False, fit_intercept=True,\n",
       "                   intercept_scaling=1, l1_ratio=None, max_iter=100,\n",
       "                   multi_class='auto', n_jobs=None, penalty='l1',\n",
       "                   random_state=None, solver='liblinear', tol=0.0001, verbose=0,\n",
       "                   warm_start=False)"
      ]
     },
     "execution_count": 275,
     "metadata": {},
     "output_type": "execute_result"
    }
   ],
   "source": [
    "log_reg_gs01_model = log_reg_gs01.best_estimator_\n",
    "log_reg_gs01_model"
   ]
  },
  {
   "cell_type": "code",
   "execution_count": 276,
   "metadata": {},
   "outputs": [
    {
     "name": "stdout",
     "output_type": "stream",
     "text": [
      "best model:{'C': 1, 'penalty': 'l1', 'solver': 'liblinear'}\n",
      "best score: 0.9253814911890726\n"
     ]
    }
   ],
   "source": [
    "#Checking to see the parameters and R-Squared\n",
    "print(f'best model:{log_reg_gs01.best_params_}')\n",
    "print(f'best score: {log_reg_gs01.best_score_}')"
   ]
  },
  {
   "cell_type": "code",
   "execution_count": 277,
   "metadata": {},
   "outputs": [
    {
     "name": "stdout",
     "output_type": "stream",
     "text": [
      "Accuracy: 0.9124430955993931\n",
      "ROC_AUC of model: 0.9256669868473937\n"
     ]
    }
   ],
   "source": [
    "log_reg_gs01_yval_pred = log_reg_gs01_model.predict(X_val)\n",
    "log_reg_gs01_yval_predprob = log_reg_gs01_model.predict_proba(X_val)\n",
    "print(\"Accuracy:\", accuracy_score(y_val, log_reg_gs01_yval_pred))\n",
    "print(\"ROC_AUC of model:\", roc_auc_score(y_val, log_reg_gs01_yval_predprob[:,1]))"
   ]
  },
  {
   "cell_type": "code",
   "execution_count": 389,
   "metadata": {},
   "outputs": [
    {
     "data": {
      "text/html": [
       "<div>\n",
       "<style scoped>\n",
       "    .dataframe tbody tr th:only-of-type {\n",
       "        vertical-align: middle;\n",
       "    }\n",
       "\n",
       "    .dataframe tbody tr th {\n",
       "        vertical-align: top;\n",
       "    }\n",
       "\n",
       "    .dataframe thead th {\n",
       "        text-align: right;\n",
       "    }\n",
       "</style>\n",
       "<table border=\"1\" class=\"dataframe\">\n",
       "  <thead>\n",
       "    <tr style=\"text-align: right;\">\n",
       "      <th></th>\n",
       "      <th>Model</th>\n",
       "      <th>Train Accuracy</th>\n",
       "      <th>Train AUC</th>\n",
       "      <th>Valudation Accuracy</th>\n",
       "      <th>Validation AUC</th>\n",
       "    </tr>\n",
       "  </thead>\n",
       "  <tbody>\n",
       "    <tr>\n",
       "      <th>0</th>\n",
       "      <td>Logistic Regression GS 01</td>\n",
       "      <td>0.907739</td>\n",
       "      <td>0.92665</td>\n",
       "      <td>0.912443</td>\n",
       "      <td>0.925667</td>\n",
       "    </tr>\n",
       "  </tbody>\n",
       "</table>\n",
       "</div>"
      ],
      "text/plain": [
       "                       Model  Train Accuracy  Train AUC  Valudation Accuracy  \\\n",
       "0  Logistic Regression GS 01        0.907739    0.92665             0.912443   \n",
       "\n",
       "   Validation AUC  \n",
       "0        0.925667  "
      ]
     },
     "execution_count": 389,
     "metadata": {},
     "output_type": "execute_result"
    }
   ],
   "source": [
    "results02 = table(\"Logistic Regression GS 01\", log_reg_gs01_model, X_train, X_val)\n",
    "results02"
   ]
  },
  {
   "cell_type": "markdown",
   "metadata": {},
   "source": [
    "#### Iteration 2:"
   ]
  },
  {
   "cell_type": "code",
   "execution_count": 279,
   "metadata": {},
   "outputs": [],
   "source": [
    "param_grid02 = {'C': [0.5,1,5,10],\n",
    "             'penalty': ['l1','l2'],\n",
    "             'solver': ['liblinear','saga']}"
   ]
  },
  {
   "cell_type": "code",
   "execution_count": 280,
   "metadata": {},
   "outputs": [
    {
     "data": {
      "text/plain": [
       "GridSearchCV(cv=5, error_score=nan,\n",
       "             estimator=LogisticRegression(C=1.0, class_weight=None, dual=False,\n",
       "                                          fit_intercept=True,\n",
       "                                          intercept_scaling=1, l1_ratio=None,\n",
       "                                          max_iter=100, multi_class='auto',\n",
       "                                          n_jobs=None, penalty='none',\n",
       "                                          random_state=None, solver='lbfgs',\n",
       "                                          tol=0.0001, verbose=0,\n",
       "                                          warm_start=False),\n",
       "             iid='deprecated', n_jobs=None,\n",
       "             param_grid={'C': [0.5, 1, 5, 10], 'penalty': ['l1', 'l2'],\n",
       "                         'solver': ['liblinear', 'saga']},\n",
       "             pre_dispatch='2*n_jobs', refit=True, return_train_score=True,\n",
       "             scoring='roc_auc', verbose=0)"
      ]
     },
     "execution_count": 280,
     "metadata": {},
     "output_type": "execute_result"
    }
   ],
   "source": [
    "log_reg_gs02 = GridSearchCV(log_reg,\n",
    "                         param_grid02,\n",
    "                         cv=5,\n",
    "                         scoring='roc_auc',\n",
    "                         return_train_score=True)\n",
    "\n",
    "log_reg_gs02.fit(X_train,y_train)"
   ]
  },
  {
   "cell_type": "code",
   "execution_count": 281,
   "metadata": {},
   "outputs": [
    {
     "data": {
      "text/plain": [
       "LogisticRegression(C=1, class_weight=None, dual=False, fit_intercept=True,\n",
       "                   intercept_scaling=1, l1_ratio=None, max_iter=100,\n",
       "                   multi_class='auto', n_jobs=None, penalty='l1',\n",
       "                   random_state=None, solver='liblinear', tol=0.0001, verbose=0,\n",
       "                   warm_start=False)"
      ]
     },
     "execution_count": 281,
     "metadata": {},
     "output_type": "execute_result"
    }
   ],
   "source": [
    "log_reg_gs02_model = log_reg_gs02.best_estimator_\n",
    "log_reg_gs02_model"
   ]
  },
  {
   "cell_type": "code",
   "execution_count": 282,
   "metadata": {},
   "outputs": [
    {
     "name": "stdout",
     "output_type": "stream",
     "text": [
      "Accuracy: 0.9121396054628225\n",
      "ROC_AUC of model: 0.9256854233575835\n"
     ]
    }
   ],
   "source": [
    "log_reg_gs02_yval_pred = log_reg_gs02_model.predict(X_val)\n",
    "log_reg_gs02_yval_predprob = log_reg_gs02_model.predict_proba(X_val)\n",
    "print(\"Accuracy:\", accuracy_score(y_val, log_reg_gs02_yval_pred))\n",
    "print(\"ROC_AUC of model:\", roc_auc_score(y_val, log_reg_gs02_yval_predprob[:,1]))"
   ]
  },
  {
   "cell_type": "code",
   "execution_count": 390,
   "metadata": {},
   "outputs": [
    {
     "data": {
      "text/html": [
       "<div>\n",
       "<style scoped>\n",
       "    .dataframe tbody tr th:only-of-type {\n",
       "        vertical-align: middle;\n",
       "    }\n",
       "\n",
       "    .dataframe tbody tr th {\n",
       "        vertical-align: top;\n",
       "    }\n",
       "\n",
       "    .dataframe thead th {\n",
       "        text-align: right;\n",
       "    }\n",
       "</style>\n",
       "<table border=\"1\" class=\"dataframe\">\n",
       "  <thead>\n",
       "    <tr style=\"text-align: right;\">\n",
       "      <th></th>\n",
       "      <th>Model</th>\n",
       "      <th>Train Accuracy</th>\n",
       "      <th>Train AUC</th>\n",
       "      <th>Valudation Accuracy</th>\n",
       "      <th>Validation AUC</th>\n",
       "    </tr>\n",
       "  </thead>\n",
       "  <tbody>\n",
       "    <tr>\n",
       "      <th>0</th>\n",
       "      <td>Logistic Regression GS 02</td>\n",
       "      <td>0.907625</td>\n",
       "      <td>0.926646</td>\n",
       "      <td>0.91214</td>\n",
       "      <td>0.925685</td>\n",
       "    </tr>\n",
       "  </tbody>\n",
       "</table>\n",
       "</div>"
      ],
      "text/plain": [
       "                       Model  Train Accuracy  Train AUC  Valudation Accuracy  \\\n",
       "0  Logistic Regression GS 02        0.907625   0.926646              0.91214   \n",
       "\n",
       "   Validation AUC  \n",
       "0        0.925685  "
      ]
     },
     "execution_count": 390,
     "metadata": {},
     "output_type": "execute_result"
    }
   ],
   "source": [
    "results03 = table(\"Logistic Regression GS 02\", log_reg_gs02_model, X_train, X_val)\n",
    "results03"
   ]
  },
  {
   "cell_type": "markdown",
   "metadata": {},
   "source": [
    "#### Iteration 3:"
   ]
  },
  {
   "cell_type": "code",
   "execution_count": 284,
   "metadata": {},
   "outputs": [],
   "source": [
    "param_grid03 = {'C': [0.5,1,5],\n",
    "             'penalty': ['l1','l2'],\n",
    "             'solver': ['liblinear','saga'],\n",
    "            'class_weight': [None,'balanced'],\n",
    "            \n",
    "             }"
   ]
  },
  {
   "cell_type": "code",
   "execution_count": 285,
   "metadata": {},
   "outputs": [
    {
     "data": {
      "text/plain": [
       "GridSearchCV(cv=5, error_score=nan,\n",
       "             estimator=LogisticRegression(C=1.0, class_weight=None, dual=False,\n",
       "                                          fit_intercept=True,\n",
       "                                          intercept_scaling=1, l1_ratio=None,\n",
       "                                          max_iter=100, multi_class='auto',\n",
       "                                          n_jobs=None, penalty='none',\n",
       "                                          random_state=None, solver='lbfgs',\n",
       "                                          tol=0.0001, verbose=0,\n",
       "                                          warm_start=False),\n",
       "             iid='deprecated', n_jobs=None,\n",
       "             param_grid={'C': [0.5, 1, 5], 'class_weight': [None, 'balanced'],\n",
       "                         'penalty': ['l1', 'l2'],\n",
       "                         'solver': ['liblinear', 'saga']},\n",
       "             pre_dispatch='2*n_jobs', refit=True, return_train_score=True,\n",
       "             scoring='roc_auc', verbose=0)"
      ]
     },
     "execution_count": 285,
     "metadata": {},
     "output_type": "execute_result"
    }
   ],
   "source": [
    "log_reg_gs03 = GridSearchCV(log_reg,\n",
    "                         param_grid03,\n",
    "                         cv=5,\n",
    "                         scoring='roc_auc',\n",
    "                         return_train_score=True)\n",
    "\n",
    "log_reg_gs03.fit(X_train,y_train)"
   ]
  },
  {
   "cell_type": "code",
   "execution_count": 286,
   "metadata": {},
   "outputs": [
    {
     "data": {
      "text/plain": [
       "LogisticRegression(C=1, class_weight='balanced', dual=False, fit_intercept=True,\n",
       "                   intercept_scaling=1, l1_ratio=None, max_iter=100,\n",
       "                   multi_class='auto', n_jobs=None, penalty='l1',\n",
       "                   random_state=None, solver='liblinear', tol=0.0001, verbose=0,\n",
       "                   warm_start=False)"
      ]
     },
     "execution_count": 286,
     "metadata": {},
     "output_type": "execute_result"
    }
   ],
   "source": [
    "log_reg_gs03_model = log_reg_gs03.best_estimator_\n",
    "log_reg_gs03_model"
   ]
  },
  {
   "cell_type": "code",
   "execution_count": 287,
   "metadata": {},
   "outputs": [
    {
     "name": "stdout",
     "output_type": "stream",
     "text": [
      "Accuracy: 0.857814871016692\n",
      "ROC_AUC of model: 0.928752567284044\n"
     ]
    }
   ],
   "source": [
    "log_reg_gs03_yval_pred = log_reg_gs03_model.predict(X_val)\n",
    "log_reg_gs03_yval_predprob = log_reg_gs03_model.predict_proba(X_val)\n",
    "print(\"Accuracy:\", accuracy_score(y_val, log_reg_gs03_yval_pred))\n",
    "print(\"ROC_AUC of model:\", roc_auc_score(y_val, log_reg_gs03_yval_predprob[:,1]))"
   ]
  },
  {
   "cell_type": "code",
   "execution_count": 391,
   "metadata": {},
   "outputs": [
    {
     "data": {
      "text/html": [
       "<div>\n",
       "<style scoped>\n",
       "    .dataframe tbody tr th:only-of-type {\n",
       "        vertical-align: middle;\n",
       "    }\n",
       "\n",
       "    .dataframe tbody tr th {\n",
       "        vertical-align: top;\n",
       "    }\n",
       "\n",
       "    .dataframe thead th {\n",
       "        text-align: right;\n",
       "    }\n",
       "</style>\n",
       "<table border=\"1\" class=\"dataframe\">\n",
       "  <thead>\n",
       "    <tr style=\"text-align: right;\">\n",
       "      <th></th>\n",
       "      <th>Model</th>\n",
       "      <th>Train Accuracy</th>\n",
       "      <th>Train AUC</th>\n",
       "      <th>Valudation Accuracy</th>\n",
       "      <th>Validation AUC</th>\n",
       "    </tr>\n",
       "  </thead>\n",
       "  <tbody>\n",
       "    <tr>\n",
       "      <th>0</th>\n",
       "      <td>Logistic Regression GS 03</td>\n",
       "      <td>0.855349</td>\n",
       "      <td>0.92974</td>\n",
       "      <td>0.857815</td>\n",
       "      <td>0.928753</td>\n",
       "    </tr>\n",
       "  </tbody>\n",
       "</table>\n",
       "</div>"
      ],
      "text/plain": [
       "                       Model  Train Accuracy  Train AUC  Valudation Accuracy  \\\n",
       "0  Logistic Regression GS 03        0.855349    0.92974             0.857815   \n",
       "\n",
       "   Validation AUC  \n",
       "0        0.928753  "
      ]
     },
     "execution_count": 391,
     "metadata": {},
     "output_type": "execute_result"
    }
   ],
   "source": [
    "results04 = table(\"Logistic Regression GS 03\", log_reg_gs03_model, X_train, X_val)\n",
    "results04"
   ]
  },
  {
   "cell_type": "markdown",
   "metadata": {},
   "source": [
    "#### Logistic Regression Hyperparameter Results Summary"
   ]
  },
  {
   "cell_type": "code",
   "execution_count": 400,
   "metadata": {},
   "outputs": [
    {
     "data": {
      "text/html": [
       "<div>\n",
       "<style scoped>\n",
       "    .dataframe tbody tr th:only-of-type {\n",
       "        vertical-align: middle;\n",
       "    }\n",
       "\n",
       "    .dataframe tbody tr th {\n",
       "        vertical-align: top;\n",
       "    }\n",
       "\n",
       "    .dataframe thead th {\n",
       "        text-align: right;\n",
       "    }\n",
       "</style>\n",
       "<table border=\"1\" class=\"dataframe\">\n",
       "  <thead>\n",
       "    <tr style=\"text-align: right;\">\n",
       "      <th></th>\n",
       "      <th>Model</th>\n",
       "      <th>Train Accuracy</th>\n",
       "      <th>Train AUC</th>\n",
       "      <th>Valudation Accuracy</th>\n",
       "      <th>Validation AUC</th>\n",
       "    </tr>\n",
       "  </thead>\n",
       "  <tbody>\n",
       "    <tr>\n",
       "      <th>0</th>\n",
       "      <td>Logistic Regression</td>\n",
       "      <td>0.906335</td>\n",
       "      <td>0.907303</td>\n",
       "      <td>0.910622</td>\n",
       "      <td>0.905794</td>\n",
       "    </tr>\n",
       "    <tr>\n",
       "      <th>1</th>\n",
       "      <td>Logistic Regression GS 01</td>\n",
       "      <td>0.907739</td>\n",
       "      <td>0.926650</td>\n",
       "      <td>0.912443</td>\n",
       "      <td>0.925667</td>\n",
       "    </tr>\n",
       "    <tr>\n",
       "      <th>2</th>\n",
       "      <td>Logistic Regression GS 02</td>\n",
       "      <td>0.907625</td>\n",
       "      <td>0.926646</td>\n",
       "      <td>0.912140</td>\n",
       "      <td>0.925685</td>\n",
       "    </tr>\n",
       "    <tr>\n",
       "      <th>3</th>\n",
       "      <td>Logistic Regression GS 03</td>\n",
       "      <td>0.855349</td>\n",
       "      <td>0.929740</td>\n",
       "      <td>0.857815</td>\n",
       "      <td>0.928753</td>\n",
       "    </tr>\n",
       "  </tbody>\n",
       "</table>\n",
       "</div>"
      ],
      "text/plain": [
       "                       Model  Train Accuracy  Train AUC  Valudation Accuracy  \\\n",
       "0        Logistic Regression        0.906335   0.907303             0.910622   \n",
       "1  Logistic Regression GS 01        0.907739   0.926650             0.912443   \n",
       "2  Logistic Regression GS 02        0.907625   0.926646             0.912140   \n",
       "3  Logistic Regression GS 03        0.855349   0.929740             0.857815   \n",
       "\n",
       "   Validation AUC  \n",
       "0        0.905794  \n",
       "1        0.925667  \n",
       "2        0.925685  \n",
       "3        0.928753  "
      ]
     },
     "execution_count": 400,
     "metadata": {},
     "output_type": "execute_result"
    }
   ],
   "source": [
    "log_reg_df = pd.DataFrame()\n",
    "log_reg_df.append([results01, results02, results03, results04],ignore_index=True)"
   ]
  },
  {
   "cell_type": "markdown",
   "metadata": {},
   "source": [
    "### Decision Tree"
   ]
  },
  {
   "cell_type": "code",
   "execution_count": null,
   "metadata": {},
   "outputs": [],
   "source": [
    "{'max_depth':[1,10,100,1000],'min_samples_leaf':[1,10,100,1000]}"
   ]
  },
  {
   "cell_type": "code",
   "execution_count": 289,
   "metadata": {},
   "outputs": [
    {
     "data": {
      "text/plain": [
       "DecisionTreeClassifier(ccp_alpha=0.0, class_weight=None, criterion='entropy',\n",
       "                       max_depth=None, max_features=None, max_leaf_nodes=None,\n",
       "                       min_impurity_decrease=0.0, min_impurity_split=None,\n",
       "                       min_samples_leaf=1, min_samples_split=2,\n",
       "                       min_weight_fraction_leaf=0.0, presort='deprecated',\n",
       "                       random_state=None, splitter='best')"
      ]
     },
     "execution_count": 289,
     "metadata": {},
     "output_type": "execute_result"
    }
   ],
   "source": [
    "dec_tree = DecisionTreeClassifier(criterion='entropy')\n",
    "\n",
    "dec_tree.fit(X_train, y_train)"
   ]
  },
  {
   "cell_type": "code",
   "execution_count": 290,
   "metadata": {},
   "outputs": [
    {
     "name": "stdout",
     "output_type": "stream",
     "text": [
      "Accuracy:  0.8893778452200304\n",
      "ROC_AUC of Baseline model (val) = 0.7219808831825841\n"
     ]
    }
   ],
   "source": [
    "dec_tree_yval_pred = dec_tree.predict(X_val)\n",
    "dec_tree_y_val_predprob = dec_tree.predict_proba(X_val)\n",
    "print('Accuracy: ', accuracy_score(y_val, dec_tree_yval_pred))\n",
    "print(\"ROC_AUC of Baseline model (val) =\", roc_auc_score(y_val, dec_tree_yval_predproba[:,1]))"
   ]
  },
  {
   "cell_type": "code",
   "execution_count": 392,
   "metadata": {},
   "outputs": [
    {
     "data": {
      "text/html": [
       "<div>\n",
       "<style scoped>\n",
       "    .dataframe tbody tr th:only-of-type {\n",
       "        vertical-align: middle;\n",
       "    }\n",
       "\n",
       "    .dataframe tbody tr th {\n",
       "        vertical-align: top;\n",
       "    }\n",
       "\n",
       "    .dataframe thead th {\n",
       "        text-align: right;\n",
       "    }\n",
       "</style>\n",
       "<table border=\"1\" class=\"dataframe\">\n",
       "  <thead>\n",
       "    <tr style=\"text-align: right;\">\n",
       "      <th></th>\n",
       "      <th>Model</th>\n",
       "      <th>Train Accuracy</th>\n",
       "      <th>Train AUC</th>\n",
       "      <th>Valudation Accuracy</th>\n",
       "      <th>Validation AUC</th>\n",
       "    </tr>\n",
       "  </thead>\n",
       "  <tbody>\n",
       "    <tr>\n",
       "      <th>0</th>\n",
       "      <td>Decision Tree</td>\n",
       "      <td>1.0</td>\n",
       "      <td>1.0</td>\n",
       "      <td>0.889378</td>\n",
       "      <td>0.727628</td>\n",
       "    </tr>\n",
       "  </tbody>\n",
       "</table>\n",
       "</div>"
      ],
      "text/plain": [
       "           Model  Train Accuracy  Train AUC  Valudation Accuracy  \\\n",
       "0  Decision Tree             1.0        1.0             0.889378   \n",
       "\n",
       "   Validation AUC  \n",
       "0        0.727628  "
      ]
     },
     "execution_count": 392,
     "metadata": {},
     "output_type": "execute_result"
    }
   ],
   "source": [
    "results05 = table(\"Decision Tree\", dec_tree, X_train, X_val)\n",
    "results05"
   ]
  },
  {
   "cell_type": "code",
   "execution_count": 291,
   "metadata": {},
   "outputs": [
    {
     "data": {
      "text/html": [
       "<div>\n",
       "<style scoped>\n",
       "    .dataframe tbody tr th:only-of-type {\n",
       "        vertical-align: middle;\n",
       "    }\n",
       "\n",
       "    .dataframe tbody tr th {\n",
       "        vertical-align: top;\n",
       "    }\n",
       "\n",
       "    .dataframe thead th {\n",
       "        text-align: right;\n",
       "    }\n",
       "</style>\n",
       "<table border=\"1\" class=\"dataframe\">\n",
       "  <thead>\n",
       "    <tr style=\"text-align: right;\">\n",
       "      <th></th>\n",
       "      <th>Model</th>\n",
       "      <th>Train Accuracy</th>\n",
       "      <th>Train AUC</th>\n",
       "      <th>Valudation Accuracy</th>\n",
       "      <th>Validation AUC</th>\n",
       "    </tr>\n",
       "  </thead>\n",
       "  <tbody>\n",
       "    <tr>\n",
       "      <th>0</th>\n",
       "      <td>Decision Tree</td>\n",
       "      <td>1.0</td>\n",
       "      <td>1.0</td>\n",
       "      <td>0.889378</td>\n",
       "      <td>0.727628</td>\n",
       "    </tr>\n",
       "  </tbody>\n",
       "</table>\n",
       "</div>"
      ],
      "text/plain": [
       "           Model  Train Accuracy  Train AUC  Valudation Accuracy  \\\n",
       "0  Decision Tree             1.0        1.0             0.889378   \n",
       "\n",
       "   Validation AUC  \n",
       "0        0.727628  "
      ]
     },
     "execution_count": 291,
     "metadata": {},
     "output_type": "execute_result"
    }
   ],
   "source": [
    "table(\"Decision Tree\", dec_tree, X_train, X_val)"
   ]
  },
  {
   "cell_type": "markdown",
   "metadata": {},
   "source": [
    "### Decision Tree Hyperparameter Tuning"
   ]
  },
  {
   "cell_type": "markdown",
   "metadata": {},
   "source": [
    "#### Iteration 1:"
   ]
  },
  {
   "cell_type": "code",
   "execution_count": 292,
   "metadata": {},
   "outputs": [],
   "source": [
    "param_grid04 = {'max_depth':[1,10,100],\n",
    "                             'min_samples_leaf':[5,10,50]}"
   ]
  },
  {
   "cell_type": "code",
   "execution_count": 293,
   "metadata": {},
   "outputs": [
    {
     "data": {
      "text/plain": [
       "GridSearchCV(cv=5, error_score=nan,\n",
       "             estimator=DecisionTreeClassifier(ccp_alpha=0.0, class_weight=None,\n",
       "                                              criterion='entropy',\n",
       "                                              max_depth=None, max_features=None,\n",
       "                                              max_leaf_nodes=None,\n",
       "                                              min_impurity_decrease=0.0,\n",
       "                                              min_impurity_split=None,\n",
       "                                              min_samples_leaf=1,\n",
       "                                              min_samples_split=2,\n",
       "                                              min_weight_fraction_leaf=0.0,\n",
       "                                              presort='deprecated',\n",
       "                                              random_state=None,\n",
       "                                              splitter='best'),\n",
       "             iid='deprecated', n_jobs=None,\n",
       "             param_grid={'max_depth': [1, 10, 100],\n",
       "                         'min_samples_leaf': [5, 10, 50]},\n",
       "             pre_dispatch='2*n_jobs', refit=True, return_train_score=True,\n",
       "             scoring='roc_auc', verbose=0)"
      ]
     },
     "execution_count": 293,
     "metadata": {},
     "output_type": "execute_result"
    }
   ],
   "source": [
    "dec_tree_gs01 = GridSearchCV(dec_tree,\n",
    "                         param_grid04,\n",
    "                         cv=5,\n",
    "                         scoring='roc_auc',\n",
    "                         return_train_score=True)\n",
    "\n",
    "dec_tree_gs01.fit(X_train,y_train)"
   ]
  },
  {
   "cell_type": "code",
   "execution_count": 294,
   "metadata": {},
   "outputs": [
    {
     "data": {
      "text/plain": [
       "DecisionTreeClassifier(ccp_alpha=0.0, class_weight=None, criterion='entropy',\n",
       "                       max_depth=10, max_features=None, max_leaf_nodes=None,\n",
       "                       min_impurity_decrease=0.0, min_impurity_split=None,\n",
       "                       min_samples_leaf=50, min_samples_split=2,\n",
       "                       min_weight_fraction_leaf=0.0, presort='deprecated',\n",
       "                       random_state=None, splitter='best')"
      ]
     },
     "execution_count": 294,
     "metadata": {},
     "output_type": "execute_result"
    }
   ],
   "source": [
    "dec_tree_gs01_model = dec_tree_gs01.best_estimator_\n",
    "dec_tree_gs01_model"
   ]
  },
  {
   "cell_type": "code",
   "execution_count": 295,
   "metadata": {},
   "outputs": [
    {
     "name": "stdout",
     "output_type": "stream",
     "text": [
      "Accuracy:  0.9057663125948406\n",
      "ROC_AUC of Baseline model (val) = 0.9311328359777434\n"
     ]
    }
   ],
   "source": [
    "dec_tree_gs01_yval_pred = dec_tree_gs01_model.predict(X_val)\n",
    "dec_tree_gs01_yval_predprob = dec_tree_gs01_model.predict_proba(X_val)\n",
    "print('Accuracy: ', accuracy_score(y_val, dec_tree_gs01_yval_pred))\n",
    "print(\"ROC_AUC of Baseline model (val) =\", roc_auc_score(y_val, dec_tree_gs01_yval_predprob[:,1]))"
   ]
  },
  {
   "cell_type": "code",
   "execution_count": 393,
   "metadata": {},
   "outputs": [
    {
     "data": {
      "text/html": [
       "<div>\n",
       "<style scoped>\n",
       "    .dataframe tbody tr th:only-of-type {\n",
       "        vertical-align: middle;\n",
       "    }\n",
       "\n",
       "    .dataframe tbody tr th {\n",
       "        vertical-align: top;\n",
       "    }\n",
       "\n",
       "    .dataframe thead th {\n",
       "        text-align: right;\n",
       "    }\n",
       "</style>\n",
       "<table border=\"1\" class=\"dataframe\">\n",
       "  <thead>\n",
       "    <tr style=\"text-align: right;\">\n",
       "      <th></th>\n",
       "      <th>Model</th>\n",
       "      <th>Train Accuracy</th>\n",
       "      <th>Train AUC</th>\n",
       "      <th>Valudation Accuracy</th>\n",
       "      <th>Validation AUC</th>\n",
       "    </tr>\n",
       "  </thead>\n",
       "  <tbody>\n",
       "    <tr>\n",
       "      <th>0</th>\n",
       "      <td>Decision Tree GS 01</td>\n",
       "      <td>0.920675</td>\n",
       "      <td>0.954606</td>\n",
       "      <td>0.905766</td>\n",
       "      <td>0.931133</td>\n",
       "    </tr>\n",
       "  </tbody>\n",
       "</table>\n",
       "</div>"
      ],
      "text/plain": [
       "                 Model  Train Accuracy  Train AUC  Valudation Accuracy  \\\n",
       "0  Decision Tree GS 01        0.920675   0.954606             0.905766   \n",
       "\n",
       "   Validation AUC  \n",
       "0        0.931133  "
      ]
     },
     "execution_count": 393,
     "metadata": {},
     "output_type": "execute_result"
    }
   ],
   "source": [
    "results06 = table(\"Decision Tree GS 01\", dec_tree_gs01, X_train, X_val)\n",
    "results06"
   ]
  },
  {
   "cell_type": "code",
   "execution_count": 296,
   "metadata": {},
   "outputs": [
    {
     "data": {
      "text/html": [
       "<div>\n",
       "<style scoped>\n",
       "    .dataframe tbody tr th:only-of-type {\n",
       "        vertical-align: middle;\n",
       "    }\n",
       "\n",
       "    .dataframe tbody tr th {\n",
       "        vertical-align: top;\n",
       "    }\n",
       "\n",
       "    .dataframe thead th {\n",
       "        text-align: right;\n",
       "    }\n",
       "</style>\n",
       "<table border=\"1\" class=\"dataframe\">\n",
       "  <thead>\n",
       "    <tr style=\"text-align: right;\">\n",
       "      <th></th>\n",
       "      <th>Model</th>\n",
       "      <th>Train Accuracy</th>\n",
       "      <th>Train AUC</th>\n",
       "      <th>Valudation Accuracy</th>\n",
       "      <th>Validation AUC</th>\n",
       "    </tr>\n",
       "  </thead>\n",
       "  <tbody>\n",
       "    <tr>\n",
       "      <th>0</th>\n",
       "      <td>Decision Tree GS01</td>\n",
       "      <td>0.920675</td>\n",
       "      <td>0.954606</td>\n",
       "      <td>0.905766</td>\n",
       "      <td>0.931133</td>\n",
       "    </tr>\n",
       "  </tbody>\n",
       "</table>\n",
       "</div>"
      ],
      "text/plain": [
       "                Model  Train Accuracy  Train AUC  Valudation Accuracy  \\\n",
       "0  Decision Tree GS01        0.920675   0.954606             0.905766   \n",
       "\n",
       "   Validation AUC  \n",
       "0        0.931133  "
      ]
     },
     "execution_count": 296,
     "metadata": {},
     "output_type": "execute_result"
    }
   ],
   "source": [
    "table('Decision Tree GS01', dec_tree_gs01, X_train, X_val)"
   ]
  },
  {
   "cell_type": "markdown",
   "metadata": {},
   "source": [
    "#### Iteration 2:"
   ]
  },
  {
   "cell_type": "code",
   "execution_count": null,
   "metadata": {},
   "outputs": [],
   "source": []
  },
  {
   "cell_type": "code",
   "execution_count": 297,
   "metadata": {},
   "outputs": [],
   "source": [
    "param_grid05 = {'max_depth':range(10, 20,30),\n",
    "                             'min_samples_leaf':[15,20,25,30]}"
   ]
  },
  {
   "cell_type": "code",
   "execution_count": 298,
   "metadata": {},
   "outputs": [
    {
     "data": {
      "text/plain": [
       "GridSearchCV(cv=5, error_score=nan,\n",
       "             estimator=DecisionTreeClassifier(ccp_alpha=0.0, class_weight=None,\n",
       "                                              criterion='entropy',\n",
       "                                              max_depth=None, max_features=None,\n",
       "                                              max_leaf_nodes=None,\n",
       "                                              min_impurity_decrease=0.0,\n",
       "                                              min_impurity_split=None,\n",
       "                                              min_samples_leaf=1,\n",
       "                                              min_samples_split=2,\n",
       "                                              min_weight_fraction_leaf=0.0,\n",
       "                                              presort='deprecated',\n",
       "                                              random_state=None,\n",
       "                                              splitter='best'),\n",
       "             iid='deprecated', n_jobs=None,\n",
       "             param_grid={'max_depth': range(10, 20, 30),\n",
       "                         'min_samples_leaf': [15, 20, 25, 30]},\n",
       "             pre_dispatch='2*n_jobs', refit=True, return_train_score=True,\n",
       "             scoring='roc_auc', verbose=0)"
      ]
     },
     "execution_count": 298,
     "metadata": {},
     "output_type": "execute_result"
    }
   ],
   "source": [
    "dec_tree_gs02 = GridSearchCV(dec_tree,\n",
    "                         param_grid05,\n",
    "                         cv=5,\n",
    "                         scoring='roc_auc',\n",
    "                         return_train_score=True)\n",
    "\n",
    "dec_tree_gs02.fit(X_train,y_train)"
   ]
  },
  {
   "cell_type": "code",
   "execution_count": 299,
   "metadata": {},
   "outputs": [
    {
     "data": {
      "text/plain": [
       "DecisionTreeClassifier(ccp_alpha=0.0, class_weight=None, criterion='entropy',\n",
       "                       max_depth=10, max_features=None, max_leaf_nodes=None,\n",
       "                       min_impurity_decrease=0.0, min_impurity_split=None,\n",
       "                       min_samples_leaf=30, min_samples_split=2,\n",
       "                       min_weight_fraction_leaf=0.0, presort='deprecated',\n",
       "                       random_state=None, splitter='best')"
      ]
     },
     "execution_count": 299,
     "metadata": {},
     "output_type": "execute_result"
    }
   ],
   "source": [
    "dec_tree_gs02_model = dec_tree_gs02.best_estimator_\n",
    "dec_tree_gs02_model"
   ]
  },
  {
   "cell_type": "code",
   "execution_count": 300,
   "metadata": {},
   "outputs": [
    {
     "name": "stdout",
     "output_type": "stream",
     "text": [
      "Accuracy:  0.9048558421851289\n",
      "ROC_AUC Score:  0.9274786044299246\n"
     ]
    }
   ],
   "source": [
    "dec_tree_gs02_yval_pred = dec_tree_gs02_model.predict(X_val)\n",
    "dec_tree_gs02_yval_predproba = dec_tree_gs02_model.predict_proba(X_val)[:,1]\n",
    "print('Accuracy: ', accuracy_score(y_val, dec_tree_gs02_yval_pred))\n",
    "print('ROC_AUC Score: ', roc_auc_score(y_val, dec_tree_gs02_yval_predproba))"
   ]
  },
  {
   "cell_type": "code",
   "execution_count": 394,
   "metadata": {},
   "outputs": [
    {
     "data": {
      "text/html": [
       "<div>\n",
       "<style scoped>\n",
       "    .dataframe tbody tr th:only-of-type {\n",
       "        vertical-align: middle;\n",
       "    }\n",
       "\n",
       "    .dataframe tbody tr th {\n",
       "        vertical-align: top;\n",
       "    }\n",
       "\n",
       "    .dataframe thead th {\n",
       "        text-align: right;\n",
       "    }\n",
       "</style>\n",
       "<table border=\"1\" class=\"dataframe\">\n",
       "  <thead>\n",
       "    <tr style=\"text-align: right;\">\n",
       "      <th></th>\n",
       "      <th>Model</th>\n",
       "      <th>Train Accuracy</th>\n",
       "      <th>Train AUC</th>\n",
       "      <th>Valudation Accuracy</th>\n",
       "      <th>Validation AUC</th>\n",
       "    </tr>\n",
       "  </thead>\n",
       "  <tbody>\n",
       "    <tr>\n",
       "      <th>0</th>\n",
       "      <td>Decision Tree GS 02</td>\n",
       "      <td>0.924659</td>\n",
       "      <td>0.958665</td>\n",
       "      <td>0.904856</td>\n",
       "      <td>0.927479</td>\n",
       "    </tr>\n",
       "  </tbody>\n",
       "</table>\n",
       "</div>"
      ],
      "text/plain": [
       "                 Model  Train Accuracy  Train AUC  Valudation Accuracy  \\\n",
       "0  Decision Tree GS 02        0.924659   0.958665             0.904856   \n",
       "\n",
       "   Validation AUC  \n",
       "0        0.927479  "
      ]
     },
     "execution_count": 394,
     "metadata": {},
     "output_type": "execute_result"
    }
   ],
   "source": [
    "results07 = table(\"Decision Tree GS 02\", dec_tree_gs02, X_train, X_val)\n",
    "results07"
   ]
  },
  {
   "cell_type": "code",
   "execution_count": 301,
   "metadata": {},
   "outputs": [
    {
     "data": {
      "text/html": [
       "<div>\n",
       "<style scoped>\n",
       "    .dataframe tbody tr th:only-of-type {\n",
       "        vertical-align: middle;\n",
       "    }\n",
       "\n",
       "    .dataframe tbody tr th {\n",
       "        vertical-align: top;\n",
       "    }\n",
       "\n",
       "    .dataframe thead th {\n",
       "        text-align: right;\n",
       "    }\n",
       "</style>\n",
       "<table border=\"1\" class=\"dataframe\">\n",
       "  <thead>\n",
       "    <tr style=\"text-align: right;\">\n",
       "      <th></th>\n",
       "      <th>Model</th>\n",
       "      <th>Train Accuracy</th>\n",
       "      <th>Train AUC</th>\n",
       "      <th>Valudation Accuracy</th>\n",
       "      <th>Validation AUC</th>\n",
       "    </tr>\n",
       "  </thead>\n",
       "  <tbody>\n",
       "    <tr>\n",
       "      <th>0</th>\n",
       "      <td>Decision Tree GS02</td>\n",
       "      <td>0.924659</td>\n",
       "      <td>0.958665</td>\n",
       "      <td>0.904856</td>\n",
       "      <td>0.927479</td>\n",
       "    </tr>\n",
       "  </tbody>\n",
       "</table>\n",
       "</div>"
      ],
      "text/plain": [
       "                Model  Train Accuracy  Train AUC  Valudation Accuracy  \\\n",
       "0  Decision Tree GS02        0.924659   0.958665             0.904856   \n",
       "\n",
       "   Validation AUC  \n",
       "0        0.927479  "
      ]
     },
     "execution_count": 301,
     "metadata": {},
     "output_type": "execute_result"
    }
   ],
   "source": [
    "table('Decision Tree GS02', dec_tree_gs02, X_train, X_val)"
   ]
  },
  {
   "cell_type": "markdown",
   "metadata": {},
   "source": [
    "#### Iteration 3:"
   ]
  },
  {
   "cell_type": "code",
   "execution_count": 302,
   "metadata": {},
   "outputs": [],
   "source": [
    "param_grid06 = {'max_depth':range(10,50+1,10),\n",
    "                'min_samples_leaf':[5,10,15,20],\n",
    "               'class_weight': [None,'balanced'],\n",
    "               'criterion': ['gini','entropy']}"
   ]
  },
  {
   "cell_type": "code",
   "execution_count": 303,
   "metadata": {},
   "outputs": [
    {
     "data": {
      "text/plain": [
       "GridSearchCV(cv=5, error_score=nan,\n",
       "             estimator=DecisionTreeClassifier(ccp_alpha=0.0, class_weight=None,\n",
       "                                              criterion='entropy',\n",
       "                                              max_depth=None, max_features=None,\n",
       "                                              max_leaf_nodes=None,\n",
       "                                              min_impurity_decrease=0.0,\n",
       "                                              min_impurity_split=None,\n",
       "                                              min_samples_leaf=1,\n",
       "                                              min_samples_split=2,\n",
       "                                              min_weight_fraction_leaf=0.0,\n",
       "                                              presort='deprecated',\n",
       "                                              random_state=None,\n",
       "                                              splitter='best'),\n",
       "             iid='deprecated', n_jobs=None,\n",
       "             param_grid={'class_weight': [None, 'balanced'],\n",
       "                         'criterion': ['gini', 'entropy'],\n",
       "                         'max_depth': range(10, 51, 10),\n",
       "                         'min_samples_leaf': [5, 10, 15, 20]},\n",
       "             pre_dispatch='2*n_jobs', refit=True, return_train_score=True,\n",
       "             scoring='roc_auc', verbose=0)"
      ]
     },
     "execution_count": 303,
     "metadata": {},
     "output_type": "execute_result"
    }
   ],
   "source": [
    "dec_tree_gs03 = GridSearchCV(dec_tree,\n",
    "                         param_grid06,\n",
    "                         cv=5,\n",
    "                         scoring='roc_auc',\n",
    "                         return_train_score=True)\n",
    "\n",
    "dec_tree_gs03.fit(X_train,y_train)"
   ]
  },
  {
   "cell_type": "code",
   "execution_count": 304,
   "metadata": {},
   "outputs": [
    {
     "data": {
      "text/plain": [
       "DecisionTreeClassifier(ccp_alpha=0.0, class_weight=None, criterion='entropy',\n",
       "                       max_depth=10, max_features=None, max_leaf_nodes=None,\n",
       "                       min_impurity_decrease=0.0, min_impurity_split=None,\n",
       "                       min_samples_leaf=20, min_samples_split=2,\n",
       "                       min_weight_fraction_leaf=0.0, presort='deprecated',\n",
       "                       random_state=None, splitter='best')"
      ]
     },
     "execution_count": 304,
     "metadata": {},
     "output_type": "execute_result"
    }
   ],
   "source": [
    "dec_tree_gs03_model = dec_tree_gs03.best_estimator_\n",
    "dec_tree_gs03_model"
   ]
  },
  {
   "cell_type": "code",
   "execution_count": 305,
   "metadata": {},
   "outputs": [
    {
     "name": "stdout",
     "output_type": "stream",
     "text": [
      "Accuracy:  0.9071320182094081\n",
      "ROC_AUC of Baseline model (val) = 0.9250039638496909\n"
     ]
    }
   ],
   "source": [
    "dec_tree_gs03_yval_pred = dec_tree_gs03_model.predict(X_val)\n",
    "dec_tree_gs03_yval_predprob = dec_tree_gs03_model.predict_proba(X_val)\n",
    "print('Accuracy: ', accuracy_score(y_val, dec_tree_gs03_yval_pred))\n",
    "print(\"ROC_AUC of Baseline model (val) =\", roc_auc_score(y_val, dec_tree_gs03_yval_predprob[:,1]))"
   ]
  },
  {
   "cell_type": "code",
   "execution_count": 395,
   "metadata": {},
   "outputs": [
    {
     "data": {
      "text/html": [
       "<div>\n",
       "<style scoped>\n",
       "    .dataframe tbody tr th:only-of-type {\n",
       "        vertical-align: middle;\n",
       "    }\n",
       "\n",
       "    .dataframe tbody tr th {\n",
       "        vertical-align: top;\n",
       "    }\n",
       "\n",
       "    .dataframe thead th {\n",
       "        text-align: right;\n",
       "    }\n",
       "</style>\n",
       "<table border=\"1\" class=\"dataframe\">\n",
       "  <thead>\n",
       "    <tr style=\"text-align: right;\">\n",
       "      <th></th>\n",
       "      <th>Model</th>\n",
       "      <th>Train Accuracy</th>\n",
       "      <th>Train AUC</th>\n",
       "      <th>Valudation Accuracy</th>\n",
       "      <th>Validation AUC</th>\n",
       "    </tr>\n",
       "  </thead>\n",
       "  <tbody>\n",
       "    <tr>\n",
       "      <th>0</th>\n",
       "      <td>Decision Tree GS 03</td>\n",
       "      <td>0.926897</td>\n",
       "      <td>0.961602</td>\n",
       "      <td>0.907132</td>\n",
       "      <td>0.925004</td>\n",
       "    </tr>\n",
       "  </tbody>\n",
       "</table>\n",
       "</div>"
      ],
      "text/plain": [
       "                 Model  Train Accuracy  Train AUC  Valudation Accuracy  \\\n",
       "0  Decision Tree GS 03        0.926897   0.961602             0.907132   \n",
       "\n",
       "   Validation AUC  \n",
       "0        0.925004  "
      ]
     },
     "execution_count": 395,
     "metadata": {},
     "output_type": "execute_result"
    }
   ],
   "source": [
    "results08 = table(\"Decision Tree GS 03\", dec_tree_gs03, X_train, X_val)\n",
    "results08"
   ]
  },
  {
   "cell_type": "code",
   "execution_count": 306,
   "metadata": {},
   "outputs": [
    {
     "data": {
      "text/html": [
       "<div>\n",
       "<style scoped>\n",
       "    .dataframe tbody tr th:only-of-type {\n",
       "        vertical-align: middle;\n",
       "    }\n",
       "\n",
       "    .dataframe tbody tr th {\n",
       "        vertical-align: top;\n",
       "    }\n",
       "\n",
       "    .dataframe thead th {\n",
       "        text-align: right;\n",
       "    }\n",
       "</style>\n",
       "<table border=\"1\" class=\"dataframe\">\n",
       "  <thead>\n",
       "    <tr style=\"text-align: right;\">\n",
       "      <th></th>\n",
       "      <th>Model</th>\n",
       "      <th>Train Accuracy</th>\n",
       "      <th>Train AUC</th>\n",
       "      <th>Valudation Accuracy</th>\n",
       "      <th>Validation AUC</th>\n",
       "    </tr>\n",
       "  </thead>\n",
       "  <tbody>\n",
       "    <tr>\n",
       "      <th>0</th>\n",
       "      <td>Decision Tree GS03</td>\n",
       "      <td>0.926897</td>\n",
       "      <td>0.961602</td>\n",
       "      <td>0.907132</td>\n",
       "      <td>0.925004</td>\n",
       "    </tr>\n",
       "  </tbody>\n",
       "</table>\n",
       "</div>"
      ],
      "text/plain": [
       "                Model  Train Accuracy  Train AUC  Valudation Accuracy  \\\n",
       "0  Decision Tree GS03        0.926897   0.961602             0.907132   \n",
       "\n",
       "   Validation AUC  \n",
       "0        0.925004  "
      ]
     },
     "execution_count": 306,
     "metadata": {},
     "output_type": "execute_result"
    }
   ],
   "source": [
    "table('Decision Tree GS03', dec_tree_gs03, X_train, X_val)"
   ]
  },
  {
   "cell_type": "code",
   "execution_count": null,
   "metadata": {},
   "outputs": [],
   "source": []
  },
  {
   "cell_type": "markdown",
   "metadata": {},
   "source": [
    "#### Decision Tree Hyperparameter Results Summary"
   ]
  },
  {
   "cell_type": "code",
   "execution_count": 401,
   "metadata": {},
   "outputs": [
    {
     "data": {
      "text/html": [
       "<div>\n",
       "<style scoped>\n",
       "    .dataframe tbody tr th:only-of-type {\n",
       "        vertical-align: middle;\n",
       "    }\n",
       "\n",
       "    .dataframe tbody tr th {\n",
       "        vertical-align: top;\n",
       "    }\n",
       "\n",
       "    .dataframe thead th {\n",
       "        text-align: right;\n",
       "    }\n",
       "</style>\n",
       "<table border=\"1\" class=\"dataframe\">\n",
       "  <thead>\n",
       "    <tr style=\"text-align: right;\">\n",
       "      <th></th>\n",
       "      <th>Model</th>\n",
       "      <th>Train Accuracy</th>\n",
       "      <th>Train AUC</th>\n",
       "      <th>Valudation Accuracy</th>\n",
       "      <th>Validation AUC</th>\n",
       "    </tr>\n",
       "  </thead>\n",
       "  <tbody>\n",
       "    <tr>\n",
       "      <th>0</th>\n",
       "      <td>Decision Tree</td>\n",
       "      <td>1.000000</td>\n",
       "      <td>1.000000</td>\n",
       "      <td>0.889378</td>\n",
       "      <td>0.727628</td>\n",
       "    </tr>\n",
       "    <tr>\n",
       "      <th>1</th>\n",
       "      <td>Decision Tree GS 01</td>\n",
       "      <td>0.920675</td>\n",
       "      <td>0.954606</td>\n",
       "      <td>0.905766</td>\n",
       "      <td>0.931133</td>\n",
       "    </tr>\n",
       "    <tr>\n",
       "      <th>2</th>\n",
       "      <td>Decision Tree GS 02</td>\n",
       "      <td>0.924659</td>\n",
       "      <td>0.958665</td>\n",
       "      <td>0.904856</td>\n",
       "      <td>0.927479</td>\n",
       "    </tr>\n",
       "    <tr>\n",
       "      <th>3</th>\n",
       "      <td>Decision Tree GS 03</td>\n",
       "      <td>0.926897</td>\n",
       "      <td>0.961602</td>\n",
       "      <td>0.907132</td>\n",
       "      <td>0.925004</td>\n",
       "    </tr>\n",
       "  </tbody>\n",
       "</table>\n",
       "</div>"
      ],
      "text/plain": [
       "                 Model  Train Accuracy  Train AUC  Valudation Accuracy  \\\n",
       "0        Decision Tree        1.000000   1.000000             0.889378   \n",
       "1  Decision Tree GS 01        0.920675   0.954606             0.905766   \n",
       "2  Decision Tree GS 02        0.924659   0.958665             0.904856   \n",
       "3  Decision Tree GS 03        0.926897   0.961602             0.907132   \n",
       "\n",
       "   Validation AUC  \n",
       "0        0.727628  \n",
       "1        0.931133  \n",
       "2        0.927479  \n",
       "3        0.925004  "
      ]
     },
     "execution_count": 401,
     "metadata": {},
     "output_type": "execute_result"
    }
   ],
   "source": [
    "dec_tree_df = pd.DataFrame()\n",
    "dec_tree_df.append([results05, results06, results07, results08],ignore_index=True)"
   ]
  },
  {
   "cell_type": "code",
   "execution_count": null,
   "metadata": {},
   "outputs": [],
   "source": []
  },
  {
   "cell_type": "markdown",
   "metadata": {},
   "source": [
    "### Gaussian Naive Bayes"
   ]
  },
  {
   "cell_type": "code",
   "execution_count": 344,
   "metadata": {},
   "outputs": [
    {
     "data": {
      "text/plain": [
       "GaussianNB(priors=None, var_smoothing=1e-09)"
      ]
     },
     "execution_count": 344,
     "metadata": {},
     "output_type": "execute_result"
    }
   ],
   "source": [
    "gnb = GaussianNB()\n",
    "gnb.fit(X_train, y_train)"
   ]
  },
  {
   "cell_type": "code",
   "execution_count": 345,
   "metadata": {},
   "outputs": [
    {
     "name": "stdout",
     "output_type": "stream",
     "text": [
      "Accuracy: 0.8904400606980273\n",
      "ROC_AUC of Baseline model (test) = 0.8815345905804182\n"
     ]
    }
   ],
   "source": [
    "GNB_yval_pred = gnb.predict(X_val)\n",
    "GNB_yval_predprob = gnb.predict_proba(X_val)\n",
    "print(\"Accuracy:\",metrics.accuracy_score(y_val, GNB_yval_pred))\n",
    "print(\"ROC_AUC of Baseline model (test) =\", roc_auc_score(y_val, GNB_yval_predprob[:,1]))"
   ]
  },
  {
   "cell_type": "code",
   "execution_count": 396,
   "metadata": {},
   "outputs": [
    {
     "data": {
      "text/html": [
       "<div>\n",
       "<style scoped>\n",
       "    .dataframe tbody tr th:only-of-type {\n",
       "        vertical-align: middle;\n",
       "    }\n",
       "\n",
       "    .dataframe tbody tr th {\n",
       "        vertical-align: top;\n",
       "    }\n",
       "\n",
       "    .dataframe thead th {\n",
       "        text-align: right;\n",
       "    }\n",
       "</style>\n",
       "<table border=\"1\" class=\"dataframe\">\n",
       "  <thead>\n",
       "    <tr style=\"text-align: right;\">\n",
       "      <th></th>\n",
       "      <th>Model</th>\n",
       "      <th>Train Accuracy</th>\n",
       "      <th>Train AUC</th>\n",
       "      <th>Valudation Accuracy</th>\n",
       "      <th>Validation AUC</th>\n",
       "    </tr>\n",
       "  </thead>\n",
       "  <tbody>\n",
       "    <tr>\n",
       "      <th>0</th>\n",
       "      <td>Gaussian Naive Bayes</td>\n",
       "      <td>0.890592</td>\n",
       "      <td>0.880637</td>\n",
       "      <td>0.89044</td>\n",
       "      <td>0.881535</td>\n",
       "    </tr>\n",
       "  </tbody>\n",
       "</table>\n",
       "</div>"
      ],
      "text/plain": [
       "                  Model  Train Accuracy  Train AUC  Valudation Accuracy  \\\n",
       "0  Gaussian Naive Bayes        0.890592   0.880637              0.89044   \n",
       "\n",
       "   Validation AUC  \n",
       "0        0.881535  "
      ]
     },
     "execution_count": 396,
     "metadata": {},
     "output_type": "execute_result"
    }
   ],
   "source": [
    "results09 = table(\"Gaussian Naive Bayes\", gnb, X_train, X_val)\n",
    "results09"
   ]
  },
  {
   "cell_type": "code",
   "execution_count": 346,
   "metadata": {},
   "outputs": [
    {
     "data": {
      "text/html": [
       "<div>\n",
       "<style scoped>\n",
       "    .dataframe tbody tr th:only-of-type {\n",
       "        vertical-align: middle;\n",
       "    }\n",
       "\n",
       "    .dataframe tbody tr th {\n",
       "        vertical-align: top;\n",
       "    }\n",
       "\n",
       "    .dataframe thead th {\n",
       "        text-align: right;\n",
       "    }\n",
       "</style>\n",
       "<table border=\"1\" class=\"dataframe\">\n",
       "  <thead>\n",
       "    <tr style=\"text-align: right;\">\n",
       "      <th></th>\n",
       "      <th>Model</th>\n",
       "      <th>Train Accuracy</th>\n",
       "      <th>Train AUC</th>\n",
       "      <th>Valudation Accuracy</th>\n",
       "      <th>Validation AUC</th>\n",
       "    </tr>\n",
       "  </thead>\n",
       "  <tbody>\n",
       "    <tr>\n",
       "      <th>0</th>\n",
       "      <td>Gaussian Naive Bayes</td>\n",
       "      <td>0.890592</td>\n",
       "      <td>0.880637</td>\n",
       "      <td>0.89044</td>\n",
       "      <td>0.881535</td>\n",
       "    </tr>\n",
       "  </tbody>\n",
       "</table>\n",
       "</div>"
      ],
      "text/plain": [
       "                  Model  Train Accuracy  Train AUC  Valudation Accuracy  \\\n",
       "0  Gaussian Naive Bayes        0.890592   0.880637              0.89044   \n",
       "\n",
       "   Validation AUC  \n",
       "0        0.881535  "
      ]
     },
     "execution_count": 346,
     "metadata": {},
     "output_type": "execute_result"
    }
   ],
   "source": [
    "table(\"Gaussian Naive Bayes\", gnb, X_train, X_val)"
   ]
  },
  {
   "cell_type": "code",
   "execution_count": null,
   "metadata": {},
   "outputs": [],
   "source": []
  },
  {
   "cell_type": "code",
   "execution_count": null,
   "metadata": {},
   "outputs": [],
   "source": []
  },
  {
   "cell_type": "code",
   "execution_count": null,
   "metadata": {},
   "outputs": [],
   "source": []
  },
  {
   "cell_type": "code",
   "execution_count": null,
   "metadata": {},
   "outputs": [],
   "source": []
  },
  {
   "cell_type": "markdown",
   "metadata": {},
   "source": [
    "### Random Forest"
   ]
  },
  {
   "cell_type": "code",
   "execution_count": 312,
   "metadata": {},
   "outputs": [
    {
     "data": {
      "text/plain": [
       "RandomForestClassifier(bootstrap=True, ccp_alpha=0.0, class_weight=None,\n",
       "                       criterion='gini', max_depth=None, max_features='auto',\n",
       "                       max_leaf_nodes=None, max_samples=None,\n",
       "                       min_impurity_decrease=0.0, min_impurity_split=None,\n",
       "                       min_samples_leaf=1, min_samples_split=2,\n",
       "                       min_weight_fraction_leaf=0.0, n_estimators=100,\n",
       "                       n_jobs=None, oob_score=False, random_state=None,\n",
       "                       verbose=0, warm_start=False)"
      ]
     },
     "execution_count": 312,
     "metadata": {},
     "output_type": "execute_result"
    }
   ],
   "source": [
    "ran_for = RandomForestClassifier()\n",
    "ran_for.fit(X_train, y_train)"
   ]
  },
  {
   "cell_type": "code",
   "execution_count": 313,
   "metadata": {},
   "outputs": [
    {
     "data": {
      "text/plain": [
       "0.9999620637329287"
      ]
     },
     "execution_count": 313,
     "metadata": {},
     "output_type": "execute_result"
    }
   ],
   "source": [
    "ran_for.score(X_train, y_train)"
   ]
  },
  {
   "cell_type": "code",
   "execution_count": 402,
   "metadata": {},
   "outputs": [
    {
     "data": {
      "text/html": [
       "<div>\n",
       "<style scoped>\n",
       "    .dataframe tbody tr th:only-of-type {\n",
       "        vertical-align: middle;\n",
       "    }\n",
       "\n",
       "    .dataframe tbody tr th {\n",
       "        vertical-align: top;\n",
       "    }\n",
       "\n",
       "    .dataframe thead th {\n",
       "        text-align: right;\n",
       "    }\n",
       "</style>\n",
       "<table border=\"1\" class=\"dataframe\">\n",
       "  <thead>\n",
       "    <tr style=\"text-align: right;\">\n",
       "      <th></th>\n",
       "      <th>Model</th>\n",
       "      <th>Train Accuracy</th>\n",
       "      <th>Train AUC</th>\n",
       "      <th>Valudation Accuracy</th>\n",
       "      <th>Validation AUC</th>\n",
       "    </tr>\n",
       "  </thead>\n",
       "  <tbody>\n",
       "    <tr>\n",
       "      <th>0</th>\n",
       "      <td>Random Forest</td>\n",
       "      <td>0.999962</td>\n",
       "      <td>1.0</td>\n",
       "      <td>0.913202</td>\n",
       "      <td>0.940703</td>\n",
       "    </tr>\n",
       "  </tbody>\n",
       "</table>\n",
       "</div>"
      ],
      "text/plain": [
       "           Model  Train Accuracy  Train AUC  Valudation Accuracy  \\\n",
       "0  Random Forest        0.999962        1.0             0.913202   \n",
       "\n",
       "   Validation AUC  \n",
       "0        0.940703  "
      ]
     },
     "execution_count": 402,
     "metadata": {},
     "output_type": "execute_result"
    }
   ],
   "source": [
    "results10 = table(\"Random Forest\", ran_for, X_train, X_val)\n",
    "results10"
   ]
  },
  {
   "cell_type": "code",
   "execution_count": 315,
   "metadata": {},
   "outputs": [
    {
     "data": {
      "text/html": [
       "<div>\n",
       "<style scoped>\n",
       "    .dataframe tbody tr th:only-of-type {\n",
       "        vertical-align: middle;\n",
       "    }\n",
       "\n",
       "    .dataframe tbody tr th {\n",
       "        vertical-align: top;\n",
       "    }\n",
       "\n",
       "    .dataframe thead th {\n",
       "        text-align: right;\n",
       "    }\n",
       "</style>\n",
       "<table border=\"1\" class=\"dataframe\">\n",
       "  <thead>\n",
       "    <tr style=\"text-align: right;\">\n",
       "      <th></th>\n",
       "      <th>Model</th>\n",
       "      <th>Train Accuracy</th>\n",
       "      <th>Train AUC</th>\n",
       "      <th>Valudation Accuracy</th>\n",
       "      <th>Validation AUC</th>\n",
       "    </tr>\n",
       "  </thead>\n",
       "  <tbody>\n",
       "    <tr>\n",
       "      <th>0</th>\n",
       "      <td>Random Forest</td>\n",
       "      <td>0.999962</td>\n",
       "      <td>1.0</td>\n",
       "      <td>0.913202</td>\n",
       "      <td>0.940703</td>\n",
       "    </tr>\n",
       "  </tbody>\n",
       "</table>\n",
       "</div>"
      ],
      "text/plain": [
       "           Model  Train Accuracy  Train AUC  Valudation Accuracy  \\\n",
       "0  Random Forest        0.999962        1.0             0.913202   \n",
       "\n",
       "   Validation AUC  \n",
       "0        0.940703  "
      ]
     },
     "execution_count": 315,
     "metadata": {},
     "output_type": "execute_result"
    }
   ],
   "source": [
    "table('Random Forest', ran_for, X_train, X_val)"
   ]
  },
  {
   "cell_type": "markdown",
   "metadata": {},
   "source": [
    "### Random Forest Hyperparameter Tuning"
   ]
  },
  {
   "cell_type": "markdown",
   "metadata": {},
   "source": [
    "#### Iteration 1:"
   ]
  },
  {
   "cell_type": "code",
   "execution_count": 318,
   "metadata": {},
   "outputs": [],
   "source": [
    "param_grid08 = {'max_depth':range(10,50+1,10),\n",
    "                'min_samples_leaf':[5,10,15,20],\n",
    "                'criterion':['gini', \"entropy\"],\n",
    "               'class_weight': [None,'balanced']}"
   ]
  },
  {
   "cell_type": "code",
   "execution_count": 319,
   "metadata": {},
   "outputs": [
    {
     "data": {
      "text/plain": [
       "GridSearchCV(cv=5, error_score=nan,\n",
       "             estimator=RandomForestClassifier(bootstrap=True, ccp_alpha=0.0,\n",
       "                                              class_weight=None,\n",
       "                                              criterion='gini', max_depth=None,\n",
       "                                              max_features='auto',\n",
       "                                              max_leaf_nodes=None,\n",
       "                                              max_samples=None,\n",
       "                                              min_impurity_decrease=0.0,\n",
       "                                              min_impurity_split=None,\n",
       "                                              min_samples_leaf=1,\n",
       "                                              min_samples_split=2,\n",
       "                                              min_weight_fraction_leaf=0.0,\n",
       "                                              n_estimators=100, n_jobs=None,\n",
       "                                              oob_score=False,\n",
       "                                              random_state=None, verbose=0,\n",
       "                                              warm_start=False),\n",
       "             iid='deprecated', n_jobs=None,\n",
       "             param_grid={'class_weight': [None, 'balanced'],\n",
       "                         'criterion': ['gini', 'entropy'],\n",
       "                         'max_depth': range(10, 51, 10),\n",
       "                         'min_samples_leaf': [5, 10, 15, 20]},\n",
       "             pre_dispatch='2*n_jobs', refit=True, return_train_score=True,\n",
       "             scoring='roc_auc', verbose=0)"
      ]
     },
     "execution_count": 319,
     "metadata": {},
     "output_type": "execute_result"
    }
   ],
   "source": [
    "ran_for_gs01 = GridSearchCV(ran_for,\n",
    "                         param_grid08,\n",
    "                         cv=5,\n",
    "                         scoring='roc_auc',\n",
    "                         return_train_score=True)\n",
    "\n",
    "ran_for_gs01.fit(X_train,y_train)"
   ]
  },
  {
   "cell_type": "code",
   "execution_count": 320,
   "metadata": {},
   "outputs": [
    {
     "data": {
      "text/plain": [
       "RandomForestClassifier(bootstrap=True, ccp_alpha=0.0, class_weight='balanced',\n",
       "                       criterion='entropy', max_depth=20, max_features='auto',\n",
       "                       max_leaf_nodes=None, max_samples=None,\n",
       "                       min_impurity_decrease=0.0, min_impurity_split=None,\n",
       "                       min_samples_leaf=5, min_samples_split=2,\n",
       "                       min_weight_fraction_leaf=0.0, n_estimators=100,\n",
       "                       n_jobs=None, oob_score=False, random_state=None,\n",
       "                       verbose=0, warm_start=False)"
      ]
     },
     "execution_count": 320,
     "metadata": {},
     "output_type": "execute_result"
    }
   ],
   "source": [
    "ran_for_gs01_model = ran_for_gs01.best_estimator_\n",
    "ran_for_gs01_model"
   ]
  },
  {
   "cell_type": "code",
   "execution_count": null,
   "metadata": {},
   "outputs": [],
   "source": []
  },
  {
   "cell_type": "code",
   "execution_count": 321,
   "metadata": {},
   "outputs": [
    {
     "data": {
      "text/html": [
       "<div>\n",
       "<style scoped>\n",
       "    .dataframe tbody tr th:only-of-type {\n",
       "        vertical-align: middle;\n",
       "    }\n",
       "\n",
       "    .dataframe tbody tr th {\n",
       "        vertical-align: top;\n",
       "    }\n",
       "\n",
       "    .dataframe thead th {\n",
       "        text-align: right;\n",
       "    }\n",
       "</style>\n",
       "<table border=\"1\" class=\"dataframe\">\n",
       "  <thead>\n",
       "    <tr style=\"text-align: right;\">\n",
       "      <th></th>\n",
       "      <th>Model</th>\n",
       "      <th>Train Accuracy</th>\n",
       "      <th>Train AUC</th>\n",
       "      <th>Valudation Accuracy</th>\n",
       "      <th>Validation AUC</th>\n",
       "    </tr>\n",
       "  </thead>\n",
       "  <tbody>\n",
       "    <tr>\n",
       "      <th>0</th>\n",
       "      <td>Random Forest GS01</td>\n",
       "      <td>0.914226</td>\n",
       "      <td>0.982971</td>\n",
       "      <td>0.887557</td>\n",
       "      <td>0.946328</td>\n",
       "    </tr>\n",
       "  </tbody>\n",
       "</table>\n",
       "</div>"
      ],
      "text/plain": [
       "                Model  Train Accuracy  Train AUC  Valudation Accuracy  \\\n",
       "0  Random Forest GS01        0.914226   0.982971             0.887557   \n",
       "\n",
       "   Validation AUC  \n",
       "0        0.946328  "
      ]
     },
     "execution_count": 321,
     "metadata": {},
     "output_type": "execute_result"
    }
   ],
   "source": [
    "table(\"Random Forest GS01\",ran_for_gs01, X_train, X_val)"
   ]
  },
  {
   "cell_type": "code",
   "execution_count": 322,
   "metadata": {},
   "outputs": [
    {
     "name": "stdout",
     "output_type": "stream",
     "text": [
      "Accuracy:  0.887556904400607\n",
      "ROC_AUC of Baseline model (val) = 0.9463280924480367\n"
     ]
    }
   ],
   "source": [
    "ran_for_gs01_yval_pred = ran_for_gs01_model.predict(X_val)\n",
    "ran_for_gs01_yval_predprob = ran_for_gs01_model.predict_proba(X_val)\n",
    "print('Accuracy: ', accuracy_score(y_val, ran_for_gs01_yval_pred))\n",
    "print(\"ROC_AUC of Baseline model (val) =\", roc_auc_score(y_val, ran_for_gs01_yval_predprob[:,1]))"
   ]
  },
  {
   "cell_type": "code",
   "execution_count": 403,
   "metadata": {},
   "outputs": [
    {
     "data": {
      "text/html": [
       "<div>\n",
       "<style scoped>\n",
       "    .dataframe tbody tr th:only-of-type {\n",
       "        vertical-align: middle;\n",
       "    }\n",
       "\n",
       "    .dataframe tbody tr th {\n",
       "        vertical-align: top;\n",
       "    }\n",
       "\n",
       "    .dataframe thead th {\n",
       "        text-align: right;\n",
       "    }\n",
       "</style>\n",
       "<table border=\"1\" class=\"dataframe\">\n",
       "  <thead>\n",
       "    <tr style=\"text-align: right;\">\n",
       "      <th></th>\n",
       "      <th>Model</th>\n",
       "      <th>Train Accuracy</th>\n",
       "      <th>Train AUC</th>\n",
       "      <th>Valudation Accuracy</th>\n",
       "      <th>Validation AUC</th>\n",
       "    </tr>\n",
       "  </thead>\n",
       "  <tbody>\n",
       "    <tr>\n",
       "      <th>0</th>\n",
       "      <td>Random Forest GS01</td>\n",
       "      <td>0.914226</td>\n",
       "      <td>0.982971</td>\n",
       "      <td>0.887557</td>\n",
       "      <td>0.946328</td>\n",
       "    </tr>\n",
       "  </tbody>\n",
       "</table>\n",
       "</div>"
      ],
      "text/plain": [
       "                Model  Train Accuracy  Train AUC  Valudation Accuracy  \\\n",
       "0  Random Forest GS01        0.914226   0.982971             0.887557   \n",
       "\n",
       "   Validation AUC  \n",
       "0        0.946328  "
      ]
     },
     "execution_count": 403,
     "metadata": {},
     "output_type": "execute_result"
    }
   ],
   "source": [
    "results11 = table(\"Random Forest GS01\", ran_for_gs01, X_train, X_val)\n",
    "results11"
   ]
  },
  {
   "cell_type": "markdown",
   "metadata": {},
   "source": [
    "#### Iteration 2:"
   ]
  },
  {
   "cell_type": "code",
   "execution_count": 323,
   "metadata": {},
   "outputs": [],
   "source": [
    "param_grid09 = {'max_depth':[30,40,50],\n",
    "                'min_samples_leaf':[3,5,10],\n",
    "                'criterion':['gini', \"entropy\"],\n",
    "               'class_weight': [None,'balanced']}"
   ]
  },
  {
   "cell_type": "code",
   "execution_count": 324,
   "metadata": {},
   "outputs": [
    {
     "data": {
      "text/plain": [
       "GridSearchCV(cv=5, error_score=nan,\n",
       "             estimator=RandomForestClassifier(bootstrap=True, ccp_alpha=0.0,\n",
       "                                              class_weight=None,\n",
       "                                              criterion='gini', max_depth=None,\n",
       "                                              max_features='auto',\n",
       "                                              max_leaf_nodes=None,\n",
       "                                              max_samples=None,\n",
       "                                              min_impurity_decrease=0.0,\n",
       "                                              min_impurity_split=None,\n",
       "                                              min_samples_leaf=1,\n",
       "                                              min_samples_split=2,\n",
       "                                              min_weight_fraction_leaf=0.0,\n",
       "                                              n_estimators=100, n_jobs=None,\n",
       "                                              oob_score=False,\n",
       "                                              random_state=None, verbose=0,\n",
       "                                              warm_start=False),\n",
       "             iid='deprecated', n_jobs=None,\n",
       "             param_grid={'class_weight': [None, 'balanced'],\n",
       "                         'criterion': ['gini', 'entropy'],\n",
       "                         'max_depth': [30, 40, 50],\n",
       "                         'min_samples_leaf': [3, 5, 10]},\n",
       "             pre_dispatch='2*n_jobs', refit=True, return_train_score=True,\n",
       "             scoring='roc_auc', verbose=0)"
      ]
     },
     "execution_count": 324,
     "metadata": {},
     "output_type": "execute_result"
    }
   ],
   "source": [
    "ran_for_gs02 = GridSearchCV(ran_for,\n",
    "                         param_grid09,\n",
    "                         cv=5,\n",
    "                         scoring='roc_auc',\n",
    "                         return_train_score=True)\n",
    "\n",
    "ran_for_gs02.fit(X_train,y_train)"
   ]
  },
  {
   "cell_type": "code",
   "execution_count": 325,
   "metadata": {},
   "outputs": [
    {
     "data": {
      "text/plain": [
       "RandomForestClassifier(bootstrap=True, ccp_alpha=0.0, class_weight='balanced',\n",
       "                       criterion='entropy', max_depth=30, max_features='auto',\n",
       "                       max_leaf_nodes=None, max_samples=None,\n",
       "                       min_impurity_decrease=0.0, min_impurity_split=None,\n",
       "                       min_samples_leaf=5, min_samples_split=2,\n",
       "                       min_weight_fraction_leaf=0.0, n_estimators=100,\n",
       "                       n_jobs=None, oob_score=False, random_state=None,\n",
       "                       verbose=0, warm_start=False)"
      ]
     },
     "execution_count": 325,
     "metadata": {},
     "output_type": "execute_result"
    }
   ],
   "source": [
    "ran_for_gs02_model = ran_for_gs02.best_estimator_\n",
    "ran_for_gs02_model"
   ]
  },
  {
   "cell_type": "code",
   "execution_count": 326,
   "metadata": {},
   "outputs": [
    {
     "name": "stdout",
     "output_type": "stream",
     "text": [
      "Accuracy:  0.8884673748103187\n",
      "ROC_AUC of Baseline model (val) = 0.9461672338966302\n"
     ]
    }
   ],
   "source": [
    "ran_for_gs02_yval_pred = ran_for_gs02_model.predict(X_val)\n",
    "ran_for_gs02_yval_predprob = ran_for_gs02_model.predict_proba(X_val)\n",
    "print('Accuracy: ', accuracy_score(y_val, ran_for_gs02_yval_pred))\n",
    "print(\"ROC_AUC of Baseline model (val) =\", roc_auc_score(y_val, ran_for_gs02_yval_predprob[:,1]))"
   ]
  },
  {
   "cell_type": "code",
   "execution_count": 327,
   "metadata": {},
   "outputs": [
    {
     "name": "stdout",
     "output_type": "stream",
     "text": [
      "Accuracy:  0.9151745068285281\n",
      "ROC_AUC of Baseline model (train) = 0.9837210971906062\n"
     ]
    }
   ],
   "source": [
    "ran_for_gs02_ytrain_pred = ran_for_gs02_model.predict(X_train)\n",
    "ran_for_gs02_ytrain_predprob = ran_for_gs02_model.predict_proba(X_train)\n",
    "print('Accuracy: ', accuracy_score(y_train, ran_for_gs02_ytrain_pred))\n",
    "print(\"ROC_AUC of Baseline model (train) =\", roc_auc_score(y_train, ran_for_gs02_ytrain_predprob[:,1]))"
   ]
  },
  {
   "cell_type": "code",
   "execution_count": 328,
   "metadata": {},
   "outputs": [
    {
     "name": "stdout",
     "output_type": "stream",
     "text": [
      "Accuracy:  0.885773245933479\n",
      "ROC_AUC of Baseline model (test) = 0.9453622092159034\n"
     ]
    }
   ],
   "source": [
    "ran_for_gs02_ytest_pred = ran_for_gs02_model.predict(X_test)\n",
    "ran_for_gs02_ytest_predprob = ran_for_gs02_model.predict_proba(X_test)\n",
    "print('Accuracy: ', accuracy_score(y_test, ran_for_gs02_ytest_pred))\n",
    "print(\"ROC_AUC of Baseline model (test) =\", roc_auc_score(y_test, ran_for_gs02_ytest_predprob[:,1]))"
   ]
  },
  {
   "cell_type": "code",
   "execution_count": 404,
   "metadata": {},
   "outputs": [
    {
     "data": {
      "text/html": [
       "<div>\n",
       "<style scoped>\n",
       "    .dataframe tbody tr th:only-of-type {\n",
       "        vertical-align: middle;\n",
       "    }\n",
       "\n",
       "    .dataframe tbody tr th {\n",
       "        vertical-align: top;\n",
       "    }\n",
       "\n",
       "    .dataframe thead th {\n",
       "        text-align: right;\n",
       "    }\n",
       "</style>\n",
       "<table border=\"1\" class=\"dataframe\">\n",
       "  <thead>\n",
       "    <tr style=\"text-align: right;\">\n",
       "      <th></th>\n",
       "      <th>Model</th>\n",
       "      <th>Train Accuracy</th>\n",
       "      <th>Train AUC</th>\n",
       "      <th>Valudation Accuracy</th>\n",
       "      <th>Validation AUC</th>\n",
       "    </tr>\n",
       "  </thead>\n",
       "  <tbody>\n",
       "    <tr>\n",
       "      <th>0</th>\n",
       "      <td>Random Forest GS02</td>\n",
       "      <td>0.915175</td>\n",
       "      <td>0.983721</td>\n",
       "      <td>0.888467</td>\n",
       "      <td>0.946167</td>\n",
       "    </tr>\n",
       "  </tbody>\n",
       "</table>\n",
       "</div>"
      ],
      "text/plain": [
       "                Model  Train Accuracy  Train AUC  Valudation Accuracy  \\\n",
       "0  Random Forest GS02        0.915175   0.983721             0.888467   \n",
       "\n",
       "   Validation AUC  \n",
       "0        0.946167  "
      ]
     },
     "execution_count": 404,
     "metadata": {},
     "output_type": "execute_result"
    }
   ],
   "source": [
    "results12 = table(\"Random Forest GS02\", ran_for_gs02, X_train, X_val)\n",
    "results12"
   ]
  },
  {
   "cell_type": "code",
   "execution_count": 329,
   "metadata": {},
   "outputs": [
    {
     "data": {
      "text/html": [
       "<div>\n",
       "<style scoped>\n",
       "    .dataframe tbody tr th:only-of-type {\n",
       "        vertical-align: middle;\n",
       "    }\n",
       "\n",
       "    .dataframe tbody tr th {\n",
       "        vertical-align: top;\n",
       "    }\n",
       "\n",
       "    .dataframe thead th {\n",
       "        text-align: right;\n",
       "    }\n",
       "</style>\n",
       "<table border=\"1\" class=\"dataframe\">\n",
       "  <thead>\n",
       "    <tr style=\"text-align: right;\">\n",
       "      <th></th>\n",
       "      <th>Model</th>\n",
       "      <th>Train Accuracy</th>\n",
       "      <th>Train AUC</th>\n",
       "      <th>Valudation Accuracy</th>\n",
       "      <th>Validation AUC</th>\n",
       "    </tr>\n",
       "  </thead>\n",
       "  <tbody>\n",
       "    <tr>\n",
       "      <th>0</th>\n",
       "      <td>Random Forest GS02</td>\n",
       "      <td>0.915175</td>\n",
       "      <td>0.983721</td>\n",
       "      <td>0.888467</td>\n",
       "      <td>0.946167</td>\n",
       "    </tr>\n",
       "  </tbody>\n",
       "</table>\n",
       "</div>"
      ],
      "text/plain": [
       "                Model  Train Accuracy  Train AUC  Valudation Accuracy  \\\n",
       "0  Random Forest GS02        0.915175   0.983721             0.888467   \n",
       "\n",
       "   Validation AUC  \n",
       "0        0.946167  "
      ]
     },
     "execution_count": 329,
     "metadata": {},
     "output_type": "execute_result"
    }
   ],
   "source": [
    "table(\"Random Forest GS02\", ran_for_gs02_model, X_train, X_val)"
   ]
  },
  {
   "cell_type": "markdown",
   "metadata": {},
   "source": [
    "#### Iteration 3:"
   ]
  },
  {
   "cell_type": "code",
   "execution_count": 330,
   "metadata": {},
   "outputs": [],
   "source": [
    "param_grid10 = {'max_depth':[40,50,100],\n",
    "                'min_samples_leaf':[3,5,10],\n",
    "                'criterion':['gini', \"entropy\"],\n",
    "               'class_weight': [None,'balanced']}"
   ]
  },
  {
   "cell_type": "code",
   "execution_count": 331,
   "metadata": {},
   "outputs": [
    {
     "data": {
      "text/plain": [
       "GridSearchCV(cv=5, error_score=nan,\n",
       "             estimator=RandomForestClassifier(bootstrap=True, ccp_alpha=0.0,\n",
       "                                              class_weight=None,\n",
       "                                              criterion='gini', max_depth=None,\n",
       "                                              max_features='auto',\n",
       "                                              max_leaf_nodes=None,\n",
       "                                              max_samples=None,\n",
       "                                              min_impurity_decrease=0.0,\n",
       "                                              min_impurity_split=None,\n",
       "                                              min_samples_leaf=1,\n",
       "                                              min_samples_split=2,\n",
       "                                              min_weight_fraction_leaf=0.0,\n",
       "                                              n_estimators=100, n_jobs=None,\n",
       "                                              oob_score=False,\n",
       "                                              random_state=None, verbose=0,\n",
       "                                              warm_start=False),\n",
       "             iid='deprecated', n_jobs=None,\n",
       "             param_grid={'class_weight': [None, 'balanced'],\n",
       "                         'criterion': ['gini', 'entropy'],\n",
       "                         'max_depth': [40, 50, 100],\n",
       "                         'min_samples_leaf': [3, 5, 10]},\n",
       "             pre_dispatch='2*n_jobs', refit=True, return_train_score=True,\n",
       "             scoring='roc_auc', verbose=0)"
      ]
     },
     "execution_count": 331,
     "metadata": {},
     "output_type": "execute_result"
    }
   ],
   "source": [
    "ran_for_gs03 = GridSearchCV(ran_for,\n",
    "                         param_grid10,\n",
    "                         cv=5,\n",
    "                         scoring='roc_auc',\n",
    "                         return_train_score=True)\n",
    "\n",
    "ran_for_gs03.fit(X_train,y_train)"
   ]
  },
  {
   "cell_type": "code",
   "execution_count": 332,
   "metadata": {},
   "outputs": [
    {
     "data": {
      "text/plain": [
       "RandomForestClassifier(bootstrap=True, ccp_alpha=0.0, class_weight='balanced',\n",
       "                       criterion='entropy', max_depth=100, max_features='auto',\n",
       "                       max_leaf_nodes=None, max_samples=None,\n",
       "                       min_impurity_decrease=0.0, min_impurity_split=None,\n",
       "                       min_samples_leaf=5, min_samples_split=2,\n",
       "                       min_weight_fraction_leaf=0.0, n_estimators=100,\n",
       "                       n_jobs=None, oob_score=False, random_state=None,\n",
       "                       verbose=0, warm_start=False)"
      ]
     },
     "execution_count": 332,
     "metadata": {},
     "output_type": "execute_result"
    }
   ],
   "source": [
    "ran_for_gs03_model = ran_for_gs03.best_estimator_\n",
    "ran_for_gs03_model"
   ]
  },
  {
   "cell_type": "code",
   "execution_count": 333,
   "metadata": {},
   "outputs": [
    {
     "name": "stdout",
     "output_type": "stream",
     "text": [
      "Accuracy:  0.8884673748103187\n",
      "ROC_AUC of Baseline model (val) = 0.9478265198137176\n"
     ]
    }
   ],
   "source": [
    "ran_for_gs03_yval_pred = ran_for_gs03_model.predict(X_val)\n",
    "ran_for_gs03_yval_predprob = ran_for_gs03_model.predict_proba(X_val)\n",
    "print('Accuracy: ', accuracy_score(y_val, ran_for_gs03_yval_pred))\n",
    "print(\"ROC_AUC of Baseline model (val) =\", roc_auc_score(y_val, ran_for_gs03_yval_predprob[:,1]))"
   ]
  },
  {
   "cell_type": "code",
   "execution_count": 405,
   "metadata": {},
   "outputs": [
    {
     "data": {
      "text/html": [
       "<div>\n",
       "<style scoped>\n",
       "    .dataframe tbody tr th:only-of-type {\n",
       "        vertical-align: middle;\n",
       "    }\n",
       "\n",
       "    .dataframe tbody tr th {\n",
       "        vertical-align: top;\n",
       "    }\n",
       "\n",
       "    .dataframe thead th {\n",
       "        text-align: right;\n",
       "    }\n",
       "</style>\n",
       "<table border=\"1\" class=\"dataframe\">\n",
       "  <thead>\n",
       "    <tr style=\"text-align: right;\">\n",
       "      <th></th>\n",
       "      <th>Model</th>\n",
       "      <th>Train Accuracy</th>\n",
       "      <th>Train AUC</th>\n",
       "      <th>Valudation Accuracy</th>\n",
       "      <th>Validation AUC</th>\n",
       "    </tr>\n",
       "  </thead>\n",
       "  <tbody>\n",
       "    <tr>\n",
       "      <th>0</th>\n",
       "      <td>Random Forest GS03</td>\n",
       "      <td>0.917754</td>\n",
       "      <td>0.983563</td>\n",
       "      <td>0.888467</td>\n",
       "      <td>0.947827</td>\n",
       "    </tr>\n",
       "  </tbody>\n",
       "</table>\n",
       "</div>"
      ],
      "text/plain": [
       "                Model  Train Accuracy  Train AUC  Valudation Accuracy  \\\n",
       "0  Random Forest GS03        0.917754   0.983563             0.888467   \n",
       "\n",
       "   Validation AUC  \n",
       "0        0.947827  "
      ]
     },
     "execution_count": 405,
     "metadata": {},
     "output_type": "execute_result"
    }
   ],
   "source": [
    "results13 = table(\"Random Forest GS03\", ran_for_gs03, X_train, X_val)\n",
    "results13"
   ]
  },
  {
   "cell_type": "code",
   "execution_count": 334,
   "metadata": {},
   "outputs": [
    {
     "data": {
      "text/html": [
       "<div>\n",
       "<style scoped>\n",
       "    .dataframe tbody tr th:only-of-type {\n",
       "        vertical-align: middle;\n",
       "    }\n",
       "\n",
       "    .dataframe tbody tr th {\n",
       "        vertical-align: top;\n",
       "    }\n",
       "\n",
       "    .dataframe thead th {\n",
       "        text-align: right;\n",
       "    }\n",
       "</style>\n",
       "<table border=\"1\" class=\"dataframe\">\n",
       "  <thead>\n",
       "    <tr style=\"text-align: right;\">\n",
       "      <th></th>\n",
       "      <th>Model</th>\n",
       "      <th>Train Accuracy</th>\n",
       "      <th>Train AUC</th>\n",
       "      <th>Valudation Accuracy</th>\n",
       "      <th>Validation AUC</th>\n",
       "    </tr>\n",
       "  </thead>\n",
       "  <tbody>\n",
       "    <tr>\n",
       "      <th>0</th>\n",
       "      <td>Random Forest GS04</td>\n",
       "      <td>0.917754</td>\n",
       "      <td>0.983563</td>\n",
       "      <td>0.888467</td>\n",
       "      <td>0.947827</td>\n",
       "    </tr>\n",
       "  </tbody>\n",
       "</table>\n",
       "</div>"
      ],
      "text/plain": [
       "                Model  Train Accuracy  Train AUC  Valudation Accuracy  \\\n",
       "0  Random Forest GS04        0.917754   0.983563             0.888467   \n",
       "\n",
       "   Validation AUC  \n",
       "0        0.947827  "
      ]
     },
     "execution_count": 334,
     "metadata": {},
     "output_type": "execute_result"
    }
   ],
   "source": [
    "table(\"Random Forest GS04\", ran_for_gs03_model, X_train, X_val)"
   ]
  },
  {
   "cell_type": "markdown",
   "metadata": {},
   "source": [
    "#### Iteration 4:"
   ]
  },
  {
   "cell_type": "code",
   "execution_count": 335,
   "metadata": {},
   "outputs": [],
   "source": [
    "param_grid11 = {'max_depth':[50,100,150],\n",
    "                'min_samples_leaf':[3,5,10],\n",
    "                'criterion':['gini', \"entropy\"],\n",
    "               'class_weight': [None,'balanced']}"
   ]
  },
  {
   "cell_type": "code",
   "execution_count": 336,
   "metadata": {},
   "outputs": [
    {
     "data": {
      "text/plain": [
       "GridSearchCV(cv=5, error_score=nan,\n",
       "             estimator=RandomForestClassifier(bootstrap=True, ccp_alpha=0.0,\n",
       "                                              class_weight=None,\n",
       "                                              criterion='gini', max_depth=None,\n",
       "                                              max_features='auto',\n",
       "                                              max_leaf_nodes=None,\n",
       "                                              max_samples=None,\n",
       "                                              min_impurity_decrease=0.0,\n",
       "                                              min_impurity_split=None,\n",
       "                                              min_samples_leaf=1,\n",
       "                                              min_samples_split=2,\n",
       "                                              min_weight_fraction_leaf=0.0,\n",
       "                                              n_estimators=100, n_jobs=None,\n",
       "                                              oob_score=False,\n",
       "                                              random_state=None, verbose=0,\n",
       "                                              warm_start=False),\n",
       "             iid='deprecated', n_jobs=None,\n",
       "             param_grid={'class_weight': [None, 'balanced'],\n",
       "                         'criterion': ['gini', 'entropy'],\n",
       "                         'max_depth': [50, 100, 150],\n",
       "                         'min_samples_leaf': [3, 5, 10]},\n",
       "             pre_dispatch='2*n_jobs', refit=True, return_train_score=True,\n",
       "             scoring='roc_auc', verbose=0)"
      ]
     },
     "execution_count": 336,
     "metadata": {},
     "output_type": "execute_result"
    }
   ],
   "source": [
    "ran_for_gs04 = GridSearchCV(ran_for,\n",
    "                         param_grid11,\n",
    "                         cv=5,\n",
    "                         scoring='roc_auc',\n",
    "                         return_train_score=True)\n",
    "\n",
    "ran_for_gs04.fit(X_train,y_train)"
   ]
  },
  {
   "cell_type": "code",
   "execution_count": 337,
   "metadata": {},
   "outputs": [
    {
     "data": {
      "text/plain": [
       "RandomForestClassifier(bootstrap=True, ccp_alpha=0.0, class_weight='balanced',\n",
       "                       criterion='entropy', max_depth=150, max_features='auto',\n",
       "                       max_leaf_nodes=None, max_samples=None,\n",
       "                       min_impurity_decrease=0.0, min_impurity_split=None,\n",
       "                       min_samples_leaf=5, min_samples_split=2,\n",
       "                       min_weight_fraction_leaf=0.0, n_estimators=100,\n",
       "                       n_jobs=None, oob_score=False, random_state=None,\n",
       "                       verbose=0, warm_start=False)"
      ]
     },
     "execution_count": 337,
     "metadata": {},
     "output_type": "execute_result"
    }
   ],
   "source": [
    "ran_for_gs04_model = ran_for_gs04.best_estimator_\n",
    "ran_for_gs04_model"
   ]
  },
  {
   "cell_type": "code",
   "execution_count": 338,
   "metadata": {},
   "outputs": [
    {
     "name": "stdout",
     "output_type": "stream",
     "text": [
      "Accuracy:  0.8871016691957512\n",
      "ROC_AUC of Baseline model (val) = 0.9463032031592803\n"
     ]
    }
   ],
   "source": [
    "ran_for_gs04_yval_pred = ran_for_gs04_model.predict(X_val)\n",
    "ran_for_gs04_yval_predprob = ran_for_gs04_model.predict_proba(X_val)\n",
    "print('Accuracy: ', accuracy_score(y_val, ran_for_gs04_yval_pred))\n",
    "print(\"ROC_AUC of Baseline model (val) =\", roc_auc_score(y_val, ran_for_gs04_yval_predprob[:,1]))"
   ]
  },
  {
   "cell_type": "code",
   "execution_count": 406,
   "metadata": {},
   "outputs": [
    {
     "data": {
      "text/html": [
       "<div>\n",
       "<style scoped>\n",
       "    .dataframe tbody tr th:only-of-type {\n",
       "        vertical-align: middle;\n",
       "    }\n",
       "\n",
       "    .dataframe tbody tr th {\n",
       "        vertical-align: top;\n",
       "    }\n",
       "\n",
       "    .dataframe thead th {\n",
       "        text-align: right;\n",
       "    }\n",
       "</style>\n",
       "<table border=\"1\" class=\"dataframe\">\n",
       "  <thead>\n",
       "    <tr style=\"text-align: right;\">\n",
       "      <th></th>\n",
       "      <th>Model</th>\n",
       "      <th>Train Accuracy</th>\n",
       "      <th>Train AUC</th>\n",
       "      <th>Valudation Accuracy</th>\n",
       "      <th>Validation AUC</th>\n",
       "    </tr>\n",
       "  </thead>\n",
       "  <tbody>\n",
       "    <tr>\n",
       "      <th>0</th>\n",
       "      <td>Random Forest GS04</td>\n",
       "      <td>0.915819</td>\n",
       "      <td>0.983771</td>\n",
       "      <td>0.887102</td>\n",
       "      <td>0.946303</td>\n",
       "    </tr>\n",
       "  </tbody>\n",
       "</table>\n",
       "</div>"
      ],
      "text/plain": [
       "                Model  Train Accuracy  Train AUC  Valudation Accuracy  \\\n",
       "0  Random Forest GS04        0.915819   0.983771             0.887102   \n",
       "\n",
       "   Validation AUC  \n",
       "0        0.946303  "
      ]
     },
     "execution_count": 406,
     "metadata": {},
     "output_type": "execute_result"
    }
   ],
   "source": [
    "results14 = table(\"Random Forest GS04\", ran_for_gs04, X_train, X_val)\n",
    "results14"
   ]
  },
  {
   "cell_type": "code",
   "execution_count": 339,
   "metadata": {},
   "outputs": [
    {
     "data": {
      "text/html": [
       "<div>\n",
       "<style scoped>\n",
       "    .dataframe tbody tr th:only-of-type {\n",
       "        vertical-align: middle;\n",
       "    }\n",
       "\n",
       "    .dataframe tbody tr th {\n",
       "        vertical-align: top;\n",
       "    }\n",
       "\n",
       "    .dataframe thead th {\n",
       "        text-align: right;\n",
       "    }\n",
       "</style>\n",
       "<table border=\"1\" class=\"dataframe\">\n",
       "  <thead>\n",
       "    <tr style=\"text-align: right;\">\n",
       "      <th></th>\n",
       "      <th>Model</th>\n",
       "      <th>Train Accuracy</th>\n",
       "      <th>Train AUC</th>\n",
       "      <th>Valudation Accuracy</th>\n",
       "      <th>Validation AUC</th>\n",
       "    </tr>\n",
       "  </thead>\n",
       "  <tbody>\n",
       "    <tr>\n",
       "      <th>0</th>\n",
       "      <td>Random Forest GS04</td>\n",
       "      <td>0.915819</td>\n",
       "      <td>0.983771</td>\n",
       "      <td>0.887102</td>\n",
       "      <td>0.946303</td>\n",
       "    </tr>\n",
       "  </tbody>\n",
       "</table>\n",
       "</div>"
      ],
      "text/plain": [
       "                Model  Train Accuracy  Train AUC  Valudation Accuracy  \\\n",
       "0  Random Forest GS04        0.915819   0.983771             0.887102   \n",
       "\n",
       "   Validation AUC  \n",
       "0        0.946303  "
      ]
     },
     "execution_count": 339,
     "metadata": {},
     "output_type": "execute_result"
    }
   ],
   "source": [
    "table(\"Random Forest GS04\", ran_for_gs04_model, X_train, X_val)"
   ]
  },
  {
   "cell_type": "code",
   "execution_count": null,
   "metadata": {},
   "outputs": [],
   "source": []
  },
  {
   "cell_type": "markdown",
   "metadata": {},
   "source": [
    "### Bagged Tree"
   ]
  },
  {
   "cell_type": "code",
   "execution_count": 307,
   "metadata": {},
   "outputs": [],
   "source": [
    "bag_tree =  BaggingClassifier(DecisionTreeClassifier())"
   ]
  },
  {
   "cell_type": "code",
   "execution_count": 308,
   "metadata": {},
   "outputs": [
    {
     "data": {
      "text/plain": [
       "BaggingClassifier(base_estimator=DecisionTreeClassifier(ccp_alpha=0.0,\n",
       "                                                        class_weight=None,\n",
       "                                                        criterion='gini',\n",
       "                                                        max_depth=None,\n",
       "                                                        max_features=None,\n",
       "                                                        max_leaf_nodes=None,\n",
       "                                                        min_impurity_decrease=0.0,\n",
       "                                                        min_impurity_split=None,\n",
       "                                                        min_samples_leaf=1,\n",
       "                                                        min_samples_split=2,\n",
       "                                                        min_weight_fraction_leaf=0.0,\n",
       "                                                        presort='deprecated',\n",
       "                                                        random_state=None,\n",
       "                                                        splitter='best'),\n",
       "                  bootstrap=True, bootstrap_features=False, max_features=1.0,\n",
       "                  max_samples=1.0, n_estimators=10, n_jobs=None,\n",
       "                  oob_score=False, random_state=None, verbose=0,\n",
       "                  warm_start=False)"
      ]
     },
     "execution_count": 308,
     "metadata": {},
     "output_type": "execute_result"
    }
   ],
   "source": [
    "bag_tree.fit(X_train, y_train)"
   ]
  },
  {
   "cell_type": "code",
   "execution_count": 309,
   "metadata": {},
   "outputs": [
    {
     "data": {
      "text/plain": [
       "0.9930576631259485"
      ]
     },
     "execution_count": 309,
     "metadata": {},
     "output_type": "execute_result"
    }
   ],
   "source": [
    "bag_tree.score(X_train, y_train)"
   ]
  },
  {
   "cell_type": "code",
   "execution_count": 310,
   "metadata": {},
   "outputs": [
    {
     "data": {
      "text/plain": [
       "0.910773899848255"
      ]
     },
     "execution_count": 310,
     "metadata": {},
     "output_type": "execute_result"
    }
   ],
   "source": [
    "bag_tree.score(X_val, y_val)"
   ]
  },
  {
   "cell_type": "code",
   "execution_count": 407,
   "metadata": {},
   "outputs": [
    {
     "data": {
      "text/html": [
       "<div>\n",
       "<style scoped>\n",
       "    .dataframe tbody tr th:only-of-type {\n",
       "        vertical-align: middle;\n",
       "    }\n",
       "\n",
       "    .dataframe tbody tr th {\n",
       "        vertical-align: top;\n",
       "    }\n",
       "\n",
       "    .dataframe thead th {\n",
       "        text-align: right;\n",
       "    }\n",
       "</style>\n",
       "<table border=\"1\" class=\"dataframe\">\n",
       "  <thead>\n",
       "    <tr style=\"text-align: right;\">\n",
       "      <th></th>\n",
       "      <th>Model</th>\n",
       "      <th>Train Accuracy</th>\n",
       "      <th>Train AUC</th>\n",
       "      <th>Valudation Accuracy</th>\n",
       "      <th>Validation AUC</th>\n",
       "    </tr>\n",
       "  </thead>\n",
       "  <tbody>\n",
       "    <tr>\n",
       "      <th>0</th>\n",
       "      <td>Bagged Tree</td>\n",
       "      <td>0.993058</td>\n",
       "      <td>0.999656</td>\n",
       "      <td>0.910774</td>\n",
       "      <td>0.911457</td>\n",
       "    </tr>\n",
       "  </tbody>\n",
       "</table>\n",
       "</div>"
      ],
      "text/plain": [
       "         Model  Train Accuracy  Train AUC  Valudation Accuracy  Validation AUC\n",
       "0  Bagged Tree        0.993058   0.999656             0.910774        0.911457"
      ]
     },
     "execution_count": 407,
     "metadata": {},
     "output_type": "execute_result"
    }
   ],
   "source": [
    "results15 = table(\"Bagged Tree\", bag_tree, X_train, X_val)\n",
    "results15"
   ]
  },
  {
   "cell_type": "code",
   "execution_count": 311,
   "metadata": {},
   "outputs": [
    {
     "data": {
      "text/html": [
       "<div>\n",
       "<style scoped>\n",
       "    .dataframe tbody tr th:only-of-type {\n",
       "        vertical-align: middle;\n",
       "    }\n",
       "\n",
       "    .dataframe tbody tr th {\n",
       "        vertical-align: top;\n",
       "    }\n",
       "\n",
       "    .dataframe thead th {\n",
       "        text-align: right;\n",
       "    }\n",
       "</style>\n",
       "<table border=\"1\" class=\"dataframe\">\n",
       "  <thead>\n",
       "    <tr style=\"text-align: right;\">\n",
       "      <th></th>\n",
       "      <th>Model</th>\n",
       "      <th>Train Accuracy</th>\n",
       "      <th>Train AUC</th>\n",
       "      <th>Valudation Accuracy</th>\n",
       "      <th>Validation AUC</th>\n",
       "    </tr>\n",
       "  </thead>\n",
       "  <tbody>\n",
       "    <tr>\n",
       "      <th>0</th>\n",
       "      <td>Bagged Tree</td>\n",
       "      <td>0.993058</td>\n",
       "      <td>0.999656</td>\n",
       "      <td>0.910774</td>\n",
       "      <td>0.911457</td>\n",
       "    </tr>\n",
       "  </tbody>\n",
       "</table>\n",
       "</div>"
      ],
      "text/plain": [
       "         Model  Train Accuracy  Train AUC  Valudation Accuracy  Validation AUC\n",
       "0  Bagged Tree        0.993058   0.999656             0.910774        0.911457"
      ]
     },
     "execution_count": 311,
     "metadata": {},
     "output_type": "execute_result"
    }
   ],
   "source": [
    "table('Bagged Tree', bag_tree, X_train, X_val)"
   ]
  },
  {
   "cell_type": "markdown",
   "metadata": {},
   "source": [
    "### XG Boost"
   ]
  },
  {
   "cell_type": "code",
   "execution_count": 341,
   "metadata": {},
   "outputs": [
    {
     "data": {
      "text/plain": [
       "XGBClassifier(base_score=0.5, booster='gbtree', colsample_bylevel=1,\n",
       "              colsample_bynode=1, colsample_bytree=1, gamma=0, gpu_id=-1,\n",
       "              importance_type='gain', interaction_constraints='',\n",
       "              learning_rate=0.300000012, max_delta_step=0, max_depth=6,\n",
       "              min_child_weight=1, missing=nan, monotone_constraints='()',\n",
       "              n_estimators=100, n_jobs=0, num_parallel_tree=1,\n",
       "              objective='binary:logistic', random_state=0, reg_alpha=0,\n",
       "              reg_lambda=1, scale_pos_weight=1, subsample=1,\n",
       "              tree_method='exact', validate_parameters=1, verbosity=None)"
      ]
     },
     "execution_count": 341,
     "metadata": {},
     "output_type": "execute_result"
    }
   ],
   "source": [
    "xgb = xgb.XGBClassifier()\n",
    "xgb.fit(X_train, y_train)"
   ]
  },
  {
   "cell_type": "code",
   "execution_count": 342,
   "metadata": {},
   "outputs": [
    {
     "name": "stdout",
     "output_type": "stream",
     "text": [
      "Accuracy:  0.9165402124430956\n",
      "ROC_AUC of Baseline model (val) = 0.9457102389002989\n"
     ]
    }
   ],
   "source": [
    "xgb_yval_pred = clf.predict(X_val)\n",
    "xgb_yval_predprob = clf.predict_proba(X_val)\n",
    "print('Accuracy: ', accuracy_score(y_val, xgb_yval_pred))\n",
    "print(\"ROC_AUC of Baseline model (val) =\", roc_auc_score(y_val, xgb_yval_predprob[:,1]))"
   ]
  },
  {
   "cell_type": "code",
   "execution_count": 408,
   "metadata": {},
   "outputs": [
    {
     "data": {
      "text/html": [
       "<div>\n",
       "<style scoped>\n",
       "    .dataframe tbody tr th:only-of-type {\n",
       "        vertical-align: middle;\n",
       "    }\n",
       "\n",
       "    .dataframe tbody tr th {\n",
       "        vertical-align: top;\n",
       "    }\n",
       "\n",
       "    .dataframe thead th {\n",
       "        text-align: right;\n",
       "    }\n",
       "</style>\n",
       "<table border=\"1\" class=\"dataframe\">\n",
       "  <thead>\n",
       "    <tr style=\"text-align: right;\">\n",
       "      <th></th>\n",
       "      <th>Model</th>\n",
       "      <th>Train Accuracy</th>\n",
       "      <th>Train AUC</th>\n",
       "      <th>Valudation Accuracy</th>\n",
       "      <th>Validation AUC</th>\n",
       "    </tr>\n",
       "  </thead>\n",
       "  <tbody>\n",
       "    <tr>\n",
       "      <th>0</th>\n",
       "      <td>XG Boost</td>\n",
       "      <td>0.964833</td>\n",
       "      <td>0.987886</td>\n",
       "      <td>0.91654</td>\n",
       "      <td>0.94571</td>\n",
       "    </tr>\n",
       "  </tbody>\n",
       "</table>\n",
       "</div>"
      ],
      "text/plain": [
       "      Model  Train Accuracy  Train AUC  Valudation Accuracy  Validation AUC\n",
       "0  XG Boost        0.964833   0.987886              0.91654         0.94571"
      ]
     },
     "execution_count": 408,
     "metadata": {},
     "output_type": "execute_result"
    }
   ],
   "source": [
    "results16 = table(\"XG Boost\", xgb, X_train, X_val)\n",
    "results16"
   ]
  },
  {
   "cell_type": "code",
   "execution_count": 343,
   "metadata": {},
   "outputs": [
    {
     "data": {
      "text/html": [
       "<div>\n",
       "<style scoped>\n",
       "    .dataframe tbody tr th:only-of-type {\n",
       "        vertical-align: middle;\n",
       "    }\n",
       "\n",
       "    .dataframe tbody tr th {\n",
       "        vertical-align: top;\n",
       "    }\n",
       "\n",
       "    .dataframe thead th {\n",
       "        text-align: right;\n",
       "    }\n",
       "</style>\n",
       "<table border=\"1\" class=\"dataframe\">\n",
       "  <thead>\n",
       "    <tr style=\"text-align: right;\">\n",
       "      <th></th>\n",
       "      <th>Model</th>\n",
       "      <th>Train Accuracy</th>\n",
       "      <th>Train AUC</th>\n",
       "      <th>Valudation Accuracy</th>\n",
       "      <th>Validation AUC</th>\n",
       "    </tr>\n",
       "  </thead>\n",
       "  <tbody>\n",
       "    <tr>\n",
       "      <th>0</th>\n",
       "      <td>XGBoost</td>\n",
       "      <td>0.964833</td>\n",
       "      <td>0.987886</td>\n",
       "      <td>0.91654</td>\n",
       "      <td>0.94571</td>\n",
       "    </tr>\n",
       "  </tbody>\n",
       "</table>\n",
       "</div>"
      ],
      "text/plain": [
       "     Model  Train Accuracy  Train AUC  Valudation Accuracy  Validation AUC\n",
       "0  XGBoost        0.964833   0.987886              0.91654         0.94571"
      ]
     },
     "execution_count": 343,
     "metadata": {},
     "output_type": "execute_result"
    }
   ],
   "source": [
    "table(\"XGBoost\", xgb, X_train, X_val)"
   ]
  },
  {
   "cell_type": "code",
   "execution_count": 410,
   "metadata": {},
   "outputs": [
    {
     "data": {
      "text/html": [
       "<div>\n",
       "<style scoped>\n",
       "    .dataframe tbody tr th:only-of-type {\n",
       "        vertical-align: middle;\n",
       "    }\n",
       "\n",
       "    .dataframe tbody tr th {\n",
       "        vertical-align: top;\n",
       "    }\n",
       "\n",
       "    .dataframe thead th {\n",
       "        text-align: right;\n",
       "    }\n",
       "</style>\n",
       "<table border=\"1\" class=\"dataframe\">\n",
       "  <thead>\n",
       "    <tr style=\"text-align: right;\">\n",
       "      <th></th>\n",
       "      <th>Model</th>\n",
       "      <th>Train Accuracy</th>\n",
       "      <th>Train AUC</th>\n",
       "      <th>Valudation Accuracy</th>\n",
       "      <th>Validation AUC</th>\n",
       "    </tr>\n",
       "  </thead>\n",
       "  <tbody>\n",
       "    <tr>\n",
       "      <th>0</th>\n",
       "      <td>Logistic Regression</td>\n",
       "      <td>0.906335</td>\n",
       "      <td>0.907303</td>\n",
       "      <td>0.910622</td>\n",
       "      <td>0.905794</td>\n",
       "    </tr>\n",
       "    <tr>\n",
       "      <th>1</th>\n",
       "      <td>Logistic Regression GS 01</td>\n",
       "      <td>0.907739</td>\n",
       "      <td>0.926650</td>\n",
       "      <td>0.912443</td>\n",
       "      <td>0.925667</td>\n",
       "    </tr>\n",
       "    <tr>\n",
       "      <th>2</th>\n",
       "      <td>Logistic Regression GS 02</td>\n",
       "      <td>0.907625</td>\n",
       "      <td>0.926646</td>\n",
       "      <td>0.912140</td>\n",
       "      <td>0.925685</td>\n",
       "    </tr>\n",
       "    <tr>\n",
       "      <th>3</th>\n",
       "      <td>Logistic Regression GS 03</td>\n",
       "      <td>0.855349</td>\n",
       "      <td>0.929740</td>\n",
       "      <td>0.857815</td>\n",
       "      <td>0.928753</td>\n",
       "    </tr>\n",
       "    <tr>\n",
       "      <th>4</th>\n",
       "      <td>Decision Tree</td>\n",
       "      <td>1.000000</td>\n",
       "      <td>1.000000</td>\n",
       "      <td>0.889378</td>\n",
       "      <td>0.727628</td>\n",
       "    </tr>\n",
       "    <tr>\n",
       "      <th>5</th>\n",
       "      <td>Decision Tree GS 01</td>\n",
       "      <td>0.920675</td>\n",
       "      <td>0.954606</td>\n",
       "      <td>0.905766</td>\n",
       "      <td>0.931133</td>\n",
       "    </tr>\n",
       "    <tr>\n",
       "      <th>6</th>\n",
       "      <td>Decision Tree GS 02</td>\n",
       "      <td>0.924659</td>\n",
       "      <td>0.958665</td>\n",
       "      <td>0.904856</td>\n",
       "      <td>0.927479</td>\n",
       "    </tr>\n",
       "    <tr>\n",
       "      <th>7</th>\n",
       "      <td>Decision Tree GS 03</td>\n",
       "      <td>0.926897</td>\n",
       "      <td>0.961602</td>\n",
       "      <td>0.907132</td>\n",
       "      <td>0.925004</td>\n",
       "    </tr>\n",
       "    <tr>\n",
       "      <th>8</th>\n",
       "      <td>Gaussian Naive Bayes</td>\n",
       "      <td>0.890592</td>\n",
       "      <td>0.880637</td>\n",
       "      <td>0.890440</td>\n",
       "      <td>0.881535</td>\n",
       "    </tr>\n",
       "    <tr>\n",
       "      <th>9</th>\n",
       "      <td>Random Forest</td>\n",
       "      <td>0.999962</td>\n",
       "      <td>1.000000</td>\n",
       "      <td>0.913202</td>\n",
       "      <td>0.940703</td>\n",
       "    </tr>\n",
       "    <tr>\n",
       "      <th>10</th>\n",
       "      <td>Random Forest GS01</td>\n",
       "      <td>0.914226</td>\n",
       "      <td>0.982971</td>\n",
       "      <td>0.887557</td>\n",
       "      <td>0.946328</td>\n",
       "    </tr>\n",
       "    <tr>\n",
       "      <th>11</th>\n",
       "      <td>Random Forest GS02</td>\n",
       "      <td>0.915175</td>\n",
       "      <td>0.983721</td>\n",
       "      <td>0.888467</td>\n",
       "      <td>0.946167</td>\n",
       "    </tr>\n",
       "    <tr>\n",
       "      <th>12</th>\n",
       "      <td>Random Forest GS03</td>\n",
       "      <td>0.917754</td>\n",
       "      <td>0.983563</td>\n",
       "      <td>0.888467</td>\n",
       "      <td>0.947827</td>\n",
       "    </tr>\n",
       "    <tr>\n",
       "      <th>13</th>\n",
       "      <td>Random Forest GS04</td>\n",
       "      <td>0.915819</td>\n",
       "      <td>0.983771</td>\n",
       "      <td>0.887102</td>\n",
       "      <td>0.946303</td>\n",
       "    </tr>\n",
       "    <tr>\n",
       "      <th>14</th>\n",
       "      <td>Bagged Tree</td>\n",
       "      <td>0.993058</td>\n",
       "      <td>0.999656</td>\n",
       "      <td>0.910774</td>\n",
       "      <td>0.911457</td>\n",
       "    </tr>\n",
       "    <tr>\n",
       "      <th>15</th>\n",
       "      <td>XG Boost</td>\n",
       "      <td>0.964833</td>\n",
       "      <td>0.987886</td>\n",
       "      <td>0.916540</td>\n",
       "      <td>0.945710</td>\n",
       "    </tr>\n",
       "  </tbody>\n",
       "</table>\n",
       "</div>"
      ],
      "text/plain": [
       "                        Model  Train Accuracy  Train AUC  Valudation Accuracy  \\\n",
       "0         Logistic Regression        0.906335   0.907303             0.910622   \n",
       "1   Logistic Regression GS 01        0.907739   0.926650             0.912443   \n",
       "2   Logistic Regression GS 02        0.907625   0.926646             0.912140   \n",
       "3   Logistic Regression GS 03        0.855349   0.929740             0.857815   \n",
       "4               Decision Tree        1.000000   1.000000             0.889378   \n",
       "5         Decision Tree GS 01        0.920675   0.954606             0.905766   \n",
       "6         Decision Tree GS 02        0.924659   0.958665             0.904856   \n",
       "7         Decision Tree GS 03        0.926897   0.961602             0.907132   \n",
       "8        Gaussian Naive Bayes        0.890592   0.880637             0.890440   \n",
       "9               Random Forest        0.999962   1.000000             0.913202   \n",
       "10         Random Forest GS01        0.914226   0.982971             0.887557   \n",
       "11         Random Forest GS02        0.915175   0.983721             0.888467   \n",
       "12         Random Forest GS03        0.917754   0.983563             0.888467   \n",
       "13         Random Forest GS04        0.915819   0.983771             0.887102   \n",
       "14                Bagged Tree        0.993058   0.999656             0.910774   \n",
       "15                   XG Boost        0.964833   0.987886             0.916540   \n",
       "\n",
       "    Validation AUC  \n",
       "0         0.905794  \n",
       "1         0.925667  \n",
       "2         0.925685  \n",
       "3         0.928753  \n",
       "4         0.727628  \n",
       "5         0.931133  \n",
       "6         0.927479  \n",
       "7         0.925004  \n",
       "8         0.881535  \n",
       "9         0.940703  \n",
       "10        0.946328  \n",
       "11        0.946167  \n",
       "12        0.947827  \n",
       "13        0.946303  \n",
       "14        0.911457  \n",
       "15        0.945710  "
      ]
     },
     "execution_count": 410,
     "metadata": {},
     "output_type": "execute_result"
    }
   ],
   "source": [
    "results_summary = pd.DataFrame()\n",
    "results_summary.append([results01,results02, results03,results04,results05,results06,results07,results08,results09,results10,results11, results12, results13, results14, results15, results16], ignore_index=True)"
   ]
  },
  {
   "cell_type": "markdown",
   "metadata": {},
   "source": [
    "### Voting Classifiers"
   ]
  },
  {
   "cell_type": "code",
   "execution_count": 415,
   "metadata": {},
   "outputs": [],
   "source": [
    "clf1 = log_reg_gs03_model\n",
    "clf2 = dec_tree_gs03_model\n",
    "clf3 = gnb\n",
    "clf4 = ran_for_gs03_model"
   ]
  },
  {
   "cell_type": "code",
   "execution_count": 416,
   "metadata": {},
   "outputs": [
    {
     "data": {
      "text/plain": [
       "VotingClassifier(estimators=[('lr',\n",
       "                              LogisticRegression(C=1, class_weight='balanced',\n",
       "                                                 dual=False, fit_intercept=True,\n",
       "                                                 intercept_scaling=1,\n",
       "                                                 l1_ratio=None, max_iter=100,\n",
       "                                                 multi_class='auto',\n",
       "                                                 n_jobs=None, penalty='l1',\n",
       "                                                 random_state=None,\n",
       "                                                 solver='liblinear', tol=0.0001,\n",
       "                                                 verbose=0, warm_start=False)),\n",
       "                             ('dt',\n",
       "                              DecisionTreeClassifier(ccp_alpha=0.0,\n",
       "                                                     class_weight=None,\n",
       "                                                     criterion...\n",
       "                                                     criterion='entropy',\n",
       "                                                     max_depth=100,\n",
       "                                                     max_features='auto',\n",
       "                                                     max_leaf_nodes=None,\n",
       "                                                     max_samples=None,\n",
       "                                                     min_impurity_decrease=0.0,\n",
       "                                                     min_impurity_split=None,\n",
       "                                                     min_samples_leaf=5,\n",
       "                                                     min_samples_split=2,\n",
       "                                                     min_weight_fraction_leaf=0.0,\n",
       "                                                     n_estimators=100,\n",
       "                                                     n_jobs=None,\n",
       "                                                     oob_score=False,\n",
       "                                                     random_state=None,\n",
       "                                                     verbose=0,\n",
       "                                                     warm_start=False))],\n",
       "                 flatten_transform=True, n_jobs=None, voting='hard',\n",
       "                 weights=None)"
      ]
     },
     "execution_count": 416,
     "metadata": {},
     "output_type": "execute_result"
    }
   ],
   "source": [
    "vc =  VotingClassifier(estimators=[('lr', clf1), ('dt', clf2), ('gnb', clf3), ('rf',clf4)], voting='hard')\n",
    "vc.fit(X_train, y_train)"
   ]
  },
  {
   "cell_type": "code",
   "execution_count": 417,
   "metadata": {},
   "outputs": [
    {
     "name": "stdout",
     "output_type": "stream",
     "text": [
      "Accuracy:  0.9162746585735964\n",
      "ROC_AUC of Baseline model (val) = 0.983337831690362\n"
     ]
    }
   ],
   "source": [
    "vc_ytrain_pred = vc_model.predict(X_train)\n",
    "vc_ytrain_predprob = vc_model.predict_proba(X_train)\n",
    "print('Accuracy: ', accuracy_score(y_train, vc_ytrain_pred))\n",
    "print(\"ROC_AUC of Baseline model (val) =\", roc_auc_score(y_train, vc_ytrain_predprob[:,1]))"
   ]
  },
  {
   "cell_type": "code",
   "execution_count": 418,
   "metadata": {},
   "outputs": [
    {
     "name": "stdout",
     "output_type": "stream",
     "text": [
      "Accuracy:  0.8878603945371776\n",
      "ROC_AUC of Baseline model (val) = 0.9453518792334836\n"
     ]
    }
   ],
   "source": [
    "vc_yval_pred = vc_model.predict(X_val)\n",
    "vc_yval_predprob = vc_model.predict_proba(X_val)\n",
    "print('Accuracy: ', accuracy_score(y_val, vc_yval_pred))\n",
    "print(\"ROC_AUC of Baseline model (val) =\", roc_auc_score(y_val, vc_yval_predprob[:,1]))"
   ]
  },
  {
   "cell_type": "code",
   "execution_count": 419,
   "metadata": {},
   "outputs": [
    {
     "name": "stdout",
     "output_type": "stream",
     "text": [
      "Accuracy:  0.8871085214857976\n",
      "ROC_AUC of Baseline model (val) = 0.9453151257889036\n"
     ]
    }
   ],
   "source": [
    "vc_ytest_pred = vc_model.predict(X_test)\n",
    "vc_ytest_predprob = vc_model.predict_proba(X_test)\n",
    "print('Accuracy: ', accuracy_score(y_test, vc_ytest_pred))\n",
    "print(\"ROC_AUC of Baseline model (val) =\", roc_auc_score(y_test, vc_ytest_predprob[:,1]))"
   ]
  },
  {
   "cell_type": "code",
   "execution_count": 421,
   "metadata": {},
   "outputs": [
    {
     "data": {
      "text/html": [
       "<div>\n",
       "<style scoped>\n",
       "    .dataframe tbody tr th:only-of-type {\n",
       "        vertical-align: middle;\n",
       "    }\n",
       "\n",
       "    .dataframe tbody tr th {\n",
       "        vertical-align: top;\n",
       "    }\n",
       "\n",
       "    .dataframe thead th {\n",
       "        text-align: right;\n",
       "    }\n",
       "</style>\n",
       "<table border=\"1\" class=\"dataframe\">\n",
       "  <thead>\n",
       "    <tr style=\"text-align: right;\">\n",
       "      <th></th>\n",
       "      <th>Model</th>\n",
       "      <th>Train Accuracy</th>\n",
       "      <th>Train AUC</th>\n",
       "      <th>Valudation Accuracy</th>\n",
       "      <th>Validation AUC</th>\n",
       "    </tr>\n",
       "  </thead>\n",
       "  <tbody>\n",
       "    <tr>\n",
       "      <th>0</th>\n",
       "      <td>Voting Classifier</td>\n",
       "      <td>0.916275</td>\n",
       "      <td>0.983338</td>\n",
       "      <td>0.88786</td>\n",
       "      <td>0.945352</td>\n",
       "    </tr>\n",
       "  </tbody>\n",
       "</table>\n",
       "</div>"
      ],
      "text/plain": [
       "               Model  Train Accuracy  Train AUC  Valudation Accuracy  \\\n",
       "0  Voting Classifier        0.916275   0.983338              0.88786   \n",
       "\n",
       "   Validation AUC  \n",
       "0        0.945352  "
      ]
     },
     "execution_count": 421,
     "metadata": {},
     "output_type": "execute_result"
    }
   ],
   "source": [
    "results17 = table(\"Voting Classifier\", vc_model, X_train, X_val)\n",
    "results17"
   ]
  },
  {
   "cell_type": "code",
   "execution_count": 352,
   "metadata": {},
   "outputs": [
    {
     "data": {
      "text/html": [
       "<div>\n",
       "<style scoped>\n",
       "    .dataframe tbody tr th:only-of-type {\n",
       "        vertical-align: middle;\n",
       "    }\n",
       "\n",
       "    .dataframe tbody tr th {\n",
       "        vertical-align: top;\n",
       "    }\n",
       "\n",
       "    .dataframe thead th {\n",
       "        text-align: right;\n",
       "    }\n",
       "</style>\n",
       "<table border=\"1\" class=\"dataframe\">\n",
       "  <thead>\n",
       "    <tr style=\"text-align: right;\">\n",
       "      <th></th>\n",
       "      <th>Model</th>\n",
       "      <th>Train Accuracy</th>\n",
       "      <th>Train AUC</th>\n",
       "      <th>Valudation Accuracy</th>\n",
       "      <th>Validation AUC</th>\n",
       "    </tr>\n",
       "  </thead>\n",
       "  <tbody>\n",
       "    <tr>\n",
       "      <th>0</th>\n",
       "      <td>Voting CLassifier</td>\n",
       "      <td>0.916275</td>\n",
       "      <td>0.983338</td>\n",
       "      <td>0.88786</td>\n",
       "      <td>0.945352</td>\n",
       "    </tr>\n",
       "  </tbody>\n",
       "</table>\n",
       "</div>"
      ],
      "text/plain": [
       "               Model  Train Accuracy  Train AUC  Valudation Accuracy  \\\n",
       "0  Voting CLassifier        0.916275   0.983338              0.88786   \n",
       "\n",
       "   Validation AUC  \n",
       "0        0.945352  "
      ]
     },
     "execution_count": 352,
     "metadata": {},
     "output_type": "execute_result"
    }
   ],
   "source": [
    "table(\"Voting CLassifier\", vc_model, X_train, X_val)"
   ]
  },
  {
   "cell_type": "code",
   "execution_count": 433,
   "metadata": {},
   "outputs": [],
   "source": [
    "cm = sns.light_palette(\"purple\", as_cmap=True)"
   ]
  },
  {
   "cell_type": "code",
   "execution_count": 437,
   "metadata": {},
   "outputs": [
    {
     "data": {
      "text/html": [
       "<style  type=\"text/css\" >\n",
       "    #T_fb40591c_9e19_11ea_899a_8c85905fce33row0_col1 {\n",
       "            background-color:  #d294d2;\n",
       "            color:  #000000;\n",
       "            : ;\n",
       "        }    #T_fb40591c_9e19_11ea_899a_8c85905fce33row0_col2 {\n",
       "            background-color:  #e3b2e3;\n",
       "            color:  #000000;\n",
       "            : ;\n",
       "        }    #T_fb40591c_9e19_11ea_899a_8c85905fce33row0_col3 {\n",
       "            background-color:  #8c178c;\n",
       "            color:  #f1f1f1;\n",
       "            : ;\n",
       "        }    #T_fb40591c_9e19_11ea_899a_8c85905fce33row0_col4 {\n",
       "            background-color:  #982b98;\n",
       "            color:  #f1f1f1;\n",
       "            : ;\n",
       "        }    #T_fb40591c_9e19_11ea_899a_8c85905fce33row1_col1 {\n",
       "            background-color:  #d193d1;\n",
       "            color:  #000000;\n",
       "            : ;\n",
       "        }    #T_fb40591c_9e19_11ea_899a_8c85905fce33row1_col2 {\n",
       "            background-color:  #ce8dce;\n",
       "            color:  #000000;\n",
       "            : ;\n",
       "        }    #T_fb40591c_9e19_11ea_899a_8c85905fce33row1_col3 {\n",
       "            background-color:  #880f88;\n",
       "            color:  #f1f1f1;\n",
       "            : ;\n",
       "        }    #T_fb40591c_9e19_11ea_899a_8c85905fce33row1_col4 {\n",
       "            background-color:  #8c178c;\n",
       "            color:  #f1f1f1;\n",
       "            : ;\n",
       "        }    #T_fb40591c_9e19_11ea_899a_8c85905fce33row2_col1 {\n",
       "            background-color:  #d193d1;\n",
       "            color:  #000000;\n",
       "            : ;\n",
       "        }    #T_fb40591c_9e19_11ea_899a_8c85905fce33row2_col2 {\n",
       "            background-color:  #ce8dce;\n",
       "            color:  #000000;\n",
       "            : ;\n",
       "        }    #T_fb40591c_9e19_11ea_899a_8c85905fce33row2_col3 {\n",
       "            background-color:  #891189;\n",
       "            color:  #f1f1f1;\n",
       "            : ;\n",
       "        }    #T_fb40591c_9e19_11ea_899a_8c85905fce33row2_col4 {\n",
       "            background-color:  #8c178c;\n",
       "            color:  #f1f1f1;\n",
       "            : ;\n",
       "        }    #T_fb40591c_9e19_11ea_899a_8c85905fce33row3_col1 {\n",
       "            background-color:  #ffe5ff;\n",
       "            color:  #000000;\n",
       "            : ;\n",
       "        }    #T_fb40591c_9e19_11ea_899a_8c85905fce33row3_col2 {\n",
       "            background-color:  #cb87cb;\n",
       "            color:  #000000;\n",
       "            : ;\n",
       "        }    #T_fb40591c_9e19_11ea_899a_8c85905fce33row3_col3 {\n",
       "            background-color:  #ffe5ff;\n",
       "            color:  #000000;\n",
       "            : ;\n",
       "        }    #T_fb40591c_9e19_11ea_899a_8c85905fce33row3_col4 {\n",
       "            background-color:  #8b148b;\n",
       "            color:  #f1f1f1;\n",
       "            : ;\n",
       "        }    #T_fb40591c_9e19_11ea_899a_8c85905fce33row4_col1 {\n",
       "            background-color:  #800080;\n",
       "            color:  #f1f1f1;\n",
       "            background-color:  red;\n",
       "        }    #T_fb40591c_9e19_11ea_899a_8c85905fce33row4_col2 {\n",
       "            background-color:  #800080;\n",
       "            color:  #f1f1f1;\n",
       "            background-color:  red;\n",
       "        }    #T_fb40591c_9e19_11ea_899a_8c85905fce33row4_col3 {\n",
       "            background-color:  #bb6abb;\n",
       "            color:  #000000;\n",
       "            : ;\n",
       "        }    #T_fb40591c_9e19_11ea_899a_8c85905fce33row4_col4 {\n",
       "            background-color:  #ffe5ff;\n",
       "            color:  #000000;\n",
       "            : ;\n",
       "        }    #T_fb40591c_9e19_11ea_899a_8c85905fce33row5_col1 {\n",
       "            background-color:  #c67ec6;\n",
       "            color:  #000000;\n",
       "            : ;\n",
       "        }    #T_fb40591c_9e19_11ea_899a_8c85905fce33row5_col2 {\n",
       "            background-color:  #b057b0;\n",
       "            color:  #000000;\n",
       "            : ;\n",
       "        }    #T_fb40591c_9e19_11ea_899a_8c85905fce33row5_col3 {\n",
       "            background-color:  #972997;\n",
       "            color:  #f1f1f1;\n",
       "            : ;\n",
       "        }    #T_fb40591c_9e19_11ea_899a_8c85905fce33row5_col4 {\n",
       "            background-color:  #891189;\n",
       "            color:  #f1f1f1;\n",
       "            : ;\n",
       "        }    #T_fb40591c_9e19_11ea_899a_8c85905fce33row6_col1 {\n",
       "            background-color:  #c278c2;\n",
       "            color:  #000000;\n",
       "            : ;\n",
       "        }    #T_fb40591c_9e19_11ea_899a_8c85905fce33row6_col2 {\n",
       "            background-color:  #ac4fac;\n",
       "            color:  #000000;\n",
       "            : ;\n",
       "        }    #T_fb40591c_9e19_11ea_899a_8c85905fce33row6_col3 {\n",
       "            background-color:  #992d99;\n",
       "            color:  #f1f1f1;\n",
       "            : ;\n",
       "        }    #T_fb40591c_9e19_11ea_899a_8c85905fce33row6_col4 {\n",
       "            background-color:  #8b158b;\n",
       "            color:  #f1f1f1;\n",
       "            : ;\n",
       "        }    #T_fb40591c_9e19_11ea_899a_8c85905fce33row7_col1 {\n",
       "            background-color:  #c074c0;\n",
       "            color:  #000000;\n",
       "            : ;\n",
       "        }    #T_fb40591c_9e19_11ea_899a_8c85905fce33row7_col2 {\n",
       "            background-color:  #a94aa9;\n",
       "            color:  #f1f1f1;\n",
       "            : ;\n",
       "        }    #T_fb40591c_9e19_11ea_899a_8c85905fce33row7_col3 {\n",
       "            background-color:  #942594;\n",
       "            color:  #f1f1f1;\n",
       "            : ;\n",
       "        }    #T_fb40591c_9e19_11ea_899a_8c85905fce33row7_col4 {\n",
       "            background-color:  #8d178d;\n",
       "            color:  #f1f1f1;\n",
       "            : ;\n",
       "        }    #T_fb40591c_9e19_11ea_899a_8c85905fce33row8_col1 {\n",
       "            background-color:  #e0aee0;\n",
       "            color:  #000000;\n",
       "            : ;\n",
       "        }    #T_fb40591c_9e19_11ea_899a_8c85905fce33row8_col2 {\n",
       "            background-color:  #ffe5ff;\n",
       "            color:  #000000;\n",
       "            : ;\n",
       "        }    #T_fb40591c_9e19_11ea_899a_8c85905fce33row8_col3 {\n",
       "            background-color:  #b866b8;\n",
       "            color:  #000000;\n",
       "            : ;\n",
       "        }    #T_fb40591c_9e19_11ea_899a_8c85905fce33row8_col4 {\n",
       "            background-color:  #a645a6;\n",
       "            color:  #f1f1f1;\n",
       "            : ;\n",
       "        }    #T_fb40591c_9e19_11ea_899a_8c85905fce33row9_col1 {\n",
       "            background-color:  #800080;\n",
       "            color:  #f1f1f1;\n",
       "            : ;\n",
       "        }    #T_fb40591c_9e19_11ea_899a_8c85905fce33row9_col2 {\n",
       "            background-color:  #800080;\n",
       "            color:  #f1f1f1;\n",
       "            background-color:  red;\n",
       "        }    #T_fb40591c_9e19_11ea_899a_8c85905fce33row9_col3 {\n",
       "            background-color:  #870d87;\n",
       "            color:  #f1f1f1;\n",
       "            : ;\n",
       "        }    #T_fb40591c_9e19_11ea_899a_8c85905fce33row9_col4 {\n",
       "            background-color:  #840784;\n",
       "            color:  #f1f1f1;\n",
       "            : ;\n",
       "        }    #T_fb40591c_9e19_11ea_899a_8c85905fce33row10_col1 {\n",
       "            background-color:  #cb88cb;\n",
       "            color:  #000000;\n",
       "            : ;\n",
       "        }    #T_fb40591c_9e19_11ea_899a_8c85905fce33row10_col2 {\n",
       "            background-color:  #922092;\n",
       "            color:  #f1f1f1;\n",
       "            : ;\n",
       "        }    #T_fb40591c_9e19_11ea_899a_8c85905fce33row10_col3 {\n",
       "            background-color:  #bf71bf;\n",
       "            color:  #000000;\n",
       "            : ;\n",
       "        }    #T_fb40591c_9e19_11ea_899a_8c85905fce33row10_col4 {\n",
       "            background-color:  #800180;\n",
       "            color:  #f1f1f1;\n",
       "            : ;\n",
       "        }    #T_fb40591c_9e19_11ea_899a_8c85905fce33row11_col1 {\n",
       "            background-color:  #cb87cb;\n",
       "            color:  #000000;\n",
       "            : ;\n",
       "        }    #T_fb40591c_9e19_11ea_899a_8c85905fce33row11_col2 {\n",
       "            background-color:  #911f91;\n",
       "            color:  #f1f1f1;\n",
       "            : ;\n",
       "        }    #T_fb40591c_9e19_11ea_899a_8c85905fce33row11_col3 {\n",
       "            background-color:  #bd6ebd;\n",
       "            color:  #000000;\n",
       "            : ;\n",
       "        }    #T_fb40591c_9e19_11ea_899a_8c85905fce33row11_col4 {\n",
       "            background-color:  #800180;\n",
       "            color:  #f1f1f1;\n",
       "            : ;\n",
       "        }    #T_fb40591c_9e19_11ea_899a_8c85905fce33row12_col1 {\n",
       "            background-color:  #c882c8;\n",
       "            color:  #000000;\n",
       "            : ;\n",
       "        }    #T_fb40591c_9e19_11ea_899a_8c85905fce33row12_col2 {\n",
       "            background-color:  #911f91;\n",
       "            color:  #f1f1f1;\n",
       "            : ;\n",
       "        }    #T_fb40591c_9e19_11ea_899a_8c85905fce33row12_col3 {\n",
       "            background-color:  #bd6ebd;\n",
       "            color:  #000000;\n",
       "            : ;\n",
       "        }    #T_fb40591c_9e19_11ea_899a_8c85905fce33row12_col4 {\n",
       "            background-color:  #800080;\n",
       "            color:  #f1f1f1;\n",
       "            background-color:  red;\n",
       "        }    #T_fb40591c_9e19_11ea_899a_8c85905fce33row13_col1 {\n",
       "            background-color:  #ca85ca;\n",
       "            color:  #000000;\n",
       "            : ;\n",
       "        }    #T_fb40591c_9e19_11ea_899a_8c85905fce33row13_col2 {\n",
       "            background-color:  #911f91;\n",
       "            color:  #f1f1f1;\n",
       "            : ;\n",
       "        }    #T_fb40591c_9e19_11ea_899a_8c85905fce33row13_col3 {\n",
       "            background-color:  #c073c0;\n",
       "            color:  #000000;\n",
       "            : ;\n",
       "        }    #T_fb40591c_9e19_11ea_899a_8c85905fce33row13_col4 {\n",
       "            background-color:  #800180;\n",
       "            color:  #f1f1f1;\n",
       "            : ;\n",
       "        }    #T_fb40591c_9e19_11ea_899a_8c85905fce33row14_col1 {\n",
       "            background-color:  #860b86;\n",
       "            color:  #f1f1f1;\n",
       "            : ;\n",
       "        }    #T_fb40591c_9e19_11ea_899a_8c85905fce33row14_col2 {\n",
       "            background-color:  #800080;\n",
       "            color:  #f1f1f1;\n",
       "            : ;\n",
       "        }    #T_fb40591c_9e19_11ea_899a_8c85905fce33row14_col3 {\n",
       "            background-color:  #8c178c;\n",
       "            color:  #f1f1f1;\n",
       "            : ;\n",
       "        }    #T_fb40591c_9e19_11ea_899a_8c85905fce33row14_col4 {\n",
       "            background-color:  #952695;\n",
       "            color:  #f1f1f1;\n",
       "            : ;\n",
       "        }    #T_fb40591c_9e19_11ea_899a_8c85905fce33row15_col1 {\n",
       "            background-color:  #9f389f;\n",
       "            color:  #f1f1f1;\n",
       "            : ;\n",
       "        }    #T_fb40591c_9e19_11ea_899a_8c85905fce33row15_col2 {\n",
       "            background-color:  #8c178c;\n",
       "            color:  #f1f1f1;\n",
       "            : ;\n",
       "        }    #T_fb40591c_9e19_11ea_899a_8c85905fce33row15_col3 {\n",
       "            background-color:  #800080;\n",
       "            color:  #f1f1f1;\n",
       "            background-color:  red;\n",
       "        }    #T_fb40591c_9e19_11ea_899a_8c85905fce33row15_col4 {\n",
       "            background-color:  #810281;\n",
       "            color:  #f1f1f1;\n",
       "            : ;\n",
       "        }    #T_fb40591c_9e19_11ea_899a_8c85905fce33row16_col1 {\n",
       "            background-color:  #ca85ca;\n",
       "            color:  #000000;\n",
       "            : ;\n",
       "        }    #T_fb40591c_9e19_11ea_899a_8c85905fce33row16_col2 {\n",
       "            background-color:  #911f91;\n",
       "            color:  #f1f1f1;\n",
       "            : ;\n",
       "        }    #T_fb40591c_9e19_11ea_899a_8c85905fce33row16_col3 {\n",
       "            background-color:  #be70be;\n",
       "            color:  #000000;\n",
       "            : ;\n",
       "        }    #T_fb40591c_9e19_11ea_899a_8c85905fce33row16_col4 {\n",
       "            background-color:  #810281;\n",
       "            color:  #f1f1f1;\n",
       "            : ;\n",
       "        }</style><table id=\"T_fb40591c_9e19_11ea_899a_8c85905fce33\" ><thead>    <tr>        <th class=\"blank level0\" ></th>        <th class=\"col_heading level0 col0\" >Model</th>        <th class=\"col_heading level0 col1\" >Train Accuracy</th>        <th class=\"col_heading level0 col2\" >Train AUC</th>        <th class=\"col_heading level0 col3\" >Valudation Accuracy</th>        <th class=\"col_heading level0 col4\" >Validation AUC</th>    </tr></thead><tbody>\n",
       "                <tr>\n",
       "                        <th id=\"T_fb40591c_9e19_11ea_899a_8c85905fce33level0_row0\" class=\"row_heading level0 row0\" >0</th>\n",
       "                        <td id=\"T_fb40591c_9e19_11ea_899a_8c85905fce33row0_col0\" class=\"data row0 col0\" >Logistic Regression</td>\n",
       "                        <td id=\"T_fb40591c_9e19_11ea_899a_8c85905fce33row0_col1\" class=\"data row0 col1\" >0.906335</td>\n",
       "                        <td id=\"T_fb40591c_9e19_11ea_899a_8c85905fce33row0_col2\" class=\"data row0 col2\" >0.907303</td>\n",
       "                        <td id=\"T_fb40591c_9e19_11ea_899a_8c85905fce33row0_col3\" class=\"data row0 col3\" >0.910622</td>\n",
       "                        <td id=\"T_fb40591c_9e19_11ea_899a_8c85905fce33row0_col4\" class=\"data row0 col4\" >0.905794</td>\n",
       "            </tr>\n",
       "            <tr>\n",
       "                        <th id=\"T_fb40591c_9e19_11ea_899a_8c85905fce33level0_row1\" class=\"row_heading level0 row1\" >1</th>\n",
       "                        <td id=\"T_fb40591c_9e19_11ea_899a_8c85905fce33row1_col0\" class=\"data row1 col0\" >Logistic Regression GS 01</td>\n",
       "                        <td id=\"T_fb40591c_9e19_11ea_899a_8c85905fce33row1_col1\" class=\"data row1 col1\" >0.907739</td>\n",
       "                        <td id=\"T_fb40591c_9e19_11ea_899a_8c85905fce33row1_col2\" class=\"data row1 col2\" >0.92665</td>\n",
       "                        <td id=\"T_fb40591c_9e19_11ea_899a_8c85905fce33row1_col3\" class=\"data row1 col3\" >0.912443</td>\n",
       "                        <td id=\"T_fb40591c_9e19_11ea_899a_8c85905fce33row1_col4\" class=\"data row1 col4\" >0.925667</td>\n",
       "            </tr>\n",
       "            <tr>\n",
       "                        <th id=\"T_fb40591c_9e19_11ea_899a_8c85905fce33level0_row2\" class=\"row_heading level0 row2\" >2</th>\n",
       "                        <td id=\"T_fb40591c_9e19_11ea_899a_8c85905fce33row2_col0\" class=\"data row2 col0\" >Logistic Regression GS 02</td>\n",
       "                        <td id=\"T_fb40591c_9e19_11ea_899a_8c85905fce33row2_col1\" class=\"data row2 col1\" >0.907625</td>\n",
       "                        <td id=\"T_fb40591c_9e19_11ea_899a_8c85905fce33row2_col2\" class=\"data row2 col2\" >0.926646</td>\n",
       "                        <td id=\"T_fb40591c_9e19_11ea_899a_8c85905fce33row2_col3\" class=\"data row2 col3\" >0.91214</td>\n",
       "                        <td id=\"T_fb40591c_9e19_11ea_899a_8c85905fce33row2_col4\" class=\"data row2 col4\" >0.925685</td>\n",
       "            </tr>\n",
       "            <tr>\n",
       "                        <th id=\"T_fb40591c_9e19_11ea_899a_8c85905fce33level0_row3\" class=\"row_heading level0 row3\" >3</th>\n",
       "                        <td id=\"T_fb40591c_9e19_11ea_899a_8c85905fce33row3_col0\" class=\"data row3 col0\" >Logistic Regression GS 03</td>\n",
       "                        <td id=\"T_fb40591c_9e19_11ea_899a_8c85905fce33row3_col1\" class=\"data row3 col1\" >0.855349</td>\n",
       "                        <td id=\"T_fb40591c_9e19_11ea_899a_8c85905fce33row3_col2\" class=\"data row3 col2\" >0.92974</td>\n",
       "                        <td id=\"T_fb40591c_9e19_11ea_899a_8c85905fce33row3_col3\" class=\"data row3 col3\" >0.857815</td>\n",
       "                        <td id=\"T_fb40591c_9e19_11ea_899a_8c85905fce33row3_col4\" class=\"data row3 col4\" >0.928753</td>\n",
       "            </tr>\n",
       "            <tr>\n",
       "                        <th id=\"T_fb40591c_9e19_11ea_899a_8c85905fce33level0_row4\" class=\"row_heading level0 row4\" >4</th>\n",
       "                        <td id=\"T_fb40591c_9e19_11ea_899a_8c85905fce33row4_col0\" class=\"data row4 col0\" >Decision Tree</td>\n",
       "                        <td id=\"T_fb40591c_9e19_11ea_899a_8c85905fce33row4_col1\" class=\"data row4 col1\" >1</td>\n",
       "                        <td id=\"T_fb40591c_9e19_11ea_899a_8c85905fce33row4_col2\" class=\"data row4 col2\" >1</td>\n",
       "                        <td id=\"T_fb40591c_9e19_11ea_899a_8c85905fce33row4_col3\" class=\"data row4 col3\" >0.889378</td>\n",
       "                        <td id=\"T_fb40591c_9e19_11ea_899a_8c85905fce33row4_col4\" class=\"data row4 col4\" >0.727628</td>\n",
       "            </tr>\n",
       "            <tr>\n",
       "                        <th id=\"T_fb40591c_9e19_11ea_899a_8c85905fce33level0_row5\" class=\"row_heading level0 row5\" >5</th>\n",
       "                        <td id=\"T_fb40591c_9e19_11ea_899a_8c85905fce33row5_col0\" class=\"data row5 col0\" >Decision Tree GS 01</td>\n",
       "                        <td id=\"T_fb40591c_9e19_11ea_899a_8c85905fce33row5_col1\" class=\"data row5 col1\" >0.920675</td>\n",
       "                        <td id=\"T_fb40591c_9e19_11ea_899a_8c85905fce33row5_col2\" class=\"data row5 col2\" >0.954606</td>\n",
       "                        <td id=\"T_fb40591c_9e19_11ea_899a_8c85905fce33row5_col3\" class=\"data row5 col3\" >0.905766</td>\n",
       "                        <td id=\"T_fb40591c_9e19_11ea_899a_8c85905fce33row5_col4\" class=\"data row5 col4\" >0.931133</td>\n",
       "            </tr>\n",
       "            <tr>\n",
       "                        <th id=\"T_fb40591c_9e19_11ea_899a_8c85905fce33level0_row6\" class=\"row_heading level0 row6\" >6</th>\n",
       "                        <td id=\"T_fb40591c_9e19_11ea_899a_8c85905fce33row6_col0\" class=\"data row6 col0\" >Decision Tree GS 02</td>\n",
       "                        <td id=\"T_fb40591c_9e19_11ea_899a_8c85905fce33row6_col1\" class=\"data row6 col1\" >0.924659</td>\n",
       "                        <td id=\"T_fb40591c_9e19_11ea_899a_8c85905fce33row6_col2\" class=\"data row6 col2\" >0.958665</td>\n",
       "                        <td id=\"T_fb40591c_9e19_11ea_899a_8c85905fce33row6_col3\" class=\"data row6 col3\" >0.904856</td>\n",
       "                        <td id=\"T_fb40591c_9e19_11ea_899a_8c85905fce33row6_col4\" class=\"data row6 col4\" >0.927479</td>\n",
       "            </tr>\n",
       "            <tr>\n",
       "                        <th id=\"T_fb40591c_9e19_11ea_899a_8c85905fce33level0_row7\" class=\"row_heading level0 row7\" >7</th>\n",
       "                        <td id=\"T_fb40591c_9e19_11ea_899a_8c85905fce33row7_col0\" class=\"data row7 col0\" >Decision Tree GS 03</td>\n",
       "                        <td id=\"T_fb40591c_9e19_11ea_899a_8c85905fce33row7_col1\" class=\"data row7 col1\" >0.926897</td>\n",
       "                        <td id=\"T_fb40591c_9e19_11ea_899a_8c85905fce33row7_col2\" class=\"data row7 col2\" >0.961602</td>\n",
       "                        <td id=\"T_fb40591c_9e19_11ea_899a_8c85905fce33row7_col3\" class=\"data row7 col3\" >0.907132</td>\n",
       "                        <td id=\"T_fb40591c_9e19_11ea_899a_8c85905fce33row7_col4\" class=\"data row7 col4\" >0.925004</td>\n",
       "            </tr>\n",
       "            <tr>\n",
       "                        <th id=\"T_fb40591c_9e19_11ea_899a_8c85905fce33level0_row8\" class=\"row_heading level0 row8\" >8</th>\n",
       "                        <td id=\"T_fb40591c_9e19_11ea_899a_8c85905fce33row8_col0\" class=\"data row8 col0\" >Gaussian Naive Bayes</td>\n",
       "                        <td id=\"T_fb40591c_9e19_11ea_899a_8c85905fce33row8_col1\" class=\"data row8 col1\" >0.890592</td>\n",
       "                        <td id=\"T_fb40591c_9e19_11ea_899a_8c85905fce33row8_col2\" class=\"data row8 col2\" >0.880637</td>\n",
       "                        <td id=\"T_fb40591c_9e19_11ea_899a_8c85905fce33row8_col3\" class=\"data row8 col3\" >0.89044</td>\n",
       "                        <td id=\"T_fb40591c_9e19_11ea_899a_8c85905fce33row8_col4\" class=\"data row8 col4\" >0.881535</td>\n",
       "            </tr>\n",
       "            <tr>\n",
       "                        <th id=\"T_fb40591c_9e19_11ea_899a_8c85905fce33level0_row9\" class=\"row_heading level0 row9\" >9</th>\n",
       "                        <td id=\"T_fb40591c_9e19_11ea_899a_8c85905fce33row9_col0\" class=\"data row9 col0\" >Random Forest</td>\n",
       "                        <td id=\"T_fb40591c_9e19_11ea_899a_8c85905fce33row9_col1\" class=\"data row9 col1\" >0.999962</td>\n",
       "                        <td id=\"T_fb40591c_9e19_11ea_899a_8c85905fce33row9_col2\" class=\"data row9 col2\" >1</td>\n",
       "                        <td id=\"T_fb40591c_9e19_11ea_899a_8c85905fce33row9_col3\" class=\"data row9 col3\" >0.913202</td>\n",
       "                        <td id=\"T_fb40591c_9e19_11ea_899a_8c85905fce33row9_col4\" class=\"data row9 col4\" >0.940703</td>\n",
       "            </tr>\n",
       "            <tr>\n",
       "                        <th id=\"T_fb40591c_9e19_11ea_899a_8c85905fce33level0_row10\" class=\"row_heading level0 row10\" >10</th>\n",
       "                        <td id=\"T_fb40591c_9e19_11ea_899a_8c85905fce33row10_col0\" class=\"data row10 col0\" >Random Forest GS01</td>\n",
       "                        <td id=\"T_fb40591c_9e19_11ea_899a_8c85905fce33row10_col1\" class=\"data row10 col1\" >0.914226</td>\n",
       "                        <td id=\"T_fb40591c_9e19_11ea_899a_8c85905fce33row10_col2\" class=\"data row10 col2\" >0.982971</td>\n",
       "                        <td id=\"T_fb40591c_9e19_11ea_899a_8c85905fce33row10_col3\" class=\"data row10 col3\" >0.887557</td>\n",
       "                        <td id=\"T_fb40591c_9e19_11ea_899a_8c85905fce33row10_col4\" class=\"data row10 col4\" >0.946328</td>\n",
       "            </tr>\n",
       "            <tr>\n",
       "                        <th id=\"T_fb40591c_9e19_11ea_899a_8c85905fce33level0_row11\" class=\"row_heading level0 row11\" >11</th>\n",
       "                        <td id=\"T_fb40591c_9e19_11ea_899a_8c85905fce33row11_col0\" class=\"data row11 col0\" >Random Forest GS02</td>\n",
       "                        <td id=\"T_fb40591c_9e19_11ea_899a_8c85905fce33row11_col1\" class=\"data row11 col1\" >0.915175</td>\n",
       "                        <td id=\"T_fb40591c_9e19_11ea_899a_8c85905fce33row11_col2\" class=\"data row11 col2\" >0.983721</td>\n",
       "                        <td id=\"T_fb40591c_9e19_11ea_899a_8c85905fce33row11_col3\" class=\"data row11 col3\" >0.888467</td>\n",
       "                        <td id=\"T_fb40591c_9e19_11ea_899a_8c85905fce33row11_col4\" class=\"data row11 col4\" >0.946167</td>\n",
       "            </tr>\n",
       "            <tr>\n",
       "                        <th id=\"T_fb40591c_9e19_11ea_899a_8c85905fce33level0_row12\" class=\"row_heading level0 row12\" >12</th>\n",
       "                        <td id=\"T_fb40591c_9e19_11ea_899a_8c85905fce33row12_col0\" class=\"data row12 col0\" >Random Forest GS03</td>\n",
       "                        <td id=\"T_fb40591c_9e19_11ea_899a_8c85905fce33row12_col1\" class=\"data row12 col1\" >0.917754</td>\n",
       "                        <td id=\"T_fb40591c_9e19_11ea_899a_8c85905fce33row12_col2\" class=\"data row12 col2\" >0.983563</td>\n",
       "                        <td id=\"T_fb40591c_9e19_11ea_899a_8c85905fce33row12_col3\" class=\"data row12 col3\" >0.888467</td>\n",
       "                        <td id=\"T_fb40591c_9e19_11ea_899a_8c85905fce33row12_col4\" class=\"data row12 col4\" >0.947827</td>\n",
       "            </tr>\n",
       "            <tr>\n",
       "                        <th id=\"T_fb40591c_9e19_11ea_899a_8c85905fce33level0_row13\" class=\"row_heading level0 row13\" >13</th>\n",
       "                        <td id=\"T_fb40591c_9e19_11ea_899a_8c85905fce33row13_col0\" class=\"data row13 col0\" >Random Forest GS04</td>\n",
       "                        <td id=\"T_fb40591c_9e19_11ea_899a_8c85905fce33row13_col1\" class=\"data row13 col1\" >0.915819</td>\n",
       "                        <td id=\"T_fb40591c_9e19_11ea_899a_8c85905fce33row13_col2\" class=\"data row13 col2\" >0.983771</td>\n",
       "                        <td id=\"T_fb40591c_9e19_11ea_899a_8c85905fce33row13_col3\" class=\"data row13 col3\" >0.887102</td>\n",
       "                        <td id=\"T_fb40591c_9e19_11ea_899a_8c85905fce33row13_col4\" class=\"data row13 col4\" >0.946303</td>\n",
       "            </tr>\n",
       "            <tr>\n",
       "                        <th id=\"T_fb40591c_9e19_11ea_899a_8c85905fce33level0_row14\" class=\"row_heading level0 row14\" >14</th>\n",
       "                        <td id=\"T_fb40591c_9e19_11ea_899a_8c85905fce33row14_col0\" class=\"data row14 col0\" >Bagged Tree</td>\n",
       "                        <td id=\"T_fb40591c_9e19_11ea_899a_8c85905fce33row14_col1\" class=\"data row14 col1\" >0.993058</td>\n",
       "                        <td id=\"T_fb40591c_9e19_11ea_899a_8c85905fce33row14_col2\" class=\"data row14 col2\" >0.999656</td>\n",
       "                        <td id=\"T_fb40591c_9e19_11ea_899a_8c85905fce33row14_col3\" class=\"data row14 col3\" >0.910774</td>\n",
       "                        <td id=\"T_fb40591c_9e19_11ea_899a_8c85905fce33row14_col4\" class=\"data row14 col4\" >0.911457</td>\n",
       "            </tr>\n",
       "            <tr>\n",
       "                        <th id=\"T_fb40591c_9e19_11ea_899a_8c85905fce33level0_row15\" class=\"row_heading level0 row15\" >15</th>\n",
       "                        <td id=\"T_fb40591c_9e19_11ea_899a_8c85905fce33row15_col0\" class=\"data row15 col0\" >XG Boost</td>\n",
       "                        <td id=\"T_fb40591c_9e19_11ea_899a_8c85905fce33row15_col1\" class=\"data row15 col1\" >0.964833</td>\n",
       "                        <td id=\"T_fb40591c_9e19_11ea_899a_8c85905fce33row15_col2\" class=\"data row15 col2\" >0.987886</td>\n",
       "                        <td id=\"T_fb40591c_9e19_11ea_899a_8c85905fce33row15_col3\" class=\"data row15 col3\" >0.91654</td>\n",
       "                        <td id=\"T_fb40591c_9e19_11ea_899a_8c85905fce33row15_col4\" class=\"data row15 col4\" >0.94571</td>\n",
       "            </tr>\n",
       "            <tr>\n",
       "                        <th id=\"T_fb40591c_9e19_11ea_899a_8c85905fce33level0_row16\" class=\"row_heading level0 row16\" >16</th>\n",
       "                        <td id=\"T_fb40591c_9e19_11ea_899a_8c85905fce33row16_col0\" class=\"data row16 col0\" >Voting Classifier</td>\n",
       "                        <td id=\"T_fb40591c_9e19_11ea_899a_8c85905fce33row16_col1\" class=\"data row16 col1\" >0.916275</td>\n",
       "                        <td id=\"T_fb40591c_9e19_11ea_899a_8c85905fce33row16_col2\" class=\"data row16 col2\" >0.983338</td>\n",
       "                        <td id=\"T_fb40591c_9e19_11ea_899a_8c85905fce33row16_col3\" class=\"data row16 col3\" >0.88786</td>\n",
       "                        <td id=\"T_fb40591c_9e19_11ea_899a_8c85905fce33row16_col4\" class=\"data row16 col4\" >0.945352</td>\n",
       "            </tr>\n",
       "    </tbody></table>"
      ],
      "text/plain": [
       "<pandas.io.formats.style.Styler at 0x1a204f7f28>"
      ]
     },
     "execution_count": 437,
     "metadata": {},
     "output_type": "execute_result"
    }
   ],
   "source": [
    "results_summary = pd.DataFrame()\n",
    "results_summary.append([results01,\n",
    "                        results02, \n",
    "                        results03,\n",
    "                        results04,\n",
    "                        results05,\n",
    "                        results06,\n",
    "                        results07,\n",
    "                        results08,\n",
    "                        results09,\n",
    "                        results10,\n",
    "                        results11, \n",
    "                        results12, \n",
    "                        results13, \n",
    "                        results14, \n",
    "                        results15, \n",
    "                        results16, \n",
    "                        results17], ignore_index=True).style.background_gradient(cmap=cm).highlight_max(color='red')"
   ]
  },
  {
   "cell_type": "code",
   "execution_count": null,
   "metadata": {},
   "outputs": [],
   "source": []
  },
  {
   "cell_type": "markdown",
   "metadata": {},
   "source": [
    "So far our best model appears to Iteration 3 of the hyperparameter tuned Logistic Regression model. Going forward, we will look to run hyperparameter tuing for all the other models we have selected and then move onto the final model selection. Once we have our final model, we will look to threshold selection and also interpretation of the model."
   ]
  },
  {
   "cell_type": "code",
   "execution_count": null,
   "metadata": {},
   "outputs": [],
   "source": []
  }
 ],
 "metadata": {
  "kernelspec": {
   "display_name": "Python 3",
   "language": "python",
   "name": "python3"
  },
  "language_info": {
   "codemirror_mode": {
    "name": "ipython",
    "version": 3
   },
   "file_extension": ".py",
   "mimetype": "text/x-python",
   "name": "python",
   "nbconvert_exporter": "python",
   "pygments_lexer": "ipython3",
   "version": "3.7.3"
  }
 },
 "nbformat": 4,
 "nbformat_minor": 4
}
