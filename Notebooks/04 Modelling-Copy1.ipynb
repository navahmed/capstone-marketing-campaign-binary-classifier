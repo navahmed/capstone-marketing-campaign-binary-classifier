{
 "cells": [
  {
   "cell_type": "code",
   "execution_count": 150,
   "metadata": {},
   "outputs": [
    {
     "name": "stdout",
     "output_type": "stream",
     "text": [
      "Requirement already satisfied: xgboost in /anaconda3/lib/python3.7/site-packages (1.1.0)\n",
      "Requirement already satisfied: numpy in /anaconda3/lib/python3.7/site-packages (from xgboost) (1.16.4)\n",
      "Requirement already satisfied: scipy in /anaconda3/lib/python3.7/site-packages (from xgboost) (1.3.0)\n",
      "Note: you may need to restart the kernel to use updated packages.\n"
     ]
    }
   ],
   "source": [
    "pip install xgboost"
   ]
  },
  {
   "cell_type": "markdown",
   "metadata": {},
   "source": [
    "# Statistical Modelling"
   ]
  },
  {
   "cell_type": "markdown",
   "metadata": {},
   "source": [
    "This section of the project will look to set up the statistical models in order to make our predictions for the effectiveness of the bank's marketing campaign based on the dataframe that we have created.\n"
   ]
  },
  {
   "cell_type": "markdown",
   "metadata": {},
   "source": [
    "We will begin by creating a Train, Validation and Test split of our data."
   ]
  },
  {
   "cell_type": "markdown",
   "metadata": {},
   "source": [
    "We will then look to implement a RFE to see if we should look to drop any of the features we have in our dataset."
   ]
  },
  {
   "cell_type": "markdown",
   "metadata": {},
   "source": [
    "Once this is complete, we will set up a baseline model using the Logistic Regression Learner."
   ]
  },
  {
   "cell_type": "markdown",
   "metadata": {},
   "source": [
    "We will then look to set up a Decision Tree, Guassian Naive Bayes, Random Forest and Bagged Tree models."
   ]
  },
  {
   "cell_type": "markdown",
   "metadata": {},
   "source": [
    "We will also look to hypertune each of the selected models in order to increase the performance of each."
   ]
  },
  {
   "cell_type": "markdown",
   "metadata": {},
   "source": [
    "Once all of this is completed, we will select our final model based on the best ROC-AUC score and move onto the threshold selection and model evaluation"
   ]
  },
  {
   "cell_type": "code",
   "execution_count": 214,
   "metadata": {},
   "outputs": [],
   "source": [
    "import pandas as pd\n",
    "import numpy as np\n",
    "from sklearn.preprocessing import OneHotEncoder\n",
    "from sklearn.model_selection import train_test_split\n",
    "from sklearn.linear_model import LogisticRegression\n",
    "from sklearn.metrics import precision_score, recall_score, accuracy_score, f1_score\n",
    "from sklearn.metrics import confusion_matrix\n",
    "from sklearn.metrics import accuracy_score, roc_auc_score\n",
    "from sklearn.metrics import roc_curve, auc\n",
    "from sklearn.model_selection import GridSearchCV, StratifiedKFold\n",
    "from sklearn.tree import DecisionTreeClassifier \n",
    "from sklearn.ensemble import BaggingClassifier, RandomForestClassifier\n",
    "from sklearn.naive_bayes import GaussianNB\n",
    "import xgboost as xgb\n",
    "from sklearn import metrics\n",
    "import seaborn as sns\n",
    "import itertools\n",
    "from sklearn.feature_selection import RFE\n",
    "from sklearn.feature_selection import RFECV\n",
    "from warnings import filterwarnings\n",
    "filterwarnings('ignore')\n",
    "from sklearn.ensemble import VotingClassifier, BaggingClassifier, AdaBoostClassifier, RandomForestClassifier\n",
    "import matplotlib.pyplot as plt\n",
    "%matplotlib inline\n",
    "from sklearn.metrics import roc_curve, auc\n",
    "from sklearn.metrics import confusion_matrix, roc_curve, roc_auc_score, classification_report"
   ]
  },
  {
   "cell_type": "code",
   "execution_count": 215,
   "metadata": {},
   "outputs": [],
   "source": [
    "def table(string, model_est, X_train, X_val):\n",
    "    table = pd.DataFrame()\n",
    "    \n",
    "    train_accuracy = accuracy_score(y_train, model_est.predict(X_train))\n",
    "    train_auc = roc_auc_score(y_train, model_est.predict_proba(X_train)[:,1])\n",
    "    val_accuracy = accuracy_score(y_val, model_est.predict(X_val))\n",
    "    val_auc = roc_auc_score(y_val, model_est.predict_proba(X_val)[:,1])\n",
    "    table['Model'] = [string]\n",
    "    table['Train Accuracy'] = train_accuracy\n",
    "    table['Train AUC'] = train_auc\n",
    "    table['Valudation Accuracy'] = val_accuracy\n",
    "    table['Validation AUC'] = val_auc\n",
    "    return table"
   ]
  },
  {
   "cell_type": "code",
   "execution_count": 216,
   "metadata": {},
   "outputs": [],
   "source": [
    "def results_table (model_name, model_est, X_train, X_val):\n",
    "    name_of_model = []\n",
    "    train_acc = []\n",
    "    val_acc = []\n",
    "    train_auc = []\n",
    "    val_auc =[]\n",
    "\n",
    "    name_of_model.append(model_name)\n",
    "    train_acc.append(accuracy_score(y_train, model_est.predict(X_train)))\n",
    "    train_auc.append(roc_auc_score(y_train, model_est.predict_proba(X_train)[:,1]))\n",
    "    val_acc.append(accuracy_score(y_val, model_est.predict(X_val)))\n",
    "    val_auc.append(roc_auc_score(y_val, model_est.predict_proba(X_val)[:,1]))\n",
    "        \n",
    "    data = {\"Model Name\": model_name, \"Train Accuracy\" : train_acc, \"Validation Accuracy\" : val_acc, \"Train ROC-AUC\": train_auc, \"Validation ROC-AUC\": val_auc }\n",
    "    table2 = pd.DataFrame(data)\n",
    "    return table2"
   ]
  },
  {
   "cell_type": "markdown",
   "metadata": {},
   "source": [
    "## Reading in the data "
   ]
  },
  {
   "cell_type": "code",
   "execution_count": 222,
   "metadata": {},
   "outputs": [],
   "source": [
    "#Reading in the data saved under data_feat and saving it under a variable called data.\n",
    "data = pd.read_csv('../Data/data_feat.csv')"
   ]
  },
  {
   "cell_type": "code",
   "execution_count": 223,
   "metadata": {},
   "outputs": [
    {
     "data": {
      "text/html": [
       "<div>\n",
       "<style scoped>\n",
       "    .dataframe tbody tr th:only-of-type {\n",
       "        vertical-align: middle;\n",
       "    }\n",
       "\n",
       "    .dataframe tbody tr th {\n",
       "        vertical-align: top;\n",
       "    }\n",
       "\n",
       "    .dataframe thead th {\n",
       "        text-align: right;\n",
       "    }\n",
       "</style>\n",
       "<table border=\"1\" class=\"dataframe\">\n",
       "  <thead>\n",
       "    <tr style=\"text-align: right;\">\n",
       "      <th></th>\n",
       "      <th>Unnamed: 0</th>\n",
       "      <th>contact</th>\n",
       "      <th>month</th>\n",
       "      <th>day_of_week</th>\n",
       "      <th>campaign</th>\n",
       "      <th>pdays</th>\n",
       "      <th>previous</th>\n",
       "      <th>cons_price_idx</th>\n",
       "      <th>cons_conf_idx</th>\n",
       "      <th>euribor3m</th>\n",
       "      <th>...</th>\n",
       "      <th>job_unemployed</th>\n",
       "      <th>age_group_16-24</th>\n",
       "      <th>age_group_25-34</th>\n",
       "      <th>age_group_35-44</th>\n",
       "      <th>age_group_45-54</th>\n",
       "      <th>age_group_55-64</th>\n",
       "      <th>age_group_65-74</th>\n",
       "      <th>age_group_75-79</th>\n",
       "      <th>Combined_Tax</th>\n",
       "      <th>Feature_2</th>\n",
       "    </tr>\n",
       "  </thead>\n",
       "  <tbody>\n",
       "    <tr>\n",
       "      <th>0</th>\n",
       "      <td>0</td>\n",
       "      <td>1</td>\n",
       "      <td>5</td>\n",
       "      <td>1</td>\n",
       "      <td>1</td>\n",
       "      <td>999</td>\n",
       "      <td>0</td>\n",
       "      <td>93.994</td>\n",
       "      <td>-36.4</td>\n",
       "      <td>4.857</td>\n",
       "      <td>...</td>\n",
       "      <td>0</td>\n",
       "      <td>0</td>\n",
       "      <td>0</td>\n",
       "      <td>0</td>\n",
       "      <td>0</td>\n",
       "      <td>1</td>\n",
       "      <td>0</td>\n",
       "      <td>0</td>\n",
       "      <td>62.0</td>\n",
       "      <td>50914.6344</td>\n",
       "    </tr>\n",
       "    <tr>\n",
       "      <th>1</th>\n",
       "      <td>1</td>\n",
       "      <td>1</td>\n",
       "      <td>5</td>\n",
       "      <td>1</td>\n",
       "      <td>1</td>\n",
       "      <td>999</td>\n",
       "      <td>0</td>\n",
       "      <td>93.994</td>\n",
       "      <td>-36.4</td>\n",
       "      <td>4.857</td>\n",
       "      <td>...</td>\n",
       "      <td>0</td>\n",
       "      <td>0</td>\n",
       "      <td>0</td>\n",
       "      <td>0</td>\n",
       "      <td>0</td>\n",
       "      <td>1</td>\n",
       "      <td>0</td>\n",
       "      <td>0</td>\n",
       "      <td>62.0</td>\n",
       "      <td>50914.6344</td>\n",
       "    </tr>\n",
       "    <tr>\n",
       "      <th>2</th>\n",
       "      <td>2</td>\n",
       "      <td>1</td>\n",
       "      <td>5</td>\n",
       "      <td>1</td>\n",
       "      <td>1</td>\n",
       "      <td>999</td>\n",
       "      <td>0</td>\n",
       "      <td>93.994</td>\n",
       "      <td>-36.4</td>\n",
       "      <td>4.857</td>\n",
       "      <td>...</td>\n",
       "      <td>0</td>\n",
       "      <td>0</td>\n",
       "      <td>0</td>\n",
       "      <td>1</td>\n",
       "      <td>0</td>\n",
       "      <td>0</td>\n",
       "      <td>0</td>\n",
       "      <td>0</td>\n",
       "      <td>62.0</td>\n",
       "      <td>50914.6344</td>\n",
       "    </tr>\n",
       "    <tr>\n",
       "      <th>3</th>\n",
       "      <td>3</td>\n",
       "      <td>1</td>\n",
       "      <td>5</td>\n",
       "      <td>1</td>\n",
       "      <td>1</td>\n",
       "      <td>999</td>\n",
       "      <td>0</td>\n",
       "      <td>93.994</td>\n",
       "      <td>-36.4</td>\n",
       "      <td>4.857</td>\n",
       "      <td>...</td>\n",
       "      <td>0</td>\n",
       "      <td>0</td>\n",
       "      <td>0</td>\n",
       "      <td>1</td>\n",
       "      <td>0</td>\n",
       "      <td>0</td>\n",
       "      <td>0</td>\n",
       "      <td>0</td>\n",
       "      <td>62.0</td>\n",
       "      <td>50914.6344</td>\n",
       "    </tr>\n",
       "    <tr>\n",
       "      <th>4</th>\n",
       "      <td>4</td>\n",
       "      <td>1</td>\n",
       "      <td>5</td>\n",
       "      <td>1</td>\n",
       "      <td>1</td>\n",
       "      <td>999</td>\n",
       "      <td>0</td>\n",
       "      <td>93.994</td>\n",
       "      <td>-36.4</td>\n",
       "      <td>4.857</td>\n",
       "      <td>...</td>\n",
       "      <td>0</td>\n",
       "      <td>0</td>\n",
       "      <td>0</td>\n",
       "      <td>0</td>\n",
       "      <td>0</td>\n",
       "      <td>1</td>\n",
       "      <td>0</td>\n",
       "      <td>0</td>\n",
       "      <td>62.0</td>\n",
       "      <td>50914.6344</td>\n",
       "    </tr>\n",
       "  </tbody>\n",
       "</table>\n",
       "<p>5 rows × 53 columns</p>\n",
       "</div>"
      ],
      "text/plain": [
       "   Unnamed: 0  contact  month  day_of_week  campaign  pdays  previous  \\\n",
       "0           0        1      5            1         1    999         0   \n",
       "1           1        1      5            1         1    999         0   \n",
       "2           2        1      5            1         1    999         0   \n",
       "3           3        1      5            1         1    999         0   \n",
       "4           4        1      5            1         1    999         0   \n",
       "\n",
       "   cons_price_idx  cons_conf_idx  euribor3m  ...  job_unemployed  \\\n",
       "0          93.994          -36.4      4.857  ...               0   \n",
       "1          93.994          -36.4      4.857  ...               0   \n",
       "2          93.994          -36.4      4.857  ...               0   \n",
       "3          93.994          -36.4      4.857  ...               0   \n",
       "4          93.994          -36.4      4.857  ...               0   \n",
       "\n",
       "   age_group_16-24  age_group_25-34  age_group_35-44  age_group_45-54  \\\n",
       "0                0                0                0                0   \n",
       "1                0                0                0                0   \n",
       "2                0                0                1                0   \n",
       "3                0                0                1                0   \n",
       "4                0                0                0                0   \n",
       "\n",
       "   age_group_55-64  age_group_65-74  age_group_75-79  Combined_Tax   Feature_2  \n",
       "0                1                0                0          62.0  50914.6344  \n",
       "1                1                0                0          62.0  50914.6344  \n",
       "2                0                0                0          62.0  50914.6344  \n",
       "3                0                0                0          62.0  50914.6344  \n",
       "4                1                0                0          62.0  50914.6344  \n",
       "\n",
       "[5 rows x 53 columns]"
      ]
     },
     "execution_count": 223,
     "metadata": {},
     "output_type": "execute_result"
    }
   ],
   "source": [
    "#Checking the data.\n",
    "data.head()"
   ]
  },
  {
   "cell_type": "code",
   "execution_count": 224,
   "metadata": {},
   "outputs": [],
   "source": [
    "#Dropping unwanted columns.\n",
    "data.drop(columns=['Unnamed: 0'], inplace=True)"
   ]
  },
  {
   "cell_type": "code",
   "execution_count": 225,
   "metadata": {},
   "outputs": [
    {
     "data": {
      "text/html": [
       "<div>\n",
       "<style scoped>\n",
       "    .dataframe tbody tr th:only-of-type {\n",
       "        vertical-align: middle;\n",
       "    }\n",
       "\n",
       "    .dataframe tbody tr th {\n",
       "        vertical-align: top;\n",
       "    }\n",
       "\n",
       "    .dataframe thead th {\n",
       "        text-align: right;\n",
       "    }\n",
       "</style>\n",
       "<table border=\"1\" class=\"dataframe\">\n",
       "  <thead>\n",
       "    <tr style=\"text-align: right;\">\n",
       "      <th></th>\n",
       "      <th>contact</th>\n",
       "      <th>month</th>\n",
       "      <th>day_of_week</th>\n",
       "      <th>campaign</th>\n",
       "      <th>pdays</th>\n",
       "      <th>previous</th>\n",
       "      <th>cons_price_idx</th>\n",
       "      <th>cons_conf_idx</th>\n",
       "      <th>euribor3m</th>\n",
       "      <th>y</th>\n",
       "      <th>...</th>\n",
       "      <th>job_unemployed</th>\n",
       "      <th>age_group_16-24</th>\n",
       "      <th>age_group_25-34</th>\n",
       "      <th>age_group_35-44</th>\n",
       "      <th>age_group_45-54</th>\n",
       "      <th>age_group_55-64</th>\n",
       "      <th>age_group_65-74</th>\n",
       "      <th>age_group_75-79</th>\n",
       "      <th>Combined_Tax</th>\n",
       "      <th>Feature_2</th>\n",
       "    </tr>\n",
       "  </thead>\n",
       "  <tbody>\n",
       "    <tr>\n",
       "      <th>0</th>\n",
       "      <td>1</td>\n",
       "      <td>5</td>\n",
       "      <td>1</td>\n",
       "      <td>1</td>\n",
       "      <td>999</td>\n",
       "      <td>0</td>\n",
       "      <td>93.994</td>\n",
       "      <td>-36.4</td>\n",
       "      <td>4.857</td>\n",
       "      <td>0</td>\n",
       "      <td>...</td>\n",
       "      <td>0</td>\n",
       "      <td>0</td>\n",
       "      <td>0</td>\n",
       "      <td>0</td>\n",
       "      <td>0</td>\n",
       "      <td>1</td>\n",
       "      <td>0</td>\n",
       "      <td>0</td>\n",
       "      <td>62.0</td>\n",
       "      <td>50914.6344</td>\n",
       "    </tr>\n",
       "    <tr>\n",
       "      <th>1</th>\n",
       "      <td>1</td>\n",
       "      <td>5</td>\n",
       "      <td>1</td>\n",
       "      <td>1</td>\n",
       "      <td>999</td>\n",
       "      <td>0</td>\n",
       "      <td>93.994</td>\n",
       "      <td>-36.4</td>\n",
       "      <td>4.857</td>\n",
       "      <td>0</td>\n",
       "      <td>...</td>\n",
       "      <td>0</td>\n",
       "      <td>0</td>\n",
       "      <td>0</td>\n",
       "      <td>0</td>\n",
       "      <td>0</td>\n",
       "      <td>1</td>\n",
       "      <td>0</td>\n",
       "      <td>0</td>\n",
       "      <td>62.0</td>\n",
       "      <td>50914.6344</td>\n",
       "    </tr>\n",
       "    <tr>\n",
       "      <th>2</th>\n",
       "      <td>1</td>\n",
       "      <td>5</td>\n",
       "      <td>1</td>\n",
       "      <td>1</td>\n",
       "      <td>999</td>\n",
       "      <td>0</td>\n",
       "      <td>93.994</td>\n",
       "      <td>-36.4</td>\n",
       "      <td>4.857</td>\n",
       "      <td>0</td>\n",
       "      <td>...</td>\n",
       "      <td>0</td>\n",
       "      <td>0</td>\n",
       "      <td>0</td>\n",
       "      <td>1</td>\n",
       "      <td>0</td>\n",
       "      <td>0</td>\n",
       "      <td>0</td>\n",
       "      <td>0</td>\n",
       "      <td>62.0</td>\n",
       "      <td>50914.6344</td>\n",
       "    </tr>\n",
       "    <tr>\n",
       "      <th>3</th>\n",
       "      <td>1</td>\n",
       "      <td>5</td>\n",
       "      <td>1</td>\n",
       "      <td>1</td>\n",
       "      <td>999</td>\n",
       "      <td>0</td>\n",
       "      <td>93.994</td>\n",
       "      <td>-36.4</td>\n",
       "      <td>4.857</td>\n",
       "      <td>0</td>\n",
       "      <td>...</td>\n",
       "      <td>0</td>\n",
       "      <td>0</td>\n",
       "      <td>0</td>\n",
       "      <td>1</td>\n",
       "      <td>0</td>\n",
       "      <td>0</td>\n",
       "      <td>0</td>\n",
       "      <td>0</td>\n",
       "      <td>62.0</td>\n",
       "      <td>50914.6344</td>\n",
       "    </tr>\n",
       "    <tr>\n",
       "      <th>4</th>\n",
       "      <td>1</td>\n",
       "      <td>5</td>\n",
       "      <td>1</td>\n",
       "      <td>1</td>\n",
       "      <td>999</td>\n",
       "      <td>0</td>\n",
       "      <td>93.994</td>\n",
       "      <td>-36.4</td>\n",
       "      <td>4.857</td>\n",
       "      <td>0</td>\n",
       "      <td>...</td>\n",
       "      <td>0</td>\n",
       "      <td>0</td>\n",
       "      <td>0</td>\n",
       "      <td>0</td>\n",
       "      <td>0</td>\n",
       "      <td>1</td>\n",
       "      <td>0</td>\n",
       "      <td>0</td>\n",
       "      <td>62.0</td>\n",
       "      <td>50914.6344</td>\n",
       "    </tr>\n",
       "  </tbody>\n",
       "</table>\n",
       "<p>5 rows × 52 columns</p>\n",
       "</div>"
      ],
      "text/plain": [
       "   contact  month  day_of_week  campaign  pdays  previous  cons_price_idx  \\\n",
       "0        1      5            1         1    999         0          93.994   \n",
       "1        1      5            1         1    999         0          93.994   \n",
       "2        1      5            1         1    999         0          93.994   \n",
       "3        1      5            1         1    999         0          93.994   \n",
       "4        1      5            1         1    999         0          93.994   \n",
       "\n",
       "   cons_conf_idx  euribor3m  y  ...  job_unemployed  age_group_16-24  \\\n",
       "0          -36.4      4.857  0  ...               0                0   \n",
       "1          -36.4      4.857  0  ...               0                0   \n",
       "2          -36.4      4.857  0  ...               0                0   \n",
       "3          -36.4      4.857  0  ...               0                0   \n",
       "4          -36.4      4.857  0  ...               0                0   \n",
       "\n",
       "   age_group_25-34  age_group_35-44  age_group_45-54  age_group_55-64  \\\n",
       "0                0                0                0                1   \n",
       "1                0                0                0                1   \n",
       "2                0                1                0                0   \n",
       "3                0                1                0                0   \n",
       "4                0                0                0                1   \n",
       "\n",
       "   age_group_65-74  age_group_75-79  Combined_Tax   Feature_2  \n",
       "0                0                0          62.0  50914.6344  \n",
       "1                0                0          62.0  50914.6344  \n",
       "2                0                0          62.0  50914.6344  \n",
       "3                0                0          62.0  50914.6344  \n",
       "4                0                0          62.0  50914.6344  \n",
       "\n",
       "[5 rows x 52 columns]"
      ]
     },
     "execution_count": 225,
     "metadata": {},
     "output_type": "execute_result"
    }
   ],
   "source": [
    "#Checking the data.\n",
    "data.head()"
   ]
  },
  {
   "cell_type": "code",
   "execution_count": 226,
   "metadata": {},
   "outputs": [
    {
     "name": "stdout",
     "output_type": "stream",
     "text": [
      "<class 'pandas.core.frame.DataFrame'>\n",
      "RangeIndex: 41188 entries, 0 to 41187\n",
      "Data columns (total 52 columns):\n",
      "contact                     41188 non-null int64\n",
      "month                       41188 non-null int64\n",
      "day_of_week                 41188 non-null int64\n",
      "campaign                    41188 non-null int64\n",
      "pdays                       41188 non-null int64\n",
      "previous                    41188 non-null int64\n",
      "cons_price_idx              41188 non-null float64\n",
      "cons_conf_idx               41188 non-null float64\n",
      "euribor3m                   41188 non-null float64\n",
      "y                           41188 non-null int64\n",
      "MOM_Inflation               41188 non-null float64\n",
      "Wage_Growth                 41188 non-null float64\n",
      "EURUSD                      41188 non-null float64\n",
      "euro_zoneGDP_Growth_Rate    41188 non-null float64\n",
      "loan_no                     41188 non-null int64\n",
      "loan_yes                    41188 non-null int64\n",
      "housing_no                  41188 non-null int64\n",
      "housing_yes                 41188 non-null int64\n",
      "marital_divorced            41188 non-null int64\n",
      "marital_married             41188 non-null int64\n",
      "marital_single              41188 non-null int64\n",
      "poutcome_nonexistent        41188 non-null int64\n",
      "poutcome_success            41188 non-null int64\n",
      "default_no                  41188 non-null int64\n",
      "default_yes                 41188 non-null int64\n",
      "edu_basic.4y                41188 non-null int64\n",
      "edu_basic.6y                41188 non-null int64\n",
      "edu_basic.9y                41188 non-null int64\n",
      "edu_high.school             41188 non-null int64\n",
      "edu_illiterate              41188 non-null int64\n",
      "edu_professional.course     41188 non-null int64\n",
      "edu_university.degree       41188 non-null int64\n",
      "job_admin.                  41188 non-null int64\n",
      "job_blue-collar             41188 non-null int64\n",
      "job_entrepreneur            41188 non-null int64\n",
      "job_housemaid               41188 non-null int64\n",
      "job_management              41188 non-null int64\n",
      "job_retired                 41188 non-null int64\n",
      "job_self-employed           41188 non-null int64\n",
      "job_services                41188 non-null int64\n",
      "job_student                 41188 non-null int64\n",
      "job_technician              41188 non-null int64\n",
      "job_unemployed              41188 non-null int64\n",
      "age_group_16-24             41188 non-null int64\n",
      "age_group_25-34             41188 non-null int64\n",
      "age_group_35-44             41188 non-null int64\n",
      "age_group_45-54             41188 non-null int64\n",
      "age_group_55-64             41188 non-null int64\n",
      "age_group_65-74             41188 non-null int64\n",
      "age_group_75-79             41188 non-null int64\n",
      "Combined_Tax                41188 non-null float64\n",
      "Feature_2                   41188 non-null float64\n",
      "dtypes: float64(9), int64(43)\n",
      "memory usage: 16.3 MB\n"
     ]
    }
   ],
   "source": [
    "#Checking the data.\n",
    "data.info()"
   ]
  },
  {
   "cell_type": "code",
   "execution_count": 227,
   "metadata": {},
   "outputs": [
    {
     "data": {
      "text/plain": [
       "Index(['contact', 'month', 'day_of_week', 'campaign', 'pdays', 'previous',\n",
       "       'cons_price_idx', 'cons_conf_idx', 'euribor3m', 'y', 'MOM_Inflation',\n",
       "       'Wage_Growth', 'EURUSD', 'euro_zoneGDP_Growth_Rate', 'loan_no',\n",
       "       'loan_yes', 'housing_no', 'housing_yes', 'marital_divorced',\n",
       "       'marital_married', 'marital_single', 'poutcome_nonexistent',\n",
       "       'poutcome_success', 'default_no', 'default_yes', 'edu_basic.4y',\n",
       "       'edu_basic.6y', 'edu_basic.9y', 'edu_high.school', 'edu_illiterate',\n",
       "       'edu_professional.course', 'edu_university.degree', 'job_admin.',\n",
       "       'job_blue-collar', 'job_entrepreneur', 'job_housemaid',\n",
       "       'job_management', 'job_retired', 'job_self-employed', 'job_services',\n",
       "       'job_student', 'job_technician', 'job_unemployed', 'age_group_16-24',\n",
       "       'age_group_25-34', 'age_group_35-44', 'age_group_45-54',\n",
       "       'age_group_55-64', 'age_group_65-74', 'age_group_75-79', 'Combined_Tax',\n",
       "       'Feature_2'],\n",
       "      dtype='object')"
      ]
     },
     "execution_count": 227,
     "metadata": {},
     "output_type": "execute_result"
    }
   ],
   "source": [
    "#Checking the data.\n",
    "data.columns"
   ]
  },
  {
   "cell_type": "markdown",
   "metadata": {},
   "source": [
    "### Checking the value counts for our target variable 'y'."
   ]
  },
  {
   "cell_type": "code",
   "execution_count": 19,
   "metadata": {},
   "outputs": [
    {
     "data": {
      "text/plain": [
       "0    36548\n",
       "1     4640\n",
       "Name: y, dtype: int64"
      ]
     },
     "execution_count": 19,
     "metadata": {},
     "output_type": "execute_result"
    }
   ],
   "source": [
    "#Checking value counts for y.\n",
    "data['y'].value_counts()"
   ]
  },
  {
   "cell_type": "markdown",
   "metadata": {},
   "source": [
    "We may have a class imbalance problem. We will look to address this by using class_weight in the hyperparameter section."
   ]
  },
  {
   "cell_type": "markdown",
   "metadata": {},
   "source": [
    "## Assigning the X and y variables for our model."
   ]
  },
  {
   "cell_type": "code",
   "execution_count": 20,
   "metadata": {},
   "outputs": [],
   "source": [
    "#Drop y column from the dataframe and assign this to X, assign the y column as the target variable.\n",
    "X = data.drop(columns=['y'], axis=1)\n",
    "y = data['y']"
   ]
  },
  {
   "cell_type": "markdown",
   "metadata": {},
   "source": [
    "## Setting up the Train,Test and Validation splits."
   ]
  },
  {
   "cell_type": "code",
   "execution_count": 21,
   "metadata": {},
   "outputs": [],
   "source": [
    "#Train Test Split\n",
    "X_train, X_test, y_train, y_test = train_test_split(X,y, test_size=0.20, random_state = 42)"
   ]
  },
  {
   "cell_type": "code",
   "execution_count": 22,
   "metadata": {},
   "outputs": [],
   "source": [
    "#Train Validation Split.\n",
    "X_train, X_val, y_train, y_val = train_test_split(X_train,y_train, test_size=0.20, random_state = 42)"
   ]
  },
  {
   "cell_type": "code",
   "execution_count": 23,
   "metadata": {},
   "outputs": [
    {
     "name": "stdout",
     "output_type": "stream",
     "text": [
      "Shapes of Each Set\n",
      "-------------------\n",
      "X_train: (26360, 51)\n",
      "y_train: (26360,)\n",
      "X_val: (6590, 51)\n",
      "y_val: (6590,)\n",
      "X_test: (8238, 51)\n",
      "y_test: (8238,)\n"
     ]
    }
   ],
   "source": [
    "#Checking to see the size of each set.\n",
    "print('Shapes of Each Set')\n",
    "print('-------------------')\n",
    "print(f'X_train: {X_train.shape}')\n",
    "print(f'y_train: {y_train.shape}')\n",
    "print(f'X_val: {X_val.shape}')\n",
    "print(f'y_val: {y_val.shape}')\n",
    "print(f'X_test: {X_test.shape}')\n",
    "print(f'y_test: {y_test.shape}')"
   ]
  },
  {
   "cell_type": "markdown",
   "metadata": {},
   "source": [
    "## Baseline Model"
   ]
  },
  {
   "cell_type": "markdown",
   "metadata": {},
   "source": [
    "For our baseline model we will look to use the Logistic Regression. The the simplicity of interpretting this model is the reason we picked it as our baseline."
   ]
  },
  {
   "cell_type": "markdown",
   "metadata": {},
   "source": [
    "### Logistic Regression"
   ]
  },
  {
   "cell_type": "code",
   "execution_count": 24,
   "metadata": {},
   "outputs": [
    {
     "data": {
      "text/plain": [
       "LogisticRegression(C=1.0, class_weight=None, dual=False, fit_intercept=True,\n",
       "                   intercept_scaling=1, l1_ratio=None, max_iter=100,\n",
       "                   multi_class='auto', n_jobs=None, penalty='none',\n",
       "                   random_state=None, solver='lbfgs', tol=0.0001, verbose=0,\n",
       "                   warm_start=False)"
      ]
     },
     "execution_count": 24,
     "metadata": {},
     "output_type": "execute_result"
    }
   ],
   "source": [
    "#Setting up the logistic regression model\n",
    "logreg = LogisticRegression(penalty='none', solver='lbfgs')\n",
    "log_reg = logreg.fit(X_train, y_train)\n",
    "log_reg"
   ]
  },
  {
   "cell_type": "code",
   "execution_count": null,
   "metadata": {},
   "outputs": [],
   "source": []
  },
  {
   "cell_type": "code",
   "execution_count": 25,
   "metadata": {},
   "outputs": [
    {
     "name": "stdout",
     "output_type": "stream",
     "text": [
      "Accuracy:  0.8992412746585736\n",
      "ROC_AUC of Baseline model (val) = 0.7461281024037523\n"
     ]
    }
   ],
   "source": [
    "log_reg_yval_pred = log_reg.predict(X_val)\n",
    "log_reg_yval_predproba = log_reg.predict_proba(X_val)\n",
    "print(\"Accuracy: \", accuracy_score(y_val, log_reg_yval_pred))\n",
    "print(\"ROC_AUC of Baseline model (val) =\", roc_auc_score(y_val, log_reg_yval_predproba[:,1]))"
   ]
  },
  {
   "cell_type": "code",
   "execution_count": 28,
   "metadata": {},
   "outputs": [
    {
     "data": {
      "text/html": [
       "<div>\n",
       "<style scoped>\n",
       "    .dataframe tbody tr th:only-of-type {\n",
       "        vertical-align: middle;\n",
       "    }\n",
       "\n",
       "    .dataframe tbody tr th {\n",
       "        vertical-align: top;\n",
       "    }\n",
       "\n",
       "    .dataframe thead th {\n",
       "        text-align: right;\n",
       "    }\n",
       "</style>\n",
       "<table border=\"1\" class=\"dataframe\">\n",
       "  <thead>\n",
       "    <tr style=\"text-align: right;\">\n",
       "      <th></th>\n",
       "      <th>Model</th>\n",
       "      <th>Train Accuracy</th>\n",
       "      <th>Train AUC</th>\n",
       "      <th>Valudation Accuracy</th>\n",
       "      <th>Validation AUC</th>\n",
       "    </tr>\n",
       "  </thead>\n",
       "  <tbody>\n",
       "    <tr>\n",
       "      <th>0</th>\n",
       "      <td>Logistic Regression</td>\n",
       "      <td>0.89742</td>\n",
       "      <td>0.735581</td>\n",
       "      <td>0.899241</td>\n",
       "      <td>0.746128</td>\n",
       "    </tr>\n",
       "  </tbody>\n",
       "</table>\n",
       "</div>"
      ],
      "text/plain": [
       "                 Model  Train Accuracy  Train AUC  Valudation Accuracy  \\\n",
       "0  Logistic Regression         0.89742   0.735581             0.899241   \n",
       "\n",
       "   Validation AUC  \n",
       "0        0.746128  "
      ]
     },
     "execution_count": 28,
     "metadata": {},
     "output_type": "execute_result"
    }
   ],
   "source": [
    "results01 = table(\"Logistic Regression\", log_reg, X_train, X_val)\n",
    "results01"
   ]
  },
  {
   "cell_type": "markdown",
   "metadata": {},
   "source": [
    "## Improving the Baseline Model"
   ]
  },
  {
   "cell_type": "markdown",
   "metadata": {},
   "source": [
    "### RFE"
   ]
  },
  {
   "cell_type": "code",
   "execution_count": 29,
   "metadata": {},
   "outputs": [],
   "source": [
    "rfe = RFE(estimator=log_reg, step=1)\n",
    "rfe = rfe.fit(X_train, y_train)"
   ]
  },
  {
   "cell_type": "code",
   "execution_count": 30,
   "metadata": {},
   "outputs": [
    {
     "data": {
      "text/html": [
       "<div>\n",
       "<style scoped>\n",
       "    .dataframe tbody tr th:only-of-type {\n",
       "        vertical-align: middle;\n",
       "    }\n",
       "\n",
       "    .dataframe tbody tr th {\n",
       "        vertical-align: top;\n",
       "    }\n",
       "\n",
       "    .dataframe thead th {\n",
       "        text-align: right;\n",
       "    }\n",
       "</style>\n",
       "<table border=\"1\" class=\"dataframe\">\n",
       "  <thead>\n",
       "    <tr style=\"text-align: right;\">\n",
       "      <th></th>\n",
       "      <th>Feature</th>\n",
       "      <th>Ranking</th>\n",
       "    </tr>\n",
       "  </thead>\n",
       "  <tbody>\n",
       "    <tr>\n",
       "      <th>0</th>\n",
       "      <td>contact</td>\n",
       "      <td>1</td>\n",
       "    </tr>\n",
       "    <tr>\n",
       "      <th>26</th>\n",
       "      <td>edu_basic.9y</td>\n",
       "      <td>1</td>\n",
       "    </tr>\n",
       "    <tr>\n",
       "      <th>49</th>\n",
       "      <td>Combined_Tax</td>\n",
       "      <td>1</td>\n",
       "    </tr>\n",
       "    <tr>\n",
       "      <th>32</th>\n",
       "      <td>job_blue-collar</td>\n",
       "      <td>1</td>\n",
       "    </tr>\n",
       "    <tr>\n",
       "      <th>36</th>\n",
       "      <td>job_retired</td>\n",
       "      <td>1</td>\n",
       "    </tr>\n",
       "    <tr>\n",
       "      <th>38</th>\n",
       "      <td>job_services</td>\n",
       "      <td>1</td>\n",
       "    </tr>\n",
       "    <tr>\n",
       "      <th>21</th>\n",
       "      <td>poutcome_success</td>\n",
       "      <td>1</td>\n",
       "    </tr>\n",
       "    <tr>\n",
       "      <th>44</th>\n",
       "      <td>age_group_35-44</td>\n",
       "      <td>1</td>\n",
       "    </tr>\n",
       "    <tr>\n",
       "      <th>45</th>\n",
       "      <td>age_group_45-54</td>\n",
       "      <td>1</td>\n",
       "    </tr>\n",
       "    <tr>\n",
       "      <th>17</th>\n",
       "      <td>marital_divorced</td>\n",
       "      <td>1</td>\n",
       "    </tr>\n",
       "    <tr>\n",
       "      <th>16</th>\n",
       "      <td>housing_yes</td>\n",
       "      <td>1</td>\n",
       "    </tr>\n",
       "    <tr>\n",
       "      <th>15</th>\n",
       "      <td>housing_no</td>\n",
       "      <td>1</td>\n",
       "    </tr>\n",
       "    <tr>\n",
       "      <th>27</th>\n",
       "      <td>edu_high.school</td>\n",
       "      <td>1</td>\n",
       "    </tr>\n",
       "    <tr>\n",
       "      <th>14</th>\n",
       "      <td>loan_yes</td>\n",
       "      <td>1</td>\n",
       "    </tr>\n",
       "    <tr>\n",
       "      <th>12</th>\n",
       "      <td>euro_zoneGDP_Growth_Rate</td>\n",
       "      <td>1</td>\n",
       "    </tr>\n",
       "    <tr>\n",
       "      <th>10</th>\n",
       "      <td>Wage_Growth</td>\n",
       "      <td>1</td>\n",
       "    </tr>\n",
       "    <tr>\n",
       "      <th>9</th>\n",
       "      <td>MOM_Inflation</td>\n",
       "      <td>1</td>\n",
       "    </tr>\n",
       "    <tr>\n",
       "      <th>8</th>\n",
       "      <td>euribor3m</td>\n",
       "      <td>1</td>\n",
       "    </tr>\n",
       "    <tr>\n",
       "      <th>7</th>\n",
       "      <td>cons_conf_idx</td>\n",
       "      <td>1</td>\n",
       "    </tr>\n",
       "    <tr>\n",
       "      <th>6</th>\n",
       "      <td>cons_price_idx</td>\n",
       "      <td>1</td>\n",
       "    </tr>\n",
       "    <tr>\n",
       "      <th>5</th>\n",
       "      <td>previous</td>\n",
       "      <td>1</td>\n",
       "    </tr>\n",
       "    <tr>\n",
       "      <th>3</th>\n",
       "      <td>campaign</td>\n",
       "      <td>1</td>\n",
       "    </tr>\n",
       "    <tr>\n",
       "      <th>2</th>\n",
       "      <td>day_of_week</td>\n",
       "      <td>1</td>\n",
       "    </tr>\n",
       "    <tr>\n",
       "      <th>1</th>\n",
       "      <td>month</td>\n",
       "      <td>1</td>\n",
       "    </tr>\n",
       "    <tr>\n",
       "      <th>30</th>\n",
       "      <td>edu_university.degree</td>\n",
       "      <td>1</td>\n",
       "    </tr>\n",
       "    <tr>\n",
       "      <th>18</th>\n",
       "      <td>marital_married</td>\n",
       "      <td>2</td>\n",
       "    </tr>\n",
       "    <tr>\n",
       "      <th>11</th>\n",
       "      <td>EURUSD</td>\n",
       "      <td>3</td>\n",
       "    </tr>\n",
       "    <tr>\n",
       "      <th>4</th>\n",
       "      <td>pdays</td>\n",
       "      <td>4</td>\n",
       "    </tr>\n",
       "    <tr>\n",
       "      <th>13</th>\n",
       "      <td>loan_no</td>\n",
       "      <td>5</td>\n",
       "    </tr>\n",
       "    <tr>\n",
       "      <th>50</th>\n",
       "      <td>Feature_2</td>\n",
       "      <td>6</td>\n",
       "    </tr>\n",
       "    <tr>\n",
       "      <th>24</th>\n",
       "      <td>edu_basic.4y</td>\n",
       "      <td>7</td>\n",
       "    </tr>\n",
       "    <tr>\n",
       "      <th>19</th>\n",
       "      <td>marital_single</td>\n",
       "      <td>8</td>\n",
       "    </tr>\n",
       "    <tr>\n",
       "      <th>47</th>\n",
       "      <td>age_group_65-74</td>\n",
       "      <td>9</td>\n",
       "    </tr>\n",
       "    <tr>\n",
       "      <th>42</th>\n",
       "      <td>age_group_16-24</td>\n",
       "      <td>10</td>\n",
       "    </tr>\n",
       "    <tr>\n",
       "      <th>25</th>\n",
       "      <td>edu_basic.6y</td>\n",
       "      <td>11</td>\n",
       "    </tr>\n",
       "    <tr>\n",
       "      <th>39</th>\n",
       "      <td>job_student</td>\n",
       "      <td>12</td>\n",
       "    </tr>\n",
       "    <tr>\n",
       "      <th>33</th>\n",
       "      <td>job_entrepreneur</td>\n",
       "      <td>13</td>\n",
       "    </tr>\n",
       "    <tr>\n",
       "      <th>48</th>\n",
       "      <td>age_group_75-79</td>\n",
       "      <td>14</td>\n",
       "    </tr>\n",
       "    <tr>\n",
       "      <th>29</th>\n",
       "      <td>edu_professional.course</td>\n",
       "      <td>15</td>\n",
       "    </tr>\n",
       "    <tr>\n",
       "      <th>34</th>\n",
       "      <td>job_housemaid</td>\n",
       "      <td>16</td>\n",
       "    </tr>\n",
       "    <tr>\n",
       "      <th>37</th>\n",
       "      <td>job_self-employed</td>\n",
       "      <td>17</td>\n",
       "    </tr>\n",
       "    <tr>\n",
       "      <th>46</th>\n",
       "      <td>age_group_55-64</td>\n",
       "      <td>18</td>\n",
       "    </tr>\n",
       "    <tr>\n",
       "      <th>20</th>\n",
       "      <td>poutcome_nonexistent</td>\n",
       "      <td>19</td>\n",
       "    </tr>\n",
       "    <tr>\n",
       "      <th>43</th>\n",
       "      <td>age_group_25-34</td>\n",
       "      <td>20</td>\n",
       "    </tr>\n",
       "    <tr>\n",
       "      <th>35</th>\n",
       "      <td>job_management</td>\n",
       "      <td>21</td>\n",
       "    </tr>\n",
       "    <tr>\n",
       "      <th>31</th>\n",
       "      <td>job_admin.</td>\n",
       "      <td>22</td>\n",
       "    </tr>\n",
       "    <tr>\n",
       "      <th>22</th>\n",
       "      <td>default_no</td>\n",
       "      <td>23</td>\n",
       "    </tr>\n",
       "    <tr>\n",
       "      <th>41</th>\n",
       "      <td>job_unemployed</td>\n",
       "      <td>24</td>\n",
       "    </tr>\n",
       "    <tr>\n",
       "      <th>40</th>\n",
       "      <td>job_technician</td>\n",
       "      <td>25</td>\n",
       "    </tr>\n",
       "    <tr>\n",
       "      <th>28</th>\n",
       "      <td>edu_illiterate</td>\n",
       "      <td>26</td>\n",
       "    </tr>\n",
       "    <tr>\n",
       "      <th>23</th>\n",
       "      <td>default_yes</td>\n",
       "      <td>27</td>\n",
       "    </tr>\n",
       "  </tbody>\n",
       "</table>\n",
       "</div>"
      ],
      "text/plain": [
       "                     Feature  Ranking\n",
       "0                    contact        1\n",
       "26              edu_basic.9y        1\n",
       "49              Combined_Tax        1\n",
       "32           job_blue-collar        1\n",
       "36               job_retired        1\n",
       "38              job_services        1\n",
       "21          poutcome_success        1\n",
       "44           age_group_35-44        1\n",
       "45           age_group_45-54        1\n",
       "17          marital_divorced        1\n",
       "16               housing_yes        1\n",
       "15                housing_no        1\n",
       "27           edu_high.school        1\n",
       "14                  loan_yes        1\n",
       "12  euro_zoneGDP_Growth_Rate        1\n",
       "10               Wage_Growth        1\n",
       "9              MOM_Inflation        1\n",
       "8                  euribor3m        1\n",
       "7              cons_conf_idx        1\n",
       "6             cons_price_idx        1\n",
       "5                   previous        1\n",
       "3                   campaign        1\n",
       "2                day_of_week        1\n",
       "1                      month        1\n",
       "30     edu_university.degree        1\n",
       "18           marital_married        2\n",
       "11                    EURUSD        3\n",
       "4                      pdays        4\n",
       "13                   loan_no        5\n",
       "50                 Feature_2        6\n",
       "24              edu_basic.4y        7\n",
       "19            marital_single        8\n",
       "47           age_group_65-74        9\n",
       "42           age_group_16-24       10\n",
       "25              edu_basic.6y       11\n",
       "39               job_student       12\n",
       "33          job_entrepreneur       13\n",
       "48           age_group_75-79       14\n",
       "29   edu_professional.course       15\n",
       "34             job_housemaid       16\n",
       "37         job_self-employed       17\n",
       "46           age_group_55-64       18\n",
       "20      poutcome_nonexistent       19\n",
       "43           age_group_25-34       20\n",
       "35            job_management       21\n",
       "31                job_admin.       22\n",
       "22                default_no       23\n",
       "41            job_unemployed       24\n",
       "40            job_technician       25\n",
       "28            edu_illiterate       26\n",
       "23               default_yes       27"
      ]
     },
     "execution_count": 30,
     "metadata": {},
     "output_type": "execute_result"
    }
   ],
   "source": [
    "\n",
    "selected_rfe_features = pd.DataFrame({'Feature':list(X_train.columns),\n",
    "                                      'Ranking':rfe.ranking_})\n",
    "selected_rfe_features.sort_values(by='Ranking')"
   ]
  },
  {
   "cell_type": "code",
   "execution_count": 31,
   "metadata": {},
   "outputs": [
    {
     "data": {
      "text/plain": [
       "Index(['contact', 'month', 'day_of_week', 'campaign', 'pdays', 'previous',\n",
       "       'cons_price_idx', 'cons_conf_idx', 'euribor3m', 'MOM_Inflation',\n",
       "       'Wage_Growth', 'EURUSD', 'euro_zoneGDP_Growth_Rate', 'loan_no',\n",
       "       'loan_yes', 'housing_no', 'housing_yes', 'marital_divorced',\n",
       "       'marital_married', 'marital_single', 'poutcome_nonexistent',\n",
       "       'poutcome_success', 'default_no', 'default_yes', 'edu_basic.4y',\n",
       "       'edu_basic.6y', 'edu_basic.9y', 'edu_high.school', 'edu_illiterate',\n",
       "       'edu_professional.course', 'edu_university.degree', 'job_admin.',\n",
       "       'job_blue-collar', 'job_entrepreneur', 'job_housemaid',\n",
       "       'job_management', 'job_retired', 'job_self-employed', 'job_services',\n",
       "       'job_student', 'job_technician', 'job_unemployed', 'age_group_16-24',\n",
       "       'age_group_25-34', 'age_group_35-44', 'age_group_45-54',\n",
       "       'age_group_55-64', 'age_group_65-74', 'age_group_75-79', 'Combined_Tax',\n",
       "       'Feature_2'],\n",
       "      dtype='object')"
      ]
     },
     "execution_count": 31,
     "metadata": {},
     "output_type": "execute_result"
    }
   ],
   "source": [
    "X_train.columns"
   ]
  },
  {
   "cell_type": "code",
   "execution_count": 32,
   "metadata": {},
   "outputs": [],
   "source": [
    "X_train_rfe = rfe.transform(X_train)\n",
    "X_val_rfe = rfe.transform(X_val)"
   ]
  },
  {
   "cell_type": "code",
   "execution_count": 33,
   "metadata": {},
   "outputs": [],
   "source": [
    "log_reg_rfe_model = log_reg.fit(X_train_rfe, y_train)"
   ]
  },
  {
   "cell_type": "code",
   "execution_count": 34,
   "metadata": {},
   "outputs": [
    {
     "name": "stdout",
     "output_type": "stream",
     "text": [
      "Optimal number of features : 11\n",
      "Best features : Index(['contact', 'euribor3m', 'MOM_Inflation', 'euro_zoneGDP_Growth_Rate',\n",
      "       'housing_no', 'housing_yes', 'poutcome_success', 'job_blue-collar',\n",
      "       'job_services', 'age_group_35-44', 'age_group_45-54'],\n",
      "      dtype='object')\n"
     ]
    }
   ],
   "source": [
    "rfecv = RFECV(estimator=log_reg, step=1, cv=5, scoring='accuracy')\n",
    "rfecv = rfecv.fit(X_train, y_train)\n",
    "print('Optimal number of features :', rfecv.n_features_)\n",
    "print('Best features :', X_train.columns[rfecv.support_])"
   ]
  },
  {
   "cell_type": "code",
   "execution_count": 35,
   "metadata": {},
   "outputs": [
    {
     "data": {
      "text/plain": [
       "array([0.89283005, 0.89753414, 0.89768589, 0.89772382, 0.89814112,\n",
       "       0.89817906, 0.89810319, 0.89814112, 0.89817906, 0.89836874,\n",
       "       0.89844461, 0.89791351, 0.89791351, 0.89795144, 0.8977997 ,\n",
       "       0.89787557, 0.89787557, 0.89814112, 0.89798938, 0.89791351,\n",
       "       0.89787557, 0.8977997 , 0.89783763, 0.89742033, 0.89711684,\n",
       "       0.89745827, 0.89742033, 0.89620637, 0.89639605, 0.89575114,\n",
       "       0.89647193, 0.89620637, 0.89616844, 0.8961305 , 0.89643399,\n",
       "       0.89624431, 0.89582701, 0.89586495, 0.89586495, 0.89594082,\n",
       "       0.89525797, 0.89518209, 0.89522003, 0.8952959 , 0.89601669,\n",
       "       0.89791351, 0.8977997 , 0.89791351, 0.89817906, 0.89787557,\n",
       "       0.89787557])"
      ]
     },
     "execution_count": 35,
     "metadata": {},
     "output_type": "execute_result"
    }
   ],
   "source": [
    "rfecv.grid_scores_"
   ]
  },
  {
   "cell_type": "markdown",
   "metadata": {},
   "source": [
    "The RFE model suggests that we keep all 52 features in our model. We will proceed on this basis."
   ]
  },
  {
   "cell_type": "markdown",
   "metadata": {},
   "source": [
    "### Logistic Regression Hyperparameter Tuning"
   ]
  },
  {
   "cell_type": "markdown",
   "metadata": {},
   "source": [
    "#### Iteration 1:"
   ]
  },
  {
   "cell_type": "code",
   "execution_count": 36,
   "metadata": {},
   "outputs": [],
   "source": [
    "param_grid01 = {'C': [0.01,0.1,1,10,100],\n",
    "             'penalty': ['l1','l2'],\n",
    "             'solver': ['liblinear','saga']}"
   ]
  },
  {
   "cell_type": "code",
   "execution_count": 37,
   "metadata": {},
   "outputs": [
    {
     "data": {
      "text/plain": [
       "GridSearchCV(cv=5, error_score=nan,\n",
       "             estimator=LogisticRegression(C=1.0, class_weight=None, dual=False,\n",
       "                                          fit_intercept=True,\n",
       "                                          intercept_scaling=1, l1_ratio=None,\n",
       "                                          max_iter=100, multi_class='auto',\n",
       "                                          n_jobs=None, penalty='none',\n",
       "                                          random_state=None, solver='lbfgs',\n",
       "                                          tol=0.0001, verbose=0,\n",
       "                                          warm_start=False),\n",
       "             iid='deprecated', n_jobs=None,\n",
       "             param_grid={'C': [0.01, 0.1, 1, 10, 100], 'penalty': ['l1', 'l2'],\n",
       "                         'solver': ['liblinear', 'saga']},\n",
       "             pre_dispatch='2*n_jobs', refit=True, return_train_score=True,\n",
       "             scoring='roc_auc', verbose=0)"
      ]
     },
     "execution_count": 37,
     "metadata": {},
     "output_type": "execute_result"
    }
   ],
   "source": [
    "log_reg_gs01 = GridSearchCV(log_reg,\n",
    "                         param_grid01,\n",
    "                         cv=5,\n",
    "                         scoring='roc_auc',\n",
    "                         return_train_score=True,\n",
    "                         )\n",
    "\n",
    "log_reg_gs01.fit(X_train,y_train)"
   ]
  },
  {
   "cell_type": "code",
   "execution_count": 38,
   "metadata": {},
   "outputs": [
    {
     "data": {
      "text/plain": [
       "LogisticRegression(C=0.1, class_weight=None, dual=False, fit_intercept=True,\n",
       "                   intercept_scaling=1, l1_ratio=None, max_iter=100,\n",
       "                   multi_class='auto', n_jobs=None, penalty='l1',\n",
       "                   random_state=None, solver='liblinear', tol=0.0001, verbose=0,\n",
       "                   warm_start=False)"
      ]
     },
     "execution_count": 38,
     "metadata": {},
     "output_type": "execute_result"
    }
   ],
   "source": [
    "log_reg_gs01_model = log_reg_gs01.best_estimator_\n",
    "log_reg_gs01_model"
   ]
  },
  {
   "cell_type": "code",
   "execution_count": 39,
   "metadata": {},
   "outputs": [
    {
     "name": "stdout",
     "output_type": "stream",
     "text": [
      "best model:{'C': 0.1, 'penalty': 'l1', 'solver': 'liblinear'}\n",
      "best score: 0.7806702518508449\n"
     ]
    }
   ],
   "source": [
    "#Checking to see the parameters and R-Squared\n",
    "print(f'best model:{log_reg_gs01.best_params_}')\n",
    "print(f'best score: {log_reg_gs01.best_score_}')"
   ]
  },
  {
   "cell_type": "code",
   "execution_count": 40,
   "metadata": {},
   "outputs": [
    {
     "name": "stdout",
     "output_type": "stream",
     "text": [
      "Accuracy: 0.9013657056145675\n",
      "ROC_AUC of model: 0.7880138946759047\n"
     ]
    }
   ],
   "source": [
    "log_reg_gs01_yval_pred = log_reg_gs01_model.predict(X_val)\n",
    "log_reg_gs01_yval_predprob = log_reg_gs01_model.predict_proba(X_val)\n",
    "print(\"Accuracy:\", accuracy_score(y_val, log_reg_gs01_yval_pred))\n",
    "print(\"ROC_AUC of model:\", roc_auc_score(y_val, log_reg_gs01_yval_predprob[:,1]))"
   ]
  },
  {
   "cell_type": "code",
   "execution_count": 41,
   "metadata": {},
   "outputs": [
    {
     "data": {
      "text/html": [
       "<div>\n",
       "<style scoped>\n",
       "    .dataframe tbody tr th:only-of-type {\n",
       "        vertical-align: middle;\n",
       "    }\n",
       "\n",
       "    .dataframe tbody tr th {\n",
       "        vertical-align: top;\n",
       "    }\n",
       "\n",
       "    .dataframe thead th {\n",
       "        text-align: right;\n",
       "    }\n",
       "</style>\n",
       "<table border=\"1\" class=\"dataframe\">\n",
       "  <thead>\n",
       "    <tr style=\"text-align: right;\">\n",
       "      <th></th>\n",
       "      <th>Model</th>\n",
       "      <th>Train Accuracy</th>\n",
       "      <th>Train AUC</th>\n",
       "      <th>Valudation Accuracy</th>\n",
       "      <th>Validation AUC</th>\n",
       "    </tr>\n",
       "  </thead>\n",
       "  <tbody>\n",
       "    <tr>\n",
       "      <th>0</th>\n",
       "      <td>Logistic Regression GS 01</td>\n",
       "      <td>0.898596</td>\n",
       "      <td>0.782935</td>\n",
       "      <td>0.901366</td>\n",
       "      <td>0.788014</td>\n",
       "    </tr>\n",
       "  </tbody>\n",
       "</table>\n",
       "</div>"
      ],
      "text/plain": [
       "                       Model  Train Accuracy  Train AUC  Valudation Accuracy  \\\n",
       "0  Logistic Regression GS 01        0.898596   0.782935             0.901366   \n",
       "\n",
       "   Validation AUC  \n",
       "0        0.788014  "
      ]
     },
     "execution_count": 41,
     "metadata": {},
     "output_type": "execute_result"
    }
   ],
   "source": [
    "results02 = table(\"Logistic Regression GS 01\", log_reg_gs01_model, X_train, X_val)\n",
    "results02"
   ]
  },
  {
   "cell_type": "markdown",
   "metadata": {},
   "source": [
    "#### Iteration 2:"
   ]
  },
  {
   "cell_type": "code",
   "execution_count": 42,
   "metadata": {},
   "outputs": [],
   "source": [
    "param_grid02 = {'C': [0.5,1,5,10],\n",
    "             'penalty': ['l1','l2'],\n",
    "             'solver': ['liblinear','saga']}"
   ]
  },
  {
   "cell_type": "code",
   "execution_count": 43,
   "metadata": {},
   "outputs": [
    {
     "data": {
      "text/plain": [
       "GridSearchCV(cv=5, error_score=nan,\n",
       "             estimator=LogisticRegression(C=1.0, class_weight=None, dual=False,\n",
       "                                          fit_intercept=True,\n",
       "                                          intercept_scaling=1, l1_ratio=None,\n",
       "                                          max_iter=100, multi_class='auto',\n",
       "                                          n_jobs=None, penalty='none',\n",
       "                                          random_state=None, solver='lbfgs',\n",
       "                                          tol=0.0001, verbose=0,\n",
       "                                          warm_start=False),\n",
       "             iid='deprecated', n_jobs=None,\n",
       "             param_grid={'C': [0.5, 1, 5, 10], 'penalty': ['l1', 'l2'],\n",
       "                         'solver': ['liblinear', 'saga']},\n",
       "             pre_dispatch='2*n_jobs', refit=True, return_train_score=True,\n",
       "             scoring='roc_auc', verbose=0)"
      ]
     },
     "execution_count": 43,
     "metadata": {},
     "output_type": "execute_result"
    }
   ],
   "source": [
    "log_reg_gs02 = GridSearchCV(log_reg,\n",
    "                         param_grid02,\n",
    "                         cv=5,\n",
    "                         scoring='roc_auc',\n",
    "                         return_train_score=True)\n",
    "\n",
    "log_reg_gs02.fit(X_train,y_train)"
   ]
  },
  {
   "cell_type": "code",
   "execution_count": 44,
   "metadata": {},
   "outputs": [
    {
     "data": {
      "text/plain": [
       "LogisticRegression(C=0.5, class_weight=None, dual=False, fit_intercept=True,\n",
       "                   intercept_scaling=1, l1_ratio=None, max_iter=100,\n",
       "                   multi_class='auto', n_jobs=None, penalty='l1',\n",
       "                   random_state=None, solver='liblinear', tol=0.0001, verbose=0,\n",
       "                   warm_start=False)"
      ]
     },
     "execution_count": 44,
     "metadata": {},
     "output_type": "execute_result"
    }
   ],
   "source": [
    "log_reg_gs02_model = log_reg_gs02.best_estimator_\n",
    "log_reg_gs02_model"
   ]
  },
  {
   "cell_type": "code",
   "execution_count": 45,
   "metadata": {},
   "outputs": [
    {
     "name": "stdout",
     "output_type": "stream",
     "text": [
      "Accuracy: 0.9006069802731411\n",
      "ROC_AUC of model: 0.7866719471904602\n"
     ]
    }
   ],
   "source": [
    "log_reg_gs02_yval_pred = log_reg_gs02_model.predict(X_val)\n",
    "log_reg_gs02_yval_predprob = log_reg_gs02_model.predict_proba(X_val)\n",
    "print(\"Accuracy:\", accuracy_score(y_val, log_reg_gs02_yval_pred))\n",
    "print(\"ROC_AUC of model:\", roc_auc_score(y_val, log_reg_gs02_yval_predprob[:,1]))"
   ]
  },
  {
   "cell_type": "code",
   "execution_count": 46,
   "metadata": {},
   "outputs": [
    {
     "data": {
      "text/html": [
       "<div>\n",
       "<style scoped>\n",
       "    .dataframe tbody tr th:only-of-type {\n",
       "        vertical-align: middle;\n",
       "    }\n",
       "\n",
       "    .dataframe tbody tr th {\n",
       "        vertical-align: top;\n",
       "    }\n",
       "\n",
       "    .dataframe thead th {\n",
       "        text-align: right;\n",
       "    }\n",
       "</style>\n",
       "<table border=\"1\" class=\"dataframe\">\n",
       "  <thead>\n",
       "    <tr style=\"text-align: right;\">\n",
       "      <th></th>\n",
       "      <th>Model</th>\n",
       "      <th>Train Accuracy</th>\n",
       "      <th>Train AUC</th>\n",
       "      <th>Valudation Accuracy</th>\n",
       "      <th>Validation AUC</th>\n",
       "    </tr>\n",
       "  </thead>\n",
       "  <tbody>\n",
       "    <tr>\n",
       "      <th>0</th>\n",
       "      <td>Logistic Regression GS 02</td>\n",
       "      <td>0.898407</td>\n",
       "      <td>0.783471</td>\n",
       "      <td>0.900607</td>\n",
       "      <td>0.786672</td>\n",
       "    </tr>\n",
       "  </tbody>\n",
       "</table>\n",
       "</div>"
      ],
      "text/plain": [
       "                       Model  Train Accuracy  Train AUC  Valudation Accuracy  \\\n",
       "0  Logistic Regression GS 02        0.898407   0.783471             0.900607   \n",
       "\n",
       "   Validation AUC  \n",
       "0        0.786672  "
      ]
     },
     "execution_count": 46,
     "metadata": {},
     "output_type": "execute_result"
    }
   ],
   "source": [
    "results03 = table(\"Logistic Regression GS 02\", log_reg_gs02_model, X_train, X_val)\n",
    "results03"
   ]
  },
  {
   "cell_type": "markdown",
   "metadata": {},
   "source": [
    "#### Iteration 3:"
   ]
  },
  {
   "cell_type": "code",
   "execution_count": 47,
   "metadata": {},
   "outputs": [],
   "source": [
    "param_grid03 = {'C': [0,0.1,0.5],\n",
    "             'penalty': ['l1','l2'],\n",
    "             'solver': ['liblinear','saga'],\n",
    "            'class_weight': [None,'balanced'],\n",
    "            \n",
    "             }"
   ]
  },
  {
   "cell_type": "code",
   "execution_count": 48,
   "metadata": {},
   "outputs": [
    {
     "data": {
      "text/plain": [
       "GridSearchCV(cv=5, error_score=nan,\n",
       "             estimator=LogisticRegression(C=1.0, class_weight=None, dual=False,\n",
       "                                          fit_intercept=True,\n",
       "                                          intercept_scaling=1, l1_ratio=None,\n",
       "                                          max_iter=100, multi_class='auto',\n",
       "                                          n_jobs=None, penalty='none',\n",
       "                                          random_state=None, solver='lbfgs',\n",
       "                                          tol=0.0001, verbose=0,\n",
       "                                          warm_start=False),\n",
       "             iid='deprecated', n_jobs=None,\n",
       "             param_grid={'C': [0, 0.1, 0.5], 'class_weight': [None, 'balanced'],\n",
       "                         'penalty': ['l1', 'l2'],\n",
       "                         'solver': ['liblinear', 'saga']},\n",
       "             pre_dispatch='2*n_jobs', refit=True, return_train_score=True,\n",
       "             scoring='roc_auc', verbose=0)"
      ]
     },
     "execution_count": 48,
     "metadata": {},
     "output_type": "execute_result"
    }
   ],
   "source": [
    "log_reg_gs03 = GridSearchCV(log_reg,\n",
    "                         param_grid03,\n",
    "                         cv=5,\n",
    "                         scoring='roc_auc',\n",
    "                         return_train_score=True)\n",
    "\n",
    "log_reg_gs03.fit(X_train,y_train)"
   ]
  },
  {
   "cell_type": "code",
   "execution_count": 49,
   "metadata": {},
   "outputs": [
    {
     "data": {
      "text/plain": [
       "LogisticRegression(C=0.1, class_weight='balanced', dual=False,\n",
       "                   fit_intercept=True, intercept_scaling=1, l1_ratio=None,\n",
       "                   max_iter=100, multi_class='auto', n_jobs=None, penalty='l1',\n",
       "                   random_state=None, solver='liblinear', tol=0.0001, verbose=0,\n",
       "                   warm_start=False)"
      ]
     },
     "execution_count": 49,
     "metadata": {},
     "output_type": "execute_result"
    }
   ],
   "source": [
    "log_reg_gs03_model = log_reg_gs03.best_estimator_\n",
    "log_reg_gs03_model"
   ]
  },
  {
   "cell_type": "code",
   "execution_count": 50,
   "metadata": {},
   "outputs": [
    {
     "name": "stdout",
     "output_type": "stream",
     "text": [
      "Accuracy: 0.7795144157814871\n",
      "ROC_AUC of model: 0.788247577442561\n"
     ]
    }
   ],
   "source": [
    "log_reg_gs03_yval_pred = log_reg_gs03_model.predict(X_val)\n",
    "log_reg_gs03_yval_predprob = log_reg_gs03_model.predict_proba(X_val)\n",
    "print(\"Accuracy:\", accuracy_score(y_val, log_reg_gs03_yval_pred))\n",
    "print(\"ROC_AUC of model:\", roc_auc_score(y_val, log_reg_gs03_yval_predprob[:,1]))"
   ]
  },
  {
   "cell_type": "code",
   "execution_count": 51,
   "metadata": {},
   "outputs": [
    {
     "data": {
      "text/html": [
       "<div>\n",
       "<style scoped>\n",
       "    .dataframe tbody tr th:only-of-type {\n",
       "        vertical-align: middle;\n",
       "    }\n",
       "\n",
       "    .dataframe tbody tr th {\n",
       "        vertical-align: top;\n",
       "    }\n",
       "\n",
       "    .dataframe thead th {\n",
       "        text-align: right;\n",
       "    }\n",
       "</style>\n",
       "<table border=\"1\" class=\"dataframe\">\n",
       "  <thead>\n",
       "    <tr style=\"text-align: right;\">\n",
       "      <th></th>\n",
       "      <th>Model</th>\n",
       "      <th>Train Accuracy</th>\n",
       "      <th>Train AUC</th>\n",
       "      <th>Valudation Accuracy</th>\n",
       "      <th>Validation AUC</th>\n",
       "    </tr>\n",
       "  </thead>\n",
       "  <tbody>\n",
       "    <tr>\n",
       "      <th>0</th>\n",
       "      <td>Logistic Regression GS 03</td>\n",
       "      <td>0.778566</td>\n",
       "      <td>0.784903</td>\n",
       "      <td>0.779514</td>\n",
       "      <td>0.788248</td>\n",
       "    </tr>\n",
       "  </tbody>\n",
       "</table>\n",
       "</div>"
      ],
      "text/plain": [
       "                       Model  Train Accuracy  Train AUC  Valudation Accuracy  \\\n",
       "0  Logistic Regression GS 03        0.778566   0.784903             0.779514   \n",
       "\n",
       "   Validation AUC  \n",
       "0        0.788248  "
      ]
     },
     "execution_count": 51,
     "metadata": {},
     "output_type": "execute_result"
    }
   ],
   "source": [
    "results04 = table(\"Logistic Regression GS 03\", log_reg_gs03_model, X_train, X_val)\n",
    "results04"
   ]
  },
  {
   "cell_type": "markdown",
   "metadata": {},
   "source": [
    "#### Logistic Regression Hyperparameter Results Summary"
   ]
  },
  {
   "cell_type": "code",
   "execution_count": 52,
   "metadata": {},
   "outputs": [],
   "source": [
    "cm01 = sns.light_palette(\"blue\", as_cmap=True)"
   ]
  },
  {
   "cell_type": "code",
   "execution_count": 235,
   "metadata": {},
   "outputs": [
    {
     "data": {
      "text/html": [
       "<style  type=\"text/css\" >\n",
       "    #T_04823c9a_a043_11ea_8526_8c85905fce33row0_col1 {\n",
       "            background-color:  #0202ff;\n",
       "            color:  #f1f1f1;\n",
       "            : ;\n",
       "        }    #T_04823c9a_a043_11ea_8526_8c85905fce33row0_col2 {\n",
       "            background-color:  #e5e5ff;\n",
       "            color:  #000000;\n",
       "            : ;\n",
       "        }    #T_04823c9a_a043_11ea_8526_8c85905fce33row0_col3 {\n",
       "            background-color:  #0404ff;\n",
       "            color:  #f1f1f1;\n",
       "            : ;\n",
       "        }    #T_04823c9a_a043_11ea_8526_8c85905fce33row0_col4 {\n",
       "            background-color:  #e5e5ff;\n",
       "            color:  #000000;\n",
       "            : ;\n",
       "        }    #T_04823c9a_a043_11ea_8526_8c85905fce33row1_col1 {\n",
       "            background-color:  #0000ff;\n",
       "            color:  #f1f1f1;\n",
       "            background-color:  red;\n",
       "        }    #T_04823c9a_a043_11ea_8526_8c85905fce33row1_col2 {\n",
       "            background-color:  #0909ff;\n",
       "            color:  #f1f1f1;\n",
       "            : ;\n",
       "        }    #T_04823c9a_a043_11ea_8526_8c85905fce33row1_col3 {\n",
       "            background-color:  #0000ff;\n",
       "            color:  #f1f1f1;\n",
       "            background-color:  red;\n",
       "        }    #T_04823c9a_a043_11ea_8526_8c85905fce33row1_col4 {\n",
       "            background-color:  #0101ff;\n",
       "            color:  #f1f1f1;\n",
       "            : ;\n",
       "        }    #T_04823c9a_a043_11ea_8526_8c85905fce33row2_col1 {\n",
       "            background-color:  #0000ff;\n",
       "            color:  #f1f1f1;\n",
       "            : ;\n",
       "        }    #T_04823c9a_a043_11ea_8526_8c85905fce33row2_col2 {\n",
       "            background-color:  #0606ff;\n",
       "            color:  #f1f1f1;\n",
       "            : ;\n",
       "        }    #T_04823c9a_a043_11ea_8526_8c85905fce33row2_col3 {\n",
       "            background-color:  #0101ff;\n",
       "            color:  #f1f1f1;\n",
       "            : ;\n",
       "        }    #T_04823c9a_a043_11ea_8526_8c85905fce33row2_col4 {\n",
       "            background-color:  #0808ff;\n",
       "            color:  #f1f1f1;\n",
       "            : ;\n",
       "        }    #T_04823c9a_a043_11ea_8526_8c85905fce33row3_col1 {\n",
       "            background-color:  #e5e5ff;\n",
       "            color:  #000000;\n",
       "            : ;\n",
       "        }    #T_04823c9a_a043_11ea_8526_8c85905fce33row3_col2 {\n",
       "            background-color:  #0000ff;\n",
       "            color:  #f1f1f1;\n",
       "            background-color:  red;\n",
       "        }    #T_04823c9a_a043_11ea_8526_8c85905fce33row3_col3 {\n",
       "            background-color:  #e5e5ff;\n",
       "            color:  #000000;\n",
       "            : ;\n",
       "        }    #T_04823c9a_a043_11ea_8526_8c85905fce33row3_col4 {\n",
       "            background-color:  #0000ff;\n",
       "            color:  #f1f1f1;\n",
       "            background-color:  red;\n",
       "        }</style><table id=\"T_04823c9a_a043_11ea_8526_8c85905fce33\" ><thead>    <tr>        <th class=\"blank level0\" ></th>        <th class=\"col_heading level0 col0\" >Model</th>        <th class=\"col_heading level0 col1\" >Train Accuracy</th>        <th class=\"col_heading level0 col2\" >Train AUC</th>        <th class=\"col_heading level0 col3\" >Valudation Accuracy</th>        <th class=\"col_heading level0 col4\" >Validation AUC</th>    </tr></thead><tbody>\n",
       "                <tr>\n",
       "                        <th id=\"T_04823c9a_a043_11ea_8526_8c85905fce33level0_row0\" class=\"row_heading level0 row0\" >0</th>\n",
       "                        <td id=\"T_04823c9a_a043_11ea_8526_8c85905fce33row0_col0\" class=\"data row0 col0\" >Logistic Regression</td>\n",
       "                        <td id=\"T_04823c9a_a043_11ea_8526_8c85905fce33row0_col1\" class=\"data row0 col1\" >0.89742</td>\n",
       "                        <td id=\"T_04823c9a_a043_11ea_8526_8c85905fce33row0_col2\" class=\"data row0 col2\" >0.735581</td>\n",
       "                        <td id=\"T_04823c9a_a043_11ea_8526_8c85905fce33row0_col3\" class=\"data row0 col3\" >0.899241</td>\n",
       "                        <td id=\"T_04823c9a_a043_11ea_8526_8c85905fce33row0_col4\" class=\"data row0 col4\" >0.746128</td>\n",
       "            </tr>\n",
       "            <tr>\n",
       "                        <th id=\"T_04823c9a_a043_11ea_8526_8c85905fce33level0_row1\" class=\"row_heading level0 row1\" >1</th>\n",
       "                        <td id=\"T_04823c9a_a043_11ea_8526_8c85905fce33row1_col0\" class=\"data row1 col0\" >Logistic Regression GS 01</td>\n",
       "                        <td id=\"T_04823c9a_a043_11ea_8526_8c85905fce33row1_col1\" class=\"data row1 col1\" >0.898596</td>\n",
       "                        <td id=\"T_04823c9a_a043_11ea_8526_8c85905fce33row1_col2\" class=\"data row1 col2\" >0.782935</td>\n",
       "                        <td id=\"T_04823c9a_a043_11ea_8526_8c85905fce33row1_col3\" class=\"data row1 col3\" >0.901366</td>\n",
       "                        <td id=\"T_04823c9a_a043_11ea_8526_8c85905fce33row1_col4\" class=\"data row1 col4\" >0.788014</td>\n",
       "            </tr>\n",
       "            <tr>\n",
       "                        <th id=\"T_04823c9a_a043_11ea_8526_8c85905fce33level0_row2\" class=\"row_heading level0 row2\" >2</th>\n",
       "                        <td id=\"T_04823c9a_a043_11ea_8526_8c85905fce33row2_col0\" class=\"data row2 col0\" >Logistic Regression GS 02</td>\n",
       "                        <td id=\"T_04823c9a_a043_11ea_8526_8c85905fce33row2_col1\" class=\"data row2 col1\" >0.898407</td>\n",
       "                        <td id=\"T_04823c9a_a043_11ea_8526_8c85905fce33row2_col2\" class=\"data row2 col2\" >0.783471</td>\n",
       "                        <td id=\"T_04823c9a_a043_11ea_8526_8c85905fce33row2_col3\" class=\"data row2 col3\" >0.900607</td>\n",
       "                        <td id=\"T_04823c9a_a043_11ea_8526_8c85905fce33row2_col4\" class=\"data row2 col4\" >0.786672</td>\n",
       "            </tr>\n",
       "            <tr>\n",
       "                        <th id=\"T_04823c9a_a043_11ea_8526_8c85905fce33level0_row3\" class=\"row_heading level0 row3\" >3</th>\n",
       "                        <td id=\"T_04823c9a_a043_11ea_8526_8c85905fce33row3_col0\" class=\"data row3 col0\" >Logistic Regression GS 03</td>\n",
       "                        <td id=\"T_04823c9a_a043_11ea_8526_8c85905fce33row3_col1\" class=\"data row3 col1\" >0.778566</td>\n",
       "                        <td id=\"T_04823c9a_a043_11ea_8526_8c85905fce33row3_col2\" class=\"data row3 col2\" >0.784903</td>\n",
       "                        <td id=\"T_04823c9a_a043_11ea_8526_8c85905fce33row3_col3\" class=\"data row3 col3\" >0.779514</td>\n",
       "                        <td id=\"T_04823c9a_a043_11ea_8526_8c85905fce33row3_col4\" class=\"data row3 col4\" >0.788248</td>\n",
       "            </tr>\n",
       "    </tbody></table>"
      ],
      "text/plain": [
       "<pandas.io.formats.style.Styler at 0x1c372aca20>"
      ]
     },
     "execution_count": 235,
     "metadata": {},
     "output_type": "execute_result"
    }
   ],
   "source": [
    "log_reg_df = pd.DataFrame()\n",
    "log_reg_df.append([results01, \n",
    "                   results02, \n",
    "                   results03, \n",
    "                   results04],\n",
    "                  ignore_index=True).style.background_gradient(cmap=cm01).highlight_max(color='red')"
   ]
  },
  {
   "cell_type": "markdown",
   "metadata": {},
   "source": [
    "As can be seen in the table above, the best performing model out of the hyperparameter tuned Logistic Regression is from log_reg_gs03_model."
   ]
  },
  {
   "cell_type": "markdown",
   "metadata": {},
   "source": [
    "We will now move onto Decision Trees"
   ]
  },
  {
   "cell_type": "markdown",
   "metadata": {},
   "source": [
    "### Decision Tree"
   ]
  },
  {
   "cell_type": "code",
   "execution_count": 54,
   "metadata": {},
   "outputs": [
    {
     "data": {
      "text/plain": [
       "DecisionTreeClassifier(ccp_alpha=0.0, class_weight=None, criterion='entropy',\n",
       "                       max_depth=None, max_features=None, max_leaf_nodes=None,\n",
       "                       min_impurity_decrease=0.0, min_impurity_split=None,\n",
       "                       min_samples_leaf=1, min_samples_split=2,\n",
       "                       min_weight_fraction_leaf=0.0, presort='deprecated',\n",
       "                       random_state=None, splitter='best')"
      ]
     },
     "execution_count": 54,
     "metadata": {},
     "output_type": "execute_result"
    }
   ],
   "source": [
    "dec_tree = DecisionTreeClassifier(criterion='entropy')\n",
    "\n",
    "dec_tree.fit(X_train, y_train)"
   ]
  },
  {
   "cell_type": "code",
   "execution_count": 57,
   "metadata": {},
   "outputs": [
    {
     "name": "stdout",
     "output_type": "stream",
     "text": [
      "Accuracy:  0.8491654021244309\n",
      "ROC_AUC of Baseline model (val) = 0.6332505687663393\n"
     ]
    }
   ],
   "source": [
    "dec_tree_yval_pred = dec_tree.predict(X_val)\n",
    "dec_tree_yval_predprob = dec_tree.predict_proba(X_val)\n",
    "print('Accuracy: ', accuracy_score(y_val, dec_tree_yval_pred))\n",
    "print(\"ROC_AUC of Baseline model (val) =\", roc_auc_score(y_val, dec_tree_yval_predprob[:,1]))"
   ]
  },
  {
   "cell_type": "code",
   "execution_count": 236,
   "metadata": {},
   "outputs": [
    {
     "data": {
      "text/html": [
       "<div>\n",
       "<style scoped>\n",
       "    .dataframe tbody tr th:only-of-type {\n",
       "        vertical-align: middle;\n",
       "    }\n",
       "\n",
       "    .dataframe tbody tr th {\n",
       "        vertical-align: top;\n",
       "    }\n",
       "\n",
       "    .dataframe thead th {\n",
       "        text-align: right;\n",
       "    }\n",
       "</style>\n",
       "<table border=\"1\" class=\"dataframe\">\n",
       "  <thead>\n",
       "    <tr style=\"text-align: right;\">\n",
       "      <th></th>\n",
       "      <th>Model</th>\n",
       "      <th>Train Accuracy</th>\n",
       "      <th>Train AUC</th>\n",
       "      <th>Valudation Accuracy</th>\n",
       "      <th>Validation AUC</th>\n",
       "    </tr>\n",
       "  </thead>\n",
       "  <tbody>\n",
       "    <tr>\n",
       "      <th>0</th>\n",
       "      <td>Decision Tree</td>\n",
       "      <td>0.991199</td>\n",
       "      <td>0.999577</td>\n",
       "      <td>0.849165</td>\n",
       "      <td>0.633251</td>\n",
       "    </tr>\n",
       "  </tbody>\n",
       "</table>\n",
       "</div>"
      ],
      "text/plain": [
       "           Model  Train Accuracy  Train AUC  Valudation Accuracy  \\\n",
       "0  Decision Tree        0.991199   0.999577             0.849165   \n",
       "\n",
       "   Validation AUC  \n",
       "0        0.633251  "
      ]
     },
     "execution_count": 236,
     "metadata": {},
     "output_type": "execute_result"
    }
   ],
   "source": [
    "results05 = table(\"Decision Tree\", dec_tree, X_train, X_val)\n",
    "results05"
   ]
  },
  {
   "cell_type": "code",
   "execution_count": 237,
   "metadata": {},
   "outputs": [
    {
     "data": {
      "text/html": [
       "<div>\n",
       "<style scoped>\n",
       "    .dataframe tbody tr th:only-of-type {\n",
       "        vertical-align: middle;\n",
       "    }\n",
       "\n",
       "    .dataframe tbody tr th {\n",
       "        vertical-align: top;\n",
       "    }\n",
       "\n",
       "    .dataframe thead th {\n",
       "        text-align: right;\n",
       "    }\n",
       "</style>\n",
       "<table border=\"1\" class=\"dataframe\">\n",
       "  <thead>\n",
       "    <tr style=\"text-align: right;\">\n",
       "      <th></th>\n",
       "      <th>Model</th>\n",
       "      <th>Train Accuracy</th>\n",
       "      <th>Train AUC</th>\n",
       "      <th>Valudation Accuracy</th>\n",
       "      <th>Validation AUC</th>\n",
       "    </tr>\n",
       "  </thead>\n",
       "  <tbody>\n",
       "    <tr>\n",
       "      <th>0</th>\n",
       "      <td>Decision Tree</td>\n",
       "      <td>0.991199</td>\n",
       "      <td>0.999577</td>\n",
       "      <td>0.849165</td>\n",
       "      <td>0.633251</td>\n",
       "    </tr>\n",
       "  </tbody>\n",
       "</table>\n",
       "</div>"
      ],
      "text/plain": [
       "           Model  Train Accuracy  Train AUC  Valudation Accuracy  \\\n",
       "0  Decision Tree        0.991199   0.999577             0.849165   \n",
       "\n",
       "   Validation AUC  \n",
       "0        0.633251  "
      ]
     },
     "execution_count": 237,
     "metadata": {},
     "output_type": "execute_result"
    }
   ],
   "source": [
    "table(\"Decision Tree\", dec_tree, X_train, X_val)"
   ]
  },
  {
   "cell_type": "markdown",
   "metadata": {},
   "source": [
    "### Decision Tree Hyperparameter Tuning"
   ]
  },
  {
   "cell_type": "markdown",
   "metadata": {},
   "source": [
    "#### Iteration 1:"
   ]
  },
  {
   "cell_type": "code",
   "execution_count": 60,
   "metadata": {},
   "outputs": [],
   "source": [
    "param_grid04 = {'max_depth':[1,10,100],\n",
    "                             'min_samples_leaf':[5,10,50]}"
   ]
  },
  {
   "cell_type": "code",
   "execution_count": 61,
   "metadata": {},
   "outputs": [
    {
     "data": {
      "text/plain": [
       "GridSearchCV(cv=5, error_score=nan,\n",
       "             estimator=DecisionTreeClassifier(ccp_alpha=0.0, class_weight=None,\n",
       "                                              criterion='entropy',\n",
       "                                              max_depth=None, max_features=None,\n",
       "                                              max_leaf_nodes=None,\n",
       "                                              min_impurity_decrease=0.0,\n",
       "                                              min_impurity_split=None,\n",
       "                                              min_samples_leaf=1,\n",
       "                                              min_samples_split=2,\n",
       "                                              min_weight_fraction_leaf=0.0,\n",
       "                                              presort='deprecated',\n",
       "                                              random_state=None,\n",
       "                                              splitter='best'),\n",
       "             iid='deprecated', n_jobs=None,\n",
       "             param_grid={'max_depth': [1, 10, 100],\n",
       "                         'min_samples_leaf': [5, 10, 50]},\n",
       "             pre_dispatch='2*n_jobs', refit=True, return_train_score=True,\n",
       "             scoring='roc_auc', verbose=0)"
      ]
     },
     "execution_count": 61,
     "metadata": {},
     "output_type": "execute_result"
    }
   ],
   "source": [
    "dec_tree_gs01 = GridSearchCV(dec_tree,\n",
    "                         param_grid04,\n",
    "                         cv=5,\n",
    "                         scoring='roc_auc',\n",
    "                         return_train_score=True)\n",
    "\n",
    "dec_tree_gs01.fit(X_train,y_train)"
   ]
  },
  {
   "cell_type": "code",
   "execution_count": 62,
   "metadata": {},
   "outputs": [
    {
     "data": {
      "text/plain": [
       "DecisionTreeClassifier(ccp_alpha=0.0, class_weight=None, criterion='entropy',\n",
       "                       max_depth=10, max_features=None, max_leaf_nodes=None,\n",
       "                       min_impurity_decrease=0.0, min_impurity_split=None,\n",
       "                       min_samples_leaf=50, min_samples_split=2,\n",
       "                       min_weight_fraction_leaf=0.0, presort='deprecated',\n",
       "                       random_state=None, splitter='best')"
      ]
     },
     "execution_count": 62,
     "metadata": {},
     "output_type": "execute_result"
    }
   ],
   "source": [
    "dec_tree_gs01_model = dec_tree_gs01.best_estimator_\n",
    "dec_tree_gs01_model"
   ]
  },
  {
   "cell_type": "code",
   "execution_count": 63,
   "metadata": {},
   "outputs": [
    {
     "name": "stdout",
     "output_type": "stream",
     "text": [
      "Accuracy:  0.8977238239757208\n",
      "ROC_AUC of Baseline model (val) = 0.7907625478888352\n"
     ]
    }
   ],
   "source": [
    "dec_tree_gs01_yval_pred = dec_tree_gs01_model.predict(X_val)\n",
    "dec_tree_gs01_yval_predprob = dec_tree_gs01_model.predict_proba(X_val)\n",
    "print('Accuracy: ', accuracy_score(y_val, dec_tree_gs01_yval_pred))\n",
    "print(\"ROC_AUC of Baseline model (val) =\", roc_auc_score(y_val, dec_tree_gs01_yval_predprob[:,1]))"
   ]
  },
  {
   "cell_type": "code",
   "execution_count": 64,
   "metadata": {},
   "outputs": [
    {
     "data": {
      "text/html": [
       "<div>\n",
       "<style scoped>\n",
       "    .dataframe tbody tr th:only-of-type {\n",
       "        vertical-align: middle;\n",
       "    }\n",
       "\n",
       "    .dataframe tbody tr th {\n",
       "        vertical-align: top;\n",
       "    }\n",
       "\n",
       "    .dataframe thead th {\n",
       "        text-align: right;\n",
       "    }\n",
       "</style>\n",
       "<table border=\"1\" class=\"dataframe\">\n",
       "  <thead>\n",
       "    <tr style=\"text-align: right;\">\n",
       "      <th></th>\n",
       "      <th>Model</th>\n",
       "      <th>Train Accuracy</th>\n",
       "      <th>Train AUC</th>\n",
       "      <th>Valudation Accuracy</th>\n",
       "      <th>Validation AUC</th>\n",
       "    </tr>\n",
       "  </thead>\n",
       "  <tbody>\n",
       "    <tr>\n",
       "      <th>0</th>\n",
       "      <td>Decision Tree GS 01</td>\n",
       "      <td>0.903338</td>\n",
       "      <td>0.835154</td>\n",
       "      <td>0.897724</td>\n",
       "      <td>0.790763</td>\n",
       "    </tr>\n",
       "  </tbody>\n",
       "</table>\n",
       "</div>"
      ],
      "text/plain": [
       "                 Model  Train Accuracy  Train AUC  Valudation Accuracy  \\\n",
       "0  Decision Tree GS 01        0.903338   0.835154             0.897724   \n",
       "\n",
       "   Validation AUC  \n",
       "0        0.790763  "
      ]
     },
     "execution_count": 64,
     "metadata": {},
     "output_type": "execute_result"
    }
   ],
   "source": [
    "results06 = table(\"Decision Tree GS 01\", dec_tree_gs01, X_train, X_val)\n",
    "results06"
   ]
  },
  {
   "cell_type": "code",
   "execution_count": 65,
   "metadata": {},
   "outputs": [
    {
     "data": {
      "text/html": [
       "<div>\n",
       "<style scoped>\n",
       "    .dataframe tbody tr th:only-of-type {\n",
       "        vertical-align: middle;\n",
       "    }\n",
       "\n",
       "    .dataframe tbody tr th {\n",
       "        vertical-align: top;\n",
       "    }\n",
       "\n",
       "    .dataframe thead th {\n",
       "        text-align: right;\n",
       "    }\n",
       "</style>\n",
       "<table border=\"1\" class=\"dataframe\">\n",
       "  <thead>\n",
       "    <tr style=\"text-align: right;\">\n",
       "      <th></th>\n",
       "      <th>Model</th>\n",
       "      <th>Train Accuracy</th>\n",
       "      <th>Train AUC</th>\n",
       "      <th>Valudation Accuracy</th>\n",
       "      <th>Validation AUC</th>\n",
       "    </tr>\n",
       "  </thead>\n",
       "  <tbody>\n",
       "    <tr>\n",
       "      <th>0</th>\n",
       "      <td>Decision Tree GS01</td>\n",
       "      <td>0.903338</td>\n",
       "      <td>0.835154</td>\n",
       "      <td>0.897724</td>\n",
       "      <td>0.790763</td>\n",
       "    </tr>\n",
       "  </tbody>\n",
       "</table>\n",
       "</div>"
      ],
      "text/plain": [
       "                Model  Train Accuracy  Train AUC  Valudation Accuracy  \\\n",
       "0  Decision Tree GS01        0.903338   0.835154             0.897724   \n",
       "\n",
       "   Validation AUC  \n",
       "0        0.790763  "
      ]
     },
     "execution_count": 65,
     "metadata": {},
     "output_type": "execute_result"
    }
   ],
   "source": [
    "table('Decision Tree GS01', dec_tree_gs01, X_train, X_val)"
   ]
  },
  {
   "cell_type": "markdown",
   "metadata": {},
   "source": [
    "#### Iteration 2:"
   ]
  },
  {
   "cell_type": "code",
   "execution_count": null,
   "metadata": {},
   "outputs": [],
   "source": []
  },
  {
   "cell_type": "code",
   "execution_count": 66,
   "metadata": {},
   "outputs": [],
   "source": [
    "param_grid05 = {'max_depth':range(10, 20,30),\n",
    "                             'min_samples_leaf':[15,20,25,30]}"
   ]
  },
  {
   "cell_type": "code",
   "execution_count": 67,
   "metadata": {},
   "outputs": [
    {
     "data": {
      "text/plain": [
       "GridSearchCV(cv=5, error_score=nan,\n",
       "             estimator=DecisionTreeClassifier(ccp_alpha=0.0, class_weight=None,\n",
       "                                              criterion='entropy',\n",
       "                                              max_depth=None, max_features=None,\n",
       "                                              max_leaf_nodes=None,\n",
       "                                              min_impurity_decrease=0.0,\n",
       "                                              min_impurity_split=None,\n",
       "                                              min_samples_leaf=1,\n",
       "                                              min_samples_split=2,\n",
       "                                              min_weight_fraction_leaf=0.0,\n",
       "                                              presort='deprecated',\n",
       "                                              random_state=None,\n",
       "                                              splitter='best'),\n",
       "             iid='deprecated', n_jobs=None,\n",
       "             param_grid={'max_depth': range(10, 20, 30),\n",
       "                         'min_samples_leaf': [15, 20, 25, 30]},\n",
       "             pre_dispatch='2*n_jobs', refit=True, return_train_score=True,\n",
       "             scoring='roc_auc', verbose=0)"
      ]
     },
     "execution_count": 67,
     "metadata": {},
     "output_type": "execute_result"
    }
   ],
   "source": [
    "dec_tree_gs02 = GridSearchCV(dec_tree,\n",
    "                         param_grid05,\n",
    "                         cv=5,\n",
    "                         scoring='roc_auc',\n",
    "                         return_train_score=True)\n",
    "\n",
    "dec_tree_gs02.fit(X_train,y_train)"
   ]
  },
  {
   "cell_type": "code",
   "execution_count": 68,
   "metadata": {},
   "outputs": [
    {
     "data": {
      "text/plain": [
       "DecisionTreeClassifier(ccp_alpha=0.0, class_weight=None, criterion='entropy',\n",
       "                       max_depth=10, max_features=None, max_leaf_nodes=None,\n",
       "                       min_impurity_decrease=0.0, min_impurity_split=None,\n",
       "                       min_samples_leaf=25, min_samples_split=2,\n",
       "                       min_weight_fraction_leaf=0.0, presort='deprecated',\n",
       "                       random_state=None, splitter='best')"
      ]
     },
     "execution_count": 68,
     "metadata": {},
     "output_type": "execute_result"
    }
   ],
   "source": [
    "dec_tree_gs02_model = dec_tree_gs02.best_estimator_\n",
    "dec_tree_gs02_model"
   ]
  },
  {
   "cell_type": "code",
   "execution_count": 69,
   "metadata": {},
   "outputs": [
    {
     "name": "stdout",
     "output_type": "stream",
     "text": [
      "Accuracy:  0.8983308042488619\n",
      "ROC_AUC Score:  0.7909349292591104\n"
     ]
    }
   ],
   "source": [
    "dec_tree_gs02_yval_pred = dec_tree_gs02_model.predict(X_val)\n",
    "dec_tree_gs02_yval_predproba = dec_tree_gs02_model.predict_proba(X_val)[:,1]\n",
    "print('Accuracy: ', accuracy_score(y_val, dec_tree_gs02_yval_pred))\n",
    "print('ROC_AUC Score: ', roc_auc_score(y_val, dec_tree_gs02_yval_predproba))"
   ]
  },
  {
   "cell_type": "code",
   "execution_count": 70,
   "metadata": {},
   "outputs": [
    {
     "data": {
      "text/html": [
       "<div>\n",
       "<style scoped>\n",
       "    .dataframe tbody tr th:only-of-type {\n",
       "        vertical-align: middle;\n",
       "    }\n",
       "\n",
       "    .dataframe tbody tr th {\n",
       "        vertical-align: top;\n",
       "    }\n",
       "\n",
       "    .dataframe thead th {\n",
       "        text-align: right;\n",
       "    }\n",
       "</style>\n",
       "<table border=\"1\" class=\"dataframe\">\n",
       "  <thead>\n",
       "    <tr style=\"text-align: right;\">\n",
       "      <th></th>\n",
       "      <th>Model</th>\n",
       "      <th>Train Accuracy</th>\n",
       "      <th>Train AUC</th>\n",
       "      <th>Valudation Accuracy</th>\n",
       "      <th>Validation AUC</th>\n",
       "    </tr>\n",
       "  </thead>\n",
       "  <tbody>\n",
       "    <tr>\n",
       "      <th>0</th>\n",
       "      <td>Decision Tree GS 02</td>\n",
       "      <td>0.90698</td>\n",
       "      <td>0.841593</td>\n",
       "      <td>0.898331</td>\n",
       "      <td>0.790935</td>\n",
       "    </tr>\n",
       "  </tbody>\n",
       "</table>\n",
       "</div>"
      ],
      "text/plain": [
       "                 Model  Train Accuracy  Train AUC  Valudation Accuracy  \\\n",
       "0  Decision Tree GS 02         0.90698   0.841593             0.898331   \n",
       "\n",
       "   Validation AUC  \n",
       "0        0.790935  "
      ]
     },
     "execution_count": 70,
     "metadata": {},
     "output_type": "execute_result"
    }
   ],
   "source": [
    "results07 = table(\"Decision Tree GS 02\", dec_tree_gs02, X_train, X_val)\n",
    "results07"
   ]
  },
  {
   "cell_type": "code",
   "execution_count": 71,
   "metadata": {},
   "outputs": [
    {
     "data": {
      "text/html": [
       "<div>\n",
       "<style scoped>\n",
       "    .dataframe tbody tr th:only-of-type {\n",
       "        vertical-align: middle;\n",
       "    }\n",
       "\n",
       "    .dataframe tbody tr th {\n",
       "        vertical-align: top;\n",
       "    }\n",
       "\n",
       "    .dataframe thead th {\n",
       "        text-align: right;\n",
       "    }\n",
       "</style>\n",
       "<table border=\"1\" class=\"dataframe\">\n",
       "  <thead>\n",
       "    <tr style=\"text-align: right;\">\n",
       "      <th></th>\n",
       "      <th>Model</th>\n",
       "      <th>Train Accuracy</th>\n",
       "      <th>Train AUC</th>\n",
       "      <th>Valudation Accuracy</th>\n",
       "      <th>Validation AUC</th>\n",
       "    </tr>\n",
       "  </thead>\n",
       "  <tbody>\n",
       "    <tr>\n",
       "      <th>0</th>\n",
       "      <td>Decision Tree GS02</td>\n",
       "      <td>0.90698</td>\n",
       "      <td>0.841593</td>\n",
       "      <td>0.898331</td>\n",
       "      <td>0.790935</td>\n",
       "    </tr>\n",
       "  </tbody>\n",
       "</table>\n",
       "</div>"
      ],
      "text/plain": [
       "                Model  Train Accuracy  Train AUC  Valudation Accuracy  \\\n",
       "0  Decision Tree GS02         0.90698   0.841593             0.898331   \n",
       "\n",
       "   Validation AUC  \n",
       "0        0.790935  "
      ]
     },
     "execution_count": 71,
     "metadata": {},
     "output_type": "execute_result"
    }
   ],
   "source": [
    "table('Decision Tree GS02', dec_tree_gs02, X_train, X_val)"
   ]
  },
  {
   "cell_type": "markdown",
   "metadata": {},
   "source": [
    "#### Iteration 3:"
   ]
  },
  {
   "cell_type": "code",
   "execution_count": 72,
   "metadata": {},
   "outputs": [],
   "source": [
    "param_grid06 = {'max_depth':range(5,10,15),\n",
    "                'min_samples_leaf':[15,25,30,50],\n",
    "               'class_weight': [None,'balanced'],\n",
    "               'criterion': ['gini','entropy']}"
   ]
  },
  {
   "cell_type": "code",
   "execution_count": 73,
   "metadata": {},
   "outputs": [
    {
     "data": {
      "text/plain": [
       "GridSearchCV(cv=5, error_score=nan,\n",
       "             estimator=DecisionTreeClassifier(ccp_alpha=0.0, class_weight=None,\n",
       "                                              criterion='entropy',\n",
       "                                              max_depth=None, max_features=None,\n",
       "                                              max_leaf_nodes=None,\n",
       "                                              min_impurity_decrease=0.0,\n",
       "                                              min_impurity_split=None,\n",
       "                                              min_samples_leaf=1,\n",
       "                                              min_samples_split=2,\n",
       "                                              min_weight_fraction_leaf=0.0,\n",
       "                                              presort='deprecated',\n",
       "                                              random_state=None,\n",
       "                                              splitter='best'),\n",
       "             iid='deprecated', n_jobs=None,\n",
       "             param_grid={'class_weight': [None, 'balanced'],\n",
       "                         'criterion': ['gini', 'entropy'],\n",
       "                         'max_depth': range(5, 10, 15),\n",
       "                         'min_samples_leaf': [15, 25, 30, 50]},\n",
       "             pre_dispatch='2*n_jobs', refit=True, return_train_score=True,\n",
       "             scoring='roc_auc', verbose=0)"
      ]
     },
     "execution_count": 73,
     "metadata": {},
     "output_type": "execute_result"
    }
   ],
   "source": [
    "dec_tree_gs03 = GridSearchCV(dec_tree,\n",
    "                         param_grid06,\n",
    "                         cv=5,\n",
    "                         scoring='roc_auc',\n",
    "                         return_train_score=True)\n",
    "\n",
    "dec_tree_gs03.fit(X_train,y_train)"
   ]
  },
  {
   "cell_type": "code",
   "execution_count": 74,
   "metadata": {},
   "outputs": [
    {
     "data": {
      "text/plain": [
       "DecisionTreeClassifier(ccp_alpha=0.0, class_weight=None, criterion='entropy',\n",
       "                       max_depth=5, max_features=None, max_leaf_nodes=None,\n",
       "                       min_impurity_decrease=0.0, min_impurity_split=None,\n",
       "                       min_samples_leaf=30, min_samples_split=2,\n",
       "                       min_weight_fraction_leaf=0.0, presort='deprecated',\n",
       "                       random_state=None, splitter='best')"
      ]
     },
     "execution_count": 74,
     "metadata": {},
     "output_type": "execute_result"
    }
   ],
   "source": [
    "dec_tree_gs03_model = dec_tree_gs03.best_estimator_\n",
    "dec_tree_gs03_model"
   ]
  },
  {
   "cell_type": "code",
   "execution_count": 75,
   "metadata": {},
   "outputs": [
    {
     "name": "stdout",
     "output_type": "stream",
     "text": [
      "Accuracy:  0.9021244309559939\n",
      "ROC_AUC of Baseline model (val) = 0.7974725157724345\n"
     ]
    }
   ],
   "source": [
    "dec_tree_gs03_yval_pred = dec_tree_gs03_model.predict(X_val)\n",
    "dec_tree_gs03_yval_predprob = dec_tree_gs03_model.predict_proba(X_val)\n",
    "print('Accuracy: ', accuracy_score(y_val, dec_tree_gs03_yval_pred))\n",
    "print(\"ROC_AUC of Baseline model (val) =\", roc_auc_score(y_val, dec_tree_gs03_yval_predprob[:,1]))"
   ]
  },
  {
   "cell_type": "code",
   "execution_count": 76,
   "metadata": {},
   "outputs": [
    {
     "data": {
      "text/html": [
       "<div>\n",
       "<style scoped>\n",
       "    .dataframe tbody tr th:only-of-type {\n",
       "        vertical-align: middle;\n",
       "    }\n",
       "\n",
       "    .dataframe tbody tr th {\n",
       "        vertical-align: top;\n",
       "    }\n",
       "\n",
       "    .dataframe thead th {\n",
       "        text-align: right;\n",
       "    }\n",
       "</style>\n",
       "<table border=\"1\" class=\"dataframe\">\n",
       "  <thead>\n",
       "    <tr style=\"text-align: right;\">\n",
       "      <th></th>\n",
       "      <th>Model</th>\n",
       "      <th>Train Accuracy</th>\n",
       "      <th>Train AUC</th>\n",
       "      <th>Valudation Accuracy</th>\n",
       "      <th>Validation AUC</th>\n",
       "    </tr>\n",
       "  </thead>\n",
       "  <tbody>\n",
       "    <tr>\n",
       "      <th>0</th>\n",
       "      <td>Decision Tree GS 03</td>\n",
       "      <td>0.90258</td>\n",
       "      <td>0.797805</td>\n",
       "      <td>0.902124</td>\n",
       "      <td>0.797473</td>\n",
       "    </tr>\n",
       "  </tbody>\n",
       "</table>\n",
       "</div>"
      ],
      "text/plain": [
       "                 Model  Train Accuracy  Train AUC  Valudation Accuracy  \\\n",
       "0  Decision Tree GS 03         0.90258   0.797805             0.902124   \n",
       "\n",
       "   Validation AUC  \n",
       "0        0.797473  "
      ]
     },
     "execution_count": 76,
     "metadata": {},
     "output_type": "execute_result"
    }
   ],
   "source": [
    "results08 = table(\"Decision Tree GS 03\", dec_tree_gs03, X_train, X_val)\n",
    "results08"
   ]
  },
  {
   "cell_type": "code",
   "execution_count": 77,
   "metadata": {},
   "outputs": [
    {
     "data": {
      "text/html": [
       "<div>\n",
       "<style scoped>\n",
       "    .dataframe tbody tr th:only-of-type {\n",
       "        vertical-align: middle;\n",
       "    }\n",
       "\n",
       "    .dataframe tbody tr th {\n",
       "        vertical-align: top;\n",
       "    }\n",
       "\n",
       "    .dataframe thead th {\n",
       "        text-align: right;\n",
       "    }\n",
       "</style>\n",
       "<table border=\"1\" class=\"dataframe\">\n",
       "  <thead>\n",
       "    <tr style=\"text-align: right;\">\n",
       "      <th></th>\n",
       "      <th>Model</th>\n",
       "      <th>Train Accuracy</th>\n",
       "      <th>Train AUC</th>\n",
       "      <th>Valudation Accuracy</th>\n",
       "      <th>Validation AUC</th>\n",
       "    </tr>\n",
       "  </thead>\n",
       "  <tbody>\n",
       "    <tr>\n",
       "      <th>0</th>\n",
       "      <td>Decision Tree GS03</td>\n",
       "      <td>0.90258</td>\n",
       "      <td>0.797805</td>\n",
       "      <td>0.902124</td>\n",
       "      <td>0.797473</td>\n",
       "    </tr>\n",
       "  </tbody>\n",
       "</table>\n",
       "</div>"
      ],
      "text/plain": [
       "                Model  Train Accuracy  Train AUC  Valudation Accuracy  \\\n",
       "0  Decision Tree GS03         0.90258   0.797805             0.902124   \n",
       "\n",
       "   Validation AUC  \n",
       "0        0.797473  "
      ]
     },
     "execution_count": 77,
     "metadata": {},
     "output_type": "execute_result"
    }
   ],
   "source": [
    "table('Decision Tree GS03', dec_tree_gs03, X_train, X_val)"
   ]
  },
  {
   "cell_type": "markdown",
   "metadata": {},
   "source": [
    "#### Decision Tree Hyperparameter Results Summary"
   ]
  },
  {
   "cell_type": "code",
   "execution_count": 78,
   "metadata": {},
   "outputs": [],
   "source": [
    "cm02 = sns.light_palette(\"green\", as_cmap=True)"
   ]
  },
  {
   "cell_type": "code",
   "execution_count": 79,
   "metadata": {},
   "outputs": [
    {
     "data": {
      "text/html": [
       "<style  type=\"text/css\" >\n",
       "    #T_c98ec312_9edd_11ea_8526_8c85905fce33row0_col1 {\n",
       "            background-color:  #008000;\n",
       "            color:  #f1f1f1;\n",
       "            background-color:  red;\n",
       "        }    #T_c98ec312_9edd_11ea_8526_8c85905fce33row0_col2 {\n",
       "            background-color:  #008000;\n",
       "            color:  #f1f1f1;\n",
       "            background-color:  red;\n",
       "        }    #T_c98ec312_9edd_11ea_8526_8c85905fce33row0_col3 {\n",
       "            background-color:  #e5ffe5;\n",
       "            color:  #000000;\n",
       "            : ;\n",
       "        }    #T_c98ec312_9edd_11ea_8526_8c85905fce33row0_col4 {\n",
       "            background-color:  #e5ffe5;\n",
       "            color:  #000000;\n",
       "            : ;\n",
       "        }    #T_c98ec312_9edd_11ea_8526_8c85905fce33row1_col1 {\n",
       "            background-color:  #e4fee4;\n",
       "            color:  #000000;\n",
       "            : ;\n",
       "        }    #T_c98ec312_9edd_11ea_8526_8c85905fce33row1_col2 {\n",
       "            background-color:  #bbe8bb;\n",
       "            color:  #000000;\n",
       "            : ;\n",
       "        }    #T_c98ec312_9edd_11ea_8526_8c85905fce33row1_col3 {\n",
       "            background-color:  #138a13;\n",
       "            color:  #000000;\n",
       "            : ;\n",
       "        }    #T_c98ec312_9edd_11ea_8526_8c85905fce33row1_col4 {\n",
       "            background-color:  #098509;\n",
       "            color:  #f1f1f1;\n",
       "            : ;\n",
       "        }    #T_c98ec312_9edd_11ea_8526_8c85905fce33row2_col1 {\n",
       "            background-color:  #dbf9db;\n",
       "            color:  #000000;\n",
       "            : ;\n",
       "        }    #T_c98ec312_9edd_11ea_8526_8c85905fce33row2_col2 {\n",
       "            background-color:  #b4e4b4;\n",
       "            color:  #000000;\n",
       "            : ;\n",
       "        }    #T_c98ec312_9edd_11ea_8526_8c85905fce33row2_col3 {\n",
       "            background-color:  #108910;\n",
       "            color:  #f1f1f1;\n",
       "            : ;\n",
       "        }    #T_c98ec312_9edd_11ea_8526_8c85905fce33row2_col4 {\n",
       "            background-color:  #098509;\n",
       "            color:  #f1f1f1;\n",
       "            : ;\n",
       "        }    #T_c98ec312_9edd_11ea_8526_8c85905fce33row3_col1 {\n",
       "            background-color:  #e5ffe5;\n",
       "            color:  #000000;\n",
       "            : ;\n",
       "        }    #T_c98ec312_9edd_11ea_8526_8c85905fce33row3_col2 {\n",
       "            background-color:  #e5ffe5;\n",
       "            color:  #000000;\n",
       "            : ;\n",
       "        }    #T_c98ec312_9edd_11ea_8526_8c85905fce33row3_col3 {\n",
       "            background-color:  #008000;\n",
       "            color:  #f1f1f1;\n",
       "            background-color:  red;\n",
       "        }    #T_c98ec312_9edd_11ea_8526_8c85905fce33row3_col4 {\n",
       "            background-color:  #008000;\n",
       "            color:  #f1f1f1;\n",
       "            background-color:  red;\n",
       "        }</style><table id=\"T_c98ec312_9edd_11ea_8526_8c85905fce33\" ><thead>    <tr>        <th class=\"blank level0\" ></th>        <th class=\"col_heading level0 col0\" >Model</th>        <th class=\"col_heading level0 col1\" >Train Accuracy</th>        <th class=\"col_heading level0 col2\" >Train AUC</th>        <th class=\"col_heading level0 col3\" >Valudation Accuracy</th>        <th class=\"col_heading level0 col4\" >Validation AUC</th>    </tr></thead><tbody>\n",
       "                <tr>\n",
       "                        <th id=\"T_c98ec312_9edd_11ea_8526_8c85905fce33level0_row0\" class=\"row_heading level0 row0\" >0</th>\n",
       "                        <td id=\"T_c98ec312_9edd_11ea_8526_8c85905fce33row0_col0\" class=\"data row0 col0\" >Decision Tree</td>\n",
       "                        <td id=\"T_c98ec312_9edd_11ea_8526_8c85905fce33row0_col1\" class=\"data row0 col1\" >0.991199</td>\n",
       "                        <td id=\"T_c98ec312_9edd_11ea_8526_8c85905fce33row0_col2\" class=\"data row0 col2\" >0.999577</td>\n",
       "                        <td id=\"T_c98ec312_9edd_11ea_8526_8c85905fce33row0_col3\" class=\"data row0 col3\" >0.849165</td>\n",
       "                        <td id=\"T_c98ec312_9edd_11ea_8526_8c85905fce33row0_col4\" class=\"data row0 col4\" >0.633251</td>\n",
       "            </tr>\n",
       "            <tr>\n",
       "                        <th id=\"T_c98ec312_9edd_11ea_8526_8c85905fce33level0_row1\" class=\"row_heading level0 row1\" >1</th>\n",
       "                        <td id=\"T_c98ec312_9edd_11ea_8526_8c85905fce33row1_col0\" class=\"data row1 col0\" >Decision Tree GS 01</td>\n",
       "                        <td id=\"T_c98ec312_9edd_11ea_8526_8c85905fce33row1_col1\" class=\"data row1 col1\" >0.903338</td>\n",
       "                        <td id=\"T_c98ec312_9edd_11ea_8526_8c85905fce33row1_col2\" class=\"data row1 col2\" >0.835154</td>\n",
       "                        <td id=\"T_c98ec312_9edd_11ea_8526_8c85905fce33row1_col3\" class=\"data row1 col3\" >0.897724</td>\n",
       "                        <td id=\"T_c98ec312_9edd_11ea_8526_8c85905fce33row1_col4\" class=\"data row1 col4\" >0.790763</td>\n",
       "            </tr>\n",
       "            <tr>\n",
       "                        <th id=\"T_c98ec312_9edd_11ea_8526_8c85905fce33level0_row2\" class=\"row_heading level0 row2\" >2</th>\n",
       "                        <td id=\"T_c98ec312_9edd_11ea_8526_8c85905fce33row2_col0\" class=\"data row2 col0\" >Decision Tree GS 02</td>\n",
       "                        <td id=\"T_c98ec312_9edd_11ea_8526_8c85905fce33row2_col1\" class=\"data row2 col1\" >0.90698</td>\n",
       "                        <td id=\"T_c98ec312_9edd_11ea_8526_8c85905fce33row2_col2\" class=\"data row2 col2\" >0.841593</td>\n",
       "                        <td id=\"T_c98ec312_9edd_11ea_8526_8c85905fce33row2_col3\" class=\"data row2 col3\" >0.898331</td>\n",
       "                        <td id=\"T_c98ec312_9edd_11ea_8526_8c85905fce33row2_col4\" class=\"data row2 col4\" >0.790935</td>\n",
       "            </tr>\n",
       "            <tr>\n",
       "                        <th id=\"T_c98ec312_9edd_11ea_8526_8c85905fce33level0_row3\" class=\"row_heading level0 row3\" >3</th>\n",
       "                        <td id=\"T_c98ec312_9edd_11ea_8526_8c85905fce33row3_col0\" class=\"data row3 col0\" >Decision Tree GS 03</td>\n",
       "                        <td id=\"T_c98ec312_9edd_11ea_8526_8c85905fce33row3_col1\" class=\"data row3 col1\" >0.90258</td>\n",
       "                        <td id=\"T_c98ec312_9edd_11ea_8526_8c85905fce33row3_col2\" class=\"data row3 col2\" >0.797805</td>\n",
       "                        <td id=\"T_c98ec312_9edd_11ea_8526_8c85905fce33row3_col3\" class=\"data row3 col3\" >0.902124</td>\n",
       "                        <td id=\"T_c98ec312_9edd_11ea_8526_8c85905fce33row3_col4\" class=\"data row3 col4\" >0.797473</td>\n",
       "            </tr>\n",
       "    </tbody></table>"
      ],
      "text/plain": [
       "<pandas.io.formats.style.Styler at 0x1c261195f8>"
      ]
     },
     "execution_count": 79,
     "metadata": {},
     "output_type": "execute_result"
    }
   ],
   "source": [
    "dec_tree_df = pd.DataFrame()\n",
    "dec_tree_df.append([results05, \n",
    "                    results06, \n",
    "                    results07, \n",
    "                    results08]\n",
    "                   ,ignore_index=True).style.background_gradient(cmap=cm02).highlight_max(color='red')"
   ]
  },
  {
   "cell_type": "markdown",
   "metadata": {},
   "source": [
    "Our best performing model out of the Decision Tree hyperparameter tuned models is dec_tree_gs03_model."
   ]
  },
  {
   "cell_type": "markdown",
   "metadata": {},
   "source": [
    "### Gaussian Naive Bayes"
   ]
  },
  {
   "cell_type": "code",
   "execution_count": 80,
   "metadata": {},
   "outputs": [
    {
     "data": {
      "text/plain": [
       "GaussianNB(priors=None, var_smoothing=1e-09)"
      ]
     },
     "execution_count": 80,
     "metadata": {},
     "output_type": "execute_result"
    }
   ],
   "source": [
    "gnb = GaussianNB()\n",
    "gnb.fit(X_train, y_train)"
   ]
  },
  {
   "cell_type": "code",
   "execution_count": 81,
   "metadata": {},
   "outputs": [
    {
     "name": "stdout",
     "output_type": "stream",
     "text": [
      "Accuracy: 0.8770864946889226\n",
      "ROC_AUC of Baseline model (test) = 0.7770426731464855\n"
     ]
    }
   ],
   "source": [
    "GNB_yval_pred = gnb.predict(X_val)\n",
    "GNB_yval_predprob = gnb.predict_proba(X_val)\n",
    "print(\"Accuracy:\",metrics.accuracy_score(y_val, GNB_yval_pred))\n",
    "print(\"ROC_AUC of Baseline model (test) =\", roc_auc_score(y_val, GNB_yval_predprob[:,1]))"
   ]
  },
  {
   "cell_type": "code",
   "execution_count": 82,
   "metadata": {},
   "outputs": [
    {
     "data": {
      "text/html": [
       "<div>\n",
       "<style scoped>\n",
       "    .dataframe tbody tr th:only-of-type {\n",
       "        vertical-align: middle;\n",
       "    }\n",
       "\n",
       "    .dataframe tbody tr th {\n",
       "        vertical-align: top;\n",
       "    }\n",
       "\n",
       "    .dataframe thead th {\n",
       "        text-align: right;\n",
       "    }\n",
       "</style>\n",
       "<table border=\"1\" class=\"dataframe\">\n",
       "  <thead>\n",
       "    <tr style=\"text-align: right;\">\n",
       "      <th></th>\n",
       "      <th>Model</th>\n",
       "      <th>Train Accuracy</th>\n",
       "      <th>Train AUC</th>\n",
       "      <th>Valudation Accuracy</th>\n",
       "      <th>Validation AUC</th>\n",
       "    </tr>\n",
       "  </thead>\n",
       "  <tbody>\n",
       "    <tr>\n",
       "      <th>0</th>\n",
       "      <td>Gaussian Naive Bayes</td>\n",
       "      <td>0.880387</td>\n",
       "      <td>0.771052</td>\n",
       "      <td>0.877086</td>\n",
       "      <td>0.777043</td>\n",
       "    </tr>\n",
       "  </tbody>\n",
       "</table>\n",
       "</div>"
      ],
      "text/plain": [
       "                  Model  Train Accuracy  Train AUC  Valudation Accuracy  \\\n",
       "0  Gaussian Naive Bayes        0.880387   0.771052             0.877086   \n",
       "\n",
       "   Validation AUC  \n",
       "0        0.777043  "
      ]
     },
     "execution_count": 82,
     "metadata": {},
     "output_type": "execute_result"
    }
   ],
   "source": [
    "results09 = table(\"Gaussian Naive Bayes\", gnb, X_train, X_val)\n",
    "results09"
   ]
  },
  {
   "cell_type": "code",
   "execution_count": 83,
   "metadata": {},
   "outputs": [
    {
     "data": {
      "text/html": [
       "<div>\n",
       "<style scoped>\n",
       "    .dataframe tbody tr th:only-of-type {\n",
       "        vertical-align: middle;\n",
       "    }\n",
       "\n",
       "    .dataframe tbody tr th {\n",
       "        vertical-align: top;\n",
       "    }\n",
       "\n",
       "    .dataframe thead th {\n",
       "        text-align: right;\n",
       "    }\n",
       "</style>\n",
       "<table border=\"1\" class=\"dataframe\">\n",
       "  <thead>\n",
       "    <tr style=\"text-align: right;\">\n",
       "      <th></th>\n",
       "      <th>Model</th>\n",
       "      <th>Train Accuracy</th>\n",
       "      <th>Train AUC</th>\n",
       "      <th>Valudation Accuracy</th>\n",
       "      <th>Validation AUC</th>\n",
       "    </tr>\n",
       "  </thead>\n",
       "  <tbody>\n",
       "    <tr>\n",
       "      <th>0</th>\n",
       "      <td>Gaussian Naive Bayes</td>\n",
       "      <td>0.880387</td>\n",
       "      <td>0.771052</td>\n",
       "      <td>0.877086</td>\n",
       "      <td>0.777043</td>\n",
       "    </tr>\n",
       "  </tbody>\n",
       "</table>\n",
       "</div>"
      ],
      "text/plain": [
       "                  Model  Train Accuracy  Train AUC  Valudation Accuracy  \\\n",
       "0  Gaussian Naive Bayes        0.880387   0.771052             0.877086   \n",
       "\n",
       "   Validation AUC  \n",
       "0        0.777043  "
      ]
     },
     "execution_count": 83,
     "metadata": {},
     "output_type": "execute_result"
    }
   ],
   "source": [
    "table(\"Gaussian Naive Bayes\", gnb, X_train, X_val)"
   ]
  },
  {
   "cell_type": "markdown",
   "metadata": {},
   "source": [
    "### Random Forest"
   ]
  },
  {
   "cell_type": "code",
   "execution_count": 84,
   "metadata": {},
   "outputs": [
    {
     "data": {
      "text/plain": [
       "RandomForestClassifier(bootstrap=True, ccp_alpha=0.0, class_weight=None,\n",
       "                       criterion='gini', max_depth=None, max_features='auto',\n",
       "                       max_leaf_nodes=None, max_samples=None,\n",
       "                       min_impurity_decrease=0.0, min_impurity_split=None,\n",
       "                       min_samples_leaf=1, min_samples_split=2,\n",
       "                       min_weight_fraction_leaf=0.0, n_estimators=100,\n",
       "                       n_jobs=None, oob_score=False, random_state=None,\n",
       "                       verbose=0, warm_start=False)"
      ]
     },
     "execution_count": 84,
     "metadata": {},
     "output_type": "execute_result"
    }
   ],
   "source": [
    "ran_for = RandomForestClassifier()\n",
    "ran_for.fit(X_train, y_train)"
   ]
  },
  {
   "cell_type": "code",
   "execution_count": 85,
   "metadata": {},
   "outputs": [
    {
     "data": {
      "text/plain": [
       "0.9911229135053111"
      ]
     },
     "execution_count": 85,
     "metadata": {},
     "output_type": "execute_result"
    }
   ],
   "source": [
    "ran_for.score(X_train, y_train)"
   ]
  },
  {
   "cell_type": "code",
   "execution_count": 86,
   "metadata": {},
   "outputs": [
    {
     "data": {
      "text/html": [
       "<div>\n",
       "<style scoped>\n",
       "    .dataframe tbody tr th:only-of-type {\n",
       "        vertical-align: middle;\n",
       "    }\n",
       "\n",
       "    .dataframe tbody tr th {\n",
       "        vertical-align: top;\n",
       "    }\n",
       "\n",
       "    .dataframe thead th {\n",
       "        text-align: right;\n",
       "    }\n",
       "</style>\n",
       "<table border=\"1\" class=\"dataframe\">\n",
       "  <thead>\n",
       "    <tr style=\"text-align: right;\">\n",
       "      <th></th>\n",
       "      <th>Model</th>\n",
       "      <th>Train Accuracy</th>\n",
       "      <th>Train AUC</th>\n",
       "      <th>Valudation Accuracy</th>\n",
       "      <th>Validation AUC</th>\n",
       "    </tr>\n",
       "  </thead>\n",
       "  <tbody>\n",
       "    <tr>\n",
       "      <th>0</th>\n",
       "      <td>Random Forest</td>\n",
       "      <td>0.991123</td>\n",
       "      <td>0.999328</td>\n",
       "      <td>0.894841</td>\n",
       "      <td>0.774321</td>\n",
       "    </tr>\n",
       "  </tbody>\n",
       "</table>\n",
       "</div>"
      ],
      "text/plain": [
       "           Model  Train Accuracy  Train AUC  Valudation Accuracy  \\\n",
       "0  Random Forest        0.991123   0.999328             0.894841   \n",
       "\n",
       "   Validation AUC  \n",
       "0        0.774321  "
      ]
     },
     "execution_count": 86,
     "metadata": {},
     "output_type": "execute_result"
    }
   ],
   "source": [
    "results10 = table(\"Random Forest\", ran_for, X_train, X_val)\n",
    "results10"
   ]
  },
  {
   "cell_type": "code",
   "execution_count": 87,
   "metadata": {},
   "outputs": [
    {
     "data": {
      "text/html": [
       "<div>\n",
       "<style scoped>\n",
       "    .dataframe tbody tr th:only-of-type {\n",
       "        vertical-align: middle;\n",
       "    }\n",
       "\n",
       "    .dataframe tbody tr th {\n",
       "        vertical-align: top;\n",
       "    }\n",
       "\n",
       "    .dataframe thead th {\n",
       "        text-align: right;\n",
       "    }\n",
       "</style>\n",
       "<table border=\"1\" class=\"dataframe\">\n",
       "  <thead>\n",
       "    <tr style=\"text-align: right;\">\n",
       "      <th></th>\n",
       "      <th>Model</th>\n",
       "      <th>Train Accuracy</th>\n",
       "      <th>Train AUC</th>\n",
       "      <th>Valudation Accuracy</th>\n",
       "      <th>Validation AUC</th>\n",
       "    </tr>\n",
       "  </thead>\n",
       "  <tbody>\n",
       "    <tr>\n",
       "      <th>0</th>\n",
       "      <td>Random Forest</td>\n",
       "      <td>0.991123</td>\n",
       "      <td>0.999328</td>\n",
       "      <td>0.894841</td>\n",
       "      <td>0.774321</td>\n",
       "    </tr>\n",
       "  </tbody>\n",
       "</table>\n",
       "</div>"
      ],
      "text/plain": [
       "           Model  Train Accuracy  Train AUC  Valudation Accuracy  \\\n",
       "0  Random Forest        0.991123   0.999328             0.894841   \n",
       "\n",
       "   Validation AUC  \n",
       "0        0.774321  "
      ]
     },
     "execution_count": 87,
     "metadata": {},
     "output_type": "execute_result"
    }
   ],
   "source": [
    "table('Random Forest', ran_for, X_train, X_val)"
   ]
  },
  {
   "cell_type": "markdown",
   "metadata": {},
   "source": [
    "### Random Forest Hyperparameter Tuning"
   ]
  },
  {
   "cell_type": "markdown",
   "metadata": {},
   "source": [
    "#### Iteration 1:"
   ]
  },
  {
   "cell_type": "code",
   "execution_count": 88,
   "metadata": {},
   "outputs": [],
   "source": [
    "param_grid08 = {'max_depth':range(10,50+1,10),\n",
    "                'min_samples_leaf':[5,10,15,20],\n",
    "                'criterion':['gini', \"entropy\"],\n",
    "               'class_weight': [None,'balanced']}"
   ]
  },
  {
   "cell_type": "code",
   "execution_count": 89,
   "metadata": {},
   "outputs": [
    {
     "data": {
      "text/plain": [
       "GridSearchCV(cv=5, error_score=nan,\n",
       "             estimator=RandomForestClassifier(bootstrap=True, ccp_alpha=0.0,\n",
       "                                              class_weight=None,\n",
       "                                              criterion='gini', max_depth=None,\n",
       "                                              max_features='auto',\n",
       "                                              max_leaf_nodes=None,\n",
       "                                              max_samples=None,\n",
       "                                              min_impurity_decrease=0.0,\n",
       "                                              min_impurity_split=None,\n",
       "                                              min_samples_leaf=1,\n",
       "                                              min_samples_split=2,\n",
       "                                              min_weight_fraction_leaf=0.0,\n",
       "                                              n_estimators=100, n_jobs=None,\n",
       "                                              oob_score=False,\n",
       "                                              random_state=None, verbose=0,\n",
       "                                              warm_start=False),\n",
       "             iid='deprecated', n_jobs=None,\n",
       "             param_grid={'class_weight': [None, 'balanced'],\n",
       "                         'criterion': ['gini', 'entropy'],\n",
       "                         'max_depth': range(10, 51, 10),\n",
       "                         'min_samples_leaf': [5, 10, 15, 20]},\n",
       "             pre_dispatch='2*n_jobs', refit=True, return_train_score=True,\n",
       "             scoring='roc_auc', verbose=0)"
      ]
     },
     "execution_count": 89,
     "metadata": {},
     "output_type": "execute_result"
    }
   ],
   "source": [
    "ran_for_gs01 = GridSearchCV(ran_for,\n",
    "                         param_grid08,\n",
    "                         cv=5,\n",
    "                         scoring='roc_auc',\n",
    "                         return_train_score=True)\n",
    "\n",
    "ran_for_gs01.fit(X_train,y_train)"
   ]
  },
  {
   "cell_type": "code",
   "execution_count": 90,
   "metadata": {},
   "outputs": [
    {
     "data": {
      "text/plain": [
       "RandomForestClassifier(bootstrap=True, ccp_alpha=0.0, class_weight='balanced',\n",
       "                       criterion='entropy', max_depth=10, max_features='auto',\n",
       "                       max_leaf_nodes=None, max_samples=None,\n",
       "                       min_impurity_decrease=0.0, min_impurity_split=None,\n",
       "                       min_samples_leaf=15, min_samples_split=2,\n",
       "                       min_weight_fraction_leaf=0.0, n_estimators=100,\n",
       "                       n_jobs=None, oob_score=False, random_state=None,\n",
       "                       verbose=0, warm_start=False)"
      ]
     },
     "execution_count": 90,
     "metadata": {},
     "output_type": "execute_result"
    }
   ],
   "source": [
    "ran_for_gs01_model = ran_for_gs01.best_estimator_\n",
    "ran_for_gs01_model"
   ]
  },
  {
   "cell_type": "code",
   "execution_count": null,
   "metadata": {},
   "outputs": [],
   "source": []
  },
  {
   "cell_type": "code",
   "execution_count": 91,
   "metadata": {},
   "outputs": [
    {
     "data": {
      "text/html": [
       "<div>\n",
       "<style scoped>\n",
       "    .dataframe tbody tr th:only-of-type {\n",
       "        vertical-align: middle;\n",
       "    }\n",
       "\n",
       "    .dataframe tbody tr th {\n",
       "        vertical-align: top;\n",
       "    }\n",
       "\n",
       "    .dataframe thead th {\n",
       "        text-align: right;\n",
       "    }\n",
       "</style>\n",
       "<table border=\"1\" class=\"dataframe\">\n",
       "  <thead>\n",
       "    <tr style=\"text-align: right;\">\n",
       "      <th></th>\n",
       "      <th>Model</th>\n",
       "      <th>Train Accuracy</th>\n",
       "      <th>Train AUC</th>\n",
       "      <th>Valudation Accuracy</th>\n",
       "      <th>Validation AUC</th>\n",
       "    </tr>\n",
       "  </thead>\n",
       "  <tbody>\n",
       "    <tr>\n",
       "      <th>0</th>\n",
       "      <td>Random Forest GS01</td>\n",
       "      <td>0.859181</td>\n",
       "      <td>0.845764</td>\n",
       "      <td>0.858574</td>\n",
       "      <td>0.806518</td>\n",
       "    </tr>\n",
       "  </tbody>\n",
       "</table>\n",
       "</div>"
      ],
      "text/plain": [
       "                Model  Train Accuracy  Train AUC  Valudation Accuracy  \\\n",
       "0  Random Forest GS01        0.859181   0.845764             0.858574   \n",
       "\n",
       "   Validation AUC  \n",
       "0        0.806518  "
      ]
     },
     "execution_count": 91,
     "metadata": {},
     "output_type": "execute_result"
    }
   ],
   "source": [
    "table(\"Random Forest GS01\",ran_for_gs01, X_train, X_val)"
   ]
  },
  {
   "cell_type": "code",
   "execution_count": 92,
   "metadata": {},
   "outputs": [
    {
     "name": "stdout",
     "output_type": "stream",
     "text": [
      "Accuracy:  0.8585735963581184\n",
      "ROC_AUC of Baseline model (val) = 0.806517582899768\n"
     ]
    }
   ],
   "source": [
    "ran_for_gs01_yval_pred = ran_for_gs01_model.predict(X_val)\n",
    "ran_for_gs01_yval_predprob = ran_for_gs01_model.predict_proba(X_val)\n",
    "print('Accuracy: ', accuracy_score(y_val, ran_for_gs01_yval_pred))\n",
    "print(\"ROC_AUC of Baseline model (val) =\", roc_auc_score(y_val, ran_for_gs01_yval_predprob[:,1]))"
   ]
  },
  {
   "cell_type": "code",
   "execution_count": 93,
   "metadata": {},
   "outputs": [
    {
     "data": {
      "text/html": [
       "<div>\n",
       "<style scoped>\n",
       "    .dataframe tbody tr th:only-of-type {\n",
       "        vertical-align: middle;\n",
       "    }\n",
       "\n",
       "    .dataframe tbody tr th {\n",
       "        vertical-align: top;\n",
       "    }\n",
       "\n",
       "    .dataframe thead th {\n",
       "        text-align: right;\n",
       "    }\n",
       "</style>\n",
       "<table border=\"1\" class=\"dataframe\">\n",
       "  <thead>\n",
       "    <tr style=\"text-align: right;\">\n",
       "      <th></th>\n",
       "      <th>Model</th>\n",
       "      <th>Train Accuracy</th>\n",
       "      <th>Train AUC</th>\n",
       "      <th>Valudation Accuracy</th>\n",
       "      <th>Validation AUC</th>\n",
       "    </tr>\n",
       "  </thead>\n",
       "  <tbody>\n",
       "    <tr>\n",
       "      <th>0</th>\n",
       "      <td>Random Forest GS01</td>\n",
       "      <td>0.859181</td>\n",
       "      <td>0.845764</td>\n",
       "      <td>0.858574</td>\n",
       "      <td>0.806518</td>\n",
       "    </tr>\n",
       "  </tbody>\n",
       "</table>\n",
       "</div>"
      ],
      "text/plain": [
       "                Model  Train Accuracy  Train AUC  Valudation Accuracy  \\\n",
       "0  Random Forest GS01        0.859181   0.845764             0.858574   \n",
       "\n",
       "   Validation AUC  \n",
       "0        0.806518  "
      ]
     },
     "execution_count": 93,
     "metadata": {},
     "output_type": "execute_result"
    }
   ],
   "source": [
    "results11 = table(\"Random Forest GS01\", ran_for_gs01, X_train, X_val)\n",
    "results11"
   ]
  },
  {
   "cell_type": "markdown",
   "metadata": {},
   "source": [
    "#### Iteration 2:"
   ]
  },
  {
   "cell_type": "code",
   "execution_count": 94,
   "metadata": {},
   "outputs": [],
   "source": [
    "param_grid09 = {'max_depth':[5,10,20],\n",
    "                'min_samples_leaf':[10,15,20],\n",
    "                'criterion':['gini', \"entropy\"],\n",
    "               'class_weight': [None,'balanced']}"
   ]
  },
  {
   "cell_type": "code",
   "execution_count": 95,
   "metadata": {},
   "outputs": [
    {
     "data": {
      "text/plain": [
       "GridSearchCV(cv=5, error_score=nan,\n",
       "             estimator=RandomForestClassifier(bootstrap=True, ccp_alpha=0.0,\n",
       "                                              class_weight=None,\n",
       "                                              criterion='gini', max_depth=None,\n",
       "                                              max_features='auto',\n",
       "                                              max_leaf_nodes=None,\n",
       "                                              max_samples=None,\n",
       "                                              min_impurity_decrease=0.0,\n",
       "                                              min_impurity_split=None,\n",
       "                                              min_samples_leaf=1,\n",
       "                                              min_samples_split=2,\n",
       "                                              min_weight_fraction_leaf=0.0,\n",
       "                                              n_estimators=100, n_jobs=None,\n",
       "                                              oob_score=False,\n",
       "                                              random_state=None, verbose=0,\n",
       "                                              warm_start=False),\n",
       "             iid='deprecated', n_jobs=None,\n",
       "             param_grid={'class_weight': [None, 'balanced'],\n",
       "                         'criterion': ['gini', 'entropy'],\n",
       "                         'max_depth': [5, 10, 20],\n",
       "                         'min_samples_leaf': [10, 15, 20]},\n",
       "             pre_dispatch='2*n_jobs', refit=True, return_train_score=True,\n",
       "             scoring='roc_auc', verbose=0)"
      ]
     },
     "execution_count": 95,
     "metadata": {},
     "output_type": "execute_result"
    }
   ],
   "source": [
    "ran_for_gs02 = GridSearchCV(ran_for,\n",
    "                         param_grid09,\n",
    "                         cv=5,\n",
    "                         scoring='roc_auc',\n",
    "                         return_train_score=True)\n",
    "\n",
    "ran_for_gs02.fit(X_train,y_train)"
   ]
  },
  {
   "cell_type": "code",
   "execution_count": 96,
   "metadata": {},
   "outputs": [
    {
     "data": {
      "text/plain": [
       "RandomForestClassifier(bootstrap=True, ccp_alpha=0.0, class_weight='balanced',\n",
       "                       criterion='entropy', max_depth=10, max_features='auto',\n",
       "                       max_leaf_nodes=None, max_samples=None,\n",
       "                       min_impurity_decrease=0.0, min_impurity_split=None,\n",
       "                       min_samples_leaf=10, min_samples_split=2,\n",
       "                       min_weight_fraction_leaf=0.0, n_estimators=100,\n",
       "                       n_jobs=None, oob_score=False, random_state=None,\n",
       "                       verbose=0, warm_start=False)"
      ]
     },
     "execution_count": 96,
     "metadata": {},
     "output_type": "execute_result"
    }
   ],
   "source": [
    "ran_for_gs02_model = ran_for_gs02.best_estimator_\n",
    "ran_for_gs02_model"
   ]
  },
  {
   "cell_type": "code",
   "execution_count": 97,
   "metadata": {},
   "outputs": [
    {
     "name": "stdout",
     "output_type": "stream",
     "text": [
      "Accuracy:  0.8603945371775418\n",
      "ROC_AUC of Baseline model (val) = 0.8057460149483224\n"
     ]
    }
   ],
   "source": [
    "ran_for_gs02_yval_pred = ran_for_gs02_model.predict(X_val)\n",
    "ran_for_gs02_yval_predprob = ran_for_gs02_model.predict_proba(X_val)\n",
    "print('Accuracy: ', accuracy_score(y_val, ran_for_gs02_yval_pred))\n",
    "print(\"ROC_AUC of Baseline model (val) =\", roc_auc_score(y_val, ran_for_gs02_yval_predprob[:,1]))"
   ]
  },
  {
   "cell_type": "code",
   "execution_count": 98,
   "metadata": {},
   "outputs": [
    {
     "name": "stdout",
     "output_type": "stream",
     "text": [
      "Accuracy:  0.8601669195751138\n",
      "ROC_AUC of Baseline model (train) = 0.8514062490105525\n"
     ]
    }
   ],
   "source": [
    "ran_for_gs02_ytrain_pred = ran_for_gs02_model.predict(X_train)\n",
    "ran_for_gs02_ytrain_predprob = ran_for_gs02_model.predict_proba(X_train)\n",
    "print('Accuracy: ', accuracy_score(y_train, ran_for_gs02_ytrain_pred))\n",
    "print(\"ROC_AUC of Baseline model (train) =\", roc_auc_score(y_train, ran_for_gs02_ytrain_predprob[:,1]))"
   ]
  },
  {
   "cell_type": "code",
   "execution_count": 99,
   "metadata": {},
   "outputs": [
    {
     "name": "stdout",
     "output_type": "stream",
     "text": [
      "Accuracy:  0.855668851663025\n",
      "ROC_AUC of Baseline model (test) = 0.789812112962148\n"
     ]
    }
   ],
   "source": [
    "ran_for_gs02_ytest_pred = ran_for_gs02_model.predict(X_test)\n",
    "ran_for_gs02_ytest_predprob = ran_for_gs02_model.predict_proba(X_test)\n",
    "print('Accuracy: ', accuracy_score(y_test, ran_for_gs02_ytest_pred))\n",
    "print(\"ROC_AUC of Baseline model (test) =\", roc_auc_score(y_test, ran_for_gs02_ytest_predprob[:,1]))"
   ]
  },
  {
   "cell_type": "code",
   "execution_count": 100,
   "metadata": {},
   "outputs": [
    {
     "data": {
      "text/html": [
       "<div>\n",
       "<style scoped>\n",
       "    .dataframe tbody tr th:only-of-type {\n",
       "        vertical-align: middle;\n",
       "    }\n",
       "\n",
       "    .dataframe tbody tr th {\n",
       "        vertical-align: top;\n",
       "    }\n",
       "\n",
       "    .dataframe thead th {\n",
       "        text-align: right;\n",
       "    }\n",
       "</style>\n",
       "<table border=\"1\" class=\"dataframe\">\n",
       "  <thead>\n",
       "    <tr style=\"text-align: right;\">\n",
       "      <th></th>\n",
       "      <th>Model</th>\n",
       "      <th>Train Accuracy</th>\n",
       "      <th>Train AUC</th>\n",
       "      <th>Valudation Accuracy</th>\n",
       "      <th>Validation AUC</th>\n",
       "    </tr>\n",
       "  </thead>\n",
       "  <tbody>\n",
       "    <tr>\n",
       "      <th>0</th>\n",
       "      <td>Random Forest GS02</td>\n",
       "      <td>0.860167</td>\n",
       "      <td>0.851406</td>\n",
       "      <td>0.860395</td>\n",
       "      <td>0.805746</td>\n",
       "    </tr>\n",
       "  </tbody>\n",
       "</table>\n",
       "</div>"
      ],
      "text/plain": [
       "                Model  Train Accuracy  Train AUC  Valudation Accuracy  \\\n",
       "0  Random Forest GS02        0.860167   0.851406             0.860395   \n",
       "\n",
       "   Validation AUC  \n",
       "0        0.805746  "
      ]
     },
     "execution_count": 100,
     "metadata": {},
     "output_type": "execute_result"
    }
   ],
   "source": [
    "results12 = table(\"Random Forest GS02\", ran_for_gs02, X_train, X_val)\n",
    "results12"
   ]
  },
  {
   "cell_type": "code",
   "execution_count": 101,
   "metadata": {},
   "outputs": [
    {
     "data": {
      "text/html": [
       "<div>\n",
       "<style scoped>\n",
       "    .dataframe tbody tr th:only-of-type {\n",
       "        vertical-align: middle;\n",
       "    }\n",
       "\n",
       "    .dataframe tbody tr th {\n",
       "        vertical-align: top;\n",
       "    }\n",
       "\n",
       "    .dataframe thead th {\n",
       "        text-align: right;\n",
       "    }\n",
       "</style>\n",
       "<table border=\"1\" class=\"dataframe\">\n",
       "  <thead>\n",
       "    <tr style=\"text-align: right;\">\n",
       "      <th></th>\n",
       "      <th>Model</th>\n",
       "      <th>Train Accuracy</th>\n",
       "      <th>Train AUC</th>\n",
       "      <th>Valudation Accuracy</th>\n",
       "      <th>Validation AUC</th>\n",
       "    </tr>\n",
       "  </thead>\n",
       "  <tbody>\n",
       "    <tr>\n",
       "      <th>0</th>\n",
       "      <td>Random Forest GS02</td>\n",
       "      <td>0.860167</td>\n",
       "      <td>0.851406</td>\n",
       "      <td>0.860395</td>\n",
       "      <td>0.805746</td>\n",
       "    </tr>\n",
       "  </tbody>\n",
       "</table>\n",
       "</div>"
      ],
      "text/plain": [
       "                Model  Train Accuracy  Train AUC  Valudation Accuracy  \\\n",
       "0  Random Forest GS02        0.860167   0.851406             0.860395   \n",
       "\n",
       "   Validation AUC  \n",
       "0        0.805746  "
      ]
     },
     "execution_count": 101,
     "metadata": {},
     "output_type": "execute_result"
    }
   ],
   "source": [
    "table(\"Random Forest GS02\", ran_for_gs02_model, X_train, X_val)"
   ]
  },
  {
   "cell_type": "markdown",
   "metadata": {},
   "source": [
    "#### Iteration 3:"
   ]
  },
  {
   "cell_type": "code",
   "execution_count": 102,
   "metadata": {},
   "outputs": [],
   "source": [
    "param_grid10 = {'max_depth':[5,10,20],\n",
    "                'min_samples_leaf':[3,5,10],\n",
    "                'criterion':['gini', \"entropy\"],\n",
    "               'class_weight': [None,'balanced']}"
   ]
  },
  {
   "cell_type": "code",
   "execution_count": 103,
   "metadata": {},
   "outputs": [
    {
     "data": {
      "text/plain": [
       "GridSearchCV(cv=5, error_score=nan,\n",
       "             estimator=RandomForestClassifier(bootstrap=True, ccp_alpha=0.0,\n",
       "                                              class_weight=None,\n",
       "                                              criterion='gini', max_depth=None,\n",
       "                                              max_features='auto',\n",
       "                                              max_leaf_nodes=None,\n",
       "                                              max_samples=None,\n",
       "                                              min_impurity_decrease=0.0,\n",
       "                                              min_impurity_split=None,\n",
       "                                              min_samples_leaf=1,\n",
       "                                              min_samples_split=2,\n",
       "                                              min_weight_fraction_leaf=0.0,\n",
       "                                              n_estimators=100, n_jobs=None,\n",
       "                                              oob_score=False,\n",
       "                                              random_state=None, verbose=0,\n",
       "                                              warm_start=False),\n",
       "             iid='deprecated', n_jobs=None,\n",
       "             param_grid={'class_weight': [None, 'balanced'],\n",
       "                         'criterion': ['gini', 'entropy'],\n",
       "                         'max_depth': [5, 10, 20],\n",
       "                         'min_samples_leaf': [3, 5, 10]},\n",
       "             pre_dispatch='2*n_jobs', refit=True, return_train_score=True,\n",
       "             scoring='roc_auc', verbose=0)"
      ]
     },
     "execution_count": 103,
     "metadata": {},
     "output_type": "execute_result"
    }
   ],
   "source": [
    "ran_for_gs03 = GridSearchCV(ran_for,\n",
    "                         param_grid10,\n",
    "                         cv=5,\n",
    "                         scoring='roc_auc',\n",
    "                         return_train_score=True)\n",
    "\n",
    "ran_for_gs03.fit(X_train,y_train)"
   ]
  },
  {
   "cell_type": "code",
   "execution_count": 104,
   "metadata": {},
   "outputs": [
    {
     "data": {
      "text/plain": [
       "RandomForestClassifier(bootstrap=True, ccp_alpha=0.0, class_weight='balanced',\n",
       "                       criterion='entropy', max_depth=10, max_features='auto',\n",
       "                       max_leaf_nodes=None, max_samples=None,\n",
       "                       min_impurity_decrease=0.0, min_impurity_split=None,\n",
       "                       min_samples_leaf=10, min_samples_split=2,\n",
       "                       min_weight_fraction_leaf=0.0, n_estimators=100,\n",
       "                       n_jobs=None, oob_score=False, random_state=None,\n",
       "                       verbose=0, warm_start=False)"
      ]
     },
     "execution_count": 104,
     "metadata": {},
     "output_type": "execute_result"
    }
   ],
   "source": [
    "ran_for_gs03_model = ran_for_gs03.best_estimator_\n",
    "ran_for_gs03_model"
   ]
  },
  {
   "cell_type": "code",
   "execution_count": 105,
   "metadata": {},
   "outputs": [
    {
     "name": "stdout",
     "output_type": "stream",
     "text": [
      "Accuracy:  0.860546282245827\n",
      "ROC_AUC of Baseline model (val) = 0.806591559396905\n"
     ]
    }
   ],
   "source": [
    "ran_for_gs03_yval_pred = ran_for_gs03_model.predict(X_val)\n",
    "ran_for_gs03_yval_predprob = ran_for_gs03_model.predict_proba(X_val)\n",
    "print('Accuracy: ', accuracy_score(y_val, ran_for_gs03_yval_pred))\n",
    "print(\"ROC_AUC of Baseline model (val) =\", roc_auc_score(y_val, ran_for_gs03_yval_predprob[:,1]))"
   ]
  },
  {
   "cell_type": "code",
   "execution_count": 106,
   "metadata": {},
   "outputs": [
    {
     "data": {
      "text/html": [
       "<div>\n",
       "<style scoped>\n",
       "    .dataframe tbody tr th:only-of-type {\n",
       "        vertical-align: middle;\n",
       "    }\n",
       "\n",
       "    .dataframe tbody tr th {\n",
       "        vertical-align: top;\n",
       "    }\n",
       "\n",
       "    .dataframe thead th {\n",
       "        text-align: right;\n",
       "    }\n",
       "</style>\n",
       "<table border=\"1\" class=\"dataframe\">\n",
       "  <thead>\n",
       "    <tr style=\"text-align: right;\">\n",
       "      <th></th>\n",
       "      <th>Model</th>\n",
       "      <th>Train Accuracy</th>\n",
       "      <th>Train AUC</th>\n",
       "      <th>Valudation Accuracy</th>\n",
       "      <th>Validation AUC</th>\n",
       "    </tr>\n",
       "  </thead>\n",
       "  <tbody>\n",
       "    <tr>\n",
       "      <th>0</th>\n",
       "      <td>Random Forest GS03</td>\n",
       "      <td>0.860167</td>\n",
       "      <td>0.849447</td>\n",
       "      <td>0.860546</td>\n",
       "      <td>0.806592</td>\n",
       "    </tr>\n",
       "  </tbody>\n",
       "</table>\n",
       "</div>"
      ],
      "text/plain": [
       "                Model  Train Accuracy  Train AUC  Valudation Accuracy  \\\n",
       "0  Random Forest GS03        0.860167   0.849447             0.860546   \n",
       "\n",
       "   Validation AUC  \n",
       "0        0.806592  "
      ]
     },
     "execution_count": 106,
     "metadata": {},
     "output_type": "execute_result"
    }
   ],
   "source": [
    "results13 = table(\"Random Forest GS03\", ran_for_gs03, X_train, X_val)\n",
    "results13"
   ]
  },
  {
   "cell_type": "code",
   "execution_count": 107,
   "metadata": {},
   "outputs": [
    {
     "data": {
      "text/html": [
       "<div>\n",
       "<style scoped>\n",
       "    .dataframe tbody tr th:only-of-type {\n",
       "        vertical-align: middle;\n",
       "    }\n",
       "\n",
       "    .dataframe tbody tr th {\n",
       "        vertical-align: top;\n",
       "    }\n",
       "\n",
       "    .dataframe thead th {\n",
       "        text-align: right;\n",
       "    }\n",
       "</style>\n",
       "<table border=\"1\" class=\"dataframe\">\n",
       "  <thead>\n",
       "    <tr style=\"text-align: right;\">\n",
       "      <th></th>\n",
       "      <th>Model</th>\n",
       "      <th>Train Accuracy</th>\n",
       "      <th>Train AUC</th>\n",
       "      <th>Valudation Accuracy</th>\n",
       "      <th>Validation AUC</th>\n",
       "    </tr>\n",
       "  </thead>\n",
       "  <tbody>\n",
       "    <tr>\n",
       "      <th>0</th>\n",
       "      <td>Random Forest GS04</td>\n",
       "      <td>0.860167</td>\n",
       "      <td>0.849447</td>\n",
       "      <td>0.860546</td>\n",
       "      <td>0.806592</td>\n",
       "    </tr>\n",
       "  </tbody>\n",
       "</table>\n",
       "</div>"
      ],
      "text/plain": [
       "                Model  Train Accuracy  Train AUC  Valudation Accuracy  \\\n",
       "0  Random Forest GS04        0.860167   0.849447             0.860546   \n",
       "\n",
       "   Validation AUC  \n",
       "0        0.806592  "
      ]
     },
     "execution_count": 107,
     "metadata": {},
     "output_type": "execute_result"
    }
   ],
   "source": [
    "table(\"Random Forest GS04\", ran_for_gs03_model, X_train, X_val)"
   ]
  },
  {
   "cell_type": "markdown",
   "metadata": {},
   "source": [
    "#### Iteration 4:"
   ]
  },
  {
   "cell_type": "code",
   "execution_count": 110,
   "metadata": {},
   "outputs": [],
   "source": [
    "param_grid11 = {'max_depth':[10],\n",
    "                'min_samples_leaf':[10],\n",
    "                'criterion':['gini', \"entropy\"],\n",
    "               'class_weight': [None,'balanced'],\n",
    "               'n_estimators' :[100,200,300]}"
   ]
  },
  {
   "cell_type": "code",
   "execution_count": 111,
   "metadata": {},
   "outputs": [
    {
     "data": {
      "text/plain": [
       "GridSearchCV(cv=5, error_score=nan,\n",
       "             estimator=RandomForestClassifier(bootstrap=True, ccp_alpha=0.0,\n",
       "                                              class_weight=None,\n",
       "                                              criterion='gini', max_depth=None,\n",
       "                                              max_features='auto',\n",
       "                                              max_leaf_nodes=None,\n",
       "                                              max_samples=None,\n",
       "                                              min_impurity_decrease=0.0,\n",
       "                                              min_impurity_split=None,\n",
       "                                              min_samples_leaf=1,\n",
       "                                              min_samples_split=2,\n",
       "                                              min_weight_fraction_leaf=0.0,\n",
       "                                              n_estimators=100, n_jobs=None,\n",
       "                                              oob_score=False,\n",
       "                                              random_state=None, verbose=0,\n",
       "                                              warm_start=False),\n",
       "             iid='deprecated', n_jobs=None,\n",
       "             param_grid={'class_weight': [None, 'balanced'],\n",
       "                         'criterion': ['gini', 'entropy'], 'max_depth': [10],\n",
       "                         'min_samples_leaf': [10],\n",
       "                         'n_estimators': [100, 200, 300]},\n",
       "             pre_dispatch='2*n_jobs', refit=True, return_train_score=True,\n",
       "             scoring='roc_auc', verbose=0)"
      ]
     },
     "execution_count": 111,
     "metadata": {},
     "output_type": "execute_result"
    }
   ],
   "source": [
    "ran_for_gs04 = GridSearchCV(ran_for,\n",
    "                         param_grid11,\n",
    "                         cv=5,\n",
    "                         scoring='roc_auc',\n",
    "                         return_train_score=True)\n",
    "\n",
    "ran_for_gs04.fit(X_train,y_train)"
   ]
  },
  {
   "cell_type": "code",
   "execution_count": 112,
   "metadata": {},
   "outputs": [
    {
     "data": {
      "text/plain": [
       "{'class_weight': 'balanced',\n",
       " 'criterion': 'entropy',\n",
       " 'max_depth': 10,\n",
       " 'min_samples_leaf': 10,\n",
       " 'n_estimators': 300}"
      ]
     },
     "execution_count": 112,
     "metadata": {},
     "output_type": "execute_result"
    }
   ],
   "source": [
    "ran_for_gs04.best_params_"
   ]
  },
  {
   "cell_type": "code",
   "execution_count": 113,
   "metadata": {},
   "outputs": [
    {
     "data": {
      "text/plain": [
       "RandomForestClassifier(bootstrap=True, ccp_alpha=0.0, class_weight='balanced',\n",
       "                       criterion='entropy', max_depth=10, max_features='auto',\n",
       "                       max_leaf_nodes=None, max_samples=None,\n",
       "                       min_impurity_decrease=0.0, min_impurity_split=None,\n",
       "                       min_samples_leaf=10, min_samples_split=2,\n",
       "                       min_weight_fraction_leaf=0.0, n_estimators=300,\n",
       "                       n_jobs=None, oob_score=False, random_state=None,\n",
       "                       verbose=0, warm_start=False)"
      ]
     },
     "execution_count": 113,
     "metadata": {},
     "output_type": "execute_result"
    }
   ],
   "source": [
    "ran_for_gs04_model = ran_for_gs04.best_estimator_\n",
    "ran_for_gs04_model"
   ]
  },
  {
   "cell_type": "code",
   "execution_count": 114,
   "metadata": {},
   "outputs": [
    {
     "name": "stdout",
     "output_type": "stream",
     "text": [
      "Accuracy:  0.8610015174506829\n",
      "ROC_AUC of Baseline model (val) = 0.8072202443943791\n"
     ]
    }
   ],
   "source": [
    "ran_for_gs04_yval_pred = ran_for_gs04_model.predict(X_val)\n",
    "ran_for_gs04_yval_predprob = ran_for_gs04_model.predict_proba(X_val)\n",
    "print('Accuracy: ', accuracy_score(y_val, ran_for_gs04_yval_pred))\n",
    "print(\"ROC_AUC of Baseline model (val) =\", roc_auc_score(y_val, ran_for_gs04_yval_predprob[:,1]))"
   ]
  },
  {
   "cell_type": "code",
   "execution_count": 115,
   "metadata": {},
   "outputs": [
    {
     "data": {
      "text/html": [
       "<div>\n",
       "<style scoped>\n",
       "    .dataframe tbody tr th:only-of-type {\n",
       "        vertical-align: middle;\n",
       "    }\n",
       "\n",
       "    .dataframe tbody tr th {\n",
       "        vertical-align: top;\n",
       "    }\n",
       "\n",
       "    .dataframe thead th {\n",
       "        text-align: right;\n",
       "    }\n",
       "</style>\n",
       "<table border=\"1\" class=\"dataframe\">\n",
       "  <thead>\n",
       "    <tr style=\"text-align: right;\">\n",
       "      <th></th>\n",
       "      <th>Model</th>\n",
       "      <th>Train Accuracy</th>\n",
       "      <th>Train AUC</th>\n",
       "      <th>Valudation Accuracy</th>\n",
       "      <th>Validation AUC</th>\n",
       "    </tr>\n",
       "  </thead>\n",
       "  <tbody>\n",
       "    <tr>\n",
       "      <th>0</th>\n",
       "      <td>Random Forest GS04</td>\n",
       "      <td>0.860964</td>\n",
       "      <td>0.850998</td>\n",
       "      <td>0.861002</td>\n",
       "      <td>0.80722</td>\n",
       "    </tr>\n",
       "  </tbody>\n",
       "</table>\n",
       "</div>"
      ],
      "text/plain": [
       "                Model  Train Accuracy  Train AUC  Valudation Accuracy  \\\n",
       "0  Random Forest GS04        0.860964   0.850998             0.861002   \n",
       "\n",
       "   Validation AUC  \n",
       "0         0.80722  "
      ]
     },
     "execution_count": 115,
     "metadata": {},
     "output_type": "execute_result"
    }
   ],
   "source": [
    "results14 = table(\"Random Forest GS04\", ran_for_gs04, X_train, X_val)\n",
    "results14"
   ]
  },
  {
   "cell_type": "code",
   "execution_count": 116,
   "metadata": {},
   "outputs": [
    {
     "data": {
      "text/html": [
       "<div>\n",
       "<style scoped>\n",
       "    .dataframe tbody tr th:only-of-type {\n",
       "        vertical-align: middle;\n",
       "    }\n",
       "\n",
       "    .dataframe tbody tr th {\n",
       "        vertical-align: top;\n",
       "    }\n",
       "\n",
       "    .dataframe thead th {\n",
       "        text-align: right;\n",
       "    }\n",
       "</style>\n",
       "<table border=\"1\" class=\"dataframe\">\n",
       "  <thead>\n",
       "    <tr style=\"text-align: right;\">\n",
       "      <th></th>\n",
       "      <th>Model</th>\n",
       "      <th>Train Accuracy</th>\n",
       "      <th>Train AUC</th>\n",
       "      <th>Valudation Accuracy</th>\n",
       "      <th>Validation AUC</th>\n",
       "    </tr>\n",
       "  </thead>\n",
       "  <tbody>\n",
       "    <tr>\n",
       "      <th>0</th>\n",
       "      <td>Random Forest GS04</td>\n",
       "      <td>0.860964</td>\n",
       "      <td>0.850998</td>\n",
       "      <td>0.861002</td>\n",
       "      <td>0.80722</td>\n",
       "    </tr>\n",
       "  </tbody>\n",
       "</table>\n",
       "</div>"
      ],
      "text/plain": [
       "                Model  Train Accuracy  Train AUC  Valudation Accuracy  \\\n",
       "0  Random Forest GS04        0.860964   0.850998             0.861002   \n",
       "\n",
       "   Validation AUC  \n",
       "0         0.80722  "
      ]
     },
     "execution_count": 116,
     "metadata": {},
     "output_type": "execute_result"
    }
   ],
   "source": [
    "table(\"Random Forest GS04\", ran_for_gs04_model, X_train, X_val)"
   ]
  },
  {
   "cell_type": "markdown",
   "metadata": {},
   "source": [
    "### Random Forest Hyperparameter Results Summary"
   ]
  },
  {
   "cell_type": "code",
   "execution_count": 117,
   "metadata": {},
   "outputs": [],
   "source": [
    "cm03 = sns.light_palette(\"yellow\", as_cmap=True)"
   ]
  },
  {
   "cell_type": "code",
   "execution_count": 118,
   "metadata": {},
   "outputs": [
    {
     "data": {
      "text/html": [
       "<style  type=\"text/css\" >\n",
       "    #T_dda2b1e8_9ee1_11ea_8526_8c85905fce33row0_col1 {\n",
       "            background-color:  #ffff00;\n",
       "            color:  #000000;\n",
       "            background-color:  red;\n",
       "        }    #T_dda2b1e8_9ee1_11ea_8526_8c85905fce33row0_col2 {\n",
       "            background-color:  #ffff00;\n",
       "            color:  #000000;\n",
       "            background-color:  red;\n",
       "        }    #T_dda2b1e8_9ee1_11ea_8526_8c85905fce33row0_col3 {\n",
       "            background-color:  #ffff00;\n",
       "            color:  #000000;\n",
       "            background-color:  red;\n",
       "        }    #T_dda2b1e8_9ee1_11ea_8526_8c85905fce33row0_col4 {\n",
       "            background-color:  #ffffe5;\n",
       "            color:  #000000;\n",
       "            : ;\n",
       "        }    #T_dda2b1e8_9ee1_11ea_8526_8c85905fce33row1_col1 {\n",
       "            background-color:  #ffffe5;\n",
       "            color:  #000000;\n",
       "            : ;\n",
       "        }    #T_dda2b1e8_9ee1_11ea_8526_8c85905fce33row1_col2 {\n",
       "            background-color:  #ffffe5;\n",
       "            color:  #000000;\n",
       "            : ;\n",
       "        }    #T_dda2b1e8_9ee1_11ea_8526_8c85905fce33row1_col3 {\n",
       "            background-color:  #ffffe5;\n",
       "            color:  #000000;\n",
       "            : ;\n",
       "        }    #T_dda2b1e8_9ee1_11ea_8526_8c85905fce33row1_col4 {\n",
       "            background-color:  #ffff05;\n",
       "            color:  #000000;\n",
       "            : ;\n",
       "        }    #T_dda2b1e8_9ee1_11ea_8526_8c85905fce33row2_col1 {\n",
       "            background-color:  #ffffe5;\n",
       "            color:  #000000;\n",
       "            : ;\n",
       "        }    #T_dda2b1e8_9ee1_11ea_8526_8c85905fce33row2_col2 {\n",
       "            background-color:  #ffffdd;\n",
       "            color:  #000000;\n",
       "            : ;\n",
       "        }    #T_dda2b1e8_9ee1_11ea_8526_8c85905fce33row2_col3 {\n",
       "            background-color:  #ffffdb;\n",
       "            color:  #000000;\n",
       "            : ;\n",
       "        }    #T_dda2b1e8_9ee1_11ea_8526_8c85905fce33row2_col4 {\n",
       "            background-color:  #ffff0a;\n",
       "            color:  #000000;\n",
       "            : ;\n",
       "        }    #T_dda2b1e8_9ee1_11ea_8526_8c85905fce33row3_col1 {\n",
       "            background-color:  #ffffe5;\n",
       "            color:  #000000;\n",
       "            : ;\n",
       "        }    #T_dda2b1e8_9ee1_11ea_8526_8c85905fce33row3_col2 {\n",
       "            background-color:  #ffffe0;\n",
       "            color:  #000000;\n",
       "            : ;\n",
       "        }    #T_dda2b1e8_9ee1_11ea_8526_8c85905fce33row3_col3 {\n",
       "            background-color:  #ffffda;\n",
       "            color:  #000000;\n",
       "            : ;\n",
       "        }    #T_dda2b1e8_9ee1_11ea_8526_8c85905fce33row3_col4 {\n",
       "            background-color:  #ffff04;\n",
       "            color:  #000000;\n",
       "            : ;\n",
       "        }    #T_dda2b1e8_9ee1_11ea_8526_8c85905fce33row4_col1 {\n",
       "            background-color:  #ffffe3;\n",
       "            color:  #000000;\n",
       "            : ;\n",
       "        }    #T_dda2b1e8_9ee1_11ea_8526_8c85905fce33row4_col2 {\n",
       "            background-color:  #ffffde;\n",
       "            color:  #000000;\n",
       "            : ;\n",
       "        }    #T_dda2b1e8_9ee1_11ea_8526_8c85905fce33row4_col3 {\n",
       "            background-color:  #ffffd6;\n",
       "            color:  #000000;\n",
       "            : ;\n",
       "        }    #T_dda2b1e8_9ee1_11ea_8526_8c85905fce33row4_col4 {\n",
       "            background-color:  #ffff00;\n",
       "            color:  #000000;\n",
       "            background-color:  red;\n",
       "        }</style><table id=\"T_dda2b1e8_9ee1_11ea_8526_8c85905fce33\" ><thead>    <tr>        <th class=\"blank level0\" ></th>        <th class=\"col_heading level0 col0\" >Model</th>        <th class=\"col_heading level0 col1\" >Train Accuracy</th>        <th class=\"col_heading level0 col2\" >Train AUC</th>        <th class=\"col_heading level0 col3\" >Valudation Accuracy</th>        <th class=\"col_heading level0 col4\" >Validation AUC</th>    </tr></thead><tbody>\n",
       "                <tr>\n",
       "                        <th id=\"T_dda2b1e8_9ee1_11ea_8526_8c85905fce33level0_row0\" class=\"row_heading level0 row0\" >0</th>\n",
       "                        <td id=\"T_dda2b1e8_9ee1_11ea_8526_8c85905fce33row0_col0\" class=\"data row0 col0\" >Random Forest</td>\n",
       "                        <td id=\"T_dda2b1e8_9ee1_11ea_8526_8c85905fce33row0_col1\" class=\"data row0 col1\" >0.991123</td>\n",
       "                        <td id=\"T_dda2b1e8_9ee1_11ea_8526_8c85905fce33row0_col2\" class=\"data row0 col2\" >0.999328</td>\n",
       "                        <td id=\"T_dda2b1e8_9ee1_11ea_8526_8c85905fce33row0_col3\" class=\"data row0 col3\" >0.894841</td>\n",
       "                        <td id=\"T_dda2b1e8_9ee1_11ea_8526_8c85905fce33row0_col4\" class=\"data row0 col4\" >0.774321</td>\n",
       "            </tr>\n",
       "            <tr>\n",
       "                        <th id=\"T_dda2b1e8_9ee1_11ea_8526_8c85905fce33level0_row1\" class=\"row_heading level0 row1\" >1</th>\n",
       "                        <td id=\"T_dda2b1e8_9ee1_11ea_8526_8c85905fce33row1_col0\" class=\"data row1 col0\" >Random Forest GS01</td>\n",
       "                        <td id=\"T_dda2b1e8_9ee1_11ea_8526_8c85905fce33row1_col1\" class=\"data row1 col1\" >0.859181</td>\n",
       "                        <td id=\"T_dda2b1e8_9ee1_11ea_8526_8c85905fce33row1_col2\" class=\"data row1 col2\" >0.845764</td>\n",
       "                        <td id=\"T_dda2b1e8_9ee1_11ea_8526_8c85905fce33row1_col3\" class=\"data row1 col3\" >0.858574</td>\n",
       "                        <td id=\"T_dda2b1e8_9ee1_11ea_8526_8c85905fce33row1_col4\" class=\"data row1 col4\" >0.806518</td>\n",
       "            </tr>\n",
       "            <tr>\n",
       "                        <th id=\"T_dda2b1e8_9ee1_11ea_8526_8c85905fce33level0_row2\" class=\"row_heading level0 row2\" >2</th>\n",
       "                        <td id=\"T_dda2b1e8_9ee1_11ea_8526_8c85905fce33row2_col0\" class=\"data row2 col0\" >Random Forest GS02</td>\n",
       "                        <td id=\"T_dda2b1e8_9ee1_11ea_8526_8c85905fce33row2_col1\" class=\"data row2 col1\" >0.860167</td>\n",
       "                        <td id=\"T_dda2b1e8_9ee1_11ea_8526_8c85905fce33row2_col2\" class=\"data row2 col2\" >0.851406</td>\n",
       "                        <td id=\"T_dda2b1e8_9ee1_11ea_8526_8c85905fce33row2_col3\" class=\"data row2 col3\" >0.860395</td>\n",
       "                        <td id=\"T_dda2b1e8_9ee1_11ea_8526_8c85905fce33row2_col4\" class=\"data row2 col4\" >0.805746</td>\n",
       "            </tr>\n",
       "            <tr>\n",
       "                        <th id=\"T_dda2b1e8_9ee1_11ea_8526_8c85905fce33level0_row3\" class=\"row_heading level0 row3\" >3</th>\n",
       "                        <td id=\"T_dda2b1e8_9ee1_11ea_8526_8c85905fce33row3_col0\" class=\"data row3 col0\" >Random Forest GS03</td>\n",
       "                        <td id=\"T_dda2b1e8_9ee1_11ea_8526_8c85905fce33row3_col1\" class=\"data row3 col1\" >0.860167</td>\n",
       "                        <td id=\"T_dda2b1e8_9ee1_11ea_8526_8c85905fce33row3_col2\" class=\"data row3 col2\" >0.849447</td>\n",
       "                        <td id=\"T_dda2b1e8_9ee1_11ea_8526_8c85905fce33row3_col3\" class=\"data row3 col3\" >0.860546</td>\n",
       "                        <td id=\"T_dda2b1e8_9ee1_11ea_8526_8c85905fce33row3_col4\" class=\"data row3 col4\" >0.806592</td>\n",
       "            </tr>\n",
       "            <tr>\n",
       "                        <th id=\"T_dda2b1e8_9ee1_11ea_8526_8c85905fce33level0_row4\" class=\"row_heading level0 row4\" >4</th>\n",
       "                        <td id=\"T_dda2b1e8_9ee1_11ea_8526_8c85905fce33row4_col0\" class=\"data row4 col0\" >Random Forest GS04</td>\n",
       "                        <td id=\"T_dda2b1e8_9ee1_11ea_8526_8c85905fce33row4_col1\" class=\"data row4 col1\" >0.860964</td>\n",
       "                        <td id=\"T_dda2b1e8_9ee1_11ea_8526_8c85905fce33row4_col2\" class=\"data row4 col2\" >0.850998</td>\n",
       "                        <td id=\"T_dda2b1e8_9ee1_11ea_8526_8c85905fce33row4_col3\" class=\"data row4 col3\" >0.861002</td>\n",
       "                        <td id=\"T_dda2b1e8_9ee1_11ea_8526_8c85905fce33row4_col4\" class=\"data row4 col4\" >0.80722</td>\n",
       "            </tr>\n",
       "    </tbody></table>"
      ],
      "text/plain": [
       "<pandas.io.formats.style.Styler at 0x1c367840f0>"
      ]
     },
     "execution_count": 118,
     "metadata": {},
     "output_type": "execute_result"
    }
   ],
   "source": [
    "ran_for_df = pd.DataFrame()\n",
    "ran_for_df.append([results10, \n",
    "                    results11, \n",
    "                    results12, \n",
    "                    results13,\n",
    "                    results14]\n",
    "                   ,ignore_index=True).style.background_gradient(cmap=cm03).highlight_max(color='red')"
   ]
  },
  {
   "cell_type": "markdown",
   "metadata": {},
   "source": [
    "Our best performing model out of the Randome Forest hyperparameter tuned models is ran_for_gs04_model."
   ]
  },
  {
   "cell_type": "markdown",
   "metadata": {},
   "source": [
    "## Ensemble Methods"
   ]
  },
  {
   "cell_type": "markdown",
   "metadata": {},
   "source": [
    "### Bagged Tree"
   ]
  },
  {
   "cell_type": "code",
   "execution_count": 119,
   "metadata": {},
   "outputs": [],
   "source": [
    "bag_tree =  BaggingClassifier(DecisionTreeClassifier())"
   ]
  },
  {
   "cell_type": "code",
   "execution_count": 120,
   "metadata": {},
   "outputs": [
    {
     "data": {
      "text/plain": [
       "BaggingClassifier(base_estimator=DecisionTreeClassifier(ccp_alpha=0.0,\n",
       "                                                        class_weight=None,\n",
       "                                                        criterion='gini',\n",
       "                                                        max_depth=None,\n",
       "                                                        max_features=None,\n",
       "                                                        max_leaf_nodes=None,\n",
       "                                                        min_impurity_decrease=0.0,\n",
       "                                                        min_impurity_split=None,\n",
       "                                                        min_samples_leaf=1,\n",
       "                                                        min_samples_split=2,\n",
       "                                                        min_weight_fraction_leaf=0.0,\n",
       "                                                        presort='deprecated',\n",
       "                                                        random_state=None,\n",
       "                                                        splitter='best'),\n",
       "                  bootstrap=True, bootstrap_features=False, max_features=1.0,\n",
       "                  max_samples=1.0, n_estimators=10, n_jobs=None,\n",
       "                  oob_score=False, random_state=None, verbose=0,\n",
       "                  warm_start=False)"
      ]
     },
     "execution_count": 120,
     "metadata": {},
     "output_type": "execute_result"
    }
   ],
   "source": [
    "bag_tree.fit(X_train, y_train)"
   ]
  },
  {
   "cell_type": "code",
   "execution_count": 121,
   "metadata": {},
   "outputs": [
    {
     "data": {
      "text/plain": [
       "0.980083459787557"
      ]
     },
     "execution_count": 121,
     "metadata": {},
     "output_type": "execute_result"
    }
   ],
   "source": [
    "bag_tree.score(X_train, y_train)"
   ]
  },
  {
   "cell_type": "code",
   "execution_count": 122,
   "metadata": {},
   "outputs": [
    {
     "data": {
      "text/plain": [
       "0.8869499241274659"
      ]
     },
     "execution_count": 122,
     "metadata": {},
     "output_type": "execute_result"
    }
   ],
   "source": [
    "bag_tree.score(X_val, y_val)"
   ]
  },
  {
   "cell_type": "code",
   "execution_count": 123,
   "metadata": {},
   "outputs": [
    {
     "data": {
      "text/html": [
       "<div>\n",
       "<style scoped>\n",
       "    .dataframe tbody tr th:only-of-type {\n",
       "        vertical-align: middle;\n",
       "    }\n",
       "\n",
       "    .dataframe tbody tr th {\n",
       "        vertical-align: top;\n",
       "    }\n",
       "\n",
       "    .dataframe thead th {\n",
       "        text-align: right;\n",
       "    }\n",
       "</style>\n",
       "<table border=\"1\" class=\"dataframe\">\n",
       "  <thead>\n",
       "    <tr style=\"text-align: right;\">\n",
       "      <th></th>\n",
       "      <th>Model</th>\n",
       "      <th>Train Accuracy</th>\n",
       "      <th>Train AUC</th>\n",
       "      <th>Valudation Accuracy</th>\n",
       "      <th>Validation AUC</th>\n",
       "    </tr>\n",
       "  </thead>\n",
       "  <tbody>\n",
       "    <tr>\n",
       "      <th>0</th>\n",
       "      <td>Bagged Tree</td>\n",
       "      <td>0.980083</td>\n",
       "      <td>0.997335</td>\n",
       "      <td>0.88695</td>\n",
       "      <td>0.749458</td>\n",
       "    </tr>\n",
       "  </tbody>\n",
       "</table>\n",
       "</div>"
      ],
      "text/plain": [
       "         Model  Train Accuracy  Train AUC  Valudation Accuracy  Validation AUC\n",
       "0  Bagged Tree        0.980083   0.997335              0.88695        0.749458"
      ]
     },
     "execution_count": 123,
     "metadata": {},
     "output_type": "execute_result"
    }
   ],
   "source": [
    "results15 = table(\"Bagged Tree\", bag_tree, X_train, X_val)\n",
    "results15"
   ]
  },
  {
   "cell_type": "code",
   "execution_count": 124,
   "metadata": {},
   "outputs": [
    {
     "data": {
      "text/html": [
       "<div>\n",
       "<style scoped>\n",
       "    .dataframe tbody tr th:only-of-type {\n",
       "        vertical-align: middle;\n",
       "    }\n",
       "\n",
       "    .dataframe tbody tr th {\n",
       "        vertical-align: top;\n",
       "    }\n",
       "\n",
       "    .dataframe thead th {\n",
       "        text-align: right;\n",
       "    }\n",
       "</style>\n",
       "<table border=\"1\" class=\"dataframe\">\n",
       "  <thead>\n",
       "    <tr style=\"text-align: right;\">\n",
       "      <th></th>\n",
       "      <th>Model</th>\n",
       "      <th>Train Accuracy</th>\n",
       "      <th>Train AUC</th>\n",
       "      <th>Valudation Accuracy</th>\n",
       "      <th>Validation AUC</th>\n",
       "    </tr>\n",
       "  </thead>\n",
       "  <tbody>\n",
       "    <tr>\n",
       "      <th>0</th>\n",
       "      <td>Bagged Tree</td>\n",
       "      <td>0.980083</td>\n",
       "      <td>0.997335</td>\n",
       "      <td>0.88695</td>\n",
       "      <td>0.749458</td>\n",
       "    </tr>\n",
       "  </tbody>\n",
       "</table>\n",
       "</div>"
      ],
      "text/plain": [
       "         Model  Train Accuracy  Train AUC  Valudation Accuracy  Validation AUC\n",
       "0  Bagged Tree        0.980083   0.997335              0.88695        0.749458"
      ]
     },
     "execution_count": 124,
     "metadata": {},
     "output_type": "execute_result"
    }
   ],
   "source": [
    "table('Bagged Tree', bag_tree, X_train, X_val)"
   ]
  },
  {
   "cell_type": "markdown",
   "metadata": {},
   "source": [
    "### XG Boost"
   ]
  },
  {
   "cell_type": "code",
   "execution_count": 129,
   "metadata": {},
   "outputs": [
    {
     "data": {
      "text/plain": [
       "XGBClassifier(base_score=0.5, booster='gbtree', colsample_bylevel=1,\n",
       "              colsample_bynode=1, colsample_bytree=1, gamma=0, gpu_id=-1,\n",
       "              importance_type='gain', interaction_constraints='',\n",
       "              learning_rate=0.300000012, max_delta_step=0, max_depth=6,\n",
       "              min_child_weight=1, missing=nan, monotone_constraints='()',\n",
       "              n_estimators=100, n_jobs=0, num_parallel_tree=1,\n",
       "              objective='binary:logistic', random_state=0, reg_alpha=0,\n",
       "              reg_lambda=1, scale_pos_weight=1, subsample=1,\n",
       "              tree_method='exact', validate_parameters=1, verbosity=None)"
      ]
     },
     "execution_count": 129,
     "metadata": {},
     "output_type": "execute_result"
    }
   ],
   "source": [
    "xgb = xgb.XGBClassifier()\n",
    "xgb.fit(X_train, y_train)"
   ]
  },
  {
   "cell_type": "code",
   "execution_count": 131,
   "metadata": {},
   "outputs": [
    {
     "name": "stdout",
     "output_type": "stream",
     "text": [
      "Accuracy:  0.896206373292868\n",
      "ROC_AUC of Baseline model (val) = 0.7952440026032351\n"
     ]
    }
   ],
   "source": [
    "xgb_yval_pred = xgb.predict(X_val)\n",
    "xgb_yval_predprob = xgb.predict_proba(X_val)\n",
    "print('Accuracy: ', accuracy_score(y_val, xgb_yval_pred))\n",
    "print(\"ROC_AUC of Baseline model (val) =\", roc_auc_score(y_val, xgb_yval_predprob[:,1]))"
   ]
  },
  {
   "cell_type": "code",
   "execution_count": 132,
   "metadata": {},
   "outputs": [
    {
     "data": {
      "text/html": [
       "<div>\n",
       "<style scoped>\n",
       "    .dataframe tbody tr th:only-of-type {\n",
       "        vertical-align: middle;\n",
       "    }\n",
       "\n",
       "    .dataframe tbody tr th {\n",
       "        vertical-align: top;\n",
       "    }\n",
       "\n",
       "    .dataframe thead th {\n",
       "        text-align: right;\n",
       "    }\n",
       "</style>\n",
       "<table border=\"1\" class=\"dataframe\">\n",
       "  <thead>\n",
       "    <tr style=\"text-align: right;\">\n",
       "      <th></th>\n",
       "      <th>Model</th>\n",
       "      <th>Train Accuracy</th>\n",
       "      <th>Train AUC</th>\n",
       "      <th>Valudation Accuracy</th>\n",
       "      <th>Validation AUC</th>\n",
       "    </tr>\n",
       "  </thead>\n",
       "  <tbody>\n",
       "    <tr>\n",
       "      <th>0</th>\n",
       "      <td>XG Boost</td>\n",
       "      <td>0.931184</td>\n",
       "      <td>0.911382</td>\n",
       "      <td>0.896206</td>\n",
       "      <td>0.795244</td>\n",
       "    </tr>\n",
       "  </tbody>\n",
       "</table>\n",
       "</div>"
      ],
      "text/plain": [
       "      Model  Train Accuracy  Train AUC  Valudation Accuracy  Validation AUC\n",
       "0  XG Boost        0.931184   0.911382             0.896206        0.795244"
      ]
     },
     "execution_count": 132,
     "metadata": {},
     "output_type": "execute_result"
    }
   ],
   "source": [
    "results16 = table(\"XG Boost\", xgb, X_train, X_val)\n",
    "results16"
   ]
  },
  {
   "cell_type": "code",
   "execution_count": 133,
   "metadata": {},
   "outputs": [
    {
     "data": {
      "text/html": [
       "<div>\n",
       "<style scoped>\n",
       "    .dataframe tbody tr th:only-of-type {\n",
       "        vertical-align: middle;\n",
       "    }\n",
       "\n",
       "    .dataframe tbody tr th {\n",
       "        vertical-align: top;\n",
       "    }\n",
       "\n",
       "    .dataframe thead th {\n",
       "        text-align: right;\n",
       "    }\n",
       "</style>\n",
       "<table border=\"1\" class=\"dataframe\">\n",
       "  <thead>\n",
       "    <tr style=\"text-align: right;\">\n",
       "      <th></th>\n",
       "      <th>Model</th>\n",
       "      <th>Train Accuracy</th>\n",
       "      <th>Train AUC</th>\n",
       "      <th>Valudation Accuracy</th>\n",
       "      <th>Validation AUC</th>\n",
       "    </tr>\n",
       "  </thead>\n",
       "  <tbody>\n",
       "    <tr>\n",
       "      <th>0</th>\n",
       "      <td>XGBoost</td>\n",
       "      <td>0.931184</td>\n",
       "      <td>0.911382</td>\n",
       "      <td>0.896206</td>\n",
       "      <td>0.795244</td>\n",
       "    </tr>\n",
       "  </tbody>\n",
       "</table>\n",
       "</div>"
      ],
      "text/plain": [
       "     Model  Train Accuracy  Train AUC  Valudation Accuracy  Validation AUC\n",
       "0  XGBoost        0.931184   0.911382             0.896206        0.795244"
      ]
     },
     "execution_count": 133,
     "metadata": {},
     "output_type": "execute_result"
    }
   ],
   "source": [
    "table(\"XGBoost\", xgb, X_train, X_val)"
   ]
  },
  {
   "cell_type": "markdown",
   "metadata": {},
   "source": [
    "### Voting Classifiers"
   ]
  },
  {
   "cell_type": "code",
   "execution_count": 138,
   "metadata": {},
   "outputs": [],
   "source": [
    "clf1 = log_reg_gs03_model\n",
    "clf2 = dec_tree_gs03_model\n",
    "clf3 = gnb\n",
    "clf4 = ran_for_gs04_model"
   ]
  },
  {
   "cell_type": "code",
   "execution_count": 143,
   "metadata": {},
   "outputs": [
    {
     "data": {
      "text/plain": [
       "VotingClassifier(estimators=[('lr',\n",
       "                              LogisticRegression(C=0.1, class_weight='balanced',\n",
       "                                                 dual=False, fit_intercept=True,\n",
       "                                                 intercept_scaling=1,\n",
       "                                                 l1_ratio=None, max_iter=100,\n",
       "                                                 multi_class='auto',\n",
       "                                                 n_jobs=None, penalty='l1',\n",
       "                                                 random_state=None,\n",
       "                                                 solver='liblinear', tol=0.0001,\n",
       "                                                 verbose=0, warm_start=False)),\n",
       "                             ('dt',\n",
       "                              DecisionTreeClassifier(ccp_alpha=0.0,\n",
       "                                                     class_weight=None,\n",
       "                                                     criteri...\n",
       "                                                     criterion='entropy',\n",
       "                                                     max_depth=10,\n",
       "                                                     max_features='auto',\n",
       "                                                     max_leaf_nodes=None,\n",
       "                                                     max_samples=None,\n",
       "                                                     min_impurity_decrease=0.0,\n",
       "                                                     min_impurity_split=None,\n",
       "                                                     min_samples_leaf=10,\n",
       "                                                     min_samples_split=2,\n",
       "                                                     min_weight_fraction_leaf=0.0,\n",
       "                                                     n_estimators=300,\n",
       "                                                     n_jobs=None,\n",
       "                                                     oob_score=False,\n",
       "                                                     random_state=None,\n",
       "                                                     verbose=0,\n",
       "                                                     warm_start=False))],\n",
       "                 flatten_transform=True, n_jobs=None, voting='soft',\n",
       "                 weights=None)"
      ]
     },
     "execution_count": 143,
     "metadata": {},
     "output_type": "execute_result"
    }
   ],
   "source": [
    "vc =  VotingClassifier(estimators=[('lr', clf1), ('dt', clf2), ('gnb', clf3), ('rf',clf4)], voting='soft')\n",
    "vc.fit(X_train, y_train)"
   ]
  },
  {
   "cell_type": "code",
   "execution_count": 144,
   "metadata": {},
   "outputs": [
    {
     "name": "stdout",
     "output_type": "stream",
     "text": [
      "Accuracy:  0.8816009104704097\n",
      "ROC_AUC of Baseline model (val) = 0.8186901245924451\n"
     ]
    }
   ],
   "source": [
    "vc_ytrain_pred = vc.predict(X_train)\n",
    "vc_ytrain_predprob = vc.predict_proba(X_train)\n",
    "print('Accuracy: ', accuracy_score(y_train, vc_ytrain_pred))\n",
    "print(\"ROC_AUC of Baseline model (val) =\", roc_auc_score(y_train, vc_ytrain_predprob[:,1]))"
   ]
  },
  {
   "cell_type": "code",
   "execution_count": 145,
   "metadata": {},
   "outputs": [
    {
     "name": "stdout",
     "output_type": "stream",
     "text": [
      "Accuracy:  0.8769347496206373\n",
      "ROC_AUC of Baseline model (val) = 0.8002201319316669\n"
     ]
    }
   ],
   "source": [
    "vc_yval_pred = vc.predict(X_val)\n",
    "vc_yval_predprob = vc.predict_proba(X_val)\n",
    "print('Accuracy: ', accuracy_score(y_val, vc_yval_pred))\n",
    "print(\"ROC_AUC of Baseline model (val) =\", roc_auc_score(y_val, vc_yval_predprob[:,1]))"
   ]
  },
  {
   "cell_type": "code",
   "execution_count": 147,
   "metadata": {},
   "outputs": [
    {
     "name": "stdout",
     "output_type": "stream",
     "text": [
      "Accuracy:  0.8750910415149308\n",
      "ROC_AUC of Baseline model (val) = 0.7854660856537603\n"
     ]
    }
   ],
   "source": [
    "vc_ytest_pred = vc.predict(X_test)\n",
    "vc_ytest_predprob = vc.predict_proba(X_test)\n",
    "print('Accuracy: ', accuracy_score(y_test, vc_ytest_pred))\n",
    "print(\"ROC_AUC of Baseline model (val) =\", roc_auc_score(y_test, vc_ytest_predprob[:,1]))"
   ]
  },
  {
   "cell_type": "code",
   "execution_count": 149,
   "metadata": {},
   "outputs": [
    {
     "data": {
      "text/html": [
       "<div>\n",
       "<style scoped>\n",
       "    .dataframe tbody tr th:only-of-type {\n",
       "        vertical-align: middle;\n",
       "    }\n",
       "\n",
       "    .dataframe tbody tr th {\n",
       "        vertical-align: top;\n",
       "    }\n",
       "\n",
       "    .dataframe thead th {\n",
       "        text-align: right;\n",
       "    }\n",
       "</style>\n",
       "<table border=\"1\" class=\"dataframe\">\n",
       "  <thead>\n",
       "    <tr style=\"text-align: right;\">\n",
       "      <th></th>\n",
       "      <th>Model</th>\n",
       "      <th>Train Accuracy</th>\n",
       "      <th>Train AUC</th>\n",
       "      <th>Valudation Accuracy</th>\n",
       "      <th>Validation AUC</th>\n",
       "    </tr>\n",
       "  </thead>\n",
       "  <tbody>\n",
       "    <tr>\n",
       "      <th>0</th>\n",
       "      <td>Voting Classifier</td>\n",
       "      <td>0.881601</td>\n",
       "      <td>0.81869</td>\n",
       "      <td>0.876935</td>\n",
       "      <td>0.80022</td>\n",
       "    </tr>\n",
       "  </tbody>\n",
       "</table>\n",
       "</div>"
      ],
      "text/plain": [
       "               Model  Train Accuracy  Train AUC  Valudation Accuracy  \\\n",
       "0  Voting Classifier        0.881601    0.81869             0.876935   \n",
       "\n",
       "   Validation AUC  \n",
       "0         0.80022  "
      ]
     },
     "execution_count": 149,
     "metadata": {},
     "output_type": "execute_result"
    }
   ],
   "source": [
    "results17 = table(\"Voting Classifier\", vc, X_train, X_val)\n",
    "results17"
   ]
  },
  {
   "cell_type": "code",
   "execution_count": 150,
   "metadata": {},
   "outputs": [
    {
     "data": {
      "text/html": [
       "<div>\n",
       "<style scoped>\n",
       "    .dataframe tbody tr th:only-of-type {\n",
       "        vertical-align: middle;\n",
       "    }\n",
       "\n",
       "    .dataframe tbody tr th {\n",
       "        vertical-align: top;\n",
       "    }\n",
       "\n",
       "    .dataframe thead th {\n",
       "        text-align: right;\n",
       "    }\n",
       "</style>\n",
       "<table border=\"1\" class=\"dataframe\">\n",
       "  <thead>\n",
       "    <tr style=\"text-align: right;\">\n",
       "      <th></th>\n",
       "      <th>Model</th>\n",
       "      <th>Train Accuracy</th>\n",
       "      <th>Train AUC</th>\n",
       "      <th>Valudation Accuracy</th>\n",
       "      <th>Validation AUC</th>\n",
       "    </tr>\n",
       "  </thead>\n",
       "  <tbody>\n",
       "    <tr>\n",
       "      <th>0</th>\n",
       "      <td>Voting CLassifier</td>\n",
       "      <td>0.881601</td>\n",
       "      <td>0.81869</td>\n",
       "      <td>0.876935</td>\n",
       "      <td>0.80022</td>\n",
       "    </tr>\n",
       "  </tbody>\n",
       "</table>\n",
       "</div>"
      ],
      "text/plain": [
       "               Model  Train Accuracy  Train AUC  Valudation Accuracy  \\\n",
       "0  Voting CLassifier        0.881601    0.81869             0.876935   \n",
       "\n",
       "   Validation AUC  \n",
       "0         0.80022  "
      ]
     },
     "execution_count": 150,
     "metadata": {},
     "output_type": "execute_result"
    }
   ],
   "source": [
    "table(\"Voting CLassifier\", vc, X_train, X_val)"
   ]
  },
  {
   "cell_type": "markdown",
   "metadata": {},
   "source": [
    "## Summarising all the models"
   ]
  },
  {
   "cell_type": "code",
   "execution_count": 151,
   "metadata": {},
   "outputs": [],
   "source": [
    "cm = sns.light_palette(\"purple\", as_cmap=True)"
   ]
  },
  {
   "cell_type": "code",
   "execution_count": 152,
   "metadata": {},
   "outputs": [
    {
     "data": {
      "text/html": [
       "<style  type=\"text/css\" >\n",
       "    #T_a137a258_9ee2_11ea_8526_8c85905fce33row0_col1 {\n",
       "            background-color:  #b865b8;\n",
       "            color:  #000000;\n",
       "            : ;\n",
       "        }    #T_a137a258_9ee2_11ea_8526_8c85905fce33row0_col2 {\n",
       "            background-color:  #ffe5ff;\n",
       "            color:  #000000;\n",
       "            : ;\n",
       "        }    #T_a137a258_9ee2_11ea_8526_8c85905fce33row0_col3 {\n",
       "            background-color:  #830583;\n",
       "            color:  #f1f1f1;\n",
       "            : ;\n",
       "        }    #T_a137a258_9ee2_11ea_8526_8c85905fce33row0_col4 {\n",
       "            background-color:  #ac50ac;\n",
       "            color:  #000000;\n",
       "            : ;\n",
       "        }    #T_a137a258_9ee2_11ea_8526_8c85905fce33row1_col1 {\n",
       "            background-color:  #b764b7;\n",
       "            color:  #000000;\n",
       "            : ;\n",
       "        }    #T_a137a258_9ee2_11ea_8526_8c85905fce33row1_col2 {\n",
       "            background-color:  #e9bde9;\n",
       "            color:  #000000;\n",
       "            : ;\n",
       "        }    #T_a137a258_9ee2_11ea_8526_8c85905fce33row1_col3 {\n",
       "            background-color:  #800180;\n",
       "            color:  #f1f1f1;\n",
       "            : ;\n",
       "        }    #T_a137a258_9ee2_11ea_8526_8c85905fce33row1_col4 {\n",
       "            background-color:  #8e198e;\n",
       "            color:  #f1f1f1;\n",
       "            : ;\n",
       "        }    #T_a137a258_9ee2_11ea_8526_8c85905fce33row2_col1 {\n",
       "            background-color:  #b764b7;\n",
       "            color:  #000000;\n",
       "            : ;\n",
       "        }    #T_a137a258_9ee2_11ea_8526_8c85905fce33row2_col2 {\n",
       "            background-color:  #e8bce8;\n",
       "            color:  #000000;\n",
       "            : ;\n",
       "        }    #T_a137a258_9ee2_11ea_8526_8c85905fce33row2_col3 {\n",
       "            background-color:  #810381;\n",
       "            color:  #f1f1f1;\n",
       "            : ;\n",
       "        }    #T_a137a258_9ee2_11ea_8526_8c85905fce33row2_col4 {\n",
       "            background-color:  #8f1b8f;\n",
       "            color:  #f1f1f1;\n",
       "            : ;\n",
       "        }    #T_a137a258_9ee2_11ea_8526_8c85905fce33row3_col1 {\n",
       "            background-color:  #ffe5ff;\n",
       "            color:  #000000;\n",
       "            : ;\n",
       "        }    #T_a137a258_9ee2_11ea_8526_8c85905fce33row3_col2 {\n",
       "            background-color:  #e8bbe8;\n",
       "            color:  #000000;\n",
       "            : ;\n",
       "        }    #T_a137a258_9ee2_11ea_8526_8c85905fce33row3_col3 {\n",
       "            background-color:  #ffe5ff;\n",
       "            color:  #000000;\n",
       "            : ;\n",
       "        }    #T_a137a258_9ee2_11ea_8526_8c85905fce33row3_col4 {\n",
       "            background-color:  #8d188d;\n",
       "            color:  #f1f1f1;\n",
       "            : ;\n",
       "        }    #T_a137a258_9ee2_11ea_8526_8c85905fce33row4_col1 {\n",
       "            background-color:  #800080;\n",
       "            color:  #f1f1f1;\n",
       "            background-color:  red;\n",
       "        }    #T_a137a258_9ee2_11ea_8526_8c85905fce33row4_col2 {\n",
       "            background-color:  #800080;\n",
       "            color:  #f1f1f1;\n",
       "            background-color:  red;\n",
       "        }    #T_a137a258_9ee2_11ea_8526_8c85905fce33row4_col3 {\n",
       "            background-color:  #b763b7;\n",
       "            color:  #000000;\n",
       "            : ;\n",
       "        }    #T_a137a258_9ee2_11ea_8526_8c85905fce33row4_col4 {\n",
       "            background-color:  #ffe5ff;\n",
       "            color:  #000000;\n",
       "            : ;\n",
       "        }    #T_a137a258_9ee2_11ea_8526_8c85905fce33row5_col1 {\n",
       "            background-color:  #b45eb4;\n",
       "            color:  #000000;\n",
       "            : ;\n",
       "        }    #T_a137a258_9ee2_11ea_8526_8c85905fce33row5_col2 {\n",
       "            background-color:  #cf8fcf;\n",
       "            color:  #000000;\n",
       "            : ;\n",
       "        }    #T_a137a258_9ee2_11ea_8526_8c85905fce33row5_col3 {\n",
       "            background-color:  #840884;\n",
       "            color:  #f1f1f1;\n",
       "            : ;\n",
       "        }    #T_a137a258_9ee2_11ea_8526_8c85905fce33row5_col4 {\n",
       "            background-color:  #8c168c;\n",
       "            color:  #f1f1f1;\n",
       "            : ;\n",
       "        }    #T_a137a258_9ee2_11ea_8526_8c85905fce33row6_col1 {\n",
       "            background-color:  #b25bb2;\n",
       "            color:  #000000;\n",
       "            : ;\n",
       "        }    #T_a137a258_9ee2_11ea_8526_8c85905fce33row6_col2 {\n",
       "            background-color:  #cc8acc;\n",
       "            color:  #000000;\n",
       "            : ;\n",
       "        }    #T_a137a258_9ee2_11ea_8526_8c85905fce33row6_col3 {\n",
       "            background-color:  #830683;\n",
       "            color:  #f1f1f1;\n",
       "            : ;\n",
       "        }    #T_a137a258_9ee2_11ea_8526_8c85905fce33row6_col4 {\n",
       "            background-color:  #8b158b;\n",
       "            color:  #f1f1f1;\n",
       "            : ;\n",
       "        }    #T_a137a258_9ee2_11ea_8526_8c85905fce33row7_col1 {\n",
       "            background-color:  #b55fb5;\n",
       "            color:  #000000;\n",
       "            : ;\n",
       "        }    #T_a137a258_9ee2_11ea_8526_8c85905fce33row7_col2 {\n",
       "            background-color:  #e1b0e1;\n",
       "            color:  #000000;\n",
       "            : ;\n",
       "        }    #T_a137a258_9ee2_11ea_8526_8c85905fce33row7_col3 {\n",
       "            background-color:  #800080;\n",
       "            color:  #f1f1f1;\n",
       "            background-color:  red;\n",
       "        }    #T_a137a258_9ee2_11ea_8526_8c85905fce33row7_col4 {\n",
       "            background-color:  #870d87;\n",
       "            color:  #f1f1f1;\n",
       "            : ;\n",
       "        }    #T_a137a258_9ee2_11ea_8526_8c85905fce33row8_col1 {\n",
       "            background-color:  #c278c2;\n",
       "            color:  #000000;\n",
       "            : ;\n",
       "        }    #T_a137a258_9ee2_11ea_8526_8c85905fce33row8_col2 {\n",
       "            background-color:  #eec7ee;\n",
       "            color:  #000000;\n",
       "            : ;\n",
       "        }    #T_a137a258_9ee2_11ea_8526_8c85905fce33row8_col3 {\n",
       "            background-color:  #9a2f9a;\n",
       "            color:  #f1f1f1;\n",
       "            : ;\n",
       "        }    #T_a137a258_9ee2_11ea_8526_8c85905fce33row8_col4 {\n",
       "            background-color:  #962896;\n",
       "            color:  #f1f1f1;\n",
       "            : ;\n",
       "        }    #T_a137a258_9ee2_11ea_8526_8c85905fce33row9_col1 {\n",
       "            background-color:  #800080;\n",
       "            color:  #f1f1f1;\n",
       "            : ;\n",
       "        }    #T_a137a258_9ee2_11ea_8526_8c85905fce33row9_col2 {\n",
       "            background-color:  #800080;\n",
       "            color:  #f1f1f1;\n",
       "            : ;\n",
       "        }    #T_a137a258_9ee2_11ea_8526_8c85905fce33row9_col3 {\n",
       "            background-color:  #870e87;\n",
       "            color:  #f1f1f1;\n",
       "            : ;\n",
       "        }    #T_a137a258_9ee2_11ea_8526_8c85905fce33row9_col4 {\n",
       "            background-color:  #982b98;\n",
       "            color:  #f1f1f1;\n",
       "            : ;\n",
       "        }    #T_a137a258_9ee2_11ea_8526_8c85905fce33row10_col1 {\n",
       "            background-color:  #cf8ecf;\n",
       "            color:  #000000;\n",
       "            : ;\n",
       "        }    #T_a137a258_9ee2_11ea_8526_8c85905fce33row10_col2 {\n",
       "            background-color:  #ca86ca;\n",
       "            color:  #000000;\n",
       "            : ;\n",
       "        }    #T_a137a258_9ee2_11ea_8526_8c85905fce33row10_col3 {\n",
       "            background-color:  #ad51ad;\n",
       "            color:  #000000;\n",
       "            : ;\n",
       "        }    #T_a137a258_9ee2_11ea_8526_8c85905fce33row10_col4 {\n",
       "            background-color:  #800180;\n",
       "            color:  #f1f1f1;\n",
       "            : ;\n",
       "        }    #T_a137a258_9ee2_11ea_8526_8c85905fce33row11_col1 {\n",
       "            background-color:  #ce8dce;\n",
       "            color:  #000000;\n",
       "            : ;\n",
       "        }    #T_a137a258_9ee2_11ea_8526_8c85905fce33row11_col2 {\n",
       "            background-color:  #c781c7;\n",
       "            color:  #000000;\n",
       "            : ;\n",
       "        }    #T_a137a258_9ee2_11ea_8526_8c85905fce33row11_col3 {\n",
       "            background-color:  #ab4eab;\n",
       "            color:  #000000;\n",
       "            : ;\n",
       "        }    #T_a137a258_9ee2_11ea_8526_8c85905fce33row11_col4 {\n",
       "            background-color:  #810281;\n",
       "            color:  #f1f1f1;\n",
       "            : ;\n",
       "        }    #T_a137a258_9ee2_11ea_8526_8c85905fce33row12_col1 {\n",
       "            background-color:  #ce8dce;\n",
       "            color:  #000000;\n",
       "            : ;\n",
       "        }    #T_a137a258_9ee2_11ea_8526_8c85905fce33row12_col2 {\n",
       "            background-color:  #c882c8;\n",
       "            color:  #000000;\n",
       "            : ;\n",
       "        }    #T_a137a258_9ee2_11ea_8526_8c85905fce33row12_col3 {\n",
       "            background-color:  #ab4dab;\n",
       "            color:  #f1f1f1;\n",
       "            : ;\n",
       "        }    #T_a137a258_9ee2_11ea_8526_8c85905fce33row12_col4 {\n",
       "            background-color:  #800080;\n",
       "            color:  #f1f1f1;\n",
       "            : ;\n",
       "        }    #T_a137a258_9ee2_11ea_8526_8c85905fce33row13_col1 {\n",
       "            background-color:  #ce8cce;\n",
       "            color:  #000000;\n",
       "            : ;\n",
       "        }    #T_a137a258_9ee2_11ea_8526_8c85905fce33row13_col2 {\n",
       "            background-color:  #c882c8;\n",
       "            color:  #000000;\n",
       "            : ;\n",
       "        }    #T_a137a258_9ee2_11ea_8526_8c85905fce33row13_col3 {\n",
       "            background-color:  #aa4daa;\n",
       "            color:  #f1f1f1;\n",
       "            : ;\n",
       "        }    #T_a137a258_9ee2_11ea_8526_8c85905fce33row13_col4 {\n",
       "            background-color:  #800080;\n",
       "            color:  #f1f1f1;\n",
       "            background-color:  red;\n",
       "        }    #T_a137a258_9ee2_11ea_8526_8c85905fce33row14_col1 {\n",
       "            background-color:  #860c86;\n",
       "            color:  #f1f1f1;\n",
       "            : ;\n",
       "        }    #T_a137a258_9ee2_11ea_8526_8c85905fce33row14_col2 {\n",
       "            background-color:  #810281;\n",
       "            color:  #f1f1f1;\n",
       "            : ;\n",
       "        }    #T_a137a258_9ee2_11ea_8526_8c85905fce33row14_col3 {\n",
       "            background-color:  #8f1c8f;\n",
       "            color:  #f1f1f1;\n",
       "            : ;\n",
       "        }    #T_a137a258_9ee2_11ea_8526_8c85905fce33row14_col4 {\n",
       "            background-color:  #aa4caa;\n",
       "            color:  #f1f1f1;\n",
       "            : ;\n",
       "        }    #T_a137a258_9ee2_11ea_8526_8c85905fce33row15_col1 {\n",
       "            background-color:  #a441a4;\n",
       "            color:  #f1f1f1;\n",
       "            : ;\n",
       "        }    #T_a137a258_9ee2_11ea_8526_8c85905fce33row15_col2 {\n",
       "            background-color:  #aa4daa;\n",
       "            color:  #f1f1f1;\n",
       "            : ;\n",
       "        }    #T_a137a258_9ee2_11ea_8526_8c85905fce33row15_col3 {\n",
       "            background-color:  #860b86;\n",
       "            color:  #f1f1f1;\n",
       "            : ;\n",
       "        }    #T_a137a258_9ee2_11ea_8526_8c85905fce33row15_col4 {\n",
       "            background-color:  #880f88;\n",
       "            color:  #f1f1f1;\n",
       "            : ;\n",
       "        }    #T_a137a258_9ee2_11ea_8526_8c85905fce33row16_col1 {\n",
       "            background-color:  #c176c1;\n",
       "            color:  #000000;\n",
       "            : ;\n",
       "        }    #T_a137a258_9ee2_11ea_8526_8c85905fce33row16_col2 {\n",
       "            background-color:  #d79ed7;\n",
       "            color:  #000000;\n",
       "            : ;\n",
       "        }    #T_a137a258_9ee2_11ea_8526_8c85905fce33row16_col3 {\n",
       "            background-color:  #9a2f9a;\n",
       "            color:  #f1f1f1;\n",
       "            : ;\n",
       "        }    #T_a137a258_9ee2_11ea_8526_8c85905fce33row16_col4 {\n",
       "            background-color:  #850985;\n",
       "            color:  #f1f1f1;\n",
       "            : ;\n",
       "        }</style><table id=\"T_a137a258_9ee2_11ea_8526_8c85905fce33\" ><thead>    <tr>        <th class=\"blank level0\" ></th>        <th class=\"col_heading level0 col0\" >Model</th>        <th class=\"col_heading level0 col1\" >Train Accuracy</th>        <th class=\"col_heading level0 col2\" >Train AUC</th>        <th class=\"col_heading level0 col3\" >Valudation Accuracy</th>        <th class=\"col_heading level0 col4\" >Validation AUC</th>    </tr></thead><tbody>\n",
       "                <tr>\n",
       "                        <th id=\"T_a137a258_9ee2_11ea_8526_8c85905fce33level0_row0\" class=\"row_heading level0 row0\" >0</th>\n",
       "                        <td id=\"T_a137a258_9ee2_11ea_8526_8c85905fce33row0_col0\" class=\"data row0 col0\" >Logistic Regression</td>\n",
       "                        <td id=\"T_a137a258_9ee2_11ea_8526_8c85905fce33row0_col1\" class=\"data row0 col1\" >0.89742</td>\n",
       "                        <td id=\"T_a137a258_9ee2_11ea_8526_8c85905fce33row0_col2\" class=\"data row0 col2\" >0.735581</td>\n",
       "                        <td id=\"T_a137a258_9ee2_11ea_8526_8c85905fce33row0_col3\" class=\"data row0 col3\" >0.899241</td>\n",
       "                        <td id=\"T_a137a258_9ee2_11ea_8526_8c85905fce33row0_col4\" class=\"data row0 col4\" >0.746128</td>\n",
       "            </tr>\n",
       "            <tr>\n",
       "                        <th id=\"T_a137a258_9ee2_11ea_8526_8c85905fce33level0_row1\" class=\"row_heading level0 row1\" >1</th>\n",
       "                        <td id=\"T_a137a258_9ee2_11ea_8526_8c85905fce33row1_col0\" class=\"data row1 col0\" >Logistic Regression GS 01</td>\n",
       "                        <td id=\"T_a137a258_9ee2_11ea_8526_8c85905fce33row1_col1\" class=\"data row1 col1\" >0.898596</td>\n",
       "                        <td id=\"T_a137a258_9ee2_11ea_8526_8c85905fce33row1_col2\" class=\"data row1 col2\" >0.782935</td>\n",
       "                        <td id=\"T_a137a258_9ee2_11ea_8526_8c85905fce33row1_col3\" class=\"data row1 col3\" >0.901366</td>\n",
       "                        <td id=\"T_a137a258_9ee2_11ea_8526_8c85905fce33row1_col4\" class=\"data row1 col4\" >0.788014</td>\n",
       "            </tr>\n",
       "            <tr>\n",
       "                        <th id=\"T_a137a258_9ee2_11ea_8526_8c85905fce33level0_row2\" class=\"row_heading level0 row2\" >2</th>\n",
       "                        <td id=\"T_a137a258_9ee2_11ea_8526_8c85905fce33row2_col0\" class=\"data row2 col0\" >Logistic Regression GS 02</td>\n",
       "                        <td id=\"T_a137a258_9ee2_11ea_8526_8c85905fce33row2_col1\" class=\"data row2 col1\" >0.898407</td>\n",
       "                        <td id=\"T_a137a258_9ee2_11ea_8526_8c85905fce33row2_col2\" class=\"data row2 col2\" >0.783471</td>\n",
       "                        <td id=\"T_a137a258_9ee2_11ea_8526_8c85905fce33row2_col3\" class=\"data row2 col3\" >0.900607</td>\n",
       "                        <td id=\"T_a137a258_9ee2_11ea_8526_8c85905fce33row2_col4\" class=\"data row2 col4\" >0.786672</td>\n",
       "            </tr>\n",
       "            <tr>\n",
       "                        <th id=\"T_a137a258_9ee2_11ea_8526_8c85905fce33level0_row3\" class=\"row_heading level0 row3\" >3</th>\n",
       "                        <td id=\"T_a137a258_9ee2_11ea_8526_8c85905fce33row3_col0\" class=\"data row3 col0\" >Logistic Regression GS 03</td>\n",
       "                        <td id=\"T_a137a258_9ee2_11ea_8526_8c85905fce33row3_col1\" class=\"data row3 col1\" >0.778566</td>\n",
       "                        <td id=\"T_a137a258_9ee2_11ea_8526_8c85905fce33row3_col2\" class=\"data row3 col2\" >0.784903</td>\n",
       "                        <td id=\"T_a137a258_9ee2_11ea_8526_8c85905fce33row3_col3\" class=\"data row3 col3\" >0.779514</td>\n",
       "                        <td id=\"T_a137a258_9ee2_11ea_8526_8c85905fce33row3_col4\" class=\"data row3 col4\" >0.788248</td>\n",
       "            </tr>\n",
       "            <tr>\n",
       "                        <th id=\"T_a137a258_9ee2_11ea_8526_8c85905fce33level0_row4\" class=\"row_heading level0 row4\" >4</th>\n",
       "                        <td id=\"T_a137a258_9ee2_11ea_8526_8c85905fce33row4_col0\" class=\"data row4 col0\" >Decision Tree</td>\n",
       "                        <td id=\"T_a137a258_9ee2_11ea_8526_8c85905fce33row4_col1\" class=\"data row4 col1\" >0.991199</td>\n",
       "                        <td id=\"T_a137a258_9ee2_11ea_8526_8c85905fce33row4_col2\" class=\"data row4 col2\" >0.999577</td>\n",
       "                        <td id=\"T_a137a258_9ee2_11ea_8526_8c85905fce33row4_col3\" class=\"data row4 col3\" >0.849165</td>\n",
       "                        <td id=\"T_a137a258_9ee2_11ea_8526_8c85905fce33row4_col4\" class=\"data row4 col4\" >0.633251</td>\n",
       "            </tr>\n",
       "            <tr>\n",
       "                        <th id=\"T_a137a258_9ee2_11ea_8526_8c85905fce33level0_row5\" class=\"row_heading level0 row5\" >5</th>\n",
       "                        <td id=\"T_a137a258_9ee2_11ea_8526_8c85905fce33row5_col0\" class=\"data row5 col0\" >Decision Tree GS 01</td>\n",
       "                        <td id=\"T_a137a258_9ee2_11ea_8526_8c85905fce33row5_col1\" class=\"data row5 col1\" >0.903338</td>\n",
       "                        <td id=\"T_a137a258_9ee2_11ea_8526_8c85905fce33row5_col2\" class=\"data row5 col2\" >0.835154</td>\n",
       "                        <td id=\"T_a137a258_9ee2_11ea_8526_8c85905fce33row5_col3\" class=\"data row5 col3\" >0.897724</td>\n",
       "                        <td id=\"T_a137a258_9ee2_11ea_8526_8c85905fce33row5_col4\" class=\"data row5 col4\" >0.790763</td>\n",
       "            </tr>\n",
       "            <tr>\n",
       "                        <th id=\"T_a137a258_9ee2_11ea_8526_8c85905fce33level0_row6\" class=\"row_heading level0 row6\" >6</th>\n",
       "                        <td id=\"T_a137a258_9ee2_11ea_8526_8c85905fce33row6_col0\" class=\"data row6 col0\" >Decision Tree GS 02</td>\n",
       "                        <td id=\"T_a137a258_9ee2_11ea_8526_8c85905fce33row6_col1\" class=\"data row6 col1\" >0.90698</td>\n",
       "                        <td id=\"T_a137a258_9ee2_11ea_8526_8c85905fce33row6_col2\" class=\"data row6 col2\" >0.841593</td>\n",
       "                        <td id=\"T_a137a258_9ee2_11ea_8526_8c85905fce33row6_col3\" class=\"data row6 col3\" >0.898331</td>\n",
       "                        <td id=\"T_a137a258_9ee2_11ea_8526_8c85905fce33row6_col4\" class=\"data row6 col4\" >0.790935</td>\n",
       "            </tr>\n",
       "            <tr>\n",
       "                        <th id=\"T_a137a258_9ee2_11ea_8526_8c85905fce33level0_row7\" class=\"row_heading level0 row7\" >7</th>\n",
       "                        <td id=\"T_a137a258_9ee2_11ea_8526_8c85905fce33row7_col0\" class=\"data row7 col0\" >Decision Tree GS 03</td>\n",
       "                        <td id=\"T_a137a258_9ee2_11ea_8526_8c85905fce33row7_col1\" class=\"data row7 col1\" >0.90258</td>\n",
       "                        <td id=\"T_a137a258_9ee2_11ea_8526_8c85905fce33row7_col2\" class=\"data row7 col2\" >0.797805</td>\n",
       "                        <td id=\"T_a137a258_9ee2_11ea_8526_8c85905fce33row7_col3\" class=\"data row7 col3\" >0.902124</td>\n",
       "                        <td id=\"T_a137a258_9ee2_11ea_8526_8c85905fce33row7_col4\" class=\"data row7 col4\" >0.797473</td>\n",
       "            </tr>\n",
       "            <tr>\n",
       "                        <th id=\"T_a137a258_9ee2_11ea_8526_8c85905fce33level0_row8\" class=\"row_heading level0 row8\" >8</th>\n",
       "                        <td id=\"T_a137a258_9ee2_11ea_8526_8c85905fce33row8_col0\" class=\"data row8 col0\" >Gaussian Naive Bayes</td>\n",
       "                        <td id=\"T_a137a258_9ee2_11ea_8526_8c85905fce33row8_col1\" class=\"data row8 col1\" >0.880387</td>\n",
       "                        <td id=\"T_a137a258_9ee2_11ea_8526_8c85905fce33row8_col2\" class=\"data row8 col2\" >0.771052</td>\n",
       "                        <td id=\"T_a137a258_9ee2_11ea_8526_8c85905fce33row8_col3\" class=\"data row8 col3\" >0.877086</td>\n",
       "                        <td id=\"T_a137a258_9ee2_11ea_8526_8c85905fce33row8_col4\" class=\"data row8 col4\" >0.777043</td>\n",
       "            </tr>\n",
       "            <tr>\n",
       "                        <th id=\"T_a137a258_9ee2_11ea_8526_8c85905fce33level0_row9\" class=\"row_heading level0 row9\" >9</th>\n",
       "                        <td id=\"T_a137a258_9ee2_11ea_8526_8c85905fce33row9_col0\" class=\"data row9 col0\" >Random Forest</td>\n",
       "                        <td id=\"T_a137a258_9ee2_11ea_8526_8c85905fce33row9_col1\" class=\"data row9 col1\" >0.991123</td>\n",
       "                        <td id=\"T_a137a258_9ee2_11ea_8526_8c85905fce33row9_col2\" class=\"data row9 col2\" >0.999328</td>\n",
       "                        <td id=\"T_a137a258_9ee2_11ea_8526_8c85905fce33row9_col3\" class=\"data row9 col3\" >0.894841</td>\n",
       "                        <td id=\"T_a137a258_9ee2_11ea_8526_8c85905fce33row9_col4\" class=\"data row9 col4\" >0.774321</td>\n",
       "            </tr>\n",
       "            <tr>\n",
       "                        <th id=\"T_a137a258_9ee2_11ea_8526_8c85905fce33level0_row10\" class=\"row_heading level0 row10\" >10</th>\n",
       "                        <td id=\"T_a137a258_9ee2_11ea_8526_8c85905fce33row10_col0\" class=\"data row10 col0\" >Random Forest GS01</td>\n",
       "                        <td id=\"T_a137a258_9ee2_11ea_8526_8c85905fce33row10_col1\" class=\"data row10 col1\" >0.859181</td>\n",
       "                        <td id=\"T_a137a258_9ee2_11ea_8526_8c85905fce33row10_col2\" class=\"data row10 col2\" >0.845764</td>\n",
       "                        <td id=\"T_a137a258_9ee2_11ea_8526_8c85905fce33row10_col3\" class=\"data row10 col3\" >0.858574</td>\n",
       "                        <td id=\"T_a137a258_9ee2_11ea_8526_8c85905fce33row10_col4\" class=\"data row10 col4\" >0.806518</td>\n",
       "            </tr>\n",
       "            <tr>\n",
       "                        <th id=\"T_a137a258_9ee2_11ea_8526_8c85905fce33level0_row11\" class=\"row_heading level0 row11\" >11</th>\n",
       "                        <td id=\"T_a137a258_9ee2_11ea_8526_8c85905fce33row11_col0\" class=\"data row11 col0\" >Random Forest GS02</td>\n",
       "                        <td id=\"T_a137a258_9ee2_11ea_8526_8c85905fce33row11_col1\" class=\"data row11 col1\" >0.860167</td>\n",
       "                        <td id=\"T_a137a258_9ee2_11ea_8526_8c85905fce33row11_col2\" class=\"data row11 col2\" >0.851406</td>\n",
       "                        <td id=\"T_a137a258_9ee2_11ea_8526_8c85905fce33row11_col3\" class=\"data row11 col3\" >0.860395</td>\n",
       "                        <td id=\"T_a137a258_9ee2_11ea_8526_8c85905fce33row11_col4\" class=\"data row11 col4\" >0.805746</td>\n",
       "            </tr>\n",
       "            <tr>\n",
       "                        <th id=\"T_a137a258_9ee2_11ea_8526_8c85905fce33level0_row12\" class=\"row_heading level0 row12\" >12</th>\n",
       "                        <td id=\"T_a137a258_9ee2_11ea_8526_8c85905fce33row12_col0\" class=\"data row12 col0\" >Random Forest GS03</td>\n",
       "                        <td id=\"T_a137a258_9ee2_11ea_8526_8c85905fce33row12_col1\" class=\"data row12 col1\" >0.860167</td>\n",
       "                        <td id=\"T_a137a258_9ee2_11ea_8526_8c85905fce33row12_col2\" class=\"data row12 col2\" >0.849447</td>\n",
       "                        <td id=\"T_a137a258_9ee2_11ea_8526_8c85905fce33row12_col3\" class=\"data row12 col3\" >0.860546</td>\n",
       "                        <td id=\"T_a137a258_9ee2_11ea_8526_8c85905fce33row12_col4\" class=\"data row12 col4\" >0.806592</td>\n",
       "            </tr>\n",
       "            <tr>\n",
       "                        <th id=\"T_a137a258_9ee2_11ea_8526_8c85905fce33level0_row13\" class=\"row_heading level0 row13\" >13</th>\n",
       "                        <td id=\"T_a137a258_9ee2_11ea_8526_8c85905fce33row13_col0\" class=\"data row13 col0\" >Random Forest GS04</td>\n",
       "                        <td id=\"T_a137a258_9ee2_11ea_8526_8c85905fce33row13_col1\" class=\"data row13 col1\" >0.860964</td>\n",
       "                        <td id=\"T_a137a258_9ee2_11ea_8526_8c85905fce33row13_col2\" class=\"data row13 col2\" >0.850998</td>\n",
       "                        <td id=\"T_a137a258_9ee2_11ea_8526_8c85905fce33row13_col3\" class=\"data row13 col3\" >0.861002</td>\n",
       "                        <td id=\"T_a137a258_9ee2_11ea_8526_8c85905fce33row13_col4\" class=\"data row13 col4\" >0.80722</td>\n",
       "            </tr>\n",
       "            <tr>\n",
       "                        <th id=\"T_a137a258_9ee2_11ea_8526_8c85905fce33level0_row14\" class=\"row_heading level0 row14\" >14</th>\n",
       "                        <td id=\"T_a137a258_9ee2_11ea_8526_8c85905fce33row14_col0\" class=\"data row14 col0\" >Bagged Tree</td>\n",
       "                        <td id=\"T_a137a258_9ee2_11ea_8526_8c85905fce33row14_col1\" class=\"data row14 col1\" >0.980083</td>\n",
       "                        <td id=\"T_a137a258_9ee2_11ea_8526_8c85905fce33row14_col2\" class=\"data row14 col2\" >0.997335</td>\n",
       "                        <td id=\"T_a137a258_9ee2_11ea_8526_8c85905fce33row14_col3\" class=\"data row14 col3\" >0.88695</td>\n",
       "                        <td id=\"T_a137a258_9ee2_11ea_8526_8c85905fce33row14_col4\" class=\"data row14 col4\" >0.749458</td>\n",
       "            </tr>\n",
       "            <tr>\n",
       "                        <th id=\"T_a137a258_9ee2_11ea_8526_8c85905fce33level0_row15\" class=\"row_heading level0 row15\" >15</th>\n",
       "                        <td id=\"T_a137a258_9ee2_11ea_8526_8c85905fce33row15_col0\" class=\"data row15 col0\" >XG Boost</td>\n",
       "                        <td id=\"T_a137a258_9ee2_11ea_8526_8c85905fce33row15_col1\" class=\"data row15 col1\" >0.931184</td>\n",
       "                        <td id=\"T_a137a258_9ee2_11ea_8526_8c85905fce33row15_col2\" class=\"data row15 col2\" >0.911382</td>\n",
       "                        <td id=\"T_a137a258_9ee2_11ea_8526_8c85905fce33row15_col3\" class=\"data row15 col3\" >0.896206</td>\n",
       "                        <td id=\"T_a137a258_9ee2_11ea_8526_8c85905fce33row15_col4\" class=\"data row15 col4\" >0.795244</td>\n",
       "            </tr>\n",
       "            <tr>\n",
       "                        <th id=\"T_a137a258_9ee2_11ea_8526_8c85905fce33level0_row16\" class=\"row_heading level0 row16\" >16</th>\n",
       "                        <td id=\"T_a137a258_9ee2_11ea_8526_8c85905fce33row16_col0\" class=\"data row16 col0\" >Voting Classifier</td>\n",
       "                        <td id=\"T_a137a258_9ee2_11ea_8526_8c85905fce33row16_col1\" class=\"data row16 col1\" >0.881601</td>\n",
       "                        <td id=\"T_a137a258_9ee2_11ea_8526_8c85905fce33row16_col2\" class=\"data row16 col2\" >0.81869</td>\n",
       "                        <td id=\"T_a137a258_9ee2_11ea_8526_8c85905fce33row16_col3\" class=\"data row16 col3\" >0.876935</td>\n",
       "                        <td id=\"T_a137a258_9ee2_11ea_8526_8c85905fce33row16_col4\" class=\"data row16 col4\" >0.80022</td>\n",
       "            </tr>\n",
       "    </tbody></table>"
      ],
      "text/plain": [
       "<pandas.io.formats.style.Styler at 0x1c37396a20>"
      ]
     },
     "execution_count": 152,
     "metadata": {},
     "output_type": "execute_result"
    }
   ],
   "source": [
    "results_summary = pd.DataFrame()\n",
    "results_summary.append([results01,\n",
    "                        results02, \n",
    "                        results03,\n",
    "                        results04,\n",
    "                        results05,\n",
    "                        results06,\n",
    "                        results07,\n",
    "                        results08,\n",
    "                        results09,\n",
    "                        results10,\n",
    "                        results11, \n",
    "                        results12, \n",
    "                        results13, \n",
    "                        results14, \n",
    "                        results15, \n",
    "                        results16, \n",
    "                        results17], ignore_index=True).style.background_gradient(cmap=cm).highlight_max(color='red')"
   ]
  },
  {
   "cell_type": "markdown",
   "metadata": {},
   "source": [
    "## Interpretting the best performing model"
   ]
  },
  {
   "cell_type": "code",
   "execution_count": 182,
   "metadata": {},
   "outputs": [
    {
     "data": {
      "text/html": [
       "<div>\n",
       "<style scoped>\n",
       "    .dataframe tbody tr th:only-of-type {\n",
       "        vertical-align: middle;\n",
       "    }\n",
       "\n",
       "    .dataframe tbody tr th {\n",
       "        vertical-align: top;\n",
       "    }\n",
       "\n",
       "    .dataframe thead th {\n",
       "        text-align: right;\n",
       "    }\n",
       "</style>\n",
       "<table border=\"1\" class=\"dataframe\">\n",
       "  <thead>\n",
       "    <tr style=\"text-align: right;\">\n",
       "      <th></th>\n",
       "      <th>Parameters</th>\n",
       "    </tr>\n",
       "  </thead>\n",
       "  <tbody>\n",
       "    <tr>\n",
       "      <th>class_weight</th>\n",
       "      <td>balanced</td>\n",
       "    </tr>\n",
       "    <tr>\n",
       "      <th>criterion</th>\n",
       "      <td>entropy</td>\n",
       "    </tr>\n",
       "    <tr>\n",
       "      <th>max_depth</th>\n",
       "      <td>10</td>\n",
       "    </tr>\n",
       "    <tr>\n",
       "      <th>min_samples_leaf</th>\n",
       "      <td>10</td>\n",
       "    </tr>\n",
       "    <tr>\n",
       "      <th>n_estimators</th>\n",
       "      <td>300</td>\n",
       "    </tr>\n",
       "  </tbody>\n",
       "</table>\n",
       "</div>"
      ],
      "text/plain": [
       "                 Parameters\n",
       "class_weight       balanced\n",
       "criterion           entropy\n",
       "max_depth                10\n",
       "min_samples_leaf         10\n",
       "n_estimators            300"
      ]
     },
     "execution_count": 182,
     "metadata": {},
     "output_type": "execute_result"
    }
   ],
   "source": [
    "pd.DataFrame.from_dict(ran_for_gs04.best_params_, orient='index').rename(columns={0:'Parameters'})"
   ]
  },
  {
   "cell_type": "code",
   "execution_count": 153,
   "metadata": {},
   "outputs": [
    {
     "data": {
      "text/plain": [
       "array([0.02618488, 0.04233458, 0.01614916, 0.02371089, 0.05845311,\n",
       "       0.01703133, 0.05671679, 0.07440069, 0.19029875, 0.02143568,\n",
       "       0.06352826, 0.05379446, 0.03240274, 0.00347583, 0.00348586,\n",
       "       0.00536649, 0.00557899, 0.00312243, 0.00540704, 0.00584807,\n",
       "       0.01377273, 0.04461672, 0.00892091, 0.        , 0.00339998,\n",
       "       0.00212905, 0.0035877 , 0.00432029, 0.        , 0.00332109,\n",
       "       0.006057  , 0.00371908, 0.00520553, 0.00128954, 0.00257504,\n",
       "       0.00251329, 0.00307494, 0.00164674, 0.00367144, 0.0018347 ,\n",
       "       0.00340851, 0.0011622 , 0.00172537, 0.00569198, 0.00955778,\n",
       "       0.00636426, 0.00266099, 0.00117225, 0.00027149, 0.00815291,\n",
       "       0.13545043])"
      ]
     },
     "execution_count": 153,
     "metadata": {},
     "output_type": "execute_result"
    }
   ],
   "source": [
    "ran_for_gs04_model.feature_importances_"
   ]
  },
  {
   "cell_type": "code",
   "execution_count": 154,
   "metadata": {},
   "outputs": [],
   "source": [
    "features_df = pd.DataFrame(ran_for_gs04_model.feature_importances_, X.columns).rename(columns={0:'Importance'}).sort_values('Importance', ascending=False)"
   ]
  },
  {
   "cell_type": "code",
   "execution_count": 155,
   "metadata": {},
   "outputs": [
    {
     "data": {
      "text/html": [
       "<div>\n",
       "<style scoped>\n",
       "    .dataframe tbody tr th:only-of-type {\n",
       "        vertical-align: middle;\n",
       "    }\n",
       "\n",
       "    .dataframe tbody tr th {\n",
       "        vertical-align: top;\n",
       "    }\n",
       "\n",
       "    .dataframe thead th {\n",
       "        text-align: right;\n",
       "    }\n",
       "</style>\n",
       "<table border=\"1\" class=\"dataframe\">\n",
       "  <thead>\n",
       "    <tr style=\"text-align: right;\">\n",
       "      <th></th>\n",
       "      <th>Importance</th>\n",
       "    </tr>\n",
       "  </thead>\n",
       "  <tbody>\n",
       "    <tr>\n",
       "      <th>euribor3m</th>\n",
       "      <td>0.190299</td>\n",
       "    </tr>\n",
       "    <tr>\n",
       "      <th>Feature_2</th>\n",
       "      <td>0.135450</td>\n",
       "    </tr>\n",
       "    <tr>\n",
       "      <th>cons_conf_idx</th>\n",
       "      <td>0.074401</td>\n",
       "    </tr>\n",
       "    <tr>\n",
       "      <th>Wage_Growth</th>\n",
       "      <td>0.063528</td>\n",
       "    </tr>\n",
       "    <tr>\n",
       "      <th>pdays</th>\n",
       "      <td>0.058453</td>\n",
       "    </tr>\n",
       "  </tbody>\n",
       "</table>\n",
       "</div>"
      ],
      "text/plain": [
       "               Importance\n",
       "euribor3m        0.190299\n",
       "Feature_2        0.135450\n",
       "cons_conf_idx    0.074401\n",
       "Wage_Growth      0.063528\n",
       "pdays            0.058453"
      ]
     },
     "execution_count": 155,
     "metadata": {},
     "output_type": "execute_result"
    }
   ],
   "source": [
    "features_df.head()"
   ]
  },
  {
   "cell_type": "code",
   "execution_count": 238,
   "metadata": {},
   "outputs": [
    {
     "data": {
      "image/png": "[encoded data removed]",
      "text/plain": [
       "<Figure size 1440x720 with 1 Axes>"
      ]
     },
     "metadata": {
      "needs_background": "light"
     },
     "output_type": "display_data"
    }
   ],
   "source": [
    "n_features = X.shape[1]\n",
    "plt.figure(figsize=(20,10))\n",
    "sns.barplot(features_df.index, features_df['Importance'],data=features_df)\n",
    "plt.xticks(rotation=90)\n",
    "plt.title(\"Feature Importance\")\n",
    "plt.xlabel('Feature')\n",
    "plt.show()"
   ]
  },
  {
   "cell_type": "code",
   "execution_count": 188,
   "metadata": {},
   "outputs": [
    {
     "name": "stdout",
     "output_type": "stream",
     "text": [
      "Accuracy:  0.856275795095897\n",
      "ROC_AUC of Baseline model (val) = 0.7904881226014362\n"
     ]
    }
   ],
   "source": [
    "ran_for_gs04_ytest_pred = ran_for_gs04_model.predict(X_test)\n",
    "ran_for_gs04_ytest_predprob = ran_for_gs04_model.predict_proba(X_test)\n",
    "print('Accuracy: ', accuracy_score(y_test, ran_for_gs04_ytest_pred))\n",
    "print(\"ROC_AUC of Baseline model (val) =\", roc_auc_score(y_test, ran_for_gs04_ytest_predprob[:,1]))"
   ]
  },
  {
   "cell_type": "code",
   "execution_count": 159,
   "metadata": {},
   "outputs": [
    {
     "name": "stdout",
     "output_type": "stream",
     "text": [
      "Confusion Matrix:\n",
      " [[6509  794]\n",
      " [ 390  545]]\n"
     ]
    }
   ],
   "source": [
    "cnf_matrix = confusion_matrix(y_test, ran_for_gs04_ytest_pred)\n",
    "print('Confusion Matrix:\\n', cnf_matrix)"
   ]
  },
  {
   "cell_type": "code",
   "execution_count": 160,
   "metadata": {},
   "outputs": [],
   "source": [
    "TN = cnf_matrix[0][0]\n",
    "TP = cnf_matrix[1][1]\n",
    "FN = cnf_matrix[1][0]\n",
    "FP = cnf_matrix[0][1]"
   ]
  },
  {
   "cell_type": "code",
   "execution_count": 161,
   "metadata": {},
   "outputs": [
    {
     "data": {
      "image/png": "[encoded data removed]",
      "text/plain": [
       "<Figure size 432x288 with 2 Axes>"
      ]
     },
     "metadata": {
      "needs_background": "light"
     },
     "output_type": "display_data"
    }
   ],
   "source": [
    "plt.imshow(cnf_matrix,  cmap=plt.cm.Blues) \n",
    "\n",
    "# Add title and axis labels\n",
    "plt.title('Confusion Matrix')\n",
    "plt.ylabel('True label')\n",
    "plt.xlabel('Predicted label')\n",
    "\n",
    "# Add appropriate axis scales\n",
    "class_names = set(y) # Get class labels to add to matrix\n",
    "tick_marks = np.arange(len(class_names))\n",
    "plt.xticks(tick_marks, class_names)\n",
    "plt.yticks(tick_marks, class_names)\n",
    "\n",
    "# Add labels to each cell\n",
    "thresh = cnf_matrix.max() / 2. # Used for text coloring below\n",
    "# Here we iterate through the confusion matrix and append labels to our visualization \n",
    "for i, j in itertools.product(range(cnf_matrix.shape[0]), range(cnf_matrix.shape[1])):\n",
    "        plt.text(j, i, cnf_matrix[i, j],\n",
    "                 horizontalalignment='center',\n",
    "                 color='white' if cnf_matrix[i, j] > thresh else 'black')\n",
    "\n",
    "# Add a legend\n",
    "plt.colorbar()\n",
    "plt.show()"
   ]
  },
  {
   "cell_type": "code",
   "execution_count": 162,
   "metadata": {},
   "outputs": [],
   "source": [
    "# Calculate the probability scores of each point in the training set\n",
    "y_train_score = ran_for_gs04_model.predict_proba(X_train)[:,1]\n",
    "\n",
    "# Calculate the fpr, tpr, and thresholds for the training set\n",
    "train_fpr, train_tpr, thresholds = roc_curve(y_train, y_train_score)\n",
    "\n",
    "# Calculate the probability scores of each point in the test set\n",
    "y_test_score = ran_for_gs04_model.predict_proba(X_test)[:,1]\n",
    "\n",
    "# Calculate the fpr, tpr, and thresholds for the test set\n",
    "test_fpr, test_tpr, test_thresholds = roc_curve(y_test, y_test_score)"
   ]
  },
  {
   "cell_type": "code",
   "execution_count": 213,
   "metadata": {},
   "outputs": [
    {
     "data": {
      "image/png": "[encoded data removed]",
      "text/plain": [
       "<Figure size 720x576 with 1 Axes>"
      ]
     },
     "metadata": {
      "needs_background": "light"
     },
     "output_type": "display_data"
    }
   ],
   "source": [
    "# ROC curve for training set\n",
    "plt.figure(figsize=(10, 8))\n",
    "lw = 2\n",
    "x1 = auc(train_fpr, train_tpr)\n",
    "x2 = auc(test_fpr, test_tpr)\n",
    "plt.plot(train_fpr, train_tpr, color='blue',\n",
    "         lw=lw, label=f'Train ROC Curve, AUC: {np.round(x1,2)}')\n",
    "plt.plot(test_fpr, test_tpr, color='green',\n",
    "         lw=lw, label=f'Test ROC Curve, AUC: {np.round(x2,2)}')\n",
    "plt.plot([0, 1], [0, 1], color='black', lw=lw, linestyle='--')\n",
    "plt.xlim([0.0, 1.0])\n",
    "plt.ylim([0.0, 1.05])\n",
    "plt.yticks([i/20.0 for i in range(21)])\n",
    "plt.xticks([i/20.0 for i in range(21)])\n",
    "plt.xlabel('False Positive Rate')\n",
    "plt.ylabel('True Positive Rate')\n",
    "plt.title('ROC Curve')\n",
    "plt.legend(loc='upper left')\n",
    "\n",
    "plt.show()"
   ]
  },
  {
   "cell_type": "code",
   "execution_count": 204,
   "metadata": {},
   "outputs": [],
   "source": [
    "def visualize_classifier(model, X, y, ax=None, cmap='rainbow'):\n",
    "    ax = ax or plt.gca()\n",
    "    \n",
    "    # Plot the training points\n",
    "    ax.scatter(X.iloc[:, 0], X.iloc[:, 1], c=y, s=30, cmap=cmap,\n",
    "               clim=(y.min(), y.max()), zorder=3)\n",
    "    ax.axis('tight')\n",
    "    ax.axis('off')\n",
    "    xlim = ax.get_xlim()\n",
    "    ylim = ax.get_ylim()\n",
    "    \n",
    "    # fit the estimator\n",
    "    \n",
    "    xx, yy = np.meshgrid(np.linspace(*xlim, num=200),\n",
    "                         np.linspace(*ylim, num=200))\n",
    "    Z = model.predict(np.c_[xx.ravel(), yy.ravel()]).reshape(xx.shape)\n",
    "\n",
    "    # Create a color plot with the results\n",
    "    n_classes = len(np.unique(y))\n",
    "    contours = ax.contourf(xx, yy, Z, alpha=0.3,\n",
    "                           levels=np.arange(n_classes + 1) - 0.5,\n",
    "                           cmap=cmap, clim=(y.min(), y.max()),\n",
    "                           zorder=1)\n",
    "\n",
    "    ax.set(xlim=xlim, ylim=ylim)"
   ]
  },
  {
   "cell_type": "code",
   "execution_count": null,
   "metadata": {},
   "outputs": [],
   "source": []
  },
  {
   "cell_type": "code",
   "execution_count": 203,
   "metadata": {},
   "outputs": [
    {
     "data": {
      "text/plain": [
       "32884    0\n",
       "3169     1\n",
       "32206    0\n",
       "9403     1\n",
       "14020    0\n",
       "        ..\n",
       "12322    1\n",
       "23440    0\n",
       "29431    0\n",
       "16627    0\n",
       "1871     1\n",
       "Name: contact, Length: 8238, dtype: int64"
      ]
     },
     "execution_count": 203,
     "metadata": {},
     "output_type": "execute_result"
    }
   ],
   "source": [
    "X_test.iloc[:,0]"
   ]
  },
  {
   "cell_type": "code",
   "execution_count": null,
   "metadata": {},
   "outputs": [],
   "source": []
  },
  {
   "cell_type": "code",
   "execution_count": null,
   "metadata": {},
   "outputs": [],
   "source": []
  }
 ],
 "metadata": {
  "kernelspec": {
   "display_name": "Python 3",
   "language": "python",
   "name": "python3"
  },
  "language_info": {
   "codemirror_mode": {
    "name": "ipython",
    "version": 3
   },
   "file_extension": ".py",
   "mimetype": "text/x-python",
   "name": "python",
   "nbconvert_exporter": "python",
   "pygments_lexer": "ipython3",
   "version": "3.7.3"
  }
 },
 "nbformat": 4,
 "nbformat_minor": 4
}
