{
 "cells": [
  {
   "cell_type": "code",
   "execution_count": 2,
   "metadata": {},
   "outputs": [],
   "source": [
    "import pandas as pd\n",
    "import numpy as np\n",
    "import seaborn as sns\n",
    "import matplotlib.pyplot as plt\n",
    "%matplotlib inline"
   ]
  },
  {
   "cell_type": "code",
   "execution_count": 6,
   "metadata": {},
   "outputs": [],
   "source": [
    "data= pd.read_csv(\"/Users/naweedahmed/Desktop/Flatiron_Feb/capstone_project/dsc-capstone-submission-checklist/CSV Files/data_final.csv\")"
   ]
  },
  {
   "cell_type": "code",
   "execution_count": 7,
   "metadata": {},
   "outputs": [
    {
     "data": {
      "text/html": [
       "<div>\n",
       "<style scoped>\n",
       "    .dataframe tbody tr th:only-of-type {\n",
       "        vertical-align: middle;\n",
       "    }\n",
       "\n",
       "    .dataframe tbody tr th {\n",
       "        vertical-align: top;\n",
       "    }\n",
       "\n",
       "    .dataframe thead th {\n",
       "        text-align: right;\n",
       "    }\n",
       "</style>\n",
       "<table border=\"1\" class=\"dataframe\">\n",
       "  <thead>\n",
       "    <tr style=\"text-align: right;\">\n",
       "      <th></th>\n",
       "      <th>Date</th>\n",
       "      <th>index</th>\n",
       "      <th>age</th>\n",
       "      <th>job</th>\n",
       "      <th>marital</th>\n",
       "      <th>education</th>\n",
       "      <th>default</th>\n",
       "      <th>housing</th>\n",
       "      <th>loan</th>\n",
       "      <th>contact</th>\n",
       "      <th>...</th>\n",
       "      <th>MOM Inflation</th>\n",
       "      <th>Wage Growth</th>\n",
       "      <th>EURUSD</th>\n",
       "      <th>euro zoneGDP Growth Rate</th>\n",
       "      <th>Portugal Income Tax annual rate</th>\n",
       "      <th>Portugal Bank Lending Rate</th>\n",
       "      <th>Portugal Personal Savings</th>\n",
       "      <th>Portugal Wages</th>\n",
       "      <th>Portugal Unemployment Rate</th>\n",
       "      <th>Portugal Sales Tax</th>\n",
       "    </tr>\n",
       "  </thead>\n",
       "  <tbody>\n",
       "    <tr>\n",
       "      <th>0</th>\n",
       "      <td>2008-05-29</td>\n",
       "      <td>0</td>\n",
       "      <td>56</td>\n",
       "      <td>housemaid</td>\n",
       "      <td>married</td>\n",
       "      <td>basic.4y</td>\n",
       "      <td>no</td>\n",
       "      <td>no</td>\n",
       "      <td>no</td>\n",
       "      <td>telephone</td>\n",
       "      <td>...</td>\n",
       "      <td>0.4</td>\n",
       "      <td>7.2</td>\n",
       "      <td>1.5516</td>\n",
       "      <td>0.5</td>\n",
       "      <td>42.0</td>\n",
       "      <td>7.66</td>\n",
       "      <td>6.3</td>\n",
       "      <td>1063.38</td>\n",
       "      <td>7.6</td>\n",
       "      <td>20.0</td>\n",
       "    </tr>\n",
       "    <tr>\n",
       "      <th>1</th>\n",
       "      <td>2008-05-29</td>\n",
       "      <td>1</td>\n",
       "      <td>57</td>\n",
       "      <td>services</td>\n",
       "      <td>married</td>\n",
       "      <td>high.school</td>\n",
       "      <td>unknown</td>\n",
       "      <td>no</td>\n",
       "      <td>no</td>\n",
       "      <td>telephone</td>\n",
       "      <td>...</td>\n",
       "      <td>0.4</td>\n",
       "      <td>7.2</td>\n",
       "      <td>1.5516</td>\n",
       "      <td>0.5</td>\n",
       "      <td>42.0</td>\n",
       "      <td>7.66</td>\n",
       "      <td>6.3</td>\n",
       "      <td>1063.38</td>\n",
       "      <td>7.6</td>\n",
       "      <td>20.0</td>\n",
       "    </tr>\n",
       "    <tr>\n",
       "      <th>2</th>\n",
       "      <td>2008-05-29</td>\n",
       "      <td>2</td>\n",
       "      <td>37</td>\n",
       "      <td>services</td>\n",
       "      <td>married</td>\n",
       "      <td>high.school</td>\n",
       "      <td>no</td>\n",
       "      <td>yes</td>\n",
       "      <td>no</td>\n",
       "      <td>telephone</td>\n",
       "      <td>...</td>\n",
       "      <td>0.4</td>\n",
       "      <td>7.2</td>\n",
       "      <td>1.5516</td>\n",
       "      <td>0.5</td>\n",
       "      <td>42.0</td>\n",
       "      <td>7.66</td>\n",
       "      <td>6.3</td>\n",
       "      <td>1063.38</td>\n",
       "      <td>7.6</td>\n",
       "      <td>20.0</td>\n",
       "    </tr>\n",
       "    <tr>\n",
       "      <th>3</th>\n",
       "      <td>2008-05-29</td>\n",
       "      <td>3</td>\n",
       "      <td>40</td>\n",
       "      <td>admin.</td>\n",
       "      <td>married</td>\n",
       "      <td>basic.6y</td>\n",
       "      <td>no</td>\n",
       "      <td>no</td>\n",
       "      <td>no</td>\n",
       "      <td>telephone</td>\n",
       "      <td>...</td>\n",
       "      <td>0.4</td>\n",
       "      <td>7.2</td>\n",
       "      <td>1.5516</td>\n",
       "      <td>0.5</td>\n",
       "      <td>42.0</td>\n",
       "      <td>7.66</td>\n",
       "      <td>6.3</td>\n",
       "      <td>1063.38</td>\n",
       "      <td>7.6</td>\n",
       "      <td>20.0</td>\n",
       "    </tr>\n",
       "    <tr>\n",
       "      <th>4</th>\n",
       "      <td>2008-05-29</td>\n",
       "      <td>4</td>\n",
       "      <td>56</td>\n",
       "      <td>services</td>\n",
       "      <td>married</td>\n",
       "      <td>high.school</td>\n",
       "      <td>no</td>\n",
       "      <td>no</td>\n",
       "      <td>yes</td>\n",
       "      <td>telephone</td>\n",
       "      <td>...</td>\n",
       "      <td>0.4</td>\n",
       "      <td>7.2</td>\n",
       "      <td>1.5516</td>\n",
       "      <td>0.5</td>\n",
       "      <td>42.0</td>\n",
       "      <td>7.66</td>\n",
       "      <td>6.3</td>\n",
       "      <td>1063.38</td>\n",
       "      <td>7.6</td>\n",
       "      <td>20.0</td>\n",
       "    </tr>\n",
       "  </tbody>\n",
       "</table>\n",
       "<p>5 rows × 33 columns</p>\n",
       "</div>"
      ],
      "text/plain": [
       "         Date  index  age        job  marital    education  default housing  \\\n",
       "0  2008-05-29      0   56  housemaid  married     basic.4y       no      no   \n",
       "1  2008-05-29      1   57   services  married  high.school  unknown      no   \n",
       "2  2008-05-29      2   37   services  married  high.school       no     yes   \n",
       "3  2008-05-29      3   40     admin.  married     basic.6y       no      no   \n",
       "4  2008-05-29      4   56   services  married  high.school       no      no   \n",
       "\n",
       "  loan    contact  ... MOM Inflation Wage Growth  EURUSD  \\\n",
       "0   no  telephone  ...           0.4         7.2  1.5516   \n",
       "1   no  telephone  ...           0.4         7.2  1.5516   \n",
       "2   no  telephone  ...           0.4         7.2  1.5516   \n",
       "3   no  telephone  ...           0.4         7.2  1.5516   \n",
       "4  yes  telephone  ...           0.4         7.2  1.5516   \n",
       "\n",
       "   euro zoneGDP Growth Rate  Portugal Income Tax annual rate  \\\n",
       "0                       0.5                             42.0   \n",
       "1                       0.5                             42.0   \n",
       "2                       0.5                             42.0   \n",
       "3                       0.5                             42.0   \n",
       "4                       0.5                             42.0   \n",
       "\n",
       "   Portugal Bank Lending Rate Portugal Personal Savings  Portugal Wages  \\\n",
       "0                        7.66                       6.3         1063.38   \n",
       "1                        7.66                       6.3         1063.38   \n",
       "2                        7.66                       6.3         1063.38   \n",
       "3                        7.66                       6.3         1063.38   \n",
       "4                        7.66                       6.3         1063.38   \n",
       "\n",
       "   Portugal Unemployment Rate  Portugal Sales Tax  \n",
       "0                         7.6                20.0  \n",
       "1                         7.6                20.0  \n",
       "2                         7.6                20.0  \n",
       "3                         7.6                20.0  \n",
       "4                         7.6                20.0  \n",
       "\n",
       "[5 rows x 33 columns]"
      ]
     },
     "execution_count": 7,
     "metadata": {},
     "output_type": "execute_result"
    }
   ],
   "source": [
    "data.head()"
   ]
  },
  {
   "cell_type": "code",
   "execution_count": 8,
   "metadata": {},
   "outputs": [],
   "source": [
    "data.set_index('Date', inplace=True)"
   ]
  },
  {
   "cell_type": "code",
   "execution_count": 10,
   "metadata": {},
   "outputs": [
    {
     "data": {
      "text/plain": [
       "array(['may', 'jun', 'jul', 'aug', 'oct', 'nov', 'dec', 'mar', 'apr',\n",
       "       'sep'], dtype=object)"
      ]
     },
     "execution_count": 10,
     "metadata": {},
     "output_type": "execute_result"
    }
   ],
   "source": [
    "data.month.unique()"
   ]
  },
  {
   "cell_type": "code",
   "execution_count": 12,
   "metadata": {},
   "outputs": [],
   "source": [
    "data.loc[(data['month']=='mar'),'month_nos'] = 3\n",
    "data.loc[(data['month']=='apr'),'month_nos'] = 4\n",
    "data.loc[(data['month']=='may'),'month_nos'] = 5\n",
    "data.loc[(data['month']=='jun'),'month_nos'] = 6\n",
    "data.loc[(data['month']=='jul'),'month_nos'] = 7\n",
    "data.loc[(data['month']=='aug'),'month_nos'] = 8\n",
    "data.loc[(data['month']=='sep'),'month_nos'] = 9\n",
    "data.loc[(data['month']=='oct'),'month_nos'] = 10\n",
    "data.loc[(data['month']=='nov'),'month_nos'] = 11\n",
    "data.loc[(data['month']=='dec'),'month_nos'] = 12"
   ]
  },
  {
   "cell_type": "code",
   "execution_count": 13,
   "metadata": {},
   "outputs": [
    {
     "data": {
      "text/plain": [
       "array([ 5.,  6.,  7.,  8., 10., 11., 12.,  3.,  4.,  9.])"
      ]
     },
     "execution_count": 13,
     "metadata": {},
     "output_type": "execute_result"
    }
   ],
   "source": [
    "data.month_nos.unique()"
   ]
  },
  {
   "cell_type": "code",
   "execution_count": 14,
   "metadata": {},
   "outputs": [],
   "source": [
    "data.sort_values(by='month_nos', ascending=True, inplace=True)"
   ]
  },
  {
   "cell_type": "code",
   "execution_count": 17,
   "metadata": {},
   "outputs": [
    {
     "data": {
      "text/plain": [
       "[<matplotlib.lines.Line2D at 0x1a2243f668>]"
      ]
     },
     "execution_count": 17,
     "metadata": {},
     "output_type": "execute_result"
    },
    {
     "data": {
      "image/png": "[encoded data removed]",
      "text/plain": [
       "<Figure size 720x432 with 1 Axes>"
      ]
     },
     "metadata": {
      "needs_background": "light"
     },
     "output_type": "display_data"
    }
   ],
   "source": [
    "plt.figure(figsize=(10,6))\n",
    "plt.plot(data['month_nos'])"
   ]
  },
  {
   "cell_type": "code",
   "execution_count": null,
   "metadata": {},
   "outputs": [],
   "source": [
    "plt.figure(figsize=(10,6))\n",
    "plt.hist(data['job'], data['y'])\n",
    "plt.show()"
   ]
  },
  {
   "cell_type": "code",
   "execution_count": null,
   "metadata": {},
   "outputs": [],
   "source": []
  }
 ],
 "metadata": {
  "kernelspec": {
   "display_name": "Python 3",
   "language": "python",
   "name": "python3"
  },
  "language_info": {
   "codemirror_mode": {
    "name": "ipython",
    "version": 3
   },
   "file_extension": ".py",
   "mimetype": "text/x-python",
   "name": "python",
   "nbconvert_exporter": "python",
   "pygments_lexer": "ipython3",
   "version": "3.7.3"
  }
 },
 "nbformat": 4,
 "nbformat_minor": 4
}
