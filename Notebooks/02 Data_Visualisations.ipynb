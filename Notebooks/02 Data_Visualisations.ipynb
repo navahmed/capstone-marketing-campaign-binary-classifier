{
 "cells": [
  {
   "cell_type": "code",
   "execution_count": 2,
   "metadata": {},
   "outputs": [],
   "source": [
    "import pandas as pd\n",
    "import numpy as np\n",
    "import seaborn as sns\n",
    "import matplotlib.pyplot as plt\n",
    "%matplotlib inline"
   ]
  },
  {
   "cell_type": "code",
   "execution_count": 6,
   "metadata": {},
   "outputs": [],
   "source": [
    "data= pd.read_csv(\"/Users/naweedahmed/Desktop/Flatiron_Feb/capstone_project/dsc-capstone-submission-checklist/Data/data_final.csv\")"
   ]
  },
  {
   "cell_type": "code",
   "execution_count": 7,
   "metadata": {},
   "outputs": [
    {
     "data": {
      "text/html": [
       "<div>\n",
       "<style scoped>\n",
       "    .dataframe tbody tr th:only-of-type {\n",
       "        vertical-align: middle;\n",
       "    }\n",
       "\n",
       "    .dataframe tbody tr th {\n",
       "        vertical-align: top;\n",
       "    }\n",
       "\n",
       "    .dataframe thead th {\n",
       "        text-align: right;\n",
       "    }\n",
       "</style>\n",
       "<table border=\"1\" class=\"dataframe\">\n",
       "  <thead>\n",
       "    <tr style=\"text-align: right;\">\n",
       "      <th></th>\n",
       "      <th>Date</th>\n",
       "      <th>index</th>\n",
       "      <th>age</th>\n",
       "      <th>job</th>\n",
       "      <th>marital</th>\n",
       "      <th>education</th>\n",
       "      <th>default</th>\n",
       "      <th>housing</th>\n",
       "      <th>loan</th>\n",
       "      <th>contact</th>\n",
       "      <th>...</th>\n",
       "      <th>MOM Inflation</th>\n",
       "      <th>Wage Growth</th>\n",
       "      <th>EURUSD</th>\n",
       "      <th>euro zoneGDP Growth Rate</th>\n",
       "      <th>Portugal Income Tax annual rate</th>\n",
       "      <th>Portugal Bank Lending Rate</th>\n",
       "      <th>Portugal Personal Savings</th>\n",
       "      <th>Portugal Wages</th>\n",
       "      <th>Portugal Unemployment Rate</th>\n",
       "      <th>Portugal Sales Tax</th>\n",
       "    </tr>\n",
       "  </thead>\n",
       "  <tbody>\n",
       "    <tr>\n",
       "      <th>0</th>\n",
       "      <td>2008-05-29</td>\n",
       "      <td>0</td>\n",
       "      <td>56</td>\n",
       "      <td>housemaid</td>\n",
       "      <td>married</td>\n",
       "      <td>basic.4y</td>\n",
       "      <td>no</td>\n",
       "      <td>no</td>\n",
       "      <td>no</td>\n",
       "      <td>telephone</td>\n",
       "      <td>...</td>\n",
       "      <td>0.4</td>\n",
       "      <td>7.2</td>\n",
       "      <td>1.5516</td>\n",
       "      <td>0.5</td>\n",
       "      <td>42.0</td>\n",
       "      <td>7.66</td>\n",
       "      <td>6.3</td>\n",
       "      <td>1063.38</td>\n",
       "      <td>7.6</td>\n",
       "      <td>20.0</td>\n",
       "    </tr>\n",
       "    <tr>\n",
       "      <th>1</th>\n",
       "      <td>2008-05-29</td>\n",
       "      <td>1</td>\n",
       "      <td>57</td>\n",
       "      <td>services</td>\n",
       "      <td>married</td>\n",
       "      <td>high.school</td>\n",
       "      <td>unknown</td>\n",
       "      <td>no</td>\n",
       "      <td>no</td>\n",
       "      <td>telephone</td>\n",
       "      <td>...</td>\n",
       "      <td>0.4</td>\n",
       "      <td>7.2</td>\n",
       "      <td>1.5516</td>\n",
       "      <td>0.5</td>\n",
       "      <td>42.0</td>\n",
       "      <td>7.66</td>\n",
       "      <td>6.3</td>\n",
       "      <td>1063.38</td>\n",
       "      <td>7.6</td>\n",
       "      <td>20.0</td>\n",
       "    </tr>\n",
       "    <tr>\n",
       "      <th>2</th>\n",
       "      <td>2008-05-29</td>\n",
       "      <td>2</td>\n",
       "      <td>37</td>\n",
       "      <td>services</td>\n",
       "      <td>married</td>\n",
       "      <td>high.school</td>\n",
       "      <td>no</td>\n",
       "      <td>yes</td>\n",
       "      <td>no</td>\n",
       "      <td>telephone</td>\n",
       "      <td>...</td>\n",
       "      <td>0.4</td>\n",
       "      <td>7.2</td>\n",
       "      <td>1.5516</td>\n",
       "      <td>0.5</td>\n",
       "      <td>42.0</td>\n",
       "      <td>7.66</td>\n",
       "      <td>6.3</td>\n",
       "      <td>1063.38</td>\n",
       "      <td>7.6</td>\n",
       "      <td>20.0</td>\n",
       "    </tr>\n",
       "    <tr>\n",
       "      <th>3</th>\n",
       "      <td>2008-05-29</td>\n",
       "      <td>3</td>\n",
       "      <td>40</td>\n",
       "      <td>admin.</td>\n",
       "      <td>married</td>\n",
       "      <td>basic.6y</td>\n",
       "      <td>no</td>\n",
       "      <td>no</td>\n",
       "      <td>no</td>\n",
       "      <td>telephone</td>\n",
       "      <td>...</td>\n",
       "      <td>0.4</td>\n",
       "      <td>7.2</td>\n",
       "      <td>1.5516</td>\n",
       "      <td>0.5</td>\n",
       "      <td>42.0</td>\n",
       "      <td>7.66</td>\n",
       "      <td>6.3</td>\n",
       "      <td>1063.38</td>\n",
       "      <td>7.6</td>\n",
       "      <td>20.0</td>\n",
       "    </tr>\n",
       "    <tr>\n",
       "      <th>4</th>\n",
       "      <td>2008-05-29</td>\n",
       "      <td>4</td>\n",
       "      <td>56</td>\n",
       "      <td>services</td>\n",
       "      <td>married</td>\n",
       "      <td>high.school</td>\n",
       "      <td>no</td>\n",
       "      <td>no</td>\n",
       "      <td>yes</td>\n",
       "      <td>telephone</td>\n",
       "      <td>...</td>\n",
       "      <td>0.4</td>\n",
       "      <td>7.2</td>\n",
       "      <td>1.5516</td>\n",
       "      <td>0.5</td>\n",
       "      <td>42.0</td>\n",
       "      <td>7.66</td>\n",
       "      <td>6.3</td>\n",
       "      <td>1063.38</td>\n",
       "      <td>7.6</td>\n",
       "      <td>20.0</td>\n",
       "    </tr>\n",
       "  </tbody>\n",
       "</table>\n",
       "<p>5 rows × 33 columns</p>\n",
       "</div>"
      ],
      "text/plain": [
       "         Date  index  age        job  marital    education  default housing  \\\n",
       "0  2008-05-29      0   56  housemaid  married     basic.4y       no      no   \n",
       "1  2008-05-29      1   57   services  married  high.school  unknown      no   \n",
       "2  2008-05-29      2   37   services  married  high.school       no     yes   \n",
       "3  2008-05-29      3   40     admin.  married     basic.6y       no      no   \n",
       "4  2008-05-29      4   56   services  married  high.school       no      no   \n",
       "\n",
       "  loan    contact  ... MOM Inflation Wage Growth  EURUSD  \\\n",
       "0   no  telephone  ...           0.4         7.2  1.5516   \n",
       "1   no  telephone  ...           0.4         7.2  1.5516   \n",
       "2   no  telephone  ...           0.4         7.2  1.5516   \n",
       "3   no  telephone  ...           0.4         7.2  1.5516   \n",
       "4  yes  telephone  ...           0.4         7.2  1.5516   \n",
       "\n",
       "   euro zoneGDP Growth Rate  Portugal Income Tax annual rate  \\\n",
       "0                       0.5                             42.0   \n",
       "1                       0.5                             42.0   \n",
       "2                       0.5                             42.0   \n",
       "3                       0.5                             42.0   \n",
       "4                       0.5                             42.0   \n",
       "\n",
       "   Portugal Bank Lending Rate Portugal Personal Savings  Portugal Wages  \\\n",
       "0                        7.66                       6.3         1063.38   \n",
       "1                        7.66                       6.3         1063.38   \n",
       "2                        7.66                       6.3         1063.38   \n",
       "3                        7.66                       6.3         1063.38   \n",
       "4                        7.66                       6.3         1063.38   \n",
       "\n",
       "   Portugal Unemployment Rate  Portugal Sales Tax  \n",
       "0                         7.6                20.0  \n",
       "1                         7.6                20.0  \n",
       "2                         7.6                20.0  \n",
       "3                         7.6                20.0  \n",
       "4                         7.6                20.0  \n",
       "\n",
       "[5 rows x 33 columns]"
      ]
     },
     "execution_count": 7,
     "metadata": {},
     "output_type": "execute_result"
    }
   ],
   "source": [
    "data.head()"
   ]
  },
  {
   "cell_type": "code",
   "execution_count": 8,
   "metadata": {},
   "outputs": [],
   "source": [
    "data.set_index('Date', inplace=True)"
   ]
  },
  {
   "cell_type": "code",
   "execution_count": 9,
   "metadata": {},
   "outputs": [
    {
     "data": {
      "text/plain": [
       "array(['may', 'jun', 'jul', 'aug', 'oct', 'nov', 'dec', 'mar', 'apr',\n",
       "       'sep'], dtype=object)"
      ]
     },
     "execution_count": 9,
     "metadata": {},
     "output_type": "execute_result"
    }
   ],
   "source": [
    "data.month.unique()"
   ]
  },
  {
   "cell_type": "code",
   "execution_count": 10,
   "metadata": {},
   "outputs": [],
   "source": [
    "data.loc[(data['month']=='mar'),'month_nos'] = 3\n",
    "data.loc[(data['month']=='apr'),'month_nos'] = 4\n",
    "data.loc[(data['month']=='may'),'month_nos'] = 5\n",
    "data.loc[(data['month']=='jun'),'month_nos'] = 6\n",
    "data.loc[(data['month']=='jul'),'month_nos'] = 7\n",
    "data.loc[(data['month']=='aug'),'month_nos'] = 8\n",
    "data.loc[(data['month']=='sep'),'month_nos'] = 9\n",
    "data.loc[(data['month']=='oct'),'month_nos'] = 10\n",
    "data.loc[(data['month']=='nov'),'month_nos'] = 11\n",
    "data.loc[(data['month']=='dec'),'month_nos'] = 12"
   ]
  },
  {
   "cell_type": "code",
   "execution_count": 11,
   "metadata": {},
   "outputs": [
    {
     "data": {
      "text/plain": [
       "array([ 5.,  6.,  7.,  8., 10., 11., 12.,  3.,  4.,  9.])"
      ]
     },
     "execution_count": 11,
     "metadata": {},
     "output_type": "execute_result"
    }
   ],
   "source": [
    "data.month_nos.unique()"
   ]
  },
  {
   "cell_type": "code",
   "execution_count": 12,
   "metadata": {},
   "outputs": [],
   "source": [
    "data.sort_values(by='month_nos', ascending=True, inplace=True)"
   ]
  },
  {
   "cell_type": "code",
   "execution_count": 13,
   "metadata": {},
   "outputs": [
    {
     "data": {
      "text/plain": [
       "[<matplotlib.lines.Line2D at 0x1034ccef0>]"
      ]
     },
     "execution_count": 13,
     "metadata": {},
     "output_type": "execute_result"
    },
    {
     "data": {
      "image/png": "[encoded data removed]",
      "text/plain": [
       "<Figure size 720x432 with 1 Axes>"
      ]
     },
     "metadata": {
      "needs_background": "light"
     },
     "output_type": "display_data"
    }
   ],
   "source": [
    "plt.figure(figsize=(10,6))\n",
    "plt.plot(data['month_nos'])"
   ]
  },
  {
   "cell_type": "code",
   "execution_count": 15,
   "metadata": {},
   "outputs": [
    {
     "data": {
      "image/png": "[encoded data removed]",
      "text/plain": [
       "<Figure size 1296x288 with 1 Axes>"
      ]
     },
     "metadata": {
      "needs_background": "light"
     },
     "output_type": "display_data"
    }
   ],
   "source": [
    "data['age'].value_counts(normalize=True).plot(kind='bar', figsize=(18, 4));"
   ]
  },
  {
   "cell_type": "code",
   "execution_count": 18,
   "metadata": {},
   "outputs": [
    {
     "data": {
      "text/plain": [
       "Index(['index', 'age', 'job', 'marital', 'education', 'default', 'housing',\n",
       "       'loan', 'contact', 'month', 'day_of_week', 'duration', 'campaign',\n",
       "       'pdays', 'previous', 'poutcome', 'emp.var.rate', 'cons.price.idx',\n",
       "       'cons.conf.idx', 'euribor3m', 'nr.employed', 'y', 'MOM Inflation',\n",
       "       'Wage Growth', 'EURUSD', 'euro zoneGDP Growth Rate',\n",
       "       'Portugal Income Tax annual rate', 'Portugal Bank Lending Rate',\n",
       "       'Portugal Personal Savings', 'Portugal Wages',\n",
       "       'Portugal Unemployment Rate', 'Portugal Sales Tax', 'month_nos'],\n",
       "      dtype='object')"
      ]
     },
     "execution_count": 18,
     "metadata": {},
     "output_type": "execute_result"
    }
   ],
   "source": [
    "data.columns"
   ]
  },
  {
   "cell_type": "code",
   "execution_count": 20,
   "metadata": {},
   "outputs": [],
   "source": [
    "data.loc[((data['age'] >= 16 ) & (data['age'] <= 24 )), 'Age_Group'] = '16-24'\n",
    "data.loc[((data['age'] >= 25 ) & (data['age'] <= 34 )), 'Age_Group'] = '25-34'\n",
    "data.loc[((data['age'] >= 35 ) & (data['age'] <= 44 )), 'Age_Group'] = '35-44'\n",
    "data.loc[((data['age'] >= 45 ) & (data['age'] <= 54 )), 'Age_Group'] = '45-54'\n",
    "data.loc[((data['age'] >= 55 ) & (data['age'] <= 64 )), 'Age_Group'] = '55-64'\n",
    "data.loc[((data['age'] >= 65 ) & (data['age'] <= 74 )), 'Age_Group'] = '65-74'\n",
    "data.loc[((data['age'] >= 75 ) & (data['age'] <= 79 )), 'Age_Group'] = '75-79'\n",
    "data.loc[((data['age'] >= 80 )), 'Age_Group'] = '80+'"
   ]
  },
  {
   "cell_type": "code",
   "execution_count": 22,
   "metadata": {},
   "outputs": [
    {
     "data": {
      "image/png": "[encoded data removed]",
      "text/plain": [
       "<Figure size 720x288 with 1 Axes>"
      ]
     },
     "metadata": {
      "needs_background": "light"
     },
     "output_type": "display_data"
    }
   ],
   "source": [
    "data['Age_Group'].value_counts(normalize=True).plot(kind='bar', figsize=(10, 4));"
   ]
  },
  {
   "cell_type": "code",
   "execution_count": 23,
   "metadata": {},
   "outputs": [
    {
     "data": {
      "image/png": "[encoded data removed]",
      "text/plain": [
       "<Figure size 720x288 with 1 Axes>"
      ]
     },
     "metadata": {
      "needs_background": "light"
     },
     "output_type": "display_data"
    }
   ],
   "source": [
    "data['job'].value_counts(normalize=True).plot(kind='bar', figsize=(10, 4));"
   ]
  },
  {
   "cell_type": "code",
   "execution_count": 24,
   "metadata": {},
   "outputs": [
    {
     "data": {
      "image/png": "[encoded data removed]",
      "text/plain": [
       "<Figure size 720x288 with 1 Axes>"
      ]
     },
     "metadata": {
      "needs_background": "light"
     },
     "output_type": "display_data"
    }
   ],
   "source": [
    "data['marital'].value_counts(normalize=True).plot(kind='bar', figsize=(10, 4));"
   ]
  },
  {
   "cell_type": "code",
   "execution_count": 28,
   "metadata": {},
   "outputs": [
    {
     "data": {
      "text/plain": [
       "Index(['index', 'age', 'job', 'marital', 'education', 'default', 'housing',\n",
       "       'loan', 'contact', 'month', 'day_of_week', 'duration', 'campaign',\n",
       "       'pdays', 'previous', 'poutcome', 'emp.var.rate', 'cons.price.idx',\n",
       "       'cons.conf.idx', 'euribor3m', 'nr.employed', 'y', 'MOM Inflation',\n",
       "       'Wage Growth', 'EURUSD', 'euro zoneGDP Growth Rate',\n",
       "       'Portugal Income Tax annual rate', 'Portugal Bank Lending Rate',\n",
       "       'Portugal Personal Savings', 'Portugal Wages',\n",
       "       'Portugal Unemployment Rate', 'Portugal Sales Tax', 'month_nos',\n",
       "       'Age_Group'],\n",
       "      dtype='object')"
      ]
     },
     "execution_count": 28,
     "metadata": {},
     "output_type": "execute_result"
    }
   ],
   "source": [
    "data.columns"
   ]
  },
  {
   "cell_type": "code",
   "execution_count": 30,
   "metadata": {},
   "outputs": [
    {
     "data": {
      "text/plain": [
       "<seaborn.axisgrid.FacetGrid at 0x1a18ad1fd0>"
      ]
     },
     "execution_count": 30,
     "metadata": {},
     "output_type": "execute_result"
    },
    {
     "data": {
      "image/png": "[encoded data removed]",
      "text/plain": [
       "<Figure size 413.25x360 with 1 Axes>"
      ]
     },
     "metadata": {
      "needs_background": "light"
     },
     "output_type": "display_data"
    }
   ],
   "source": [
    "sns.lmplot(x=\"age\", y=\"Portugal Wages\",data = data,\n",
    "                     hue = \"y\",fit_reg=False,  scatter_kws={'alpha':0.2}\n",
    "                     )"
   ]
  },
  {
   "cell_type": "code",
   "execution_count": 34,
   "metadata": {},
   "outputs": [
    {
     "data": {
      "text/html": [
       "<div>\n",
       "<style scoped>\n",
       "    .dataframe tbody tr th:only-of-type {\n",
       "        vertical-align: middle;\n",
       "    }\n",
       "\n",
       "    .dataframe tbody tr th {\n",
       "        vertical-align: top;\n",
       "    }\n",
       "\n",
       "    .dataframe thead th {\n",
       "        text-align: right;\n",
       "    }\n",
       "</style>\n",
       "<table border=\"1\" class=\"dataframe\">\n",
       "  <thead>\n",
       "    <tr style=\"text-align: right;\">\n",
       "      <th></th>\n",
       "      <th>index</th>\n",
       "      <th>age</th>\n",
       "      <th>duration</th>\n",
       "      <th>campaign</th>\n",
       "      <th>pdays</th>\n",
       "      <th>previous</th>\n",
       "      <th>emp.var.rate</th>\n",
       "      <th>cons.price.idx</th>\n",
       "      <th>cons.conf.idx</th>\n",
       "      <th>euribor3m</th>\n",
       "      <th>...</th>\n",
       "      <th>Wage Growth</th>\n",
       "      <th>EURUSD</th>\n",
       "      <th>euro zoneGDP Growth Rate</th>\n",
       "      <th>Portugal Income Tax annual rate</th>\n",
       "      <th>Portugal Bank Lending Rate</th>\n",
       "      <th>Portugal Personal Savings</th>\n",
       "      <th>Portugal Wages</th>\n",
       "      <th>Portugal Unemployment Rate</th>\n",
       "      <th>Portugal Sales Tax</th>\n",
       "      <th>month_nos</th>\n",
       "    </tr>\n",
       "    <tr>\n",
       "      <th>job</th>\n",
       "      <th></th>\n",
       "      <th></th>\n",
       "      <th></th>\n",
       "      <th></th>\n",
       "      <th></th>\n",
       "      <th></th>\n",
       "      <th></th>\n",
       "      <th></th>\n",
       "      <th></th>\n",
       "      <th></th>\n",
       "      <th></th>\n",
       "      <th></th>\n",
       "      <th></th>\n",
       "      <th></th>\n",
       "      <th></th>\n",
       "      <th></th>\n",
       "      <th></th>\n",
       "      <th></th>\n",
       "      <th></th>\n",
       "      <th></th>\n",
       "      <th></th>\n",
       "    </tr>\n",
       "  </thead>\n",
       "  <tbody>\n",
       "    <tr>\n",
       "      <th>admin.</th>\n",
       "      <td>21888.241604</td>\n",
       "      <td>38.187296</td>\n",
       "      <td>254.312128</td>\n",
       "      <td>2.623489</td>\n",
       "      <td>954.319229</td>\n",
       "      <td>0.189023</td>\n",
       "      <td>0.015563</td>\n",
       "      <td>93.534054</td>\n",
       "      <td>-40.245433</td>\n",
       "      <td>3.550274</td>\n",
       "      <td>...</td>\n",
       "      <td>2.361169</td>\n",
       "      <td>1.441002</td>\n",
       "      <td>-0.589263</td>\n",
       "      <td>42.163903</td>\n",
       "      <td>7.098167</td>\n",
       "      <td>6.522692</td>\n",
       "      <td>1069.924266</td>\n",
       "      <td>7.914383</td>\n",
       "      <td>20.042026</td>\n",
       "      <td>6.776243</td>\n",
       "    </tr>\n",
       "    <tr>\n",
       "      <th>blue-collar</th>\n",
       "      <td>17943.856819</td>\n",
       "      <td>39.555760</td>\n",
       "      <td>264.542360</td>\n",
       "      <td>2.558461</td>\n",
       "      <td>985.160363</td>\n",
       "      <td>0.122542</td>\n",
       "      <td>0.248995</td>\n",
       "      <td>93.656656</td>\n",
       "      <td>-41.375816</td>\n",
       "      <td>3.771996</td>\n",
       "      <td>...</td>\n",
       "      <td>3.399978</td>\n",
       "      <td>1.448896</td>\n",
       "      <td>-0.682937</td>\n",
       "      <td>42.036244</td>\n",
       "      <td>7.208915</td>\n",
       "      <td>6.315280</td>\n",
       "      <td>1066.680414</td>\n",
       "      <td>7.796920</td>\n",
       "      <td>20.009293</td>\n",
       "      <td>6.088286</td>\n",
       "    </tr>\n",
       "    <tr>\n",
       "      <th>entrepreneur</th>\n",
       "      <td>19219.407280</td>\n",
       "      <td>41.723214</td>\n",
       "      <td>263.267857</td>\n",
       "      <td>2.535714</td>\n",
       "      <td>981.267170</td>\n",
       "      <td>0.138736</td>\n",
       "      <td>0.158723</td>\n",
       "      <td>93.605372</td>\n",
       "      <td>-41.283654</td>\n",
       "      <td>3.791120</td>\n",
       "      <td>...</td>\n",
       "      <td>3.567376</td>\n",
       "      <td>1.429015</td>\n",
       "      <td>-0.595055</td>\n",
       "      <td>42.058929</td>\n",
       "      <td>7.303420</td>\n",
       "      <td>6.283585</td>\n",
       "      <td>1067.106813</td>\n",
       "      <td>7.787912</td>\n",
       "      <td>20.015110</td>\n",
       "      <td>6.796703</td>\n",
       "    </tr>\n",
       "    <tr>\n",
       "      <th>housemaid</th>\n",
       "      <td>18642.689623</td>\n",
       "      <td>45.500000</td>\n",
       "      <td>250.454717</td>\n",
       "      <td>2.639623</td>\n",
       "      <td>960.579245</td>\n",
       "      <td>0.137736</td>\n",
       "      <td>0.433396</td>\n",
       "      <td>93.676576</td>\n",
       "      <td>-39.495283</td>\n",
       "      <td>4.009645</td>\n",
       "      <td>...</td>\n",
       "      <td>2.608302</td>\n",
       "      <td>1.466748</td>\n",
       "      <td>-0.280755</td>\n",
       "      <td>42.143491</td>\n",
       "      <td>7.310792</td>\n",
       "      <td>6.289811</td>\n",
       "      <td>1068.413160</td>\n",
       "      <td>7.753491</td>\n",
       "      <td>20.036792</td>\n",
       "      <td>6.805660</td>\n",
       "    </tr>\n",
       "    <tr>\n",
       "      <th>management</th>\n",
       "      <td>21013.031806</td>\n",
       "      <td>42.362859</td>\n",
       "      <td>257.058140</td>\n",
       "      <td>2.476060</td>\n",
       "      <td>962.647059</td>\n",
       "      <td>0.185021</td>\n",
       "      <td>-0.012688</td>\n",
       "      <td>93.522755</td>\n",
       "      <td>-40.489466</td>\n",
       "      <td>3.611316</td>\n",
       "      <td>...</td>\n",
       "      <td>3.103078</td>\n",
       "      <td>1.427407</td>\n",
       "      <td>-0.527531</td>\n",
       "      <td>42.142715</td>\n",
       "      <td>7.203232</td>\n",
       "      <td>6.472880</td>\n",
       "      <td>1068.923003</td>\n",
       "      <td>7.885363</td>\n",
       "      <td>20.036594</td>\n",
       "      <td>6.994186</td>\n",
       "    </tr>\n",
       "    <tr>\n",
       "      <th>retired</th>\n",
       "      <td>26086.565698</td>\n",
       "      <td>62.027326</td>\n",
       "      <td>273.712209</td>\n",
       "      <td>2.476744</td>\n",
       "      <td>897.936047</td>\n",
       "      <td>0.327326</td>\n",
       "      <td>-0.698314</td>\n",
       "      <td>93.430786</td>\n",
       "      <td>-38.573081</td>\n",
       "      <td>2.770066</td>\n",
       "      <td>...</td>\n",
       "      <td>1.096395</td>\n",
       "      <td>1.430305</td>\n",
       "      <td>-0.246686</td>\n",
       "      <td>42.526047</td>\n",
       "      <td>6.620494</td>\n",
       "      <td>7.502035</td>\n",
       "      <td>1078.231622</td>\n",
       "      <td>8.372442</td>\n",
       "      <td>20.134884</td>\n",
       "      <td>7.019767</td>\n",
       "    </tr>\n",
       "    <tr>\n",
       "      <th>self-employed</th>\n",
       "      <td>20723.339198</td>\n",
       "      <td>39.949331</td>\n",
       "      <td>264.142153</td>\n",
       "      <td>2.660802</td>\n",
       "      <td>976.621393</td>\n",
       "      <td>0.143561</td>\n",
       "      <td>0.094159</td>\n",
       "      <td>93.559982</td>\n",
       "      <td>-40.488107</td>\n",
       "      <td>3.689376</td>\n",
       "      <td>...</td>\n",
       "      <td>2.830260</td>\n",
       "      <td>1.437790</td>\n",
       "      <td>-0.529838</td>\n",
       "      <td>42.153695</td>\n",
       "      <td>7.213040</td>\n",
       "      <td>6.404645</td>\n",
       "      <td>1068.791288</td>\n",
       "      <td>7.850246</td>\n",
       "      <td>20.039409</td>\n",
       "      <td>6.793103</td>\n",
       "    </tr>\n",
       "    <tr>\n",
       "      <th>services</th>\n",
       "      <td>18930.184681</td>\n",
       "      <td>37.926430</td>\n",
       "      <td>258.398085</td>\n",
       "      <td>2.587805</td>\n",
       "      <td>979.974049</td>\n",
       "      <td>0.154951</td>\n",
       "      <td>0.175359</td>\n",
       "      <td>93.634659</td>\n",
       "      <td>-41.290048</td>\n",
       "      <td>3.699187</td>\n",
       "      <td>...</td>\n",
       "      <td>3.221819</td>\n",
       "      <td>1.446580</td>\n",
       "      <td>-0.661275</td>\n",
       "      <td>42.063870</td>\n",
       "      <td>7.178692</td>\n",
       "      <td>6.375334</td>\n",
       "      <td>1067.406808</td>\n",
       "      <td>7.828193</td>\n",
       "      <td>20.016377</td>\n",
       "      <td>6.222474</td>\n",
       "    </tr>\n",
       "    <tr>\n",
       "      <th>student</th>\n",
       "      <td>30844.699429</td>\n",
       "      <td>25.894857</td>\n",
       "      <td>283.683429</td>\n",
       "      <td>2.104000</td>\n",
       "      <td>840.217143</td>\n",
       "      <td>0.524571</td>\n",
       "      <td>-1.408000</td>\n",
       "      <td>93.331613</td>\n",
       "      <td>-40.187543</td>\n",
       "      <td>1.884224</td>\n",
       "      <td>...</td>\n",
       "      <td>0.621486</td>\n",
       "      <td>1.395052</td>\n",
       "      <td>-0.719086</td>\n",
       "      <td>42.503657</td>\n",
       "      <td>6.144491</td>\n",
       "      <td>8.113486</td>\n",
       "      <td>1082.128800</td>\n",
       "      <td>8.711657</td>\n",
       "      <td>20.129143</td>\n",
       "      <td>6.597714</td>\n",
       "    </tr>\n",
       "    <tr>\n",
       "      <th>technician</th>\n",
       "      <td>20828.577636</td>\n",
       "      <td>38.507638</td>\n",
       "      <td>250.232241</td>\n",
       "      <td>2.577339</td>\n",
       "      <td>964.408127</td>\n",
       "      <td>0.153789</td>\n",
       "      <td>0.274566</td>\n",
       "      <td>93.561471</td>\n",
       "      <td>-39.927569</td>\n",
       "      <td>3.820401</td>\n",
       "      <td>...</td>\n",
       "      <td>2.355865</td>\n",
       "      <td>1.451319</td>\n",
       "      <td>-0.520866</td>\n",
       "      <td>42.113362</td>\n",
       "      <td>7.251539</td>\n",
       "      <td>6.259380</td>\n",
       "      <td>1068.248014</td>\n",
       "      <td>7.776464</td>\n",
       "      <td>20.029067</td>\n",
       "      <td>6.856295</td>\n",
       "    </tr>\n",
       "    <tr>\n",
       "      <th>unemployed</th>\n",
       "      <td>21888.059172</td>\n",
       "      <td>39.733728</td>\n",
       "      <td>249.451677</td>\n",
       "      <td>2.564103</td>\n",
       "      <td>935.316568</td>\n",
       "      <td>0.199211</td>\n",
       "      <td>-0.111736</td>\n",
       "      <td>93.563781</td>\n",
       "      <td>-40.007594</td>\n",
       "      <td>3.466583</td>\n",
       "      <td>...</td>\n",
       "      <td>2.638462</td>\n",
       "      <td>1.435193</td>\n",
       "      <td>-0.405325</td>\n",
       "      <td>42.219231</td>\n",
       "      <td>7.073807</td>\n",
       "      <td>6.722288</td>\n",
       "      <td>1071.515394</td>\n",
       "      <td>8.002465</td>\n",
       "      <td>20.056213</td>\n",
       "      <td>7.003945</td>\n",
       "    </tr>\n",
       "    <tr>\n",
       "      <th>unknown</th>\n",
       "      <td>17470.290909</td>\n",
       "      <td>45.563636</td>\n",
       "      <td>239.675758</td>\n",
       "      <td>2.648485</td>\n",
       "      <td>938.727273</td>\n",
       "      <td>0.154545</td>\n",
       "      <td>0.357879</td>\n",
       "      <td>93.718942</td>\n",
       "      <td>-38.797879</td>\n",
       "      <td>3.949033</td>\n",
       "      <td>...</td>\n",
       "      <td>3.079091</td>\n",
       "      <td>1.484672</td>\n",
       "      <td>-0.247576</td>\n",
       "      <td>42.189091</td>\n",
       "      <td>7.215636</td>\n",
       "      <td>6.476364</td>\n",
       "      <td>1069.256576</td>\n",
       "      <td>7.858788</td>\n",
       "      <td>20.048485</td>\n",
       "      <td>6.396970</td>\n",
       "    </tr>\n",
       "  </tbody>\n",
       "</table>\n",
       "<p>12 rows × 22 columns</p>\n",
       "</div>"
      ],
      "text/plain": [
       "                      index        age    duration  campaign       pdays  \\\n",
       "job                                                                        \n",
       "admin.         21888.241604  38.187296  254.312128  2.623489  954.319229   \n",
       "blue-collar    17943.856819  39.555760  264.542360  2.558461  985.160363   \n",
       "entrepreneur   19219.407280  41.723214  263.267857  2.535714  981.267170   \n",
       "housemaid      18642.689623  45.500000  250.454717  2.639623  960.579245   \n",
       "management     21013.031806  42.362859  257.058140  2.476060  962.647059   \n",
       "retired        26086.565698  62.027326  273.712209  2.476744  897.936047   \n",
       "self-employed  20723.339198  39.949331  264.142153  2.660802  976.621393   \n",
       "services       18930.184681  37.926430  258.398085  2.587805  979.974049   \n",
       "student        30844.699429  25.894857  283.683429  2.104000  840.217143   \n",
       "technician     20828.577636  38.507638  250.232241  2.577339  964.408127   \n",
       "unemployed     21888.059172  39.733728  249.451677  2.564103  935.316568   \n",
       "unknown        17470.290909  45.563636  239.675758  2.648485  938.727273   \n",
       "\n",
       "               previous  emp.var.rate  cons.price.idx  cons.conf.idx  \\\n",
       "job                                                                    \n",
       "admin.         0.189023      0.015563       93.534054     -40.245433   \n",
       "blue-collar    0.122542      0.248995       93.656656     -41.375816   \n",
       "entrepreneur   0.138736      0.158723       93.605372     -41.283654   \n",
       "housemaid      0.137736      0.433396       93.676576     -39.495283   \n",
       "management     0.185021     -0.012688       93.522755     -40.489466   \n",
       "retired        0.327326     -0.698314       93.430786     -38.573081   \n",
       "self-employed  0.143561      0.094159       93.559982     -40.488107   \n",
       "services       0.154951      0.175359       93.634659     -41.290048   \n",
       "student        0.524571     -1.408000       93.331613     -40.187543   \n",
       "technician     0.153789      0.274566       93.561471     -39.927569   \n",
       "unemployed     0.199211     -0.111736       93.563781     -40.007594   \n",
       "unknown        0.154545      0.357879       93.718942     -38.797879   \n",
       "\n",
       "               euribor3m  ...  Wage Growth    EURUSD  \\\n",
       "job                       ...                          \n",
       "admin.          3.550274  ...     2.361169  1.441002   \n",
       "blue-collar     3.771996  ...     3.399978  1.448896   \n",
       "entrepreneur    3.791120  ...     3.567376  1.429015   \n",
       "housemaid       4.009645  ...     2.608302  1.466748   \n",
       "management      3.611316  ...     3.103078  1.427407   \n",
       "retired         2.770066  ...     1.096395  1.430305   \n",
       "self-employed   3.689376  ...     2.830260  1.437790   \n",
       "services        3.699187  ...     3.221819  1.446580   \n",
       "student         1.884224  ...     0.621486  1.395052   \n",
       "technician      3.820401  ...     2.355865  1.451319   \n",
       "unemployed      3.466583  ...     2.638462  1.435193   \n",
       "unknown         3.949033  ...     3.079091  1.484672   \n",
       "\n",
       "               euro zoneGDP Growth Rate  Portugal Income Tax annual rate  \\\n",
       "job                                                                        \n",
       "admin.                        -0.589263                        42.163903   \n",
       "blue-collar                   -0.682937                        42.036244   \n",
       "entrepreneur                  -0.595055                        42.058929   \n",
       "housemaid                     -0.280755                        42.143491   \n",
       "management                    -0.527531                        42.142715   \n",
       "retired                       -0.246686                        42.526047   \n",
       "self-employed                 -0.529838                        42.153695   \n",
       "services                      -0.661275                        42.063870   \n",
       "student                       -0.719086                        42.503657   \n",
       "technician                    -0.520866                        42.113362   \n",
       "unemployed                    -0.405325                        42.219231   \n",
       "unknown                       -0.247576                        42.189091   \n",
       "\n",
       "               Portugal Bank Lending Rate  Portugal Personal Savings  \\\n",
       "job                                                                    \n",
       "admin.                           7.098167                   6.522692   \n",
       "blue-collar                      7.208915                   6.315280   \n",
       "entrepreneur                     7.303420                   6.283585   \n",
       "housemaid                        7.310792                   6.289811   \n",
       "management                       7.203232                   6.472880   \n",
       "retired                          6.620494                   7.502035   \n",
       "self-employed                    7.213040                   6.404645   \n",
       "services                         7.178692                   6.375334   \n",
       "student                          6.144491                   8.113486   \n",
       "technician                       7.251539                   6.259380   \n",
       "unemployed                       7.073807                   6.722288   \n",
       "unknown                          7.215636                   6.476364   \n",
       "\n",
       "               Portugal Wages  Portugal Unemployment Rate  Portugal Sales Tax  \\\n",
       "job                                                                             \n",
       "admin.            1069.924266                    7.914383           20.042026   \n",
       "blue-collar       1066.680414                    7.796920           20.009293   \n",
       "entrepreneur      1067.106813                    7.787912           20.015110   \n",
       "housemaid         1068.413160                    7.753491           20.036792   \n",
       "management        1068.923003                    7.885363           20.036594   \n",
       "retired           1078.231622                    8.372442           20.134884   \n",
       "self-employed     1068.791288                    7.850246           20.039409   \n",
       "services          1067.406808                    7.828193           20.016377   \n",
       "student           1082.128800                    8.711657           20.129143   \n",
       "technician        1068.248014                    7.776464           20.029067   \n",
       "unemployed        1071.515394                    8.002465           20.056213   \n",
       "unknown           1069.256576                    7.858788           20.048485   \n",
       "\n",
       "               month_nos  \n",
       "job                       \n",
       "admin.          6.776243  \n",
       "blue-collar     6.088286  \n",
       "entrepreneur    6.796703  \n",
       "housemaid       6.805660  \n",
       "management      6.994186  \n",
       "retired         7.019767  \n",
       "self-employed   6.793103  \n",
       "services        6.222474  \n",
       "student         6.597714  \n",
       "technician      6.856295  \n",
       "unemployed      7.003945  \n",
       "unknown         6.396970  \n",
       "\n",
       "[12 rows x 22 columns]"
      ]
     },
     "execution_count": 34,
     "metadata": {},
     "output_type": "execute_result"
    }
   ],
   "source": [
    "data.groupby('job').mean()"
   ]
  },
  {
   "cell_type": "code",
   "execution_count": 36,
   "metadata": {},
   "outputs": [
    {
     "data": {
      "text/html": [
       "<div>\n",
       "<style scoped>\n",
       "    .dataframe tbody tr th:only-of-type {\n",
       "        vertical-align: middle;\n",
       "    }\n",
       "\n",
       "    .dataframe tbody tr th {\n",
       "        vertical-align: top;\n",
       "    }\n",
       "\n",
       "    .dataframe thead th {\n",
       "        text-align: right;\n",
       "    }\n",
       "</style>\n",
       "<table border=\"1\" class=\"dataframe\">\n",
       "  <thead>\n",
       "    <tr style=\"text-align: right;\">\n",
       "      <th></th>\n",
       "      <th>index</th>\n",
       "      <th>age</th>\n",
       "      <th>duration</th>\n",
       "      <th>campaign</th>\n",
       "      <th>pdays</th>\n",
       "      <th>previous</th>\n",
       "      <th>emp.var.rate</th>\n",
       "      <th>cons.price.idx</th>\n",
       "      <th>cons.conf.idx</th>\n",
       "      <th>euribor3m</th>\n",
       "      <th>...</th>\n",
       "      <th>Wage Growth</th>\n",
       "      <th>EURUSD</th>\n",
       "      <th>euro zoneGDP Growth Rate</th>\n",
       "      <th>Portugal Income Tax annual rate</th>\n",
       "      <th>Portugal Bank Lending Rate</th>\n",
       "      <th>Portugal Personal Savings</th>\n",
       "      <th>Portugal Wages</th>\n",
       "      <th>Portugal Unemployment Rate</th>\n",
       "      <th>Portugal Sales Tax</th>\n",
       "      <th>month_nos</th>\n",
       "    </tr>\n",
       "    <tr>\n",
       "      <th>Age_Group</th>\n",
       "      <th></th>\n",
       "      <th></th>\n",
       "      <th></th>\n",
       "      <th></th>\n",
       "      <th></th>\n",
       "      <th></th>\n",
       "      <th></th>\n",
       "      <th></th>\n",
       "      <th></th>\n",
       "      <th></th>\n",
       "      <th></th>\n",
       "      <th></th>\n",
       "      <th></th>\n",
       "      <th></th>\n",
       "      <th></th>\n",
       "      <th></th>\n",
       "      <th></th>\n",
       "      <th></th>\n",
       "      <th></th>\n",
       "      <th></th>\n",
       "      <th></th>\n",
       "    </tr>\n",
       "  </thead>\n",
       "  <tbody>\n",
       "    <tr>\n",
       "      <th>16-24</th>\n",
       "      <td>27089.438202</td>\n",
       "      <td>22.615169</td>\n",
       "      <td>278.228464</td>\n",
       "      <td>2.321161</td>\n",
       "      <td>894.932584</td>\n",
       "      <td>0.368914</td>\n",
       "      <td>-0.828184</td>\n",
       "      <td>93.440772</td>\n",
       "      <td>-41.340918</td>\n",
       "      <td>2.524922</td>\n",
       "      <td>...</td>\n",
       "      <td>1.148876</td>\n",
       "      <td>1.413690</td>\n",
       "      <td>-0.886423</td>\n",
       "      <td>42.303090</td>\n",
       "      <td>6.491030</td>\n",
       "      <td>7.386423</td>\n",
       "      <td>1076.503755</td>\n",
       "      <td>8.366011</td>\n",
       "      <td>20.077715</td>\n",
       "      <td>6.309925</td>\n",
       "    </tr>\n",
       "    <tr>\n",
       "      <th>25-34</th>\n",
       "      <td>21677.964782</td>\n",
       "      <td>30.462370</td>\n",
       "      <td>259.030615</td>\n",
       "      <td>2.532077</td>\n",
       "      <td>962.583881</td>\n",
       "      <td>0.177188</td>\n",
       "      <td>-0.022717</td>\n",
       "      <td>93.541217</td>\n",
       "      <td>-40.922753</td>\n",
       "      <td>3.481400</td>\n",
       "      <td>...</td>\n",
       "      <td>2.593877</td>\n",
       "      <td>1.436425</td>\n",
       "      <td>-0.726290</td>\n",
       "      <td>42.121109</td>\n",
       "      <td>7.067411</td>\n",
       "      <td>6.530659</td>\n",
       "      <td>1069.398280</td>\n",
       "      <td>7.928957</td>\n",
       "      <td>20.031054</td>\n",
       "      <td>6.549832</td>\n",
       "    </tr>\n",
       "    <tr>\n",
       "      <th>35-44</th>\n",
       "      <td>19132.782370</td>\n",
       "      <td>38.976667</td>\n",
       "      <td>256.228889</td>\n",
       "      <td>2.589852</td>\n",
       "      <td>973.477926</td>\n",
       "      <td>0.146741</td>\n",
       "      <td>0.197452</td>\n",
       "      <td>93.609116</td>\n",
       "      <td>-40.676481</td>\n",
       "      <td>3.760269</td>\n",
       "      <td>...</td>\n",
       "      <td>3.119074</td>\n",
       "      <td>1.445883</td>\n",
       "      <td>-0.553681</td>\n",
       "      <td>42.086378</td>\n",
       "      <td>7.224573</td>\n",
       "      <td>6.351222</td>\n",
       "      <td>1067.650345</td>\n",
       "      <td>7.809044</td>\n",
       "      <td>20.022148</td>\n",
       "      <td>6.488519</td>\n",
       "    </tr>\n",
       "    <tr>\n",
       "      <th>45-54</th>\n",
       "      <td>18993.206572</td>\n",
       "      <td>49.084444</td>\n",
       "      <td>254.710823</td>\n",
       "      <td>2.640395</td>\n",
       "      <td>972.071921</td>\n",
       "      <td>0.142004</td>\n",
       "      <td>0.353906</td>\n",
       "      <td>93.626069</td>\n",
       "      <td>-40.120278</td>\n",
       "      <td>3.945488</td>\n",
       "      <td>...</td>\n",
       "      <td>2.934639</td>\n",
       "      <td>1.454334</td>\n",
       "      <td>-0.441245</td>\n",
       "      <td>42.099023</td>\n",
       "      <td>7.322896</td>\n",
       "      <td>6.219106</td>\n",
       "      <td>1067.440993</td>\n",
       "      <td>7.743176</td>\n",
       "      <td>20.025391</td>\n",
       "      <td>6.759881</td>\n",
       "    </tr>\n",
       "    <tr>\n",
       "      <th>55-64</th>\n",
       "      <td>20800.868517</td>\n",
       "      <td>57.471545</td>\n",
       "      <td>262.128680</td>\n",
       "      <td>2.620690</td>\n",
       "      <td>949.426128</td>\n",
       "      <td>0.179422</td>\n",
       "      <td>0.108354</td>\n",
       "      <td>93.584521</td>\n",
       "      <td>-39.617550</td>\n",
       "      <td>3.672307</td>\n",
       "      <td>...</td>\n",
       "      <td>2.312616</td>\n",
       "      <td>1.450148</td>\n",
       "      <td>-0.385786</td>\n",
       "      <td>42.212111</td>\n",
       "      <td>7.142321</td>\n",
       "      <td>6.531371</td>\n",
       "      <td>1070.260050</td>\n",
       "      <td>7.891057</td>\n",
       "      <td>20.054387</td>\n",
       "      <td>6.849453</td>\n",
       "    </tr>\n",
       "    <tr>\n",
       "      <th>65-74</th>\n",
       "      <td>37322.822335</td>\n",
       "      <td>69.302030</td>\n",
       "      <td>278.335025</td>\n",
       "      <td>2.068528</td>\n",
       "      <td>809.972081</td>\n",
       "      <td>0.596447</td>\n",
       "      <td>-2.403807</td>\n",
       "      <td>93.065467</td>\n",
       "      <td>-36.630711</td>\n",
       "      <td>0.920112</td>\n",
       "      <td>...</td>\n",
       "      <td>-1.281472</td>\n",
       "      <td>1.376422</td>\n",
       "      <td>-0.010914</td>\n",
       "      <td>43.187817</td>\n",
       "      <td>5.542741</td>\n",
       "      <td>9.493147</td>\n",
       "      <td>1094.335787</td>\n",
       "      <td>9.380203</td>\n",
       "      <td>20.304569</td>\n",
       "      <td>7.510152</td>\n",
       "    </tr>\n",
       "    <tr>\n",
       "      <th>75-79</th>\n",
       "      <td>37911.151261</td>\n",
       "      <td>76.773109</td>\n",
       "      <td>289.588235</td>\n",
       "      <td>1.890756</td>\n",
       "      <td>773.529412</td>\n",
       "      <td>0.865546</td>\n",
       "      <td>-2.398319</td>\n",
       "      <td>93.158437</td>\n",
       "      <td>-36.152941</td>\n",
       "      <td>0.870361</td>\n",
       "      <td>...</td>\n",
       "      <td>-1.110924</td>\n",
       "      <td>1.389187</td>\n",
       "      <td>-0.015126</td>\n",
       "      <td>43.147059</td>\n",
       "      <td>5.478655</td>\n",
       "      <td>9.539496</td>\n",
       "      <td>1095.085462</td>\n",
       "      <td>9.428571</td>\n",
       "      <td>20.294118</td>\n",
       "      <td>7.453782</td>\n",
       "    </tr>\n",
       "    <tr>\n",
       "      <th>80+</th>\n",
       "      <td>37107.886667</td>\n",
       "      <td>83.946667</td>\n",
       "      <td>271.806667</td>\n",
       "      <td>1.920000</td>\n",
       "      <td>747.200000</td>\n",
       "      <td>0.733333</td>\n",
       "      <td>-2.212667</td>\n",
       "      <td>93.204087</td>\n",
       "      <td>-37.402000</td>\n",
       "      <td>0.935253</td>\n",
       "      <td>...</td>\n",
       "      <td>-0.464667</td>\n",
       "      <td>1.368104</td>\n",
       "      <td>-0.129333</td>\n",
       "      <td>43.300000</td>\n",
       "      <td>5.673000</td>\n",
       "      <td>9.461333</td>\n",
       "      <td>1093.122333</td>\n",
       "      <td>9.398667</td>\n",
       "      <td>20.333333</td>\n",
       "      <td>7.166667</td>\n",
       "    </tr>\n",
       "  </tbody>\n",
       "</table>\n",
       "<p>8 rows × 22 columns</p>\n",
       "</div>"
      ],
      "text/plain": [
       "                  index        age    duration  campaign       pdays  \\\n",
       "Age_Group                                                              \n",
       "16-24      27089.438202  22.615169  278.228464  2.321161  894.932584   \n",
       "25-34      21677.964782  30.462370  259.030615  2.532077  962.583881   \n",
       "35-44      19132.782370  38.976667  256.228889  2.589852  973.477926   \n",
       "45-54      18993.206572  49.084444  254.710823  2.640395  972.071921   \n",
       "55-64      20800.868517  57.471545  262.128680  2.620690  949.426128   \n",
       "65-74      37322.822335  69.302030  278.335025  2.068528  809.972081   \n",
       "75-79      37911.151261  76.773109  289.588235  1.890756  773.529412   \n",
       "80+        37107.886667  83.946667  271.806667  1.920000  747.200000   \n",
       "\n",
       "           previous  emp.var.rate  cons.price.idx  cons.conf.idx  euribor3m  \\\n",
       "Age_Group                                                                     \n",
       "16-24      0.368914     -0.828184       93.440772     -41.340918   2.524922   \n",
       "25-34      0.177188     -0.022717       93.541217     -40.922753   3.481400   \n",
       "35-44      0.146741      0.197452       93.609116     -40.676481   3.760269   \n",
       "45-54      0.142004      0.353906       93.626069     -40.120278   3.945488   \n",
       "55-64      0.179422      0.108354       93.584521     -39.617550   3.672307   \n",
       "65-74      0.596447     -2.403807       93.065467     -36.630711   0.920112   \n",
       "75-79      0.865546     -2.398319       93.158437     -36.152941   0.870361   \n",
       "80+        0.733333     -2.212667       93.204087     -37.402000   0.935253   \n",
       "\n",
       "           ...  Wage Growth    EURUSD  euro zoneGDP Growth Rate  \\\n",
       "Age_Group  ...                                                    \n",
       "16-24      ...     1.148876  1.413690                 -0.886423   \n",
       "25-34      ...     2.593877  1.436425                 -0.726290   \n",
       "35-44      ...     3.119074  1.445883                 -0.553681   \n",
       "45-54      ...     2.934639  1.454334                 -0.441245   \n",
       "55-64      ...     2.312616  1.450148                 -0.385786   \n",
       "65-74      ...    -1.281472  1.376422                 -0.010914   \n",
       "75-79      ...    -1.110924  1.389187                 -0.015126   \n",
       "80+        ...    -0.464667  1.368104                 -0.129333   \n",
       "\n",
       "           Portugal Income Tax annual rate  Portugal Bank Lending Rate  \\\n",
       "Age_Group                                                                \n",
       "16-24                            42.303090                    6.491030   \n",
       "25-34                            42.121109                    7.067411   \n",
       "35-44                            42.086378                    7.224573   \n",
       "45-54                            42.099023                    7.322896   \n",
       "55-64                            42.212111                    7.142321   \n",
       "65-74                            43.187817                    5.542741   \n",
       "75-79                            43.147059                    5.478655   \n",
       "80+                              43.300000                    5.673000   \n",
       "\n",
       "           Portugal Personal Savings  Portugal Wages  \\\n",
       "Age_Group                                              \n",
       "16-24                       7.386423     1076.503755   \n",
       "25-34                       6.530659     1069.398280   \n",
       "35-44                       6.351222     1067.650345   \n",
       "45-54                       6.219106     1067.440993   \n",
       "55-64                       6.531371     1070.260050   \n",
       "65-74                       9.493147     1094.335787   \n",
       "75-79                       9.539496     1095.085462   \n",
       "80+                         9.461333     1093.122333   \n",
       "\n",
       "           Portugal Unemployment Rate  Portugal Sales Tax  month_nos  \n",
       "Age_Group                                                             \n",
       "16-24                        8.366011           20.077715   6.309925  \n",
       "25-34                        7.928957           20.031054   6.549832  \n",
       "35-44                        7.809044           20.022148   6.488519  \n",
       "45-54                        7.743176           20.025391   6.759881  \n",
       "55-64                        7.891057           20.054387   6.849453  \n",
       "65-74                        9.380203           20.304569   7.510152  \n",
       "75-79                        9.428571           20.294118   7.453782  \n",
       "80+                          9.398667           20.333333   7.166667  \n",
       "\n",
       "[8 rows x 22 columns]"
      ]
     },
     "execution_count": 36,
     "metadata": {},
     "output_type": "execute_result"
    }
   ],
   "source": [
    "data.groupby('Age_Group').mean()"
   ]
  },
  {
   "cell_type": "code",
   "execution_count": 44,
   "metadata": {},
   "outputs": [],
   "source": [
    "data_age = data.groupby('Age_Group').count().reset_index()"
   ]
  },
  {
   "cell_type": "code",
   "execution_count": 50,
   "metadata": {},
   "outputs": [
    {
     "data": {
      "image/png": "[encoded data removed]",
      "text/plain": [
       "<Figure size 432x288 with 1 Axes>"
      ]
     },
     "metadata": {
      "needs_background": "light"
     },
     "output_type": "display_data"
    }
   ],
   "source": [
    "plt.bar(data_age['Age_Group'],data_age['y'])\n",
    "plt.show()"
   ]
  },
  {
   "cell_type": "code",
   "execution_count": 99,
   "metadata": {},
   "outputs": [
    {
     "data": {
      "image/png": "[encoded data removed]",
      "text/plain": [
       "<Figure size 432x288 with 1 Axes>"
      ]
     },
     "metadata": {
      "needs_background": "light"
     },
     "output_type": "display_data"
    }
   ],
   "source": [
    "table=pd.crosstab(data.Age_Group,data.y)\n",
    "table.div(table.sum(1).astype(float), axis=0).plot(kind='bar', stacked=True)\n",
    "\n",
    "plt.title('Stacked Bar Chart of Age Group')\n",
    "plt.xlabel('Age Group')\n",
    "plt.ylabel('Proportion of Customers')\n",
    "plt.show()"
   ]
  },
  {
   "cell_type": "code",
   "execution_count": 101,
   "metadata": {},
   "outputs": [
    {
     "data": {
      "text/plain": [
       "Text(0, 0.5, 'Proportion of Customers')"
      ]
     },
     "execution_count": 101,
     "metadata": {},
     "output_type": "execute_result"
    },
    {
     "data": {
      "image/png": "[encoded data removed]",
      "text/plain": [
       "<Figure size 432x288 with 1 Axes>"
      ]
     },
     "metadata": {
      "needs_background": "light"
     },
     "output_type": "display_data"
    }
   ],
   "source": [
    "table=pd.crosstab(data.education,data.y)\n",
    "table.div(table.sum(1).astype(float), axis=0).plot(kind='bar', stacked=True)\n",
    "plt.title('Stacked Bar Chart of Education')\n",
    "plt.xlabel('Education Attained')\n",
    "plt.ylabel('Proportion of Customers')"
   ]
  },
  {
   "cell_type": "code",
   "execution_count": 103,
   "metadata": {},
   "outputs": [
    {
     "data": {
      "image/png": "[encoded data removed]",
      "text/plain": [
       "<Figure size 432x288 with 1 Axes>"
      ]
     },
     "metadata": {
      "needs_background": "light"
     },
     "output_type": "display_data"
    }
   ],
   "source": [
    "table=pd.crosstab(data.housing,data.y)\n",
    "table.div(table.sum(1).astype(float), axis=0).plot(kind='bar', stacked=True)\n",
    "plt.title('Stacked Bar Chart of House Ownership')\n",
    "plt.xlabel('House Ownership')\n",
    "plt.ylabel('Proportion of Customers')\n",
    "plt.show()"
   ]
  },
  {
   "cell_type": "code",
   "execution_count": 104,
   "metadata": {},
   "outputs": [
    {
     "data": {
      "image/png": "[encoded data removed]",
      "text/plain": [
       "<Figure size 432x288 with 1 Axes>"
      ]
     },
     "metadata": {
      "needs_background": "light"
     },
     "output_type": "display_data"
    }
   ],
   "source": [
    "table=pd.crosstab(data.job,data.y)\n",
    "table.div(table.sum(1).astype(float), axis=0).plot(kind='bar', stacked=True)\n",
    "plt.title('Stacked Bar Chart of Employment Type')\n",
    "plt.xlabel('Jobs')\n",
    "plt.ylabel('Proportion of Customers')\n",
    "plt.show()"
   ]
  },
  {
   "cell_type": "code",
   "execution_count": 105,
   "metadata": {},
   "outputs": [
    {
     "data": {
      "image/png": "[encoded data removed]",
      "text/plain": [
       "<Figure size 432x288 with 1 Axes>"
      ]
     },
     "metadata": {
      "needs_background": "light"
     },
     "output_type": "display_data"
    }
   ],
   "source": [
    "table=pd.crosstab(data.loan,data.y)\n",
    "table.div(table.sum(1).astype(float), axis=0).plot(kind='bar', stacked=True)\n",
    "plt.title('Stacked Bar Chart of Loan Status')\n",
    "plt.xlabel('Loan Status')\n",
    "plt.ylabel('Proportion of Customers')\n",
    "plt.show()"
   ]
  },
  {
   "cell_type": "code",
   "execution_count": 64,
   "metadata": {},
   "outputs": [],
   "source": [
    "bank_month = data.groupby('month').agg(Counts=('month','count')).reset_index()"
   ]
  },
  {
   "cell_type": "code",
   "execution_count": 65,
   "metadata": {},
   "outputs": [],
   "source": [
    "bank_month['month'].replace('jan', 1, inplace=True)\n",
    "bank_month['month'].replace('feb', 2, inplace=True)\n",
    "bank_month['month'].replace('mar', 3, inplace=True)\n",
    "bank_month['month'].replace('apr', 4, inplace=True)\n",
    "bank_month['month'].replace('may', 5, inplace=True)\n",
    "bank_month['month'].replace('jun', 6, inplace=True)\n",
    "bank_month['month'].replace('jul', 7, inplace=True)\n",
    "bank_month['month'].replace('aug', 8, inplace=True)\n",
    "bank_month['month'].replace('sep', 9, inplace=True)\n",
    "bank_month['month'].replace('oct', 10, inplace=True)\n",
    "bank_month['month'].replace('nov', 11, inplace=True)\n",
    "bank_month['month'].replace('dec', 12, inplace=True)"
   ]
  },
  {
   "cell_type": "code",
   "execution_count": 66,
   "metadata": {},
   "outputs": [],
   "source": [
    "bank_month.sort_values(by='month',ascending=True, inplace=True)"
   ]
  },
  {
   "cell_type": "code",
   "execution_count": 67,
   "metadata": {},
   "outputs": [
    {
     "data": {
      "image/png": "[encoded data removed]",
      "text/plain": [
       "<Figure size 720x432 with 1 Axes>"
      ]
     },
     "metadata": {
      "needs_background": "light"
     },
     "output_type": "display_data"
    }
   ],
   "source": [
    "plt.figure(figsize=(10,6))\n",
    "plt.plot(bank_month['month'], bank_month['Counts'], marker='o')\n",
    "plt.xticks(range(1,13))\n",
    "plt.show()"
   ]
  },
  {
   "cell_type": "code",
   "execution_count": 106,
   "metadata": {},
   "outputs": [
    {
     "data": {
      "image/png": "[encoded data removed]",
      "text/plain": [
       "<Figure size 432x288 with 1 Axes>"
      ]
     },
     "metadata": {
      "needs_background": "light"
     },
     "output_type": "display_data"
    }
   ],
   "source": [
    "table=pd.crosstab(data.month,data.y)\n",
    "table.div(table.sum(1).astype(float), axis=0).plot(kind='bar', stacked=True)\n",
    "plt.title('Stacked Bar Chart of Month of Year')\n",
    "plt.xlabel('Month')\n",
    "plt.ylabel('Proportion of Customers')\n",
    "plt.show()"
   ]
  },
  {
   "cell_type": "code",
   "execution_count": 70,
   "metadata": {},
   "outputs": [],
   "source": [
    "bank_day = data.groupby('day_of_week').agg(Counts=('day_of_week','count')).reset_index()"
   ]
  },
  {
   "cell_type": "code",
   "execution_count": 77,
   "metadata": {},
   "outputs": [],
   "source": [
    "bank_day.loc[bank_day['day_of_week']=='mon','index_col']=1\n",
    "bank_day.loc[bank_day['day_of_week']=='tue','index_col']=2\n",
    "bank_day.loc[bank_day['day_of_week']=='wed','index_col']=3\n",
    "bank_day.loc[bank_day['day_of_week']=='thu','index_col']=4\n",
    "bank_day.loc[bank_day['day_of_week']=='fri','index_col']=5"
   ]
  },
  {
   "cell_type": "code",
   "execution_count": 85,
   "metadata": {},
   "outputs": [],
   "source": [
    "bank_day.sort_values('index_col',ascending=True, inplace=True)"
   ]
  },
  {
   "cell_type": "code",
   "execution_count": 89,
   "metadata": {},
   "outputs": [
    {
     "data": {
      "image/png": "[encoded data removed]",
      "text/plain": [
       "<Figure size 720x432 with 1 Axes>"
      ]
     },
     "metadata": {
      "needs_background": "light"
     },
     "output_type": "display_data"
    }
   ],
   "source": [
    "plt.figure(figsize=(10,6))\n",
    "plt.plot(bank_day['day_of_week'], bank_day['Counts'], marker='o')\n",
    "\n",
    "plt.show()"
   ]
  },
  {
   "cell_type": "code",
   "execution_count": 107,
   "metadata": {},
   "outputs": [
    {
     "data": {
      "image/png": "[encoded data removed]",
      "text/plain": [
       "<Figure size 432x288 with 1 Axes>"
      ]
     },
     "metadata": {
      "needs_background": "light"
     },
     "output_type": "display_data"
    }
   ],
   "source": [
    "table=pd.crosstab(data.day_of_week,data.y)\n",
    "table.div(table.sum(1).astype(float), axis=0).plot(kind='bar', stacked=True)\n",
    "plt.title('Stacked Bar Chart Day of the Week')\n",
    "plt.xlabel('Day')\n",
    "plt.ylabel('Proportion of Customers')\n",
    "plt.show()"
   ]
  },
  {
   "cell_type": "code",
   "execution_count": 57,
   "metadata": {},
   "outputs": [
    {
     "data": {
      "text/plain": [
       "Index(['index', 'age', 'job', 'marital', 'education', 'default', 'housing',\n",
       "       'loan', 'contact', 'month', 'day_of_week', 'duration', 'campaign',\n",
       "       'pdays', 'previous', 'poutcome', 'emp.var.rate', 'cons.price.idx',\n",
       "       'cons.conf.idx', 'euribor3m', 'nr.employed', 'y', 'MOM Inflation',\n",
       "       'Wage Growth', 'EURUSD', 'euro zoneGDP Growth Rate',\n",
       "       'Portugal Income Tax annual rate', 'Portugal Bank Lending Rate',\n",
       "       'Portugal Personal Savings', 'Portugal Wages',\n",
       "       'Portugal Unemployment Rate', 'Portugal Sales Tax', 'month_nos',\n",
       "       'Age_Group'],\n",
       "      dtype='object')"
      ]
     },
     "execution_count": 57,
     "metadata": {},
     "output_type": "execute_result"
    }
   ],
   "source": [
    "data.columns"
   ]
  },
  {
   "cell_type": "code",
   "execution_count": 61,
   "metadata": {},
   "outputs": [
    {
     "data": {
      "text/plain": [
       "<seaborn.axisgrid.FacetGrid at 0x1a19a0c278>"
      ]
     },
     "execution_count": 61,
     "metadata": {},
     "output_type": "execute_result"
    },
    {
     "data": {
      "image/png": "[encoded data removed]",
      "text/plain": [
       "<Figure size 413.25x360 with 1 Axes>"
      ]
     },
     "metadata": {
      "needs_background": "light"
     },
     "output_type": "display_data"
    }
   ],
   "source": [
    "sns.lmplot(x=\"euribor3m\", y=\"EURUSD\",data = data,\n",
    "                     hue = \"y\",fit_reg=False,  scatter_kws={'alpha':0.2}\n",
    "                     )"
   ]
  }
 ],
 "metadata": {
  "kernelspec": {
   "display_name": "Python 3",
   "language": "python",
   "name": "python3"
  },
  "language_info": {
   "codemirror_mode": {
    "name": "ipython",
    "version": 3
   },
   "file_extension": ".py",
   "mimetype": "text/x-python",
   "name": "python",
   "nbconvert_exporter": "python",
   "pygments_lexer": "ipython3",
   "version": "3.7.3"
  }
 },
 "nbformat": 4,
 "nbformat_minor": 4
}
